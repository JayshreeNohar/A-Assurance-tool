{
 "cells": [
  {
   "cell_type": "markdown",
   "id": "5077f10c",
   "metadata": {
    "id": "wcq6dWzy1ZR0",
    "papermill": {
     "duration": 0.059378,
     "end_time": "2023-02-20T19:19:10.115607",
     "exception": false,
     "start_time": "2023-02-20T19:19:10.056229",
     "status": "completed"
    },
    "tags": []
   },
   "source": [
    "# Payment Date Prediction "
   ]
  },
  {
   "cell_type": "markdown",
   "id": "f547c503",
   "metadata": {
    "id": "2778654e",
    "papermill": {
     "duration": 0.057184,
     "end_time": "2023-02-20T19:19:10.229704",
     "exception": false,
     "start_time": "2023-02-20T19:19:10.172520",
     "status": "completed"
    },
    "tags": []
   },
   "source": [
    "\n",
    "### Importing related Libraries "
   ]
  },
  {
   "cell_type": "code",
   "execution_count": 1,
   "id": "682ff3ff",
   "metadata": {
    "execution": {
     "iopub.execute_input": "2023-02-20T19:19:10.345938Z",
     "iopub.status.busy": "2023-02-20T19:19:10.345303Z",
     "iopub.status.idle": "2023-02-20T19:19:11.797958Z",
     "shell.execute_reply": "2023-02-20T19:19:11.797053Z"
    },
    "id": "304c9e38",
    "papermill": {
     "duration": 1.514202,
     "end_time": "2023-02-20T19:19:11.801173",
     "exception": false,
     "start_time": "2023-02-20T19:19:10.286971",
     "status": "completed"
    },
    "tags": []
   },
   "outputs": [],
   "source": [
    "import numpy as np\n",
    "import pandas as pd\n",
    "import seaborn as sns\n",
    "import matplotlib.pyplot as plt\n",
    "import datetime\n",
    "import xgboost as xgb\n",
    "from pandas.core.series import Series\n",
    "from sklearn.model_selection import train_test_split\n",
    "from sklearn.preprocessing import LabelEncoder\n",
    "from sklearn.metrics import mean_squared_error,r2_score\n",
    "from sklearn.feature_selection import VarianceThreshold\n",
    "from sklearn.linear_model import LinearRegression\n",
    "from sklearn.svm import SVR"
   ]
  },
  {
   "cell_type": "markdown",
   "id": "400c314c",
   "metadata": {
    "id": "8724f5ee",
    "papermill": {
     "duration": 0.063135,
     "end_time": "2023-02-20T19:19:11.925384",
     "exception": false,
     "start_time": "2023-02-20T19:19:11.862249",
     "status": "completed"
    },
    "tags": []
   },
   "source": [
    "### Store the dataset into the Dataframe\n"
   ]
  },
  {
   "cell_type": "code",
   "execution_count": 2,
   "id": "24c6d890",
   "metadata": {
    "execution": {
     "iopub.execute_input": "2023-02-20T19:19:12.043531Z",
     "iopub.status.busy": "2023-02-20T19:19:12.042597Z",
     "iopub.status.idle": "2023-02-20T19:19:12.428794Z",
     "shell.execute_reply": "2023-02-20T19:19:12.427241Z"
    },
    "id": "415db50a",
    "outputId": "5b6905da-43b8-44bc-963d-e962de4a5ef0",
    "papermill": {
     "duration": 0.449459,
     "end_time": "2023-02-20T19:19:12.432273",
     "exception": false,
     "start_time": "2023-02-20T19:19:11.982814",
     "status": "completed"
    },
    "tags": []
   },
   "outputs": [],
   "source": [
    "#!gdown --id 1aYy_6BkRaSaUCsVuSm_BWMh8oWG0opsY ## downloading the dataset from the google drive link(works on colab only)\n",
    "data=pd.read_csv(\"/kaggle/input/payment-date-prediction-for-invoices-dataset/dataset.csv\")"
   ]
  },
  {
   "cell_type": "markdown",
   "id": "f4277fad",
   "metadata": {
    "id": "42e37f05",
    "papermill": {
     "duration": 0.056401,
     "end_time": "2023-02-20T19:19:12.555585",
     "exception": false,
     "start_time": "2023-02-20T19:19:12.499184",
     "status": "completed"
    },
    "tags": []
   },
   "source": [
    "### Check the shape of the dataframe\n"
   ]
  },
  {
   "cell_type": "code",
   "execution_count": 3,
   "id": "2b0f8dee",
   "metadata": {
    "execution": {
     "iopub.execute_input": "2023-02-20T19:19:12.671402Z",
     "iopub.status.busy": "2023-02-20T19:19:12.670885Z",
     "iopub.status.idle": "2023-02-20T19:19:12.680799Z",
     "shell.execute_reply": "2023-02-20T19:19:12.679891Z"
    },
    "id": "27cc0907",
    "outputId": "dd766e63-e1f5-4dcc-b83f-370a1edfb10c",
    "papermill": {
     "duration": 0.070245,
     "end_time": "2023-02-20T19:19:12.683377",
     "exception": false,
     "start_time": "2023-02-20T19:19:12.613132",
     "status": "completed"
    },
    "tags": []
   },
   "outputs": [
    {
     "data": {
      "text/plain": [
       "(50000, 19)"
      ]
     },
     "execution_count": 3,
     "metadata": {},
     "output_type": "execute_result"
    }
   ],
   "source": [
    "data.shape"
   ]
  },
  {
   "cell_type": "markdown",
   "id": "d2e44d54",
   "metadata": {
    "id": "b68c955d",
    "papermill": {
     "duration": 0.058345,
     "end_time": "2023-02-20T19:19:12.798614",
     "exception": false,
     "start_time": "2023-02-20T19:19:12.740269",
     "status": "completed"
    },
    "tags": []
   },
   "source": [
    "### Check the Detail information of the dataframe"
   ]
  },
  {
   "cell_type": "code",
   "execution_count": 4,
   "id": "9bff5923",
   "metadata": {
    "execution": {
     "iopub.execute_input": "2023-02-20T19:19:12.918285Z",
     "iopub.status.busy": "2023-02-20T19:19:12.917417Z",
     "iopub.status.idle": "2023-02-20T19:19:12.967817Z",
     "shell.execute_reply": "2023-02-20T19:19:12.965901Z"
    },
    "id": "e092ec9e",
    "outputId": "b6b1e725-80bd-45e9-a9f9-c582429dae53",
    "papermill": {
     "duration": 0.11302,
     "end_time": "2023-02-20T19:19:12.971233",
     "exception": false,
     "start_time": "2023-02-20T19:19:12.858213",
     "status": "completed"
    },
    "tags": []
   },
   "outputs": [
    {
     "name": "stdout",
     "output_type": "stream",
     "text": [
      "<class 'pandas.core.frame.DataFrame'>\n",
      "RangeIndex: 50000 entries, 0 to 49999\n",
      "Data columns (total 19 columns):\n",
      " #   Column                  Non-Null Count  Dtype  \n",
      "---  ------                  --------------  -----  \n",
      " 0   business_code           50000 non-null  object \n",
      " 1   cust_number             50000 non-null  object \n",
      " 2   name_customer           50000 non-null  object \n",
      " 3   clear_date              40000 non-null  object \n",
      " 4   buisness_year           50000 non-null  float64\n",
      " 5   doc_id                  50000 non-null  float64\n",
      " 6   posting_date            50000 non-null  object \n",
      " 7   document_create_date    50000 non-null  int64  \n",
      " 8   document_create_date.1  50000 non-null  int64  \n",
      " 9   due_in_date             50000 non-null  float64\n",
      " 10  invoice_currency        50000 non-null  object \n",
      " 11  document type           50000 non-null  object \n",
      " 12  posting_id              50000 non-null  float64\n",
      " 13  area_business           0 non-null      float64\n",
      " 14  total_open_amount       50000 non-null  float64\n",
      " 15  baseline_create_date    50000 non-null  float64\n",
      " 16  cust_payment_terms      50000 non-null  object \n",
      " 17  invoice_id              49994 non-null  float64\n",
      " 18  isOpen                  50000 non-null  int64  \n",
      "dtypes: float64(8), int64(3), object(8)\n",
      "memory usage: 7.2+ MB\n"
     ]
    }
   ],
   "source": [
    "data.info()"
   ]
  },
  {
   "cell_type": "markdown",
   "id": "597a5179",
   "metadata": {
    "id": "112f2d0e",
    "papermill": {
     "duration": 0.056992,
     "end_time": "2023-02-20T19:19:13.087663",
     "exception": false,
     "start_time": "2023-02-20T19:19:13.030671",
     "status": "completed"
    },
    "tags": []
   },
   "source": [
    "### Display All the column names"
   ]
  },
  {
   "cell_type": "code",
   "execution_count": 5,
   "id": "b24d40d0",
   "metadata": {
    "execution": {
     "iopub.execute_input": "2023-02-20T19:19:13.203672Z",
     "iopub.status.busy": "2023-02-20T19:19:13.202621Z",
     "iopub.status.idle": "2023-02-20T19:19:13.210105Z",
     "shell.execute_reply": "2023-02-20T19:19:13.209285Z"
    },
    "id": "1416e2fd",
    "outputId": "4a1ee680-fbab-477c-afa1-085d764daba3",
    "papermill": {
     "duration": 0.067574,
     "end_time": "2023-02-20T19:19:13.212308",
     "exception": false,
     "start_time": "2023-02-20T19:19:13.144734",
     "status": "completed"
    },
    "tags": []
   },
   "outputs": [
    {
     "data": {
      "text/plain": [
       "Index(['business_code', 'cust_number', 'name_customer', 'clear_date',\n",
       "       'buisness_year', 'doc_id', 'posting_date', 'document_create_date',\n",
       "       'document_create_date.1', 'due_in_date', 'invoice_currency',\n",
       "       'document type', 'posting_id', 'area_business', 'total_open_amount',\n",
       "       'baseline_create_date', 'cust_payment_terms', 'invoice_id', 'isOpen'],\n",
       "      dtype='object')"
      ]
     },
     "execution_count": 5,
     "metadata": {},
     "output_type": "execute_result"
    }
   ],
   "source": [
    "data.columns"
   ]
  },
  {
   "cell_type": "markdown",
   "id": "5396fc75",
   "metadata": {
    "id": "d465ed7a",
    "papermill": {
     "duration": 0.056923,
     "end_time": "2023-02-20T19:19:13.326990",
     "exception": false,
     "start_time": "2023-02-20T19:19:13.270067",
     "status": "completed"
    },
    "tags": []
   },
   "source": [
    "### Describe the entire dataset"
   ]
  },
  {
   "cell_type": "code",
   "execution_count": 6,
   "id": "ef735707",
   "metadata": {
    "execution": {
     "iopub.execute_input": "2023-02-20T19:19:13.443061Z",
     "iopub.status.busy": "2023-02-20T19:19:13.442664Z",
     "iopub.status.idle": "2023-02-20T19:19:13.518071Z",
     "shell.execute_reply": "2023-02-20T19:19:13.516715Z"
    },
    "id": "25f65e1b",
    "outputId": "a57a5c6f-d402-4d91-e53b-02c180f51ad6",
    "papermill": {
     "duration": 0.136319,
     "end_time": "2023-02-20T19:19:13.520586",
     "exception": false,
     "start_time": "2023-02-20T19:19:13.384267",
     "status": "completed"
    },
    "tags": []
   },
   "outputs": [
    {
     "data": {
      "text/html": [
       "<div>\n",
       "<style scoped>\n",
       "    .dataframe tbody tr th:only-of-type {\n",
       "        vertical-align: middle;\n",
       "    }\n",
       "\n",
       "    .dataframe tbody tr th {\n",
       "        vertical-align: top;\n",
       "    }\n",
       "\n",
       "    .dataframe thead th {\n",
       "        text-align: right;\n",
       "    }\n",
       "</style>\n",
       "<table border=\"1\" class=\"dataframe\">\n",
       "  <thead>\n",
       "    <tr style=\"text-align: right;\">\n",
       "      <th></th>\n",
       "      <th>buisness_year</th>\n",
       "      <th>doc_id</th>\n",
       "      <th>document_create_date</th>\n",
       "      <th>document_create_date.1</th>\n",
       "      <th>due_in_date</th>\n",
       "      <th>posting_id</th>\n",
       "      <th>area_business</th>\n",
       "      <th>total_open_amount</th>\n",
       "      <th>baseline_create_date</th>\n",
       "      <th>invoice_id</th>\n",
       "      <th>isOpen</th>\n",
       "    </tr>\n",
       "  </thead>\n",
       "  <tbody>\n",
       "    <tr>\n",
       "      <th>count</th>\n",
       "      <td>50000.000000</td>\n",
       "      <td>5.000000e+04</td>\n",
       "      <td>5.000000e+04</td>\n",
       "      <td>5.000000e+04</td>\n",
       "      <td>5.000000e+04</td>\n",
       "      <td>50000.0</td>\n",
       "      <td>0.0</td>\n",
       "      <td>50000.000000</td>\n",
       "      <td>5.000000e+04</td>\n",
       "      <td>4.999400e+04</td>\n",
       "      <td>50000.000000</td>\n",
       "    </tr>\n",
       "    <tr>\n",
       "      <th>mean</th>\n",
       "      <td>2019.305700</td>\n",
       "      <td>2.012238e+09</td>\n",
       "      <td>2.019351e+07</td>\n",
       "      <td>2.019354e+07</td>\n",
       "      <td>2.019368e+07</td>\n",
       "      <td>1.0</td>\n",
       "      <td>NaN</td>\n",
       "      <td>32337.021651</td>\n",
       "      <td>2.019354e+07</td>\n",
       "      <td>2.011340e+09</td>\n",
       "      <td>0.200000</td>\n",
       "    </tr>\n",
       "    <tr>\n",
       "      <th>std</th>\n",
       "      <td>0.460708</td>\n",
       "      <td>2.885235e+08</td>\n",
       "      <td>4.496041e+03</td>\n",
       "      <td>4.482134e+03</td>\n",
       "      <td>4.470614e+03</td>\n",
       "      <td>0.0</td>\n",
       "      <td>NaN</td>\n",
       "      <td>39205.975231</td>\n",
       "      <td>4.482701e+03</td>\n",
       "      <td>2.766335e+08</td>\n",
       "      <td>0.400004</td>\n",
       "    </tr>\n",
       "    <tr>\n",
       "      <th>min</th>\n",
       "      <td>2019.000000</td>\n",
       "      <td>1.928502e+09</td>\n",
       "      <td>2.018123e+07</td>\n",
       "      <td>2.018123e+07</td>\n",
       "      <td>2.018122e+07</td>\n",
       "      <td>1.0</td>\n",
       "      <td>NaN</td>\n",
       "      <td>0.720000</td>\n",
       "      <td>2.018121e+07</td>\n",
       "      <td>1.928502e+09</td>\n",
       "      <td>0.000000</td>\n",
       "    </tr>\n",
       "    <tr>\n",
       "      <th>25%</th>\n",
       "      <td>2019.000000</td>\n",
       "      <td>1.929342e+09</td>\n",
       "      <td>2.019050e+07</td>\n",
       "      <td>2.019051e+07</td>\n",
       "      <td>2.019052e+07</td>\n",
       "      <td>1.0</td>\n",
       "      <td>NaN</td>\n",
       "      <td>4928.312500</td>\n",
       "      <td>2.019050e+07</td>\n",
       "      <td>1.929342e+09</td>\n",
       "      <td>0.000000</td>\n",
       "    </tr>\n",
       "    <tr>\n",
       "      <th>50%</th>\n",
       "      <td>2019.000000</td>\n",
       "      <td>1.929964e+09</td>\n",
       "      <td>2.019091e+07</td>\n",
       "      <td>2.019091e+07</td>\n",
       "      <td>2.019093e+07</td>\n",
       "      <td>1.0</td>\n",
       "      <td>NaN</td>\n",
       "      <td>17609.010000</td>\n",
       "      <td>2.019091e+07</td>\n",
       "      <td>1.929964e+09</td>\n",
       "      <td>0.000000</td>\n",
       "    </tr>\n",
       "    <tr>\n",
       "      <th>75%</th>\n",
       "      <td>2020.000000</td>\n",
       "      <td>1.930619e+09</td>\n",
       "      <td>2.020013e+07</td>\n",
       "      <td>2.020013e+07</td>\n",
       "      <td>2.020022e+07</td>\n",
       "      <td>1.0</td>\n",
       "      <td>NaN</td>\n",
       "      <td>47133.635000</td>\n",
       "      <td>2.020013e+07</td>\n",
       "      <td>1.930619e+09</td>\n",
       "      <td>0.000000</td>\n",
       "    </tr>\n",
       "    <tr>\n",
       "      <th>max</th>\n",
       "      <td>2020.000000</td>\n",
       "      <td>9.500000e+09</td>\n",
       "      <td>2.020052e+07</td>\n",
       "      <td>2.020052e+07</td>\n",
       "      <td>2.020071e+07</td>\n",
       "      <td>1.0</td>\n",
       "      <td>NaN</td>\n",
       "      <td>668593.360000</td>\n",
       "      <td>2.020052e+07</td>\n",
       "      <td>2.960636e+09</td>\n",
       "      <td>1.000000</td>\n",
       "    </tr>\n",
       "  </tbody>\n",
       "</table>\n",
       "</div>"
      ],
      "text/plain": [
       "       buisness_year        doc_id  document_create_date  \\\n",
       "count   50000.000000  5.000000e+04          5.000000e+04   \n",
       "mean     2019.305700  2.012238e+09          2.019351e+07   \n",
       "std         0.460708  2.885235e+08          4.496041e+03   \n",
       "min      2019.000000  1.928502e+09          2.018123e+07   \n",
       "25%      2019.000000  1.929342e+09          2.019050e+07   \n",
       "50%      2019.000000  1.929964e+09          2.019091e+07   \n",
       "75%      2020.000000  1.930619e+09          2.020013e+07   \n",
       "max      2020.000000  9.500000e+09          2.020052e+07   \n",
       "\n",
       "       document_create_date.1   due_in_date  posting_id  area_business  \\\n",
       "count            5.000000e+04  5.000000e+04     50000.0            0.0   \n",
       "mean             2.019354e+07  2.019368e+07         1.0            NaN   \n",
       "std              4.482134e+03  4.470614e+03         0.0            NaN   \n",
       "min              2.018123e+07  2.018122e+07         1.0            NaN   \n",
       "25%              2.019051e+07  2.019052e+07         1.0            NaN   \n",
       "50%              2.019091e+07  2.019093e+07         1.0            NaN   \n",
       "75%              2.020013e+07  2.020022e+07         1.0            NaN   \n",
       "max              2.020052e+07  2.020071e+07         1.0            NaN   \n",
       "\n",
       "       total_open_amount  baseline_create_date    invoice_id        isOpen  \n",
       "count       50000.000000          5.000000e+04  4.999400e+04  50000.000000  \n",
       "mean        32337.021651          2.019354e+07  2.011340e+09      0.200000  \n",
       "std         39205.975231          4.482701e+03  2.766335e+08      0.400004  \n",
       "min             0.720000          2.018121e+07  1.928502e+09      0.000000  \n",
       "25%          4928.312500          2.019050e+07  1.929342e+09      0.000000  \n",
       "50%         17609.010000          2.019091e+07  1.929964e+09      0.000000  \n",
       "75%         47133.635000          2.020013e+07  1.930619e+09      0.000000  \n",
       "max        668593.360000          2.020052e+07  2.960636e+09      1.000000  "
      ]
     },
     "execution_count": 6,
     "metadata": {},
     "output_type": "execute_result"
    }
   ],
   "source": [
    "data.describe()"
   ]
  },
  {
   "cell_type": "markdown",
   "id": "51d9d4b6",
   "metadata": {
    "id": "0f2c8d02",
    "papermill": {
     "duration": 0.058581,
     "end_time": "2023-02-20T19:19:13.638163",
     "exception": false,
     "start_time": "2023-02-20T19:19:13.579582",
     "status": "completed"
    },
    "tags": []
   },
   "source": [
    "# Data Cleaning\n",
    "\n",
    "- Show top 5 records from the dataset"
   ]
  },
  {
   "cell_type": "code",
   "execution_count": 7,
   "id": "1a985544",
   "metadata": {
    "execution": {
     "iopub.execute_input": "2023-02-20T19:19:13.754879Z",
     "iopub.status.busy": "2023-02-20T19:19:13.754063Z",
     "iopub.status.idle": "2023-02-20T19:19:13.777511Z",
     "shell.execute_reply": "2023-02-20T19:19:13.776251Z"
    },
    "id": "8f876212",
    "outputId": "b500955d-f667-4811-e39e-d9f5a7cc8330",
    "papermill": {
     "duration": 0.084908,
     "end_time": "2023-02-20T19:19:13.779997",
     "exception": false,
     "start_time": "2023-02-20T19:19:13.695089",
     "status": "completed"
    },
    "tags": []
   },
   "outputs": [
    {
     "data": {
      "text/html": [
       "<div>\n",
       "<style scoped>\n",
       "    .dataframe tbody tr th:only-of-type {\n",
       "        vertical-align: middle;\n",
       "    }\n",
       "\n",
       "    .dataframe tbody tr th {\n",
       "        vertical-align: top;\n",
       "    }\n",
       "\n",
       "    .dataframe thead th {\n",
       "        text-align: right;\n",
       "    }\n",
       "</style>\n",
       "<table border=\"1\" class=\"dataframe\">\n",
       "  <thead>\n",
       "    <tr style=\"text-align: right;\">\n",
       "      <th></th>\n",
       "      <th>business_code</th>\n",
       "      <th>cust_number</th>\n",
       "      <th>name_customer</th>\n",
       "      <th>clear_date</th>\n",
       "      <th>buisness_year</th>\n",
       "      <th>doc_id</th>\n",
       "      <th>posting_date</th>\n",
       "      <th>document_create_date</th>\n",
       "      <th>document_create_date.1</th>\n",
       "      <th>due_in_date</th>\n",
       "      <th>invoice_currency</th>\n",
       "      <th>document type</th>\n",
       "      <th>posting_id</th>\n",
       "      <th>area_business</th>\n",
       "      <th>total_open_amount</th>\n",
       "      <th>baseline_create_date</th>\n",
       "      <th>cust_payment_terms</th>\n",
       "      <th>invoice_id</th>\n",
       "      <th>isOpen</th>\n",
       "    </tr>\n",
       "  </thead>\n",
       "  <tbody>\n",
       "    <tr>\n",
       "      <th>0</th>\n",
       "      <td>U001</td>\n",
       "      <td>0200769623</td>\n",
       "      <td>WAL-MAR corp</td>\n",
       "      <td>2020-02-11 00:00:00</td>\n",
       "      <td>2020.0</td>\n",
       "      <td>1.930438e+09</td>\n",
       "      <td>2020-01-26</td>\n",
       "      <td>20200125</td>\n",
       "      <td>20200126</td>\n",
       "      <td>20200210.0</td>\n",
       "      <td>USD</td>\n",
       "      <td>RV</td>\n",
       "      <td>1.0</td>\n",
       "      <td>NaN</td>\n",
       "      <td>54273.28</td>\n",
       "      <td>20200126.0</td>\n",
       "      <td>NAH4</td>\n",
       "      <td>1.930438e+09</td>\n",
       "      <td>0</td>\n",
       "    </tr>\n",
       "    <tr>\n",
       "      <th>1</th>\n",
       "      <td>U001</td>\n",
       "      <td>0200980828</td>\n",
       "      <td>BEN E</td>\n",
       "      <td>2019-08-08 00:00:00</td>\n",
       "      <td>2019.0</td>\n",
       "      <td>1.929646e+09</td>\n",
       "      <td>2019-07-22</td>\n",
       "      <td>20190722</td>\n",
       "      <td>20190722</td>\n",
       "      <td>20190811.0</td>\n",
       "      <td>USD</td>\n",
       "      <td>RV</td>\n",
       "      <td>1.0</td>\n",
       "      <td>NaN</td>\n",
       "      <td>79656.60</td>\n",
       "      <td>20190722.0</td>\n",
       "      <td>NAD1</td>\n",
       "      <td>1.929646e+09</td>\n",
       "      <td>0</td>\n",
       "    </tr>\n",
       "    <tr>\n",
       "      <th>2</th>\n",
       "      <td>U001</td>\n",
       "      <td>0200792734</td>\n",
       "      <td>MDV/ trust</td>\n",
       "      <td>2019-12-30 00:00:00</td>\n",
       "      <td>2019.0</td>\n",
       "      <td>1.929874e+09</td>\n",
       "      <td>2019-09-14</td>\n",
       "      <td>20190914</td>\n",
       "      <td>20190914</td>\n",
       "      <td>20190929.0</td>\n",
       "      <td>USD</td>\n",
       "      <td>RV</td>\n",
       "      <td>1.0</td>\n",
       "      <td>NaN</td>\n",
       "      <td>2253.86</td>\n",
       "      <td>20190914.0</td>\n",
       "      <td>NAA8</td>\n",
       "      <td>1.929874e+09</td>\n",
       "      <td>0</td>\n",
       "    </tr>\n",
       "    <tr>\n",
       "      <th>3</th>\n",
       "      <td>CA02</td>\n",
       "      <td>0140105686</td>\n",
       "      <td>SYSC llc</td>\n",
       "      <td>NaN</td>\n",
       "      <td>2020.0</td>\n",
       "      <td>2.960623e+09</td>\n",
       "      <td>2020-03-30</td>\n",
       "      <td>20200330</td>\n",
       "      <td>20200330</td>\n",
       "      <td>20200410.0</td>\n",
       "      <td>CAD</td>\n",
       "      <td>RV</td>\n",
       "      <td>1.0</td>\n",
       "      <td>NaN</td>\n",
       "      <td>3299.70</td>\n",
       "      <td>20200331.0</td>\n",
       "      <td>CA10</td>\n",
       "      <td>2.960623e+09</td>\n",
       "      <td>1</td>\n",
       "    </tr>\n",
       "    <tr>\n",
       "      <th>4</th>\n",
       "      <td>U001</td>\n",
       "      <td>0200769623</td>\n",
       "      <td>WAL-MAR foundation</td>\n",
       "      <td>2019-11-25 00:00:00</td>\n",
       "      <td>2019.0</td>\n",
       "      <td>1.930148e+09</td>\n",
       "      <td>2019-11-13</td>\n",
       "      <td>20191113</td>\n",
       "      <td>20191113</td>\n",
       "      <td>20191128.0</td>\n",
       "      <td>USD</td>\n",
       "      <td>RV</td>\n",
       "      <td>1.0</td>\n",
       "      <td>NaN</td>\n",
       "      <td>33133.29</td>\n",
       "      <td>20191113.0</td>\n",
       "      <td>NAH4</td>\n",
       "      <td>1.930148e+09</td>\n",
       "      <td>0</td>\n",
       "    </tr>\n",
       "  </tbody>\n",
       "</table>\n",
       "</div>"
      ],
      "text/plain": [
       "  business_code cust_number       name_customer           clear_date  \\\n",
       "0          U001  0200769623        WAL-MAR corp  2020-02-11 00:00:00   \n",
       "1          U001  0200980828              BEN E   2019-08-08 00:00:00   \n",
       "2          U001  0200792734          MDV/ trust  2019-12-30 00:00:00   \n",
       "3          CA02  0140105686            SYSC llc                  NaN   \n",
       "4          U001  0200769623  WAL-MAR foundation  2019-11-25 00:00:00   \n",
       "\n",
       "   buisness_year        doc_id posting_date  document_create_date  \\\n",
       "0         2020.0  1.930438e+09   2020-01-26              20200125   \n",
       "1         2019.0  1.929646e+09   2019-07-22              20190722   \n",
       "2         2019.0  1.929874e+09   2019-09-14              20190914   \n",
       "3         2020.0  2.960623e+09   2020-03-30              20200330   \n",
       "4         2019.0  1.930148e+09   2019-11-13              20191113   \n",
       "\n",
       "   document_create_date.1  due_in_date invoice_currency document type  \\\n",
       "0                20200126   20200210.0              USD            RV   \n",
       "1                20190722   20190811.0              USD            RV   \n",
       "2                20190914   20190929.0              USD            RV   \n",
       "3                20200330   20200410.0              CAD            RV   \n",
       "4                20191113   20191128.0              USD            RV   \n",
       "\n",
       "   posting_id  area_business  total_open_amount  baseline_create_date  \\\n",
       "0         1.0            NaN           54273.28            20200126.0   \n",
       "1         1.0            NaN           79656.60            20190722.0   \n",
       "2         1.0            NaN            2253.86            20190914.0   \n",
       "3         1.0            NaN            3299.70            20200331.0   \n",
       "4         1.0            NaN           33133.29            20191113.0   \n",
       "\n",
       "  cust_payment_terms    invoice_id  isOpen  \n",
       "0               NAH4  1.930438e+09       0  \n",
       "1               NAD1  1.929646e+09       0  \n",
       "2               NAA8  1.929874e+09       0  \n",
       "3               CA10  2.960623e+09       1  \n",
       "4               NAH4  1.930148e+09       0  "
      ]
     },
     "execution_count": 7,
     "metadata": {},
     "output_type": "execute_result"
    }
   ],
   "source": [
    "data.head()"
   ]
  },
  {
   "cell_type": "markdown",
   "id": "ad99cbe1",
   "metadata": {
    "id": "92b044e4",
    "papermill": {
     "duration": 0.058982,
     "end_time": "2023-02-20T19:19:13.898679",
     "exception": false,
     "start_time": "2023-02-20T19:19:13.839697",
     "status": "completed"
    },
    "tags": []
   },
   "source": [
    "### Display the Null values percentage against every columns (compare to the total number of records)\n",
    "\n",
    "- Output expected : area_business - 100% null, clear_data = 20% null, invoice_id = 0.12% null"
   ]
  },
  {
   "cell_type": "code",
   "execution_count": 8,
   "id": "b9ec5330",
   "metadata": {
    "execution": {
     "iopub.execute_input": "2023-02-20T19:19:14.018823Z",
     "iopub.status.busy": "2023-02-20T19:19:14.017683Z",
     "iopub.status.idle": "2023-02-20T19:19:14.046317Z",
     "shell.execute_reply": "2023-02-20T19:19:14.045391Z"
    },
    "id": "24c7b13d",
    "outputId": "bbd6d64e-b000-4815-d3a7-3d47a34c8c62",
    "papermill": {
     "duration": 0.091692,
     "end_time": "2023-02-20T19:19:14.049629",
     "exception": false,
     "start_time": "2023-02-20T19:19:13.957937",
     "status": "completed"
    },
    "tags": []
   },
   "outputs": [
    {
     "name": "stdout",
     "output_type": "stream",
     "text": [
      "Column Name\tPercentage of Null Values\n",
      "\n",
      "business_code\t 0.0%\n",
      "cust_number\t 0.0%\n",
      "name_customer\t 0.0%\n",
      "clear_date\t 20.0%\n",
      "buisness_year\t 0.0%\n",
      "doc_id\t 0.0%\n",
      "posting_date\t 0.0%\n",
      "document_create_date\t 0.0%\n",
      "document_create_date.1\t 0.0%\n",
      "due_in_date\t 0.0%\n",
      "invoice_currency\t 0.0%\n",
      "document type\t 0.0%\n",
      "posting_id\t 0.0%\n",
      "area_business\t 100.0%\n",
      "total_open_amount\t 0.0%\n",
      "baseline_create_date\t 0.0%\n",
      "cust_payment_terms\t 0.0%\n",
      "invoice_id\t 0.012%\n",
      "isOpen\t 0.0%\n"
     ]
    }
   ],
   "source": [
    "null_count = data.isnull().sum()*100/50000\n",
    "print(\"Column Name\\tPercentage of Null Values\\n\")\n",
    "for i,per in zip(data.columns,null_count):\n",
    "    print(f\"{i}\\t {round(per, ndigits=4)}%\")"
   ]
  },
  {
   "cell_type": "markdown",
   "id": "9a2aaf08",
   "metadata": {
    "id": "2c46a98b",
    "papermill": {
     "duration": 0.05706,
     "end_time": "2023-02-20T19:19:14.165912",
     "exception": false,
     "start_time": "2023-02-20T19:19:14.108852",
     "status": "completed"
    },
    "tags": []
   },
   "source": [
    "### Display Invoice_id and Doc_Id\n",
    "\n",
    "- Note - Many of the would have same invoice_id and doc_id\n"
   ]
  },
  {
   "cell_type": "code",
   "execution_count": 9,
   "id": "8c600d6b",
   "metadata": {
    "execution": {
     "iopub.execute_input": "2023-02-20T19:19:14.284773Z",
     "iopub.status.busy": "2023-02-20T19:19:14.283485Z",
     "iopub.status.idle": "2023-02-20T19:19:14.301486Z",
     "shell.execute_reply": "2023-02-20T19:19:14.300267Z"
    },
    "id": "9Q8uO8l0WlD_",
    "outputId": "19faab63-f079-4314-cdf1-8a3b7daa485a",
    "papermill": {
     "duration": 0.0798,
     "end_time": "2023-02-20T19:19:14.303936",
     "exception": false,
     "start_time": "2023-02-20T19:19:14.224136",
     "status": "completed"
    },
    "tags": []
   },
   "outputs": [
    {
     "data": {
      "text/html": [
       "<div>\n",
       "<style scoped>\n",
       "    .dataframe tbody tr th:only-of-type {\n",
       "        vertical-align: middle;\n",
       "    }\n",
       "\n",
       "    .dataframe tbody tr th {\n",
       "        vertical-align: top;\n",
       "    }\n",
       "\n",
       "    .dataframe thead th {\n",
       "        text-align: right;\n",
       "    }\n",
       "</style>\n",
       "<table border=\"1\" class=\"dataframe\">\n",
       "  <thead>\n",
       "    <tr style=\"text-align: right;\">\n",
       "      <th></th>\n",
       "      <th>invoice_id</th>\n",
       "      <th>doc_id</th>\n",
       "    </tr>\n",
       "  </thead>\n",
       "  <tbody>\n",
       "    <tr>\n",
       "      <th>0</th>\n",
       "      <td>1.930438e+09</td>\n",
       "      <td>1.930438e+09</td>\n",
       "    </tr>\n",
       "    <tr>\n",
       "      <th>1</th>\n",
       "      <td>1.929646e+09</td>\n",
       "      <td>1.929646e+09</td>\n",
       "    </tr>\n",
       "    <tr>\n",
       "      <th>2</th>\n",
       "      <td>1.929874e+09</td>\n",
       "      <td>1.929874e+09</td>\n",
       "    </tr>\n",
       "    <tr>\n",
       "      <th>3</th>\n",
       "      <td>2.960623e+09</td>\n",
       "      <td>2.960623e+09</td>\n",
       "    </tr>\n",
       "    <tr>\n",
       "      <th>4</th>\n",
       "      <td>1.930148e+09</td>\n",
       "      <td>1.930148e+09</td>\n",
       "    </tr>\n",
       "    <tr>\n",
       "      <th>...</th>\n",
       "      <td>...</td>\n",
       "      <td>...</td>\n",
       "    </tr>\n",
       "    <tr>\n",
       "      <th>49995</th>\n",
       "      <td>1.930797e+09</td>\n",
       "      <td>1.930797e+09</td>\n",
       "    </tr>\n",
       "    <tr>\n",
       "      <th>49996</th>\n",
       "      <td>1.929744e+09</td>\n",
       "      <td>1.929744e+09</td>\n",
       "    </tr>\n",
       "    <tr>\n",
       "      <th>49997</th>\n",
       "      <td>1.930537e+09</td>\n",
       "      <td>1.930537e+09</td>\n",
       "    </tr>\n",
       "    <tr>\n",
       "      <th>49998</th>\n",
       "      <td>1.930199e+09</td>\n",
       "      <td>1.930199e+09</td>\n",
       "    </tr>\n",
       "    <tr>\n",
       "      <th>49999</th>\n",
       "      <td>1.928576e+09</td>\n",
       "      <td>1.928576e+09</td>\n",
       "    </tr>\n",
       "  </tbody>\n",
       "</table>\n",
       "<p>50000 rows × 2 columns</p>\n",
       "</div>"
      ],
      "text/plain": [
       "         invoice_id        doc_id\n",
       "0      1.930438e+09  1.930438e+09\n",
       "1      1.929646e+09  1.929646e+09\n",
       "2      1.929874e+09  1.929874e+09\n",
       "3      2.960623e+09  2.960623e+09\n",
       "4      1.930148e+09  1.930148e+09\n",
       "...             ...           ...\n",
       "49995  1.930797e+09  1.930797e+09\n",
       "49996  1.929744e+09  1.929744e+09\n",
       "49997  1.930537e+09  1.930537e+09\n",
       "49998  1.930199e+09  1.930199e+09\n",
       "49999  1.928576e+09  1.928576e+09\n",
       "\n",
       "[50000 rows x 2 columns]"
      ]
     },
     "execution_count": 9,
     "metadata": {},
     "output_type": "execute_result"
    }
   ],
   "source": [
    "data[['invoice_id', 'doc_id']]"
   ]
  },
  {
   "cell_type": "code",
   "execution_count": 10,
   "id": "2e995d36",
   "metadata": {
    "execution": {
     "iopub.execute_input": "2023-02-20T19:19:14.422441Z",
     "iopub.status.busy": "2023-02-20T19:19:14.422005Z",
     "iopub.status.idle": "2023-02-20T19:19:14.429073Z",
     "shell.execute_reply": "2023-02-20T19:19:14.428288Z"
    },
    "id": "038f24bb",
    "outputId": "2b5d0835-a874-4dd2-8cd9-8f5315e674f9",
    "papermill": {
     "duration": 0.068446,
     "end_time": "2023-02-20T19:19:14.431145",
     "exception": false,
     "start_time": "2023-02-20T19:19:14.362699",
     "status": "completed"
    },
    "tags": []
   },
   "outputs": [
    {
     "data": {
      "text/plain": [
       "49994"
      ]
     },
     "execution_count": 10,
     "metadata": {},
     "output_type": "execute_result"
    }
   ],
   "source": [
    "(data['doc_id'] == data['invoice_id']).sum()"
   ]
  },
  {
   "cell_type": "markdown",
   "id": "48fc51cf",
   "metadata": {
    "id": "18cfe10a",
    "papermill": {
     "duration": 0.057836,
     "end_time": "2023-02-20T19:19:14.547547",
     "exception": false,
     "start_time": "2023-02-20T19:19:14.489711",
     "status": "completed"
    },
    "tags": []
   },
   "source": [
    "#### Write a code to check - 'baseline_create_date',\"document_create_date\",'document_create_date.1' - these columns are almost same.\n",
    "\n",
    "- Please note, if they are same, we need to drop them later\n",
    "\n"
   ]
  },
  {
   "cell_type": "code",
   "execution_count": 11,
   "id": "8d4ffb5c",
   "metadata": {
    "execution": {
     "iopub.execute_input": "2023-02-20T19:19:14.667502Z",
     "iopub.status.busy": "2023-02-20T19:19:14.666100Z",
     "iopub.status.idle": "2023-02-20T19:19:14.746739Z",
     "shell.execute_reply": "2023-02-20T19:19:14.745339Z"
    },
    "papermill": {
     "duration": 0.143526,
     "end_time": "2023-02-20T19:19:14.749436",
     "exception": false,
     "start_time": "2023-02-20T19:19:14.605910",
     "status": "completed"
    },
    "tags": []
   },
   "outputs": [
    {
     "data": {
      "text/html": [
       "<style type=\"text/css\">\n",
       "#T_f27e9_row0_col0, #T_f27e9_row1_col1, #T_f27e9_row2_col2 {\n",
       "  background-color: #fef8fe;\n",
       "  color: #000000;\n",
       "}\n",
       "#T_f27e9_row0_col1, #T_f27e9_row0_col2, #T_f27e9_row1_col0, #T_f27e9_row1_col2, #T_f27e9_row2_col0, #T_f27e9_row2_col1 {\n",
       "  background-color: #000080;\n",
       "  color: #f1f1f1;\n",
       "}\n",
       "</style>\n",
       "<table id=\"T_f27e9_\">\n",
       "  <thead>\n",
       "    <tr>\n",
       "      <th class=\"blank level0\" >&nbsp;</th>\n",
       "      <th class=\"col_heading level0 col0\" >baseline_create_date</th>\n",
       "      <th class=\"col_heading level0 col1\" >document_create_date</th>\n",
       "      <th class=\"col_heading level0 col2\" >document_create_date.1</th>\n",
       "    </tr>\n",
       "  </thead>\n",
       "  <tbody>\n",
       "    <tr>\n",
       "      <th id=\"T_f27e9_level0_row0\" class=\"row_heading level0 row0\" >baseline_create_date</th>\n",
       "      <td id=\"T_f27e9_row0_col0\" class=\"data row0 col0\" >1.000000</td>\n",
       "      <td id=\"T_f27e9_row0_col1\" class=\"data row0 col1\" >0.994078</td>\n",
       "      <td id=\"T_f27e9_row0_col2\" class=\"data row0 col2\" >0.999527</td>\n",
       "    </tr>\n",
       "    <tr>\n",
       "      <th id=\"T_f27e9_level0_row1\" class=\"row_heading level0 row1\" >document_create_date</th>\n",
       "      <td id=\"T_f27e9_row1_col0\" class=\"data row1 col0\" >0.994078</td>\n",
       "      <td id=\"T_f27e9_row1_col1\" class=\"data row1 col1\" >1.000000</td>\n",
       "      <td id=\"T_f27e9_row1_col2\" class=\"data row1 col2\" >0.994547</td>\n",
       "    </tr>\n",
       "    <tr>\n",
       "      <th id=\"T_f27e9_level0_row2\" class=\"row_heading level0 row2\" >document_create_date.1</th>\n",
       "      <td id=\"T_f27e9_row2_col0\" class=\"data row2 col0\" >0.999527</td>\n",
       "      <td id=\"T_f27e9_row2_col1\" class=\"data row2 col1\" >0.994547</td>\n",
       "      <td id=\"T_f27e9_row2_col2\" class=\"data row2 col2\" >1.000000</td>\n",
       "    </tr>\n",
       "  </tbody>\n",
       "</table>\n"
      ],
      "text/plain": [
       "<pandas.io.formats.style.Styler at 0x7f21f06e8410>"
      ]
     },
     "execution_count": 11,
     "metadata": {},
     "output_type": "execute_result"
    }
   ],
   "source": [
    "data[['baseline_create_date','document_create_date','document_create_date.1']].corr().style.background_gradient(cmap='gist_ncar',vmin=0.999999)"
   ]
  },
  {
   "cell_type": "markdown",
   "id": "7c13ba6a",
   "metadata": {
    "id": "33110576",
    "papermill": {
     "duration": 0.058649,
     "end_time": "2023-02-20T19:19:14.866493",
     "exception": false,
     "start_time": "2023-02-20T19:19:14.807844",
     "status": "completed"
    },
    "tags": []
   },
   "source": [
    "#### Please check, Column 'posting_id' is constant columns or not\n"
   ]
  },
  {
   "cell_type": "code",
   "execution_count": 12,
   "id": "1c378a60",
   "metadata": {
    "execution": {
     "iopub.execute_input": "2023-02-20T19:19:14.985625Z",
     "iopub.status.busy": "2023-02-20T19:19:14.985150Z",
     "iopub.status.idle": "2023-02-20T19:19:14.993264Z",
     "shell.execute_reply": "2023-02-20T19:19:14.991705Z"
    },
    "id": "ecce2664",
    "outputId": "eb94edb7-8b50-4cf6-8bfc-3472236bf871",
    "papermill": {
     "duration": 0.070646,
     "end_time": "2023-02-20T19:19:14.995829",
     "exception": false,
     "start_time": "2023-02-20T19:19:14.925183",
     "status": "completed"
    },
    "tags": []
   },
   "outputs": [
    {
     "name": "stdout",
     "output_type": "stream",
     "text": [
      "Number of unique values in posting_id column:  1\n",
      "Hence Posting ID is a constant column\n"
     ]
    }
   ],
   "source": [
    "print(\"Number of unique values in posting_id column: \",data['posting_id'].nunique())\n",
    "print(\"Hence Posting ID is a constant column\")"
   ]
  },
  {
   "cell_type": "markdown",
   "id": "1c4d0864",
   "metadata": {
    "id": "e5fb8daf",
    "papermill": {
     "duration": 0.058173,
     "end_time": "2023-02-20T19:19:15.113837",
     "exception": false,
     "start_time": "2023-02-20T19:19:15.055664",
     "status": "completed"
    },
    "tags": []
   },
   "source": [
    "#### Please check 'isOpen' is a constant column and relevant column for this project or not"
   ]
  },
  {
   "cell_type": "code",
   "execution_count": 13,
   "id": "ac13996c",
   "metadata": {
    "execution": {
     "iopub.execute_input": "2023-02-20T19:19:15.233468Z",
     "iopub.status.busy": "2023-02-20T19:19:15.232825Z",
     "iopub.status.idle": "2023-02-20T19:19:15.243232Z",
     "shell.execute_reply": "2023-02-20T19:19:15.242027Z"
    },
    "id": "8db9956b",
    "outputId": "cb373853-849c-44b6-86e1-b7191b006cc4",
    "papermill": {
     "duration": 0.073649,
     "end_time": "2023-02-20T19:19:15.245984",
     "exception": false,
     "start_time": "2023-02-20T19:19:15.172335",
     "status": "completed"
    },
    "tags": []
   },
   "outputs": [
    {
     "name": "stdout",
     "output_type": "stream",
     "text": [
      "Number of unique values in posting_id column:  2\n",
      "\n",
      "Number of value count of each unique value:\n",
      " 0    40000\n",
      "1    10000\n",
      "Name: isOpen, dtype: int64\n",
      "\n",
      "We can see maximum rows are have same values and hence its a Quasi Constant column and needs to be dropped.\n"
     ]
    }
   ],
   "source": [
    "print(\"Number of unique values in posting_id column: \",data['isOpen'].nunique())\n",
    "print(\"\\nNumber of value count of each unique value:\\n\",data['isOpen'].value_counts())\n",
    "print(\"\\nWe can see maximum rows are have same values and hence its a Quasi Constant column and needs to be dropped.\")"
   ]
  },
  {
   "cell_type": "markdown",
   "id": "db4dc86c",
   "metadata": {
    "id": "45a11a62",
    "papermill": {
     "duration": 0.057716,
     "end_time": "2023-02-20T19:19:15.362499",
     "exception": false,
     "start_time": "2023-02-20T19:19:15.304783",
     "status": "completed"
    },
    "tags": []
   },
   "source": [
    "### Write the code to drop all the following columns from the dataframe\n",
    "\n",
    "- 'area_business'\n",
    "- \"posting_id\"\n",
    "- \"invoice_id\"\n",
    "- \"document_create_date\"\n",
    "- \"isOpen\"\n",
    "- 'document type' \n",
    "- 'document_create_date.1"
   ]
  },
  {
   "cell_type": "code",
   "execution_count": 14,
   "id": "7dc5163e",
   "metadata": {
    "execution": {
     "iopub.execute_input": "2023-02-20T19:19:15.481757Z",
     "iopub.status.busy": "2023-02-20T19:19:15.481285Z",
     "iopub.status.idle": "2023-02-20T19:19:15.505501Z",
     "shell.execute_reply": "2023-02-20T19:19:15.504688Z"
    },
    "id": "270d85d1",
    "outputId": "bdf45f2d-f080-4cde-c1dc-308705e80ad3",
    "papermill": {
     "duration": 0.08683,
     "end_time": "2023-02-20T19:19:15.507776",
     "exception": false,
     "start_time": "2023-02-20T19:19:15.420946",
     "status": "completed"
    },
    "tags": []
   },
   "outputs": [
    {
     "data": {
      "text/html": [
       "<div>\n",
       "<style scoped>\n",
       "    .dataframe tbody tr th:only-of-type {\n",
       "        vertical-align: middle;\n",
       "    }\n",
       "\n",
       "    .dataframe tbody tr th {\n",
       "        vertical-align: top;\n",
       "    }\n",
       "\n",
       "    .dataframe thead th {\n",
       "        text-align: right;\n",
       "    }\n",
       "</style>\n",
       "<table border=\"1\" class=\"dataframe\">\n",
       "  <thead>\n",
       "    <tr style=\"text-align: right;\">\n",
       "      <th></th>\n",
       "      <th>business_code</th>\n",
       "      <th>cust_number</th>\n",
       "      <th>name_customer</th>\n",
       "      <th>clear_date</th>\n",
       "      <th>buisness_year</th>\n",
       "      <th>doc_id</th>\n",
       "      <th>posting_date</th>\n",
       "      <th>due_in_date</th>\n",
       "      <th>invoice_currency</th>\n",
       "      <th>total_open_amount</th>\n",
       "      <th>baseline_create_date</th>\n",
       "      <th>cust_payment_terms</th>\n",
       "    </tr>\n",
       "  </thead>\n",
       "  <tbody>\n",
       "    <tr>\n",
       "      <th>0</th>\n",
       "      <td>U001</td>\n",
       "      <td>0200769623</td>\n",
       "      <td>WAL-MAR corp</td>\n",
       "      <td>2020-02-11 00:00:00</td>\n",
       "      <td>2020.0</td>\n",
       "      <td>1.930438e+09</td>\n",
       "      <td>2020-01-26</td>\n",
       "      <td>20200210.0</td>\n",
       "      <td>USD</td>\n",
       "      <td>54273.28</td>\n",
       "      <td>20200126.0</td>\n",
       "      <td>NAH4</td>\n",
       "    </tr>\n",
       "    <tr>\n",
       "      <th>1</th>\n",
       "      <td>U001</td>\n",
       "      <td>0200980828</td>\n",
       "      <td>BEN E</td>\n",
       "      <td>2019-08-08 00:00:00</td>\n",
       "      <td>2019.0</td>\n",
       "      <td>1.929646e+09</td>\n",
       "      <td>2019-07-22</td>\n",
       "      <td>20190811.0</td>\n",
       "      <td>USD</td>\n",
       "      <td>79656.60</td>\n",
       "      <td>20190722.0</td>\n",
       "      <td>NAD1</td>\n",
       "    </tr>\n",
       "    <tr>\n",
       "      <th>2</th>\n",
       "      <td>U001</td>\n",
       "      <td>0200792734</td>\n",
       "      <td>MDV/ trust</td>\n",
       "      <td>2019-12-30 00:00:00</td>\n",
       "      <td>2019.0</td>\n",
       "      <td>1.929874e+09</td>\n",
       "      <td>2019-09-14</td>\n",
       "      <td>20190929.0</td>\n",
       "      <td>USD</td>\n",
       "      <td>2253.86</td>\n",
       "      <td>20190914.0</td>\n",
       "      <td>NAA8</td>\n",
       "    </tr>\n",
       "    <tr>\n",
       "      <th>3</th>\n",
       "      <td>CA02</td>\n",
       "      <td>0140105686</td>\n",
       "      <td>SYSC llc</td>\n",
       "      <td>NaN</td>\n",
       "      <td>2020.0</td>\n",
       "      <td>2.960623e+09</td>\n",
       "      <td>2020-03-30</td>\n",
       "      <td>20200410.0</td>\n",
       "      <td>CAD</td>\n",
       "      <td>3299.70</td>\n",
       "      <td>20200331.0</td>\n",
       "      <td>CA10</td>\n",
       "    </tr>\n",
       "    <tr>\n",
       "      <th>4</th>\n",
       "      <td>U001</td>\n",
       "      <td>0200769623</td>\n",
       "      <td>WAL-MAR foundation</td>\n",
       "      <td>2019-11-25 00:00:00</td>\n",
       "      <td>2019.0</td>\n",
       "      <td>1.930148e+09</td>\n",
       "      <td>2019-11-13</td>\n",
       "      <td>20191128.0</td>\n",
       "      <td>USD</td>\n",
       "      <td>33133.29</td>\n",
       "      <td>20191113.0</td>\n",
       "      <td>NAH4</td>\n",
       "    </tr>\n",
       "  </tbody>\n",
       "</table>\n",
       "</div>"
      ],
      "text/plain": [
       "  business_code cust_number       name_customer           clear_date  \\\n",
       "0          U001  0200769623        WAL-MAR corp  2020-02-11 00:00:00   \n",
       "1          U001  0200980828              BEN E   2019-08-08 00:00:00   \n",
       "2          U001  0200792734          MDV/ trust  2019-12-30 00:00:00   \n",
       "3          CA02  0140105686            SYSC llc                  NaN   \n",
       "4          U001  0200769623  WAL-MAR foundation  2019-11-25 00:00:00   \n",
       "\n",
       "   buisness_year        doc_id posting_date  due_in_date invoice_currency  \\\n",
       "0         2020.0  1.930438e+09   2020-01-26   20200210.0              USD   \n",
       "1         2019.0  1.929646e+09   2019-07-22   20190811.0              USD   \n",
       "2         2019.0  1.929874e+09   2019-09-14   20190929.0              USD   \n",
       "3         2020.0  2.960623e+09   2020-03-30   20200410.0              CAD   \n",
       "4         2019.0  1.930148e+09   2019-11-13   20191128.0              USD   \n",
       "\n",
       "   total_open_amount  baseline_create_date cust_payment_terms  \n",
       "0           54273.28            20200126.0               NAH4  \n",
       "1           79656.60            20190722.0               NAD1  \n",
       "2            2253.86            20190914.0               NAA8  \n",
       "3            3299.70            20200331.0               CA10  \n",
       "4           33133.29            20191113.0               NAH4  "
      ]
     },
     "execution_count": 14,
     "metadata": {},
     "output_type": "execute_result"
    }
   ],
   "source": [
    "drop_cols=['area_business',\"posting_id\",\"invoice_id\",\"document_create_date\",\"isOpen\",'document type','document_create_date.1']\n",
    "data=data.drop(columns=drop_cols)\n",
    "data.head()"
   ]
  },
  {
   "cell_type": "markdown",
   "id": "dd4ac338",
   "metadata": {
    "id": "K5LHAM2XVGnk",
    "papermill": {
     "duration": 0.059411,
     "end_time": "2023-02-20T19:19:15.626855",
     "exception": false,
     "start_time": "2023-02-20T19:19:15.567444",
     "status": "completed"
    },
    "tags": []
   },
   "source": [
    "### Please check from the dataframe whether all the columns are removed or not "
   ]
  },
  {
   "cell_type": "code",
   "execution_count": 15,
   "id": "81a3deec",
   "metadata": {
    "execution": {
     "iopub.execute_input": "2023-02-20T19:19:15.747716Z",
     "iopub.status.busy": "2023-02-20T19:19:15.747241Z",
     "iopub.status.idle": "2023-02-20T19:19:15.754426Z",
     "shell.execute_reply": "2023-02-20T19:19:15.752916Z"
    },
    "id": "ef3f7d2b",
    "outputId": "99631d95-fe59-45cd-fbc5-0f1940fd9d7a",
    "papermill": {
     "duration": 0.069688,
     "end_time": "2023-02-20T19:19:15.756787",
     "exception": false,
     "start_time": "2023-02-20T19:19:15.687099",
     "status": "completed"
    },
    "tags": []
   },
   "outputs": [
    {
     "name": "stdout",
     "output_type": "stream",
     "text": [
      "Index(['business_code', 'cust_number', 'name_customer', 'clear_date',\n",
      "       'buisness_year', 'doc_id', 'posting_date', 'due_in_date',\n",
      "       'invoice_currency', 'total_open_amount', 'baseline_create_date',\n",
      "       'cust_payment_terms'],\n",
      "      dtype='object')\n",
      "\n",
      "The following column have been successfully dropped:  area_business\n",
      "\n",
      "The following column have been successfully dropped:  posting_id\n",
      "\n",
      "The following column have been successfully dropped:  invoice_id\n",
      "\n",
      "The following column have been successfully dropped:  document_create_date\n",
      "\n",
      "The following column have been successfully dropped:  isOpen\n",
      "\n",
      "The following column have been successfully dropped:  document type\n",
      "\n",
      "The following column have been successfully dropped:  document_create_date.1\n"
     ]
    }
   ],
   "source": [
    "print(data.columns)  \n",
    "for i in drop_cols:\n",
    "  if i not in data.columns:\n",
    "    print(\"\\nThe following column have been successfully dropped: \",i)"
   ]
  },
  {
   "cell_type": "markdown",
   "id": "8f7d6833",
   "metadata": {
    "id": "6bc052c7",
    "papermill": {
     "duration": 0.058425,
     "end_time": "2023-02-20T19:19:15.874060",
     "exception": false,
     "start_time": "2023-02-20T19:19:15.815635",
     "status": "completed"
    },
    "tags": []
   },
   "source": [
    "### Show all the Dublicate rows from the dataframe"
   ]
  },
  {
   "cell_type": "code",
   "execution_count": 16,
   "id": "3dde5103",
   "metadata": {
    "execution": {
     "iopub.execute_input": "2023-02-20T19:19:15.994658Z",
     "iopub.status.busy": "2023-02-20T19:19:15.994253Z",
     "iopub.status.idle": "2023-02-20T19:19:16.072881Z",
     "shell.execute_reply": "2023-02-20T19:19:16.071558Z"
    },
    "id": "QBsr2icGGC6U",
    "outputId": "d03f1b20-bb24-4923-bc7a-379958fda298",
    "papermill": {
     "duration": 0.142088,
     "end_time": "2023-02-20T19:19:16.075449",
     "exception": false,
     "start_time": "2023-02-20T19:19:15.933361",
     "status": "completed"
    },
    "tags": []
   },
   "outputs": [
    {
     "data": {
      "text/html": [
       "<div>\n",
       "<style scoped>\n",
       "    .dataframe tbody tr th:only-of-type {\n",
       "        vertical-align: middle;\n",
       "    }\n",
       "\n",
       "    .dataframe tbody tr th {\n",
       "        vertical-align: top;\n",
       "    }\n",
       "\n",
       "    .dataframe thead th {\n",
       "        text-align: right;\n",
       "    }\n",
       "</style>\n",
       "<table border=\"1\" class=\"dataframe\">\n",
       "  <thead>\n",
       "    <tr style=\"text-align: right;\">\n",
       "      <th></th>\n",
       "      <th>business_code</th>\n",
       "      <th>cust_number</th>\n",
       "      <th>name_customer</th>\n",
       "      <th>clear_date</th>\n",
       "      <th>buisness_year</th>\n",
       "      <th>doc_id</th>\n",
       "      <th>posting_date</th>\n",
       "      <th>due_in_date</th>\n",
       "      <th>invoice_currency</th>\n",
       "      <th>total_open_amount</th>\n",
       "      <th>baseline_create_date</th>\n",
       "      <th>cust_payment_terms</th>\n",
       "    </tr>\n",
       "  </thead>\n",
       "  <tbody>\n",
       "    <tr>\n",
       "      <th>1041</th>\n",
       "      <td>U001</td>\n",
       "      <td>0200769623</td>\n",
       "      <td>WAL-MAR in</td>\n",
       "      <td>2019-03-12 00:00:00</td>\n",
       "      <td>2019.0</td>\n",
       "      <td>1.928870e+09</td>\n",
       "      <td>2019-02-28</td>\n",
       "      <td>20190315.0</td>\n",
       "      <td>USD</td>\n",
       "      <td>19557.41</td>\n",
       "      <td>20190228.0</td>\n",
       "      <td>NAH4</td>\n",
       "    </tr>\n",
       "    <tr>\n",
       "      <th>2400</th>\n",
       "      <td>U001</td>\n",
       "      <td>0200769623</td>\n",
       "      <td>WAL-MAR trust</td>\n",
       "      <td>2019-08-28 00:00:00</td>\n",
       "      <td>2019.0</td>\n",
       "      <td>1.929758e+09</td>\n",
       "      <td>2019-08-18</td>\n",
       "      <td>20190902.0</td>\n",
       "      <td>USD</td>\n",
       "      <td>5600.41</td>\n",
       "      <td>20190818.0</td>\n",
       "      <td>NAH4</td>\n",
       "    </tr>\n",
       "    <tr>\n",
       "      <th>2584</th>\n",
       "      <td>U001</td>\n",
       "      <td>0200769623</td>\n",
       "      <td>WAL-MAR corporation</td>\n",
       "      <td>2019-12-16 00:00:00</td>\n",
       "      <td>2019.0</td>\n",
       "      <td>1.930217e+09</td>\n",
       "      <td>2019-12-04</td>\n",
       "      <td>20191219.0</td>\n",
       "      <td>USD</td>\n",
       "      <td>35352.17</td>\n",
       "      <td>20191204.0</td>\n",
       "      <td>NAH4</td>\n",
       "    </tr>\n",
       "    <tr>\n",
       "      <th>3755</th>\n",
       "      <td>U001</td>\n",
       "      <td>0200769623</td>\n",
       "      <td>WAL-MAR</td>\n",
       "      <td>2019-11-22 00:00:00</td>\n",
       "      <td>2019.0</td>\n",
       "      <td>1.930137e+09</td>\n",
       "      <td>2019-11-12</td>\n",
       "      <td>20191127.0</td>\n",
       "      <td>USD</td>\n",
       "      <td>2982.64</td>\n",
       "      <td>20191112.0</td>\n",
       "      <td>NAH4</td>\n",
       "    </tr>\n",
       "    <tr>\n",
       "      <th>3873</th>\n",
       "      <td>CA02</td>\n",
       "      <td>0140104409</td>\n",
       "      <td>LOB associates</td>\n",
       "      <td>NaN</td>\n",
       "      <td>2020.0</td>\n",
       "      <td>2.960629e+09</td>\n",
       "      <td>2020-04-14</td>\n",
       "      <td>20200425.0</td>\n",
       "      <td>CAD</td>\n",
       "      <td>82975.82</td>\n",
       "      <td>20200415.0</td>\n",
       "      <td>CA10</td>\n",
       "    </tr>\n",
       "    <tr>\n",
       "      <th>...</th>\n",
       "      <td>...</td>\n",
       "      <td>...</td>\n",
       "      <td>...</td>\n",
       "      <td>...</td>\n",
       "      <td>...</td>\n",
       "      <td>...</td>\n",
       "      <td>...</td>\n",
       "      <td>...</td>\n",
       "      <td>...</td>\n",
       "      <td>...</td>\n",
       "      <td>...</td>\n",
       "      <td>...</td>\n",
       "    </tr>\n",
       "    <tr>\n",
       "      <th>49928</th>\n",
       "      <td>U001</td>\n",
       "      <td>0200915438</td>\n",
       "      <td>GROC trust</td>\n",
       "      <td>2019-08-15 00:00:00</td>\n",
       "      <td>2019.0</td>\n",
       "      <td>1.929646e+09</td>\n",
       "      <td>2019-07-25</td>\n",
       "      <td>20190809.0</td>\n",
       "      <td>USD</td>\n",
       "      <td>6969.00</td>\n",
       "      <td>20190725.0</td>\n",
       "      <td>NAA8</td>\n",
       "    </tr>\n",
       "    <tr>\n",
       "      <th>49963</th>\n",
       "      <td>U001</td>\n",
       "      <td>0200759878</td>\n",
       "      <td>SA us</td>\n",
       "      <td>2019-01-29 00:00:00</td>\n",
       "      <td>2019.0</td>\n",
       "      <td>1.928614e+09</td>\n",
       "      <td>2019-01-13</td>\n",
       "      <td>20190128.0</td>\n",
       "      <td>USD</td>\n",
       "      <td>10968.24</td>\n",
       "      <td>20190113.0</td>\n",
       "      <td>NAH4</td>\n",
       "    </tr>\n",
       "    <tr>\n",
       "      <th>49986</th>\n",
       "      <td>U001</td>\n",
       "      <td>0200772670</td>\n",
       "      <td>ASSOCIAT foundation</td>\n",
       "      <td>2019-06-12 00:00:00</td>\n",
       "      <td>2019.0</td>\n",
       "      <td>1.929403e+09</td>\n",
       "      <td>2019-05-29</td>\n",
       "      <td>20190613.0</td>\n",
       "      <td>USD</td>\n",
       "      <td>155837.53</td>\n",
       "      <td>20190529.0</td>\n",
       "      <td>NAU5</td>\n",
       "    </tr>\n",
       "    <tr>\n",
       "      <th>49990</th>\n",
       "      <td>U001</td>\n",
       "      <td>0200765011</td>\n",
       "      <td>MAINES llc</td>\n",
       "      <td>2019-06-06 00:00:00</td>\n",
       "      <td>2019.0</td>\n",
       "      <td>1.929365e+09</td>\n",
       "      <td>2019-05-22</td>\n",
       "      <td>20190606.0</td>\n",
       "      <td>USD</td>\n",
       "      <td>4008.05</td>\n",
       "      <td>20190522.0</td>\n",
       "      <td>NAA8</td>\n",
       "    </tr>\n",
       "    <tr>\n",
       "      <th>49991</th>\n",
       "      <td>U001</td>\n",
       "      <td>0200704045</td>\n",
       "      <td>RA trust</td>\n",
       "      <td>2019-10-25 00:00:00</td>\n",
       "      <td>2019.0</td>\n",
       "      <td>1.930001e+09</td>\n",
       "      <td>2019-10-10</td>\n",
       "      <td>20191025.0</td>\n",
       "      <td>USD</td>\n",
       "      <td>73002.24</td>\n",
       "      <td>20191010.0</td>\n",
       "      <td>NAA8</td>\n",
       "    </tr>\n",
       "  </tbody>\n",
       "</table>\n",
       "<p>1161 rows × 12 columns</p>\n",
       "</div>"
      ],
      "text/plain": [
       "      business_code cust_number        name_customer           clear_date  \\\n",
       "1041           U001  0200769623           WAL-MAR in  2019-03-12 00:00:00   \n",
       "2400           U001  0200769623        WAL-MAR trust  2019-08-28 00:00:00   \n",
       "2584           U001  0200769623  WAL-MAR corporation  2019-12-16 00:00:00   \n",
       "3755           U001  0200769623             WAL-MAR   2019-11-22 00:00:00   \n",
       "3873           CA02  0140104409       LOB associates                  NaN   \n",
       "...             ...         ...                  ...                  ...   \n",
       "49928          U001  0200915438           GROC trust  2019-08-15 00:00:00   \n",
       "49963          U001  0200759878                SA us  2019-01-29 00:00:00   \n",
       "49986          U001  0200772670  ASSOCIAT foundation  2019-06-12 00:00:00   \n",
       "49990          U001  0200765011           MAINES llc  2019-06-06 00:00:00   \n",
       "49991          U001  0200704045             RA trust  2019-10-25 00:00:00   \n",
       "\n",
       "       buisness_year        doc_id posting_date  due_in_date invoice_currency  \\\n",
       "1041          2019.0  1.928870e+09   2019-02-28   20190315.0              USD   \n",
       "2400          2019.0  1.929758e+09   2019-08-18   20190902.0              USD   \n",
       "2584          2019.0  1.930217e+09   2019-12-04   20191219.0              USD   \n",
       "3755          2019.0  1.930137e+09   2019-11-12   20191127.0              USD   \n",
       "3873          2020.0  2.960629e+09   2020-04-14   20200425.0              CAD   \n",
       "...              ...           ...          ...          ...              ...   \n",
       "49928         2019.0  1.929646e+09   2019-07-25   20190809.0              USD   \n",
       "49963         2019.0  1.928614e+09   2019-01-13   20190128.0              USD   \n",
       "49986         2019.0  1.929403e+09   2019-05-29   20190613.0              USD   \n",
       "49990         2019.0  1.929365e+09   2019-05-22   20190606.0              USD   \n",
       "49991         2019.0  1.930001e+09   2019-10-10   20191025.0              USD   \n",
       "\n",
       "       total_open_amount  baseline_create_date cust_payment_terms  \n",
       "1041            19557.41            20190228.0               NAH4  \n",
       "2400             5600.41            20190818.0               NAH4  \n",
       "2584            35352.17            20191204.0               NAH4  \n",
       "3755             2982.64            20191112.0               NAH4  \n",
       "3873            82975.82            20200415.0               CA10  \n",
       "...                  ...                   ...                ...  \n",
       "49928            6969.00            20190725.0               NAA8  \n",
       "49963           10968.24            20190113.0               NAH4  \n",
       "49986          155837.53            20190529.0               NAU5  \n",
       "49990            4008.05            20190522.0               NAA8  \n",
       "49991           73002.24            20191010.0               NAA8  \n",
       "\n",
       "[1161 rows x 12 columns]"
      ]
     },
     "execution_count": 16,
     "metadata": {},
     "output_type": "execute_result"
    }
   ],
   "source": [
    "data[data.duplicated(keep = 'first')]"
   ]
  },
  {
   "cell_type": "markdown",
   "id": "636c60ef",
   "metadata": {
    "id": "464fab09",
    "papermill": {
     "duration": 0.058752,
     "end_time": "2023-02-20T19:19:16.194558",
     "exception": false,
     "start_time": "2023-02-20T19:19:16.135806",
     "status": "completed"
    },
    "tags": []
   },
   "source": [
    "### Display the Number of Dublicate Rows"
   ]
  },
  {
   "cell_type": "code",
   "execution_count": 17,
   "id": "a6e75b70",
   "metadata": {
    "execution": {
     "iopub.execute_input": "2023-02-20T19:19:16.389172Z",
     "iopub.status.busy": "2023-02-20T19:19:16.388774Z",
     "iopub.status.idle": "2023-02-20T19:19:16.441367Z",
     "shell.execute_reply": "2023-02-20T19:19:16.440267Z"
    },
    "id": "b1ea2397",
    "outputId": "3d24c2e3-3c91-494c-8a8b-f54a9d9f1ab6",
    "papermill": {
     "duration": 0.116448,
     "end_time": "2023-02-20T19:19:16.443641",
     "exception": false,
     "start_time": "2023-02-20T19:19:16.327193",
     "status": "completed"
    },
    "tags": []
   },
   "outputs": [
    {
     "data": {
      "text/plain": [
       "1161"
      ]
     },
     "execution_count": 17,
     "metadata": {},
     "output_type": "execute_result"
    }
   ],
   "source": [
    "(data.duplicated()==True).sum()"
   ]
  },
  {
   "cell_type": "markdown",
   "id": "c0477b51",
   "metadata": {
    "id": "827a6718",
    "papermill": {
     "duration": 0.059061,
     "end_time": "2023-02-20T19:19:16.562738",
     "exception": false,
     "start_time": "2023-02-20T19:19:16.503677",
     "status": "completed"
    },
    "tags": []
   },
   "source": [
    "### Drop all the Dublicate Rows"
   ]
  },
  {
   "cell_type": "code",
   "execution_count": 18,
   "id": "ff8a8b9c",
   "metadata": {
    "execution": {
     "iopub.execute_input": "2023-02-20T19:19:16.685745Z",
     "iopub.status.busy": "2023-02-20T19:19:16.685330Z",
     "iopub.status.idle": "2023-02-20T19:19:16.743694Z",
     "shell.execute_reply": "2023-02-20T19:19:16.742264Z"
    },
    "id": "5d10151c",
    "papermill": {
     "duration": 0.124019,
     "end_time": "2023-02-20T19:19:16.746608",
     "exception": false,
     "start_time": "2023-02-20T19:19:16.622589",
     "status": "completed"
    },
    "tags": []
   },
   "outputs": [],
   "source": [
    "data=data.drop_duplicates(keep = 'first')"
   ]
  },
  {
   "cell_type": "markdown",
   "id": "c7831b12",
   "metadata": {
    "id": "7e5d1f9b",
    "papermill": {
     "duration": 0.060786,
     "end_time": "2023-02-20T19:19:16.867268",
     "exception": false,
     "start_time": "2023-02-20T19:19:16.806482",
     "status": "completed"
    },
    "tags": []
   },
   "source": [
    "#### Now check for all dublicate rows now\n",
    "\n",
    "- Note - It must be 0 by now"
   ]
  },
  {
   "cell_type": "code",
   "execution_count": 19,
   "id": "cf2aaa75",
   "metadata": {
    "execution": {
     "iopub.execute_input": "2023-02-20T19:19:16.990446Z",
     "iopub.status.busy": "2023-02-20T19:19:16.989813Z",
     "iopub.status.idle": "2023-02-20T19:19:17.045353Z",
     "shell.execute_reply": "2023-02-20T19:19:17.044521Z"
    },
    "id": "9accc9fc",
    "outputId": "ee886fac-935c-468a-8caa-89c5e1ceb81b",
    "papermill": {
     "duration": 0.119914,
     "end_time": "2023-02-20T19:19:17.047581",
     "exception": false,
     "start_time": "2023-02-20T19:19:16.927667",
     "status": "completed"
    },
    "tags": []
   },
   "outputs": [
    {
     "data": {
      "text/plain": [
       "0"
      ]
     },
     "execution_count": 19,
     "metadata": {},
     "output_type": "execute_result"
    }
   ],
   "source": [
    "(data.duplicated()==True).sum()"
   ]
  },
  {
   "cell_type": "markdown",
   "id": "68c24a11",
   "metadata": {
    "id": "d0704898",
    "papermill": {
     "duration": 0.059044,
     "end_time": "2023-02-20T19:19:17.166932",
     "exception": false,
     "start_time": "2023-02-20T19:19:17.107888",
     "status": "completed"
    },
    "tags": []
   },
   "source": [
    "### Check for the number of Rows and Columns in your dataset"
   ]
  },
  {
   "cell_type": "code",
   "execution_count": 20,
   "id": "b67233fd",
   "metadata": {
    "execution": {
     "iopub.execute_input": "2023-02-20T19:19:17.289562Z",
     "iopub.status.busy": "2023-02-20T19:19:17.288826Z",
     "iopub.status.idle": "2023-02-20T19:19:17.294949Z",
     "shell.execute_reply": "2023-02-20T19:19:17.293859Z"
    },
    "id": "582748a8",
    "outputId": "d7138d35-fc7f-4438-b465-6cb926a1af3a",
    "papermill": {
     "duration": 0.069758,
     "end_time": "2023-02-20T19:19:17.297162",
     "exception": false,
     "start_time": "2023-02-20T19:19:17.227404",
     "status": "completed"
    },
    "tags": []
   },
   "outputs": [
    {
     "data": {
      "text/plain": [
       "(48839, 12)"
      ]
     },
     "execution_count": 20,
     "metadata": {},
     "output_type": "execute_result"
    }
   ],
   "source": [
    "data.shape"
   ]
  },
  {
   "cell_type": "markdown",
   "id": "95a96bb2",
   "metadata": {
    "id": "4o9c5UodWRtl",
    "papermill": {
     "duration": 0.060152,
     "end_time": "2023-02-20T19:19:17.418505",
     "exception": false,
     "start_time": "2023-02-20T19:19:17.358353",
     "status": "completed"
    },
    "tags": []
   },
   "source": [
    "### Find out the total count of null values in each columns"
   ]
  },
  {
   "cell_type": "code",
   "execution_count": 21,
   "id": "7bc27553",
   "metadata": {
    "execution": {
     "iopub.execute_input": "2023-02-20T19:19:17.544983Z",
     "iopub.status.busy": "2023-02-20T19:19:17.544604Z",
     "iopub.status.idle": "2023-02-20T19:19:17.569981Z",
     "shell.execute_reply": "2023-02-20T19:19:17.569127Z"
    },
    "id": "b0612cb5",
    "outputId": "e3263636-7b9a-4c77-8ffa-6ea70e783b96",
    "papermill": {
     "duration": 0.093664,
     "end_time": "2023-02-20T19:19:17.572090",
     "exception": false,
     "start_time": "2023-02-20T19:19:17.478426",
     "status": "completed"
    },
    "tags": []
   },
   "outputs": [
    {
     "data": {
      "text/plain": [
       "business_code              0\n",
       "cust_number                0\n",
       "name_customer              0\n",
       "clear_date              9681\n",
       "buisness_year              0\n",
       "doc_id                     0\n",
       "posting_date               0\n",
       "due_in_date                0\n",
       "invoice_currency           0\n",
       "total_open_amount          0\n",
       "baseline_create_date       0\n",
       "cust_payment_terms         0\n",
       "dtype: int64"
      ]
     },
     "execution_count": 21,
     "metadata": {},
     "output_type": "execute_result"
    }
   ],
   "source": [
    "data.isnull().sum()"
   ]
  },
  {
   "cell_type": "markdown",
   "id": "d008be07",
   "metadata": {
    "id": "7abdb98b",
    "papermill": {
     "duration": 0.061163,
     "end_time": "2023-02-20T19:19:17.693979",
     "exception": false,
     "start_time": "2023-02-20T19:19:17.632816",
     "status": "completed"
    },
    "tags": []
   },
   "source": [
    "#Data type Conversion "
   ]
  },
  {
   "cell_type": "markdown",
   "id": "a74a6f50",
   "metadata": {
    "id": "LPfSUSp-WpPj",
    "papermill": {
     "duration": 0.059835,
     "end_time": "2023-02-20T19:19:17.813931",
     "exception": false,
     "start_time": "2023-02-20T19:19:17.754096",
     "status": "completed"
    },
    "tags": []
   },
   "source": [
    "### Please check the data type of each column of the dataframe"
   ]
  },
  {
   "cell_type": "code",
   "execution_count": 22,
   "id": "486dd902",
   "metadata": {
    "execution": {
     "iopub.execute_input": "2023-02-20T19:19:17.937406Z",
     "iopub.status.busy": "2023-02-20T19:19:17.936684Z",
     "iopub.status.idle": "2023-02-20T19:19:17.944481Z",
     "shell.execute_reply": "2023-02-20T19:19:17.943271Z"
    },
    "id": "689c8592",
    "outputId": "29c255d5-fd58-433a-8636-c8c46e924695",
    "papermill": {
     "duration": 0.072832,
     "end_time": "2023-02-20T19:19:17.947057",
     "exception": false,
     "start_time": "2023-02-20T19:19:17.874225",
     "status": "completed"
    },
    "tags": []
   },
   "outputs": [
    {
     "data": {
      "text/plain": [
       "business_code            object\n",
       "cust_number              object\n",
       "name_customer            object\n",
       "clear_date               object\n",
       "buisness_year           float64\n",
       "doc_id                  float64\n",
       "posting_date             object\n",
       "due_in_date             float64\n",
       "invoice_currency         object\n",
       "total_open_amount       float64\n",
       "baseline_create_date    float64\n",
       "cust_payment_terms       object\n",
       "dtype: object"
      ]
     },
     "execution_count": 22,
     "metadata": {},
     "output_type": "execute_result"
    }
   ],
   "source": [
    "data.dtypes"
   ]
  },
  {
   "cell_type": "markdown",
   "id": "e501fa20",
   "metadata": {
    "id": "0nsem0_3XzOt",
    "papermill": {
     "duration": 0.059492,
     "end_time": "2023-02-20T19:19:18.067295",
     "exception": false,
     "start_time": "2023-02-20T19:19:18.007803",
     "status": "completed"
    },
    "tags": []
   },
   "source": [
    "### Check the datatype format of below columns\n",
    "\n",
    "- clear_date  \n",
    "- posting_date\n",
    "- due_in_date \n",
    "- baseline_create_date"
   ]
  },
  {
   "cell_type": "code",
   "execution_count": 23,
   "id": "1d03a25c",
   "metadata": {
    "execution": {
     "iopub.execute_input": "2023-02-20T19:19:18.189422Z",
     "iopub.status.busy": "2023-02-20T19:19:18.189050Z",
     "iopub.status.idle": "2023-02-20T19:19:18.201699Z",
     "shell.execute_reply": "2023-02-20T19:19:18.200628Z"
    },
    "id": "-yyODyW3X6pL",
    "outputId": "1ab30221-20ab-4e1a-dc3a-03eb8ec307d8",
    "papermill": {
     "duration": 0.076616,
     "end_time": "2023-02-20T19:19:18.204266",
     "exception": false,
     "start_time": "2023-02-20T19:19:18.127650",
     "status": "completed"
    },
    "tags": []
   },
   "outputs": [
    {
     "data": {
      "text/html": [
       "<div>\n",
       "<style scoped>\n",
       "    .dataframe tbody tr th:only-of-type {\n",
       "        vertical-align: middle;\n",
       "    }\n",
       "\n",
       "    .dataframe tbody tr th {\n",
       "        vertical-align: top;\n",
       "    }\n",
       "\n",
       "    .dataframe thead th {\n",
       "        text-align: right;\n",
       "    }\n",
       "</style>\n",
       "<table border=\"1\" class=\"dataframe\">\n",
       "  <thead>\n",
       "    <tr style=\"text-align: right;\">\n",
       "      <th></th>\n",
       "      <th>COLUMNS</th>\n",
       "      <th>Data Type</th>\n",
       "    </tr>\n",
       "  </thead>\n",
       "  <tbody>\n",
       "    <tr>\n",
       "      <th>clear_date</th>\n",
       "      <td>clear_date</td>\n",
       "      <td>object</td>\n",
       "    </tr>\n",
       "    <tr>\n",
       "      <th>posting_date</th>\n",
       "      <td>posting_date</td>\n",
       "      <td>object</td>\n",
       "    </tr>\n",
       "    <tr>\n",
       "      <th>due_in_date</th>\n",
       "      <td>due_in_date</td>\n",
       "      <td>float64</td>\n",
       "    </tr>\n",
       "    <tr>\n",
       "      <th>baseline_create_date</th>\n",
       "      <td>baseline_create_date</td>\n",
       "      <td>float64</td>\n",
       "    </tr>\n",
       "  </tbody>\n",
       "</table>\n",
       "</div>"
      ],
      "text/plain": [
       "                                   COLUMNS Data Type\n",
       "clear_date                      clear_date    object\n",
       "posting_date                  posting_date    object\n",
       "due_in_date                    due_in_date   float64\n",
       "baseline_create_date  baseline_create_date   float64"
      ]
     },
     "execution_count": 23,
     "metadata": {},
     "output_type": "execute_result"
    }
   ],
   "source": [
    "check_dtype =['clear_date','posting_date','due_in_date','baseline_create_date']\n",
    "pd.DataFrame({'COLUMNS':list(check_dtype) ,'Data Type':data.dtypes[check_dtype]})"
   ]
  },
  {
   "cell_type": "markdown",
   "id": "040a7992",
   "metadata": {
    "id": "11cf9478",
    "papermill": {
     "duration": 0.06073,
     "end_time": "2023-02-20T19:19:18.325708",
     "exception": false,
     "start_time": "2023-02-20T19:19:18.264978",
     "status": "completed"
    },
    "tags": []
   },
   "source": [
    "### converting date columns into date time formats\n",
    "\n",
    "- clear_date  \n",
    "- posting_date\n",
    "- due_in_date \n",
    "- baseline_create_date\n",
    "\n",
    "\n",
    "- **Note - You have to convert all these above columns into \"%Y%m%d\" format**"
   ]
  },
  {
   "cell_type": "code",
   "execution_count": 24,
   "id": "6828d290",
   "metadata": {
    "execution": {
     "iopub.execute_input": "2023-02-20T19:19:18.449224Z",
     "iopub.status.busy": "2023-02-20T19:19:18.448125Z",
     "iopub.status.idle": "2023-02-20T19:19:18.566336Z",
     "shell.execute_reply": "2023-02-20T19:19:18.565047Z"
    },
    "id": "9a8c6c71",
    "papermill": {
     "duration": 0.183491,
     "end_time": "2023-02-20T19:19:18.569716",
     "exception": false,
     "start_time": "2023-02-20T19:19:18.386225",
     "status": "completed"
    },
    "tags": []
   },
   "outputs": [],
   "source": [
    "# Function to convert float columns to int and then to string for passing in datetime method\n",
    "def convert_to_string(data,cols):\n",
    "    for i in cols:\n",
    "        data[i] = data[i].astype(np.int64)\n",
    "        data[i] = data[i].astype(str)\n",
    "    return data\n",
    "\n",
    "#Calling the function on our dataframe\n",
    "data = convert_to_string(data,['baseline_create_date','due_in_date'])\n",
    "\n",
    "# Converting all the mentioned columns to datetime format\n",
    "date_cols = ['baseline_create_date','due_in_date','clear_date','posting_date']\n",
    "for x in date_cols:\n",
    "    data[x] = pd.to_datetime(data[x],format='%Y-%m-%d')"
   ]
  },
  {
   "cell_type": "markdown",
   "id": "70a91554",
   "metadata": {
    "id": "7adq0wSIYSCS",
    "papermill": {
     "duration": 0.063166,
     "end_time": "2023-02-20T19:19:18.694155",
     "exception": false,
     "start_time": "2023-02-20T19:19:18.630989",
     "status": "completed"
    },
    "tags": []
   },
   "source": [
    "### Please check the datatype of all the columns after conversion of the above 4 columns"
   ]
  },
  {
   "cell_type": "code",
   "execution_count": 25,
   "id": "cd79d493",
   "metadata": {
    "execution": {
     "iopub.execute_input": "2023-02-20T19:19:18.821721Z",
     "iopub.status.busy": "2023-02-20T19:19:18.820610Z",
     "iopub.status.idle": "2023-02-20T19:19:18.833745Z",
     "shell.execute_reply": "2023-02-20T19:19:18.832406Z"
    },
    "id": "fd028c61",
    "outputId": "2cf6668e-0dfe-41b2-f068-1fa0d8795476",
    "papermill": {
     "duration": 0.079066,
     "end_time": "2023-02-20T19:19:18.837213",
     "exception": false,
     "start_time": "2023-02-20T19:19:18.758147",
     "status": "completed"
    },
    "tags": []
   },
   "outputs": [
    {
     "data": {
      "text/html": [
       "<div>\n",
       "<style scoped>\n",
       "    .dataframe tbody tr th:only-of-type {\n",
       "        vertical-align: middle;\n",
       "    }\n",
       "\n",
       "    .dataframe tbody tr th {\n",
       "        vertical-align: top;\n",
       "    }\n",
       "\n",
       "    .dataframe thead th {\n",
       "        text-align: right;\n",
       "    }\n",
       "</style>\n",
       "<table border=\"1\" class=\"dataframe\">\n",
       "  <thead>\n",
       "    <tr style=\"text-align: right;\">\n",
       "      <th></th>\n",
       "      <th>COLUMNS</th>\n",
       "      <th>Data Type</th>\n",
       "    </tr>\n",
       "  </thead>\n",
       "  <tbody>\n",
       "    <tr>\n",
       "      <th>baseline_create_date</th>\n",
       "      <td>baseline_create_date</td>\n",
       "      <td>datetime64[ns]</td>\n",
       "    </tr>\n",
       "    <tr>\n",
       "      <th>due_in_date</th>\n",
       "      <td>due_in_date</td>\n",
       "      <td>datetime64[ns]</td>\n",
       "    </tr>\n",
       "    <tr>\n",
       "      <th>clear_date</th>\n",
       "      <td>clear_date</td>\n",
       "      <td>datetime64[ns]</td>\n",
       "    </tr>\n",
       "    <tr>\n",
       "      <th>posting_date</th>\n",
       "      <td>posting_date</td>\n",
       "      <td>datetime64[ns]</td>\n",
       "    </tr>\n",
       "  </tbody>\n",
       "</table>\n",
       "</div>"
      ],
      "text/plain": [
       "                                   COLUMNS       Data Type\n",
       "baseline_create_date  baseline_create_date  datetime64[ns]\n",
       "due_in_date                    due_in_date  datetime64[ns]\n",
       "clear_date                      clear_date  datetime64[ns]\n",
       "posting_date                  posting_date  datetime64[ns]"
      ]
     },
     "execution_count": 25,
     "metadata": {},
     "output_type": "execute_result"
    }
   ],
   "source": [
    "pd.DataFrame({'COLUMNS':list(date_cols) ,'Data Type':data.dtypes[date_cols]})"
   ]
  },
  {
   "cell_type": "markdown",
   "id": "1a9dc3bb",
   "metadata": {
    "id": "8c9882fa",
    "papermill": {
     "duration": 0.062813,
     "end_time": "2023-02-20T19:19:18.963497",
     "exception": false,
     "start_time": "2023-02-20T19:19:18.900684",
     "status": "completed"
    },
    "tags": []
   },
   "source": [
    "#### the invoice_currency column contains two different categories, USD and CAD\n",
    "\n",
    "- Please do a count of each currency "
   ]
  },
  {
   "cell_type": "code",
   "execution_count": 26,
   "id": "79817d3f",
   "metadata": {
    "execution": {
     "iopub.execute_input": "2023-02-20T19:19:19.090297Z",
     "iopub.status.busy": "2023-02-20T19:19:19.089655Z",
     "iopub.status.idle": "2023-02-20T19:19:19.101116Z",
     "shell.execute_reply": "2023-02-20T19:19:19.099781Z"
    },
    "id": "72085397",
    "outputId": "08d82976-3dbe-4477-87f8-9980e1a50c84",
    "papermill": {
     "duration": 0.078261,
     "end_time": "2023-02-20T19:19:19.103793",
     "exception": false,
     "start_time": "2023-02-20T19:19:19.025532",
     "status": "completed"
    },
    "tags": []
   },
   "outputs": [
    {
     "data": {
      "text/plain": [
       "USD    45011\n",
       "CAD     3828\n",
       "Name: invoice_currency, dtype: int64"
      ]
     },
     "execution_count": 26,
     "metadata": {},
     "output_type": "execute_result"
    }
   ],
   "source": [
    "data['invoice_currency'].value_counts()"
   ]
  },
  {
   "cell_type": "markdown",
   "id": "1ae060ad",
   "metadata": {
    "id": "6cbe26ee",
    "papermill": {
     "duration": 0.061682,
     "end_time": "2023-02-20T19:19:19.227919",
     "exception": false,
     "start_time": "2023-02-20T19:19:19.166237",
     "status": "completed"
    },
    "tags": []
   },
   "source": [
    "#### display the \"total_open_amount\" column value"
   ]
  },
  {
   "cell_type": "code",
   "execution_count": 27,
   "id": "dd8db73e",
   "metadata": {
    "execution": {
     "iopub.execute_input": "2023-02-20T19:19:19.356095Z",
     "iopub.status.busy": "2023-02-20T19:19:19.355062Z",
     "iopub.status.idle": "2023-02-20T19:19:19.369337Z",
     "shell.execute_reply": "2023-02-20T19:19:19.368184Z"
    },
    "id": "6c49f2ab",
    "outputId": "98c06b81-a768-4da8-8ac5-ecccfd9fa97f",
    "papermill": {
     "duration": 0.080029,
     "end_time": "2023-02-20T19:19:19.371892",
     "exception": false,
     "start_time": "2023-02-20T19:19:19.291863",
     "status": "completed"
    },
    "tags": []
   },
   "outputs": [
    {
     "data": {
      "text/html": [
       "<div>\n",
       "<style scoped>\n",
       "    .dataframe tbody tr th:only-of-type {\n",
       "        vertical-align: middle;\n",
       "    }\n",
       "\n",
       "    .dataframe tbody tr th {\n",
       "        vertical-align: top;\n",
       "    }\n",
       "\n",
       "    .dataframe thead th {\n",
       "        text-align: right;\n",
       "    }\n",
       "</style>\n",
       "<table border=\"1\" class=\"dataframe\">\n",
       "  <thead>\n",
       "    <tr style=\"text-align: right;\">\n",
       "      <th></th>\n",
       "      <th>total_open_amount</th>\n",
       "    </tr>\n",
       "  </thead>\n",
       "  <tbody>\n",
       "    <tr>\n",
       "      <th>0</th>\n",
       "      <td>54273.28</td>\n",
       "    </tr>\n",
       "    <tr>\n",
       "      <th>1</th>\n",
       "      <td>79656.60</td>\n",
       "    </tr>\n",
       "    <tr>\n",
       "      <th>2</th>\n",
       "      <td>2253.86</td>\n",
       "    </tr>\n",
       "    <tr>\n",
       "      <th>3</th>\n",
       "      <td>3299.70</td>\n",
       "    </tr>\n",
       "    <tr>\n",
       "      <th>4</th>\n",
       "      <td>33133.29</td>\n",
       "    </tr>\n",
       "    <tr>\n",
       "      <th>...</th>\n",
       "      <td>...</td>\n",
       "    </tr>\n",
       "    <tr>\n",
       "      <th>49995</th>\n",
       "      <td>3187.86</td>\n",
       "    </tr>\n",
       "    <tr>\n",
       "      <th>49996</th>\n",
       "      <td>6766.54</td>\n",
       "    </tr>\n",
       "    <tr>\n",
       "      <th>49997</th>\n",
       "      <td>6120.86</td>\n",
       "    </tr>\n",
       "    <tr>\n",
       "      <th>49998</th>\n",
       "      <td>63.48</td>\n",
       "    </tr>\n",
       "    <tr>\n",
       "      <th>49999</th>\n",
       "      <td>1790.30</td>\n",
       "    </tr>\n",
       "  </tbody>\n",
       "</table>\n",
       "<p>48839 rows × 1 columns</p>\n",
       "</div>"
      ],
      "text/plain": [
       "       total_open_amount\n",
       "0               54273.28\n",
       "1               79656.60\n",
       "2                2253.86\n",
       "3                3299.70\n",
       "4               33133.29\n",
       "...                  ...\n",
       "49995            3187.86\n",
       "49996            6766.54\n",
       "49997            6120.86\n",
       "49998              63.48\n",
       "49999            1790.30\n",
       "\n",
       "[48839 rows x 1 columns]"
      ]
     },
     "execution_count": 27,
     "metadata": {},
     "output_type": "execute_result"
    }
   ],
   "source": [
    "pd.DataFrame(data['total_open_amount'])"
   ]
  },
  {
   "cell_type": "markdown",
   "id": "91e43ca4",
   "metadata": {
    "id": "df899966",
    "papermill": {
     "duration": 0.060592,
     "end_time": "2023-02-20T19:19:19.495495",
     "exception": false,
     "start_time": "2023-02-20T19:19:19.434903",
     "status": "completed"
    },
    "tags": []
   },
   "source": [
    "### Convert all CAD into USD currency of \"total_open_amount\" column\n",
    "\n",
    "- 1 CAD = 0.7 USD\n",
    "- Create a new column i.e \"converted_usd\" and store USD and convered CAD to USD"
   ]
  },
  {
   "cell_type": "code",
   "execution_count": 28,
   "id": "742d911d",
   "metadata": {
    "execution": {
     "iopub.execute_input": "2023-02-20T19:19:19.620958Z",
     "iopub.status.busy": "2023-02-20T19:19:19.620547Z",
     "iopub.status.idle": "2023-02-20T19:19:19.630762Z",
     "shell.execute_reply": "2023-02-20T19:19:19.629785Z"
    },
    "id": "8eb2f1c5",
    "papermill": {
     "duration": 0.075362,
     "end_time": "2023-02-20T19:19:19.633066",
     "exception": false,
     "start_time": "2023-02-20T19:19:19.557704",
     "status": "completed"
    },
    "tags": []
   },
   "outputs": [],
   "source": [
    "data['converted_usd'] = np.where((data['invoice_currency']=='CAD'),data['total_open_amount']*0.7,data['total_open_amount'])"
   ]
  },
  {
   "cell_type": "code",
   "execution_count": 29,
   "id": "fd3c4873",
   "metadata": {
    "execution": {
     "iopub.execute_input": "2023-02-20T19:19:19.758692Z",
     "iopub.status.busy": "2023-02-20T19:19:19.758040Z",
     "iopub.status.idle": "2023-02-20T19:19:19.778186Z",
     "shell.execute_reply": "2023-02-20T19:19:19.777078Z"
    },
    "id": "7E8nI_5V0R9d",
    "outputId": "27949ec0-cb92-44a0-ee0d-cb110afd0db0",
    "papermill": {
     "duration": 0.084836,
     "end_time": "2023-02-20T19:19:19.780569",
     "exception": false,
     "start_time": "2023-02-20T19:19:19.695733",
     "status": "completed"
    },
    "tags": []
   },
   "outputs": [
    {
     "data": {
      "text/html": [
       "<div>\n",
       "<style scoped>\n",
       "    .dataframe tbody tr th:only-of-type {\n",
       "        vertical-align: middle;\n",
       "    }\n",
       "\n",
       "    .dataframe tbody tr th {\n",
       "        vertical-align: top;\n",
       "    }\n",
       "\n",
       "    .dataframe thead th {\n",
       "        text-align: right;\n",
       "    }\n",
       "</style>\n",
       "<table border=\"1\" class=\"dataframe\">\n",
       "  <thead>\n",
       "    <tr style=\"text-align: right;\">\n",
       "      <th></th>\n",
       "      <th>business_code</th>\n",
       "      <th>cust_number</th>\n",
       "      <th>name_customer</th>\n",
       "      <th>clear_date</th>\n",
       "      <th>buisness_year</th>\n",
       "      <th>doc_id</th>\n",
       "      <th>posting_date</th>\n",
       "      <th>due_in_date</th>\n",
       "      <th>invoice_currency</th>\n",
       "      <th>total_open_amount</th>\n",
       "      <th>baseline_create_date</th>\n",
       "      <th>cust_payment_terms</th>\n",
       "      <th>converted_usd</th>\n",
       "    </tr>\n",
       "  </thead>\n",
       "  <tbody>\n",
       "    <tr>\n",
       "      <th>0</th>\n",
       "      <td>U001</td>\n",
       "      <td>0200769623</td>\n",
       "      <td>WAL-MAR corp</td>\n",
       "      <td>2020-02-11</td>\n",
       "      <td>2020.0</td>\n",
       "      <td>1.930438e+09</td>\n",
       "      <td>2020-01-26</td>\n",
       "      <td>2020-02-10</td>\n",
       "      <td>USD</td>\n",
       "      <td>54273.28</td>\n",
       "      <td>2020-01-26</td>\n",
       "      <td>NAH4</td>\n",
       "      <td>54273.28</td>\n",
       "    </tr>\n",
       "    <tr>\n",
       "      <th>1</th>\n",
       "      <td>U001</td>\n",
       "      <td>0200980828</td>\n",
       "      <td>BEN E</td>\n",
       "      <td>2019-08-08</td>\n",
       "      <td>2019.0</td>\n",
       "      <td>1.929646e+09</td>\n",
       "      <td>2019-07-22</td>\n",
       "      <td>2019-08-11</td>\n",
       "      <td>USD</td>\n",
       "      <td>79656.60</td>\n",
       "      <td>2019-07-22</td>\n",
       "      <td>NAD1</td>\n",
       "      <td>79656.60</td>\n",
       "    </tr>\n",
       "    <tr>\n",
       "      <th>2</th>\n",
       "      <td>U001</td>\n",
       "      <td>0200792734</td>\n",
       "      <td>MDV/ trust</td>\n",
       "      <td>2019-12-30</td>\n",
       "      <td>2019.0</td>\n",
       "      <td>1.929874e+09</td>\n",
       "      <td>2019-09-14</td>\n",
       "      <td>2019-09-29</td>\n",
       "      <td>USD</td>\n",
       "      <td>2253.86</td>\n",
       "      <td>2019-09-14</td>\n",
       "      <td>NAA8</td>\n",
       "      <td>2253.86</td>\n",
       "    </tr>\n",
       "    <tr>\n",
       "      <th>3</th>\n",
       "      <td>CA02</td>\n",
       "      <td>0140105686</td>\n",
       "      <td>SYSC llc</td>\n",
       "      <td>NaT</td>\n",
       "      <td>2020.0</td>\n",
       "      <td>2.960623e+09</td>\n",
       "      <td>2020-03-30</td>\n",
       "      <td>2020-04-10</td>\n",
       "      <td>CAD</td>\n",
       "      <td>3299.70</td>\n",
       "      <td>2020-03-31</td>\n",
       "      <td>CA10</td>\n",
       "      <td>2309.79</td>\n",
       "    </tr>\n",
       "    <tr>\n",
       "      <th>4</th>\n",
       "      <td>U001</td>\n",
       "      <td>0200769623</td>\n",
       "      <td>WAL-MAR foundation</td>\n",
       "      <td>2019-11-25</td>\n",
       "      <td>2019.0</td>\n",
       "      <td>1.930148e+09</td>\n",
       "      <td>2019-11-13</td>\n",
       "      <td>2019-11-28</td>\n",
       "      <td>USD</td>\n",
       "      <td>33133.29</td>\n",
       "      <td>2019-11-13</td>\n",
       "      <td>NAH4</td>\n",
       "      <td>33133.29</td>\n",
       "    </tr>\n",
       "  </tbody>\n",
       "</table>\n",
       "</div>"
      ],
      "text/plain": [
       "  business_code cust_number       name_customer clear_date  buisness_year  \\\n",
       "0          U001  0200769623        WAL-MAR corp 2020-02-11         2020.0   \n",
       "1          U001  0200980828              BEN E  2019-08-08         2019.0   \n",
       "2          U001  0200792734          MDV/ trust 2019-12-30         2019.0   \n",
       "3          CA02  0140105686            SYSC llc        NaT         2020.0   \n",
       "4          U001  0200769623  WAL-MAR foundation 2019-11-25         2019.0   \n",
       "\n",
       "         doc_id posting_date due_in_date invoice_currency  total_open_amount  \\\n",
       "0  1.930438e+09   2020-01-26  2020-02-10              USD           54273.28   \n",
       "1  1.929646e+09   2019-07-22  2019-08-11              USD           79656.60   \n",
       "2  1.929874e+09   2019-09-14  2019-09-29              USD            2253.86   \n",
       "3  2.960623e+09   2020-03-30  2020-04-10              CAD            3299.70   \n",
       "4  1.930148e+09   2019-11-13  2019-11-28              USD           33133.29   \n",
       "\n",
       "  baseline_create_date cust_payment_terms  converted_usd  \n",
       "0           2020-01-26               NAH4       54273.28  \n",
       "1           2019-07-22               NAD1       79656.60  \n",
       "2           2019-09-14               NAA8        2253.86  \n",
       "3           2020-03-31               CA10        2309.79  \n",
       "4           2019-11-13               NAH4       33133.29  "
      ]
     },
     "execution_count": 29,
     "metadata": {},
     "output_type": "execute_result"
    }
   ],
   "source": [
    "data.head()"
   ]
  },
  {
   "cell_type": "markdown",
   "id": "a0567c32",
   "metadata": {
    "id": "f9f6ef1d",
    "papermill": {
     "duration": 0.060567,
     "end_time": "2023-02-20T19:19:19.902269",
     "exception": false,
     "start_time": "2023-02-20T19:19:19.841702",
     "status": "completed"
    },
    "tags": []
   },
   "source": [
    "### Display the new \"converted_usd\" column values"
   ]
  },
  {
   "cell_type": "code",
   "execution_count": 30,
   "id": "54f4c993",
   "metadata": {
    "execution": {
     "iopub.execute_input": "2023-02-20T19:19:20.029275Z",
     "iopub.status.busy": "2023-02-20T19:19:20.028815Z",
     "iopub.status.idle": "2023-02-20T19:19:20.042551Z",
     "shell.execute_reply": "2023-02-20T19:19:20.041371Z"
    },
    "id": "1fc1a178",
    "outputId": "ae91975d-01b6-47c6-ac5e-f040c0836733",
    "papermill": {
     "duration": 0.080681,
     "end_time": "2023-02-20T19:19:20.045472",
     "exception": false,
     "start_time": "2023-02-20T19:19:19.964791",
     "status": "completed"
    },
    "tags": []
   },
   "outputs": [
    {
     "data": {
      "text/html": [
       "<div>\n",
       "<style scoped>\n",
       "    .dataframe tbody tr th:only-of-type {\n",
       "        vertical-align: middle;\n",
       "    }\n",
       "\n",
       "    .dataframe tbody tr th {\n",
       "        vertical-align: top;\n",
       "    }\n",
       "\n",
       "    .dataframe thead th {\n",
       "        text-align: right;\n",
       "    }\n",
       "</style>\n",
       "<table border=\"1\" class=\"dataframe\">\n",
       "  <thead>\n",
       "    <tr style=\"text-align: right;\">\n",
       "      <th></th>\n",
       "      <th>converted_usd</th>\n",
       "    </tr>\n",
       "  </thead>\n",
       "  <tbody>\n",
       "    <tr>\n",
       "      <th>0</th>\n",
       "      <td>54273.28</td>\n",
       "    </tr>\n",
       "    <tr>\n",
       "      <th>1</th>\n",
       "      <td>79656.60</td>\n",
       "    </tr>\n",
       "    <tr>\n",
       "      <th>2</th>\n",
       "      <td>2253.86</td>\n",
       "    </tr>\n",
       "    <tr>\n",
       "      <th>3</th>\n",
       "      <td>2309.79</td>\n",
       "    </tr>\n",
       "    <tr>\n",
       "      <th>4</th>\n",
       "      <td>33133.29</td>\n",
       "    </tr>\n",
       "    <tr>\n",
       "      <th>...</th>\n",
       "      <td>...</td>\n",
       "    </tr>\n",
       "    <tr>\n",
       "      <th>49995</th>\n",
       "      <td>3187.86</td>\n",
       "    </tr>\n",
       "    <tr>\n",
       "      <th>49996</th>\n",
       "      <td>6766.54</td>\n",
       "    </tr>\n",
       "    <tr>\n",
       "      <th>49997</th>\n",
       "      <td>6120.86</td>\n",
       "    </tr>\n",
       "    <tr>\n",
       "      <th>49998</th>\n",
       "      <td>63.48</td>\n",
       "    </tr>\n",
       "    <tr>\n",
       "      <th>49999</th>\n",
       "      <td>1790.30</td>\n",
       "    </tr>\n",
       "  </tbody>\n",
       "</table>\n",
       "<p>48839 rows × 1 columns</p>\n",
       "</div>"
      ],
      "text/plain": [
       "       converted_usd\n",
       "0           54273.28\n",
       "1           79656.60\n",
       "2            2253.86\n",
       "3            2309.79\n",
       "4           33133.29\n",
       "...              ...\n",
       "49995        3187.86\n",
       "49996        6766.54\n",
       "49997        6120.86\n",
       "49998          63.48\n",
       "49999        1790.30\n",
       "\n",
       "[48839 rows x 1 columns]"
      ]
     },
     "execution_count": 30,
     "metadata": {},
     "output_type": "execute_result"
    }
   ],
   "source": [
    "pd.DataFrame(data['converted_usd'])"
   ]
  },
  {
   "cell_type": "markdown",
   "id": "523fe284",
   "metadata": {
    "id": "6XLXX17kayuy",
    "papermill": {
     "duration": 0.060945,
     "end_time": "2023-02-20T19:19:20.168047",
     "exception": false,
     "start_time": "2023-02-20T19:19:20.107102",
     "status": "completed"
    },
    "tags": []
   },
   "source": [
    "### Display year wise total number of record \n",
    "\n",
    "- Note -  use \"buisness_year\" column for this "
   ]
  },
  {
   "cell_type": "code",
   "execution_count": 31,
   "id": "cf88aa5d",
   "metadata": {
    "execution": {
     "iopub.execute_input": "2023-02-20T19:19:20.299651Z",
     "iopub.status.busy": "2023-02-20T19:19:20.298482Z",
     "iopub.status.idle": "2023-02-20T19:19:20.310578Z",
     "shell.execute_reply": "2023-02-20T19:19:20.309750Z"
    },
    "id": "00c9f6ee",
    "outputId": "ac935964-ce10-4eb1-d3ef-706232ca36d7",
    "papermill": {
     "duration": 0.08285,
     "end_time": "2023-02-20T19:19:20.312795",
     "exception": false,
     "start_time": "2023-02-20T19:19:20.229945",
     "status": "completed"
    },
    "tags": []
   },
   "outputs": [
    {
     "data": {
      "text/plain": [
       "2019.0    33975\n",
       "2020.0    14864\n",
       "Name: buisness_year, dtype: int64"
      ]
     },
     "execution_count": 31,
     "metadata": {},
     "output_type": "execute_result"
    }
   ],
   "source": [
    "data['buisness_year'].value_counts()"
   ]
  },
  {
   "cell_type": "markdown",
   "id": "19662741",
   "metadata": {
    "id": "05c35904",
    "papermill": {
     "duration": 0.077528,
     "end_time": "2023-02-20T19:19:20.458950",
     "exception": false,
     "start_time": "2023-02-20T19:19:20.381422",
     "status": "completed"
    },
    "tags": []
   },
   "source": [
    "### Write the code to delete the following columns \n",
    "\n",
    "- 'invoice_currency'\n",
    "- 'total_open_amount', "
   ]
  },
  {
   "cell_type": "code",
   "execution_count": 32,
   "id": "610c4ba1",
   "metadata": {
    "execution": {
     "iopub.execute_input": "2023-02-20T19:19:20.587228Z",
     "iopub.status.busy": "2023-02-20T19:19:20.586833Z",
     "iopub.status.idle": "2023-02-20T19:19:20.613247Z",
     "shell.execute_reply": "2023-02-20T19:19:20.611951Z"
    },
    "id": "4ac28aa5",
    "outputId": "1ebbd6f7-918d-4a9a-d994-c7e3d444beef",
    "papermill": {
     "duration": 0.093294,
     "end_time": "2023-02-20T19:19:20.616044",
     "exception": false,
     "start_time": "2023-02-20T19:19:20.522750",
     "status": "completed"
    },
    "tags": []
   },
   "outputs": [
    {
     "data": {
      "text/html": [
       "<div>\n",
       "<style scoped>\n",
       "    .dataframe tbody tr th:only-of-type {\n",
       "        vertical-align: middle;\n",
       "    }\n",
       "\n",
       "    .dataframe tbody tr th {\n",
       "        vertical-align: top;\n",
       "    }\n",
       "\n",
       "    .dataframe thead th {\n",
       "        text-align: right;\n",
       "    }\n",
       "</style>\n",
       "<table border=\"1\" class=\"dataframe\">\n",
       "  <thead>\n",
       "    <tr style=\"text-align: right;\">\n",
       "      <th></th>\n",
       "      <th>business_code</th>\n",
       "      <th>cust_number</th>\n",
       "      <th>name_customer</th>\n",
       "      <th>clear_date</th>\n",
       "      <th>buisness_year</th>\n",
       "      <th>doc_id</th>\n",
       "      <th>posting_date</th>\n",
       "      <th>due_in_date</th>\n",
       "      <th>baseline_create_date</th>\n",
       "      <th>cust_payment_terms</th>\n",
       "      <th>converted_usd</th>\n",
       "    </tr>\n",
       "  </thead>\n",
       "  <tbody>\n",
       "    <tr>\n",
       "      <th>0</th>\n",
       "      <td>U001</td>\n",
       "      <td>0200769623</td>\n",
       "      <td>WAL-MAR corp</td>\n",
       "      <td>2020-02-11</td>\n",
       "      <td>2020.0</td>\n",
       "      <td>1.930438e+09</td>\n",
       "      <td>2020-01-26</td>\n",
       "      <td>2020-02-10</td>\n",
       "      <td>2020-01-26</td>\n",
       "      <td>NAH4</td>\n",
       "      <td>54273.28</td>\n",
       "    </tr>\n",
       "    <tr>\n",
       "      <th>1</th>\n",
       "      <td>U001</td>\n",
       "      <td>0200980828</td>\n",
       "      <td>BEN E</td>\n",
       "      <td>2019-08-08</td>\n",
       "      <td>2019.0</td>\n",
       "      <td>1.929646e+09</td>\n",
       "      <td>2019-07-22</td>\n",
       "      <td>2019-08-11</td>\n",
       "      <td>2019-07-22</td>\n",
       "      <td>NAD1</td>\n",
       "      <td>79656.60</td>\n",
       "    </tr>\n",
       "    <tr>\n",
       "      <th>2</th>\n",
       "      <td>U001</td>\n",
       "      <td>0200792734</td>\n",
       "      <td>MDV/ trust</td>\n",
       "      <td>2019-12-30</td>\n",
       "      <td>2019.0</td>\n",
       "      <td>1.929874e+09</td>\n",
       "      <td>2019-09-14</td>\n",
       "      <td>2019-09-29</td>\n",
       "      <td>2019-09-14</td>\n",
       "      <td>NAA8</td>\n",
       "      <td>2253.86</td>\n",
       "    </tr>\n",
       "    <tr>\n",
       "      <th>3</th>\n",
       "      <td>CA02</td>\n",
       "      <td>0140105686</td>\n",
       "      <td>SYSC llc</td>\n",
       "      <td>NaT</td>\n",
       "      <td>2020.0</td>\n",
       "      <td>2.960623e+09</td>\n",
       "      <td>2020-03-30</td>\n",
       "      <td>2020-04-10</td>\n",
       "      <td>2020-03-31</td>\n",
       "      <td>CA10</td>\n",
       "      <td>2309.79</td>\n",
       "    </tr>\n",
       "    <tr>\n",
       "      <th>4</th>\n",
       "      <td>U001</td>\n",
       "      <td>0200769623</td>\n",
       "      <td>WAL-MAR foundation</td>\n",
       "      <td>2019-11-25</td>\n",
       "      <td>2019.0</td>\n",
       "      <td>1.930148e+09</td>\n",
       "      <td>2019-11-13</td>\n",
       "      <td>2019-11-28</td>\n",
       "      <td>2019-11-13</td>\n",
       "      <td>NAH4</td>\n",
       "      <td>33133.29</td>\n",
       "    </tr>\n",
       "  </tbody>\n",
       "</table>\n",
       "</div>"
      ],
      "text/plain": [
       "  business_code cust_number       name_customer clear_date  buisness_year  \\\n",
       "0          U001  0200769623        WAL-MAR corp 2020-02-11         2020.0   \n",
       "1          U001  0200980828              BEN E  2019-08-08         2019.0   \n",
       "2          U001  0200792734          MDV/ trust 2019-12-30         2019.0   \n",
       "3          CA02  0140105686            SYSC llc        NaT         2020.0   \n",
       "4          U001  0200769623  WAL-MAR foundation 2019-11-25         2019.0   \n",
       "\n",
       "         doc_id posting_date due_in_date baseline_create_date  \\\n",
       "0  1.930438e+09   2020-01-26  2020-02-10           2020-01-26   \n",
       "1  1.929646e+09   2019-07-22  2019-08-11           2019-07-22   \n",
       "2  1.929874e+09   2019-09-14  2019-09-29           2019-09-14   \n",
       "3  2.960623e+09   2020-03-30  2020-04-10           2020-03-31   \n",
       "4  1.930148e+09   2019-11-13  2019-11-28           2019-11-13   \n",
       "\n",
       "  cust_payment_terms  converted_usd  \n",
       "0               NAH4       54273.28  \n",
       "1               NAD1       79656.60  \n",
       "2               NAA8        2253.86  \n",
       "3               CA10        2309.79  \n",
       "4               NAH4       33133.29  "
      ]
     },
     "execution_count": 32,
     "metadata": {},
     "output_type": "execute_result"
    }
   ],
   "source": [
    "del_cols = ['invoice_currency','total_open_amount']\n",
    "data=data.drop(columns=del_cols)\n",
    "data.head()"
   ]
  },
  {
   "cell_type": "markdown",
   "id": "61746252",
   "metadata": {
    "id": "bDBJ_Kvwc086",
    "papermill": {
     "duration": 0.062825,
     "end_time": "2023-02-20T19:19:20.741997",
     "exception": false,
     "start_time": "2023-02-20T19:19:20.679172",
     "status": "completed"
    },
    "tags": []
   },
   "source": [
    "### Write a code to check the number of columns in dataframe"
   ]
  },
  {
   "cell_type": "code",
   "execution_count": 33,
   "id": "018bf86d",
   "metadata": {
    "execution": {
     "iopub.execute_input": "2023-02-20T19:19:20.866530Z",
     "iopub.status.busy": "2023-02-20T19:19:20.866033Z",
     "iopub.status.idle": "2023-02-20T19:19:20.871895Z",
     "shell.execute_reply": "2023-02-20T19:19:20.871052Z"
    },
    "id": "ea360a8c",
    "outputId": "de08c3dc-975e-450b-8887-2d1d3975e931",
    "papermill": {
     "duration": 0.073063,
     "end_time": "2023-02-20T19:19:20.876087",
     "exception": false,
     "start_time": "2023-02-20T19:19:20.803024",
     "status": "completed"
    },
    "tags": []
   },
   "outputs": [
    {
     "name": "stdout",
     "output_type": "stream",
     "text": [
      "Number of remaining columns in the data:  11 \n",
      "\n",
      "Index(['business_code', 'cust_number', 'name_customer', 'clear_date',\n",
      "       'buisness_year', 'doc_id', 'posting_date', 'due_in_date',\n",
      "       'baseline_create_date', 'cust_payment_terms', 'converted_usd'],\n",
      "      dtype='object')\n"
     ]
    }
   ],
   "source": [
    "print(\"Number of remaining columns in the data: \",data.shape[1],\"\\n\")\n",
    "print(data.columns)"
   ]
  },
  {
   "cell_type": "markdown",
   "id": "5a9f54ba",
   "metadata": {
    "id": "b8f63655",
    "papermill": {
     "duration": 0.060788,
     "end_time": "2023-02-20T19:19:21.001435",
     "exception": false,
     "start_time": "2023-02-20T19:19:20.940647",
     "status": "completed"
    },
    "tags": []
   },
   "source": [
    "# Splitting the Dataset "
   ]
  },
  {
   "cell_type": "markdown",
   "id": "89baa055",
   "metadata": {
    "id": "a00f749d",
    "papermill": {
     "duration": 0.061233,
     "end_time": "2023-02-20T19:19:21.126072",
     "exception": false,
     "start_time": "2023-02-20T19:19:21.064839",
     "status": "completed"
    },
    "tags": []
   },
   "source": [
    "### Look for all columns containing null value\n",
    "\n",
    "- Note - Output expected is only one column "
   ]
  },
  {
   "cell_type": "code",
   "execution_count": 34,
   "id": "8b5abe49",
   "metadata": {
    "execution": {
     "iopub.execute_input": "2023-02-20T19:19:21.250606Z",
     "iopub.status.busy": "2023-02-20T19:19:21.249851Z",
     "iopub.status.idle": "2023-02-20T19:19:21.266841Z",
     "shell.execute_reply": "2023-02-20T19:19:21.266021Z"
    },
    "id": "wz5yv5LrKnNZ",
    "outputId": "c65953ce-bad1-4445-8518-f70446500d2c",
    "papermill": {
     "duration": 0.08196,
     "end_time": "2023-02-20T19:19:21.269299",
     "exception": false,
     "start_time": "2023-02-20T19:19:21.187339",
     "status": "completed"
    },
    "tags": []
   },
   "outputs": [
    {
     "data": {
      "text/plain": [
       "['clear_date']"
      ]
     },
     "execution_count": 34,
     "metadata": {},
     "output_type": "execute_result"
    }
   ],
   "source": [
    "data.columns[data.isna().any()].to_list()"
   ]
  },
  {
   "cell_type": "markdown",
   "id": "606678a8",
   "metadata": {
    "id": "a094a290",
    "papermill": {
     "duration": 0.063101,
     "end_time": "2023-02-20T19:19:21.394417",
     "exception": false,
     "start_time": "2023-02-20T19:19:21.331316",
     "status": "completed"
    },
    "tags": []
   },
   "source": [
    "#### Find out the number of null values from the column that you got from the above code"
   ]
  },
  {
   "cell_type": "code",
   "execution_count": 35,
   "id": "8fad8454",
   "metadata": {
    "execution": {
     "iopub.execute_input": "2023-02-20T19:19:21.520676Z",
     "iopub.status.busy": "2023-02-20T19:19:21.520234Z",
     "iopub.status.idle": "2023-02-20T19:19:21.529056Z",
     "shell.execute_reply": "2023-02-20T19:19:21.527986Z"
    },
    "id": "30bfb113",
    "outputId": "68698652-13d0-4699-9772-e181193f2fd2",
    "papermill": {
     "duration": 0.074583,
     "end_time": "2023-02-20T19:19:21.531276",
     "exception": false,
     "start_time": "2023-02-20T19:19:21.456693",
     "status": "completed"
    },
    "tags": []
   },
   "outputs": [
    {
     "data": {
      "text/plain": [
       "9681"
      ]
     },
     "execution_count": 35,
     "metadata": {},
     "output_type": "execute_result"
    }
   ],
   "source": [
    "data['clear_date'].isna().sum()"
   ]
  },
  {
   "cell_type": "markdown",
   "id": "9423144d",
   "metadata": {
    "id": "7f6d939b",
    "papermill": {
     "duration": 0.062718,
     "end_time": "2023-02-20T19:19:21.655892",
     "exception": false,
     "start_time": "2023-02-20T19:19:21.593174",
     "status": "completed"
    },
    "tags": []
   },
   "source": [
    "### On basis of the above column we are spliting data into dataset\n",
    "\n",
    "- First dataframe (refer that as maindata) only containing the rows, that have NULL data in that column ( This is going to be our train dataset ) \n",
    "- Second dataframe (refer that as nulldata) that contains the columns, that have Not Null data in that column ( This is going to be our test dataset ) "
   ]
  },
  {
   "cell_type": "code",
   "execution_count": 36,
   "id": "46f3e6f2",
   "metadata": {
    "execution": {
     "iopub.execute_input": "2023-02-20T19:19:21.784499Z",
     "iopub.status.busy": "2023-02-20T19:19:21.783334Z",
     "iopub.status.idle": "2023-02-20T19:19:21.801184Z",
     "shell.execute_reply": "2023-02-20T19:19:21.800300Z"
    },
    "id": "c8764c33",
    "papermill": {
     "duration": 0.084944,
     "end_time": "2023-02-20T19:19:21.803912",
     "exception": false,
     "start_time": "2023-02-20T19:19:21.718968",
     "status": "completed"
    },
    "tags": []
   },
   "outputs": [],
   "source": [
    "maindata = data.loc[~data['clear_date'].isnull()]\n",
    "maindata = maindata.reset_index(drop=True)\n",
    "nulldata = data.loc[data['clear_date'].isnull()]"
   ]
  },
  {
   "cell_type": "markdown",
   "id": "6279661c",
   "metadata": {
    "id": "3P8riRBHd_r6",
    "papermill": {
     "duration": 0.061956,
     "end_time": "2023-02-20T19:19:21.928747",
     "exception": false,
     "start_time": "2023-02-20T19:19:21.866791",
     "status": "completed"
    },
    "tags": []
   },
   "source": [
    "### Check the number of Rows and Columns for both the dataframes "
   ]
  },
  {
   "cell_type": "code",
   "execution_count": 37,
   "id": "0acc0bdd",
   "metadata": {
    "execution": {
     "iopub.execute_input": "2023-02-20T19:19:22.056884Z",
     "iopub.status.busy": "2023-02-20T19:19:22.056076Z",
     "iopub.status.idle": "2023-02-20T19:19:22.062237Z",
     "shell.execute_reply": "2023-02-20T19:19:22.061449Z"
    },
    "id": "0693a464",
    "outputId": "d51b63ac-c72d-4cf6-cdf7-89e1728328ec",
    "papermill": {
     "duration": 0.072727,
     "end_time": "2023-02-20T19:19:22.064278",
     "exception": false,
     "start_time": "2023-02-20T19:19:21.991551",
     "status": "completed"
    },
    "tags": []
   },
   "outputs": [
    {
     "data": {
      "text/plain": [
       "(39158, 11)"
      ]
     },
     "execution_count": 37,
     "metadata": {},
     "output_type": "execute_result"
    }
   ],
   "source": [
    "maindata.shape"
   ]
  },
  {
   "cell_type": "code",
   "execution_count": 38,
   "id": "d95a49c3",
   "metadata": {
    "execution": {
     "iopub.execute_input": "2023-02-20T19:19:22.190586Z",
     "iopub.status.busy": "2023-02-20T19:19:22.189847Z",
     "iopub.status.idle": "2023-02-20T19:19:22.196274Z",
     "shell.execute_reply": "2023-02-20T19:19:22.195191Z"
    },
    "id": "7f86bc74",
    "outputId": "ff84be91-1aff-427b-92a6-fda095d40153",
    "papermill": {
     "duration": 0.072285,
     "end_time": "2023-02-20T19:19:22.198561",
     "exception": false,
     "start_time": "2023-02-20T19:19:22.126276",
     "status": "completed"
    },
    "tags": []
   },
   "outputs": [
    {
     "data": {
      "text/plain": [
       "(9681, 11)"
      ]
     },
     "execution_count": 38,
     "metadata": {},
     "output_type": "execute_result"
    }
   ],
   "source": [
    "nulldata.shape"
   ]
  },
  {
   "cell_type": "markdown",
   "id": "9b69d9db",
   "metadata": {
    "id": "0747165d",
    "papermill": {
     "duration": 0.062073,
     "end_time": "2023-02-20T19:19:22.322390",
     "exception": false,
     "start_time": "2023-02-20T19:19:22.260317",
     "status": "completed"
    },
    "tags": []
   },
   "source": [
    "### Display the 5 records from maindata and nulldata dataframes"
   ]
  },
  {
   "cell_type": "code",
   "execution_count": 39,
   "id": "603616a8",
   "metadata": {
    "execution": {
     "iopub.execute_input": "2023-02-20T19:19:22.453605Z",
     "iopub.status.busy": "2023-02-20T19:19:22.452609Z",
     "iopub.status.idle": "2023-02-20T19:19:22.479498Z",
     "shell.execute_reply": "2023-02-20T19:19:22.478594Z"
    },
    "id": "dec2ec36",
    "outputId": "8100bd99-d159-41d8-abea-07ba91a81701",
    "papermill": {
     "duration": 0.095096,
     "end_time": "2023-02-20T19:19:22.482393",
     "exception": false,
     "start_time": "2023-02-20T19:19:22.387297",
     "status": "completed"
    },
    "tags": []
   },
   "outputs": [
    {
     "data": {
      "text/html": [
       "<div>\n",
       "<style scoped>\n",
       "    .dataframe tbody tr th:only-of-type {\n",
       "        vertical-align: middle;\n",
       "    }\n",
       "\n",
       "    .dataframe tbody tr th {\n",
       "        vertical-align: top;\n",
       "    }\n",
       "\n",
       "    .dataframe thead th {\n",
       "        text-align: right;\n",
       "    }\n",
       "</style>\n",
       "<table border=\"1\" class=\"dataframe\">\n",
       "  <thead>\n",
       "    <tr style=\"text-align: right;\">\n",
       "      <th></th>\n",
       "      <th>business_code</th>\n",
       "      <th>cust_number</th>\n",
       "      <th>name_customer</th>\n",
       "      <th>clear_date</th>\n",
       "      <th>buisness_year</th>\n",
       "      <th>doc_id</th>\n",
       "      <th>posting_date</th>\n",
       "      <th>due_in_date</th>\n",
       "      <th>baseline_create_date</th>\n",
       "      <th>cust_payment_terms</th>\n",
       "      <th>converted_usd</th>\n",
       "    </tr>\n",
       "  </thead>\n",
       "  <tbody>\n",
       "    <tr>\n",
       "      <th>0</th>\n",
       "      <td>U001</td>\n",
       "      <td>0200769623</td>\n",
       "      <td>WAL-MAR corp</td>\n",
       "      <td>2020-02-11</td>\n",
       "      <td>2020.0</td>\n",
       "      <td>1.930438e+09</td>\n",
       "      <td>2020-01-26</td>\n",
       "      <td>2020-02-10</td>\n",
       "      <td>2020-01-26</td>\n",
       "      <td>NAH4</td>\n",
       "      <td>54273.280</td>\n",
       "    </tr>\n",
       "    <tr>\n",
       "      <th>1</th>\n",
       "      <td>U001</td>\n",
       "      <td>0200980828</td>\n",
       "      <td>BEN E</td>\n",
       "      <td>2019-08-08</td>\n",
       "      <td>2019.0</td>\n",
       "      <td>1.929646e+09</td>\n",
       "      <td>2019-07-22</td>\n",
       "      <td>2019-08-11</td>\n",
       "      <td>2019-07-22</td>\n",
       "      <td>NAD1</td>\n",
       "      <td>79656.600</td>\n",
       "    </tr>\n",
       "    <tr>\n",
       "      <th>2</th>\n",
       "      <td>U001</td>\n",
       "      <td>0200792734</td>\n",
       "      <td>MDV/ trust</td>\n",
       "      <td>2019-12-30</td>\n",
       "      <td>2019.0</td>\n",
       "      <td>1.929874e+09</td>\n",
       "      <td>2019-09-14</td>\n",
       "      <td>2019-09-29</td>\n",
       "      <td>2019-09-14</td>\n",
       "      <td>NAA8</td>\n",
       "      <td>2253.860</td>\n",
       "    </tr>\n",
       "    <tr>\n",
       "      <th>3</th>\n",
       "      <td>U001</td>\n",
       "      <td>0200769623</td>\n",
       "      <td>WAL-MAR foundation</td>\n",
       "      <td>2019-11-25</td>\n",
       "      <td>2019.0</td>\n",
       "      <td>1.930148e+09</td>\n",
       "      <td>2019-11-13</td>\n",
       "      <td>2019-11-28</td>\n",
       "      <td>2019-11-13</td>\n",
       "      <td>NAH4</td>\n",
       "      <td>33133.290</td>\n",
       "    </tr>\n",
       "    <tr>\n",
       "      <th>4</th>\n",
       "      <td>CA02</td>\n",
       "      <td>0140106181</td>\n",
       "      <td>THE  corporation</td>\n",
       "      <td>2019-12-04</td>\n",
       "      <td>2019.0</td>\n",
       "      <td>2.960581e+09</td>\n",
       "      <td>2019-09-20</td>\n",
       "      <td>2019-10-04</td>\n",
       "      <td>2019-09-24</td>\n",
       "      <td>CA10</td>\n",
       "      <td>15558.088</td>\n",
       "    </tr>\n",
       "  </tbody>\n",
       "</table>\n",
       "</div>"
      ],
      "text/plain": [
       "  business_code cust_number       name_customer clear_date  buisness_year  \\\n",
       "0          U001  0200769623        WAL-MAR corp 2020-02-11         2020.0   \n",
       "1          U001  0200980828              BEN E  2019-08-08         2019.0   \n",
       "2          U001  0200792734          MDV/ trust 2019-12-30         2019.0   \n",
       "3          U001  0200769623  WAL-MAR foundation 2019-11-25         2019.0   \n",
       "4          CA02  0140106181    THE  corporation 2019-12-04         2019.0   \n",
       "\n",
       "         doc_id posting_date due_in_date baseline_create_date  \\\n",
       "0  1.930438e+09   2020-01-26  2020-02-10           2020-01-26   \n",
       "1  1.929646e+09   2019-07-22  2019-08-11           2019-07-22   \n",
       "2  1.929874e+09   2019-09-14  2019-09-29           2019-09-14   \n",
       "3  1.930148e+09   2019-11-13  2019-11-28           2019-11-13   \n",
       "4  2.960581e+09   2019-09-20  2019-10-04           2019-09-24   \n",
       "\n",
       "  cust_payment_terms  converted_usd  \n",
       "0               NAH4      54273.280  \n",
       "1               NAD1      79656.600  \n",
       "2               NAA8       2253.860  \n",
       "3               NAH4      33133.290  \n",
       "4               CA10      15558.088  "
      ]
     },
     "execution_count": 39,
     "metadata": {},
     "output_type": "execute_result"
    }
   ],
   "source": [
    "maindata.head()"
   ]
  },
  {
   "cell_type": "code",
   "execution_count": 40,
   "id": "4c05ddf8",
   "metadata": {
    "execution": {
     "iopub.execute_input": "2023-02-20T19:19:22.629907Z",
     "iopub.status.busy": "2023-02-20T19:19:22.629077Z",
     "iopub.status.idle": "2023-02-20T19:19:22.649204Z",
     "shell.execute_reply": "2023-02-20T19:19:22.648226Z"
    },
    "id": "eee2d68a",
    "outputId": "066a182e-3b66-4b56-ebf2-e25aac6d65cf",
    "papermill": {
     "duration": 0.095966,
     "end_time": "2023-02-20T19:19:22.652146",
     "exception": false,
     "start_time": "2023-02-20T19:19:22.556180",
     "status": "completed"
    },
    "tags": []
   },
   "outputs": [
    {
     "data": {
      "text/html": [
       "<div>\n",
       "<style scoped>\n",
       "    .dataframe tbody tr th:only-of-type {\n",
       "        vertical-align: middle;\n",
       "    }\n",
       "\n",
       "    .dataframe tbody tr th {\n",
       "        vertical-align: top;\n",
       "    }\n",
       "\n",
       "    .dataframe thead th {\n",
       "        text-align: right;\n",
       "    }\n",
       "</style>\n",
       "<table border=\"1\" class=\"dataframe\">\n",
       "  <thead>\n",
       "    <tr style=\"text-align: right;\">\n",
       "      <th></th>\n",
       "      <th>business_code</th>\n",
       "      <th>cust_number</th>\n",
       "      <th>name_customer</th>\n",
       "      <th>clear_date</th>\n",
       "      <th>buisness_year</th>\n",
       "      <th>doc_id</th>\n",
       "      <th>posting_date</th>\n",
       "      <th>due_in_date</th>\n",
       "      <th>baseline_create_date</th>\n",
       "      <th>cust_payment_terms</th>\n",
       "      <th>converted_usd</th>\n",
       "    </tr>\n",
       "  </thead>\n",
       "  <tbody>\n",
       "    <tr>\n",
       "      <th>3</th>\n",
       "      <td>CA02</td>\n",
       "      <td>0140105686</td>\n",
       "      <td>SYSC llc</td>\n",
       "      <td>NaT</td>\n",
       "      <td>2020.0</td>\n",
       "      <td>2.960623e+09</td>\n",
       "      <td>2020-03-30</td>\n",
       "      <td>2020-04-10</td>\n",
       "      <td>2020-03-31</td>\n",
       "      <td>CA10</td>\n",
       "      <td>2309.79</td>\n",
       "    </tr>\n",
       "    <tr>\n",
       "      <th>7</th>\n",
       "      <td>U001</td>\n",
       "      <td>0200744019</td>\n",
       "      <td>TARG us</td>\n",
       "      <td>NaT</td>\n",
       "      <td>2020.0</td>\n",
       "      <td>1.930659e+09</td>\n",
       "      <td>2020-03-19</td>\n",
       "      <td>2020-04-03</td>\n",
       "      <td>2020-03-19</td>\n",
       "      <td>NAA8</td>\n",
       "      <td>11173.02</td>\n",
       "    </tr>\n",
       "    <tr>\n",
       "      <th>10</th>\n",
       "      <td>U001</td>\n",
       "      <td>0200418007</td>\n",
       "      <td>AM</td>\n",
       "      <td>NaT</td>\n",
       "      <td>2020.0</td>\n",
       "      <td>1.930611e+09</td>\n",
       "      <td>2020-03-11</td>\n",
       "      <td>2020-03-26</td>\n",
       "      <td>2020-03-11</td>\n",
       "      <td>NAA8</td>\n",
       "      <td>3525.59</td>\n",
       "    </tr>\n",
       "    <tr>\n",
       "      <th>14</th>\n",
       "      <td>U001</td>\n",
       "      <td>0200739534</td>\n",
       "      <td>OK systems</td>\n",
       "      <td>NaT</td>\n",
       "      <td>2020.0</td>\n",
       "      <td>1.930788e+09</td>\n",
       "      <td>2020-04-15</td>\n",
       "      <td>2020-04-30</td>\n",
       "      <td>2020-04-15</td>\n",
       "      <td>NAA8</td>\n",
       "      <td>121105.65</td>\n",
       "    </tr>\n",
       "    <tr>\n",
       "      <th>15</th>\n",
       "      <td>U001</td>\n",
       "      <td>0200353024</td>\n",
       "      <td>DECA corporation</td>\n",
       "      <td>NaT</td>\n",
       "      <td>2020.0</td>\n",
       "      <td>1.930817e+09</td>\n",
       "      <td>2020-04-23</td>\n",
       "      <td>2020-04-26</td>\n",
       "      <td>2020-04-16</td>\n",
       "      <td>NAM2</td>\n",
       "      <td>3726.06</td>\n",
       "    </tr>\n",
       "  </tbody>\n",
       "</table>\n",
       "</div>"
      ],
      "text/plain": [
       "   business_code cust_number     name_customer clear_date  buisness_year  \\\n",
       "3           CA02  0140105686          SYSC llc        NaT         2020.0   \n",
       "7           U001  0200744019           TARG us        NaT         2020.0   \n",
       "10          U001  0200418007               AM         NaT         2020.0   \n",
       "14          U001  0200739534        OK systems        NaT         2020.0   \n",
       "15          U001  0200353024  DECA corporation        NaT         2020.0   \n",
       "\n",
       "          doc_id posting_date due_in_date baseline_create_date  \\\n",
       "3   2.960623e+09   2020-03-30  2020-04-10           2020-03-31   \n",
       "7   1.930659e+09   2020-03-19  2020-04-03           2020-03-19   \n",
       "10  1.930611e+09   2020-03-11  2020-03-26           2020-03-11   \n",
       "14  1.930788e+09   2020-04-15  2020-04-30           2020-04-15   \n",
       "15  1.930817e+09   2020-04-23  2020-04-26           2020-04-16   \n",
       "\n",
       "   cust_payment_terms  converted_usd  \n",
       "3                CA10        2309.79  \n",
       "7                NAA8       11173.02  \n",
       "10               NAA8        3525.59  \n",
       "14               NAA8      121105.65  \n",
       "15               NAM2        3726.06  "
      ]
     },
     "execution_count": 40,
     "metadata": {},
     "output_type": "execute_result"
    }
   ],
   "source": [
    "nulldata.head()"
   ]
  },
  {
   "cell_type": "markdown",
   "id": "0d6225cb",
   "metadata": {
    "id": "24aa6746",
    "papermill": {
     "duration": 0.079619,
     "end_time": "2023-02-20T19:19:22.822563",
     "exception": false,
     "start_time": "2023-02-20T19:19:22.742944",
     "status": "completed"
    },
    "tags": []
   },
   "source": [
    "## Considering the **maindata**"
   ]
  },
  {
   "cell_type": "markdown",
   "id": "f72813fe",
   "metadata": {
    "id": "f92c4aa7",
    "papermill": {
     "duration": 0.070458,
     "end_time": "2023-02-20T19:19:22.961412",
     "exception": false,
     "start_time": "2023-02-20T19:19:22.890954",
     "status": "completed"
    },
    "tags": []
   },
   "source": [
    "#### Generate a new column \"Delay\" from the existing columns\n",
    "\n",
    "- Note - You are expected to create a new column 'Delay' from two existing columns, \"clear_date\" and \"due_in_date\" \n",
    "- Formula - Delay = clear_date - due_in_date"
   ]
  },
  {
   "cell_type": "code",
   "execution_count": 41,
   "id": "20b58bf4",
   "metadata": {
    "execution": {
     "iopub.execute_input": "2023-02-20T19:19:23.091138Z",
     "iopub.status.busy": "2023-02-20T19:19:23.090326Z",
     "iopub.status.idle": "2023-02-20T19:19:23.112073Z",
     "shell.execute_reply": "2023-02-20T19:19:23.110914Z"
    },
    "id": "8eeceb9c",
    "outputId": "cb1f2ea0-a41f-4462-b875-639fae371319",
    "papermill": {
     "duration": 0.089468,
     "end_time": "2023-02-20T19:19:23.114572",
     "exception": false,
     "start_time": "2023-02-20T19:19:23.025104",
     "status": "completed"
    },
    "tags": []
   },
   "outputs": [
    {
     "data": {
      "text/html": [
       "<div>\n",
       "<style scoped>\n",
       "    .dataframe tbody tr th:only-of-type {\n",
       "        vertical-align: middle;\n",
       "    }\n",
       "\n",
       "    .dataframe tbody tr th {\n",
       "        vertical-align: top;\n",
       "    }\n",
       "\n",
       "    .dataframe thead th {\n",
       "        text-align: right;\n",
       "    }\n",
       "</style>\n",
       "<table border=\"1\" class=\"dataframe\">\n",
       "  <thead>\n",
       "    <tr style=\"text-align: right;\">\n",
       "      <th></th>\n",
       "      <th>business_code</th>\n",
       "      <th>cust_number</th>\n",
       "      <th>name_customer</th>\n",
       "      <th>clear_date</th>\n",
       "      <th>buisness_year</th>\n",
       "      <th>doc_id</th>\n",
       "      <th>posting_date</th>\n",
       "      <th>due_in_date</th>\n",
       "      <th>baseline_create_date</th>\n",
       "      <th>cust_payment_terms</th>\n",
       "      <th>converted_usd</th>\n",
       "      <th>Delay</th>\n",
       "    </tr>\n",
       "  </thead>\n",
       "  <tbody>\n",
       "    <tr>\n",
       "      <th>0</th>\n",
       "      <td>U001</td>\n",
       "      <td>0200769623</td>\n",
       "      <td>WAL-MAR corp</td>\n",
       "      <td>2020-02-11</td>\n",
       "      <td>2020.0</td>\n",
       "      <td>1.930438e+09</td>\n",
       "      <td>2020-01-26</td>\n",
       "      <td>2020-02-10</td>\n",
       "      <td>2020-01-26</td>\n",
       "      <td>NAH4</td>\n",
       "      <td>54273.280</td>\n",
       "      <td>1 days</td>\n",
       "    </tr>\n",
       "    <tr>\n",
       "      <th>1</th>\n",
       "      <td>U001</td>\n",
       "      <td>0200980828</td>\n",
       "      <td>BEN E</td>\n",
       "      <td>2019-08-08</td>\n",
       "      <td>2019.0</td>\n",
       "      <td>1.929646e+09</td>\n",
       "      <td>2019-07-22</td>\n",
       "      <td>2019-08-11</td>\n",
       "      <td>2019-07-22</td>\n",
       "      <td>NAD1</td>\n",
       "      <td>79656.600</td>\n",
       "      <td>-3 days</td>\n",
       "    </tr>\n",
       "    <tr>\n",
       "      <th>2</th>\n",
       "      <td>U001</td>\n",
       "      <td>0200792734</td>\n",
       "      <td>MDV/ trust</td>\n",
       "      <td>2019-12-30</td>\n",
       "      <td>2019.0</td>\n",
       "      <td>1.929874e+09</td>\n",
       "      <td>2019-09-14</td>\n",
       "      <td>2019-09-29</td>\n",
       "      <td>2019-09-14</td>\n",
       "      <td>NAA8</td>\n",
       "      <td>2253.860</td>\n",
       "      <td>92 days</td>\n",
       "    </tr>\n",
       "    <tr>\n",
       "      <th>3</th>\n",
       "      <td>U001</td>\n",
       "      <td>0200769623</td>\n",
       "      <td>WAL-MAR foundation</td>\n",
       "      <td>2019-11-25</td>\n",
       "      <td>2019.0</td>\n",
       "      <td>1.930148e+09</td>\n",
       "      <td>2019-11-13</td>\n",
       "      <td>2019-11-28</td>\n",
       "      <td>2019-11-13</td>\n",
       "      <td>NAH4</td>\n",
       "      <td>33133.290</td>\n",
       "      <td>-3 days</td>\n",
       "    </tr>\n",
       "    <tr>\n",
       "      <th>4</th>\n",
       "      <td>CA02</td>\n",
       "      <td>0140106181</td>\n",
       "      <td>THE  corporation</td>\n",
       "      <td>2019-12-04</td>\n",
       "      <td>2019.0</td>\n",
       "      <td>2.960581e+09</td>\n",
       "      <td>2019-09-20</td>\n",
       "      <td>2019-10-04</td>\n",
       "      <td>2019-09-24</td>\n",
       "      <td>CA10</td>\n",
       "      <td>15558.088</td>\n",
       "      <td>61 days</td>\n",
       "    </tr>\n",
       "  </tbody>\n",
       "</table>\n",
       "</div>"
      ],
      "text/plain": [
       "  business_code cust_number       name_customer clear_date  buisness_year  \\\n",
       "0          U001  0200769623        WAL-MAR corp 2020-02-11         2020.0   \n",
       "1          U001  0200980828              BEN E  2019-08-08         2019.0   \n",
       "2          U001  0200792734          MDV/ trust 2019-12-30         2019.0   \n",
       "3          U001  0200769623  WAL-MAR foundation 2019-11-25         2019.0   \n",
       "4          CA02  0140106181    THE  corporation 2019-12-04         2019.0   \n",
       "\n",
       "         doc_id posting_date due_in_date baseline_create_date  \\\n",
       "0  1.930438e+09   2020-01-26  2020-02-10           2020-01-26   \n",
       "1  1.929646e+09   2019-07-22  2019-08-11           2019-07-22   \n",
       "2  1.929874e+09   2019-09-14  2019-09-29           2019-09-14   \n",
       "3  1.930148e+09   2019-11-13  2019-11-28           2019-11-13   \n",
       "4  2.960581e+09   2019-09-20  2019-10-04           2019-09-24   \n",
       "\n",
       "  cust_payment_terms  converted_usd   Delay  \n",
       "0               NAH4      54273.280  1 days  \n",
       "1               NAD1      79656.600 -3 days  \n",
       "2               NAA8       2253.860 92 days  \n",
       "3               NAH4      33133.290 -3 days  \n",
       "4               CA10      15558.088 61 days  "
      ]
     },
     "execution_count": 41,
     "metadata": {},
     "output_type": "execute_result"
    }
   ],
   "source": [
    "maindata['Delay'] = (maindata['clear_date'] - maindata['due_in_date'])\n",
    "maindata.head()"
   ]
  },
  {
   "cell_type": "markdown",
   "id": "4619f517",
   "metadata": {
    "id": "f482144e",
    "papermill": {
     "duration": 0.062077,
     "end_time": "2023-02-20T19:19:23.239860",
     "exception": false,
     "start_time": "2023-02-20T19:19:23.177783",
     "status": "completed"
    },
    "tags": []
   },
   "source": [
    "### Generate a new column \"avgdelay\" from the existing columns\n",
    "\n",
    "- Note - You are expected to make a new column \"avgdelay\" by grouping \"name_customer\" column with reapect to mean of the \"Delay\" column.\n",
    "- This new column \"avg_delay\" is meant to store \"customer_name\" wise delay\n",
    "- groupby('name_customer')['Delay'].mean(numeric_only=False)\n",
    "- Display the new \"avg_delay\" column"
   ]
  },
  {
   "cell_type": "code",
   "execution_count": 42,
   "id": "67a9d526",
   "metadata": {
    "execution": {
     "iopub.execute_input": "2023-02-20T19:19:23.375752Z",
     "iopub.status.busy": "2023-02-20T19:19:23.374955Z",
     "iopub.status.idle": "2023-02-20T19:19:23.410490Z",
     "shell.execute_reply": "2023-02-20T19:19:23.408503Z"
    },
    "id": "d18d2f8d",
    "outputId": "5b5bb1b7-1eff-4bf4-fcb1-2bfaf25395e5",
    "papermill": {
     "duration": 0.111289,
     "end_time": "2023-02-20T19:19:23.414376",
     "exception": false,
     "start_time": "2023-02-20T19:19:23.303087",
     "status": "completed"
    },
    "tags": []
   },
   "outputs": [
    {
     "data": {
      "text/html": [
       "<div>\n",
       "<style scoped>\n",
       "    .dataframe tbody tr th:only-of-type {\n",
       "        vertical-align: middle;\n",
       "    }\n",
       "\n",
       "    .dataframe tbody tr th {\n",
       "        vertical-align: top;\n",
       "    }\n",
       "\n",
       "    .dataframe thead th {\n",
       "        text-align: right;\n",
       "    }\n",
       "</style>\n",
       "<table border=\"1\" class=\"dataframe\">\n",
       "  <thead>\n",
       "    <tr style=\"text-align: right;\">\n",
       "      <th></th>\n",
       "      <th>avg_del</th>\n",
       "    </tr>\n",
       "    <tr>\n",
       "      <th>name_customer</th>\n",
       "      <th></th>\n",
       "    </tr>\n",
       "  </thead>\n",
       "  <tbody>\n",
       "    <tr>\n",
       "      <th>11078 us</th>\n",
       "      <td>17 days</td>\n",
       "    </tr>\n",
       "    <tr>\n",
       "      <th>17135 associates</th>\n",
       "      <td>-10 days</td>\n",
       "    </tr>\n",
       "    <tr>\n",
       "      <th>17135 llc</th>\n",
       "      <td>-3 days</td>\n",
       "    </tr>\n",
       "    <tr>\n",
       "      <th>236008 associates</th>\n",
       "      <td>-3 days</td>\n",
       "    </tr>\n",
       "    <tr>\n",
       "      <th>99 CE</th>\n",
       "      <td>2 days</td>\n",
       "    </tr>\n",
       "  </tbody>\n",
       "</table>\n",
       "</div>"
      ],
      "text/plain": [
       "                   avg_del\n",
       "name_customer             \n",
       "11078 us           17 days\n",
       "17135 associates  -10 days\n",
       "17135 llc          -3 days\n",
       "236008 associates  -3 days\n",
       "99 CE               2 days"
      ]
     },
     "execution_count": 42,
     "metadata": {},
     "output_type": "execute_result"
    }
   ],
   "source": [
    "avg_del = maindata.groupby('name_customer')['Delay'].mean(numeric_only=False).to_frame()\n",
    "avg_del.rename(columns = {'Delay':'avg_del'},inplace=True)\n",
    "avg_del.head()"
   ]
  },
  {
   "cell_type": "markdown",
   "id": "531945dc",
   "metadata": {
    "id": "64b995e8",
    "papermill": {
     "duration": 0.062539,
     "end_time": "2023-02-20T19:19:23.561535",
     "exception": false,
     "start_time": "2023-02-20T19:19:23.498996",
     "status": "completed"
    },
    "tags": []
   },
   "source": [
    "You need to add the \"avg_delay\" column with the maindata, mapped with \"name_customer\" column\n",
    "\n",
    " - Note - You need to use map function to map the avgdelay with respect to \"name_customer\" column"
   ]
  },
  {
   "cell_type": "code",
   "execution_count": 43,
   "id": "b8894f29",
   "metadata": {
    "execution": {
     "iopub.execute_input": "2023-02-20T19:19:23.693408Z",
     "iopub.status.busy": "2023-02-20T19:19:23.692569Z",
     "iopub.status.idle": "2023-02-20T19:19:23.728548Z",
     "shell.execute_reply": "2023-02-20T19:19:23.727332Z"
    },
    "id": "e1e1f3d9",
    "outputId": "25d2d172-4848-47af-d016-4066bb6d03d5",
    "papermill": {
     "duration": 0.10405,
     "end_time": "2023-02-20T19:19:23.731067",
     "exception": false,
     "start_time": "2023-02-20T19:19:23.627017",
     "status": "completed"
    },
    "tags": []
   },
   "outputs": [
    {
     "data": {
      "text/html": [
       "<div>\n",
       "<style scoped>\n",
       "    .dataframe tbody tr th:only-of-type {\n",
       "        vertical-align: middle;\n",
       "    }\n",
       "\n",
       "    .dataframe tbody tr th {\n",
       "        vertical-align: top;\n",
       "    }\n",
       "\n",
       "    .dataframe thead th {\n",
       "        text-align: right;\n",
       "    }\n",
       "</style>\n",
       "<table border=\"1\" class=\"dataframe\">\n",
       "  <thead>\n",
       "    <tr style=\"text-align: right;\">\n",
       "      <th></th>\n",
       "      <th>business_code</th>\n",
       "      <th>cust_number</th>\n",
       "      <th>name_customer</th>\n",
       "      <th>clear_date</th>\n",
       "      <th>buisness_year</th>\n",
       "      <th>doc_id</th>\n",
       "      <th>posting_date</th>\n",
       "      <th>due_in_date</th>\n",
       "      <th>baseline_create_date</th>\n",
       "      <th>cust_payment_terms</th>\n",
       "      <th>converted_usd</th>\n",
       "      <th>Delay</th>\n",
       "      <th>avg_delay</th>\n",
       "    </tr>\n",
       "  </thead>\n",
       "  <tbody>\n",
       "    <tr>\n",
       "      <th>0</th>\n",
       "      <td>U001</td>\n",
       "      <td>0200769623</td>\n",
       "      <td>WAL-MAR corp</td>\n",
       "      <td>2020-02-11</td>\n",
       "      <td>2020.0</td>\n",
       "      <td>1.930438e+09</td>\n",
       "      <td>2020-01-26</td>\n",
       "      <td>2020-02-10</td>\n",
       "      <td>2020-01-26</td>\n",
       "      <td>NAH4</td>\n",
       "      <td>54273.280</td>\n",
       "      <td>1 days</td>\n",
       "      <td>-3 days +07:08:49.779837776</td>\n",
       "    </tr>\n",
       "    <tr>\n",
       "      <th>1</th>\n",
       "      <td>U001</td>\n",
       "      <td>0200980828</td>\n",
       "      <td>BEN E</td>\n",
       "      <td>2019-08-08</td>\n",
       "      <td>2019.0</td>\n",
       "      <td>1.929646e+09</td>\n",
       "      <td>2019-07-22</td>\n",
       "      <td>2019-08-11</td>\n",
       "      <td>2019-07-22</td>\n",
       "      <td>NAD1</td>\n",
       "      <td>79656.600</td>\n",
       "      <td>-3 days</td>\n",
       "      <td>19 days 00:00:00</td>\n",
       "    </tr>\n",
       "    <tr>\n",
       "      <th>2</th>\n",
       "      <td>U001</td>\n",
       "      <td>0200792734</td>\n",
       "      <td>MDV/ trust</td>\n",
       "      <td>2019-12-30</td>\n",
       "      <td>2019.0</td>\n",
       "      <td>1.929874e+09</td>\n",
       "      <td>2019-09-14</td>\n",
       "      <td>2019-09-29</td>\n",
       "      <td>2019-09-14</td>\n",
       "      <td>NAA8</td>\n",
       "      <td>2253.860</td>\n",
       "      <td>92 days</td>\n",
       "      <td>8 days 02:10:54.545454545</td>\n",
       "    </tr>\n",
       "    <tr>\n",
       "      <th>3</th>\n",
       "      <td>U001</td>\n",
       "      <td>0200769623</td>\n",
       "      <td>WAL-MAR foundation</td>\n",
       "      <td>2019-11-25</td>\n",
       "      <td>2019.0</td>\n",
       "      <td>1.930148e+09</td>\n",
       "      <td>2019-11-13</td>\n",
       "      <td>2019-11-28</td>\n",
       "      <td>2019-11-13</td>\n",
       "      <td>NAH4</td>\n",
       "      <td>33133.290</td>\n",
       "      <td>-3 days</td>\n",
       "      <td>-3 days +19:33:27.692307693</td>\n",
       "    </tr>\n",
       "    <tr>\n",
       "      <th>4</th>\n",
       "      <td>CA02</td>\n",
       "      <td>0140106181</td>\n",
       "      <td>THE  corporation</td>\n",
       "      <td>2019-12-04</td>\n",
       "      <td>2019.0</td>\n",
       "      <td>2.960581e+09</td>\n",
       "      <td>2019-09-20</td>\n",
       "      <td>2019-10-04</td>\n",
       "      <td>2019-09-24</td>\n",
       "      <td>CA10</td>\n",
       "      <td>15558.088</td>\n",
       "      <td>61 days</td>\n",
       "      <td>71 days 10:40:00</td>\n",
       "    </tr>\n",
       "    <tr>\n",
       "      <th>...</th>\n",
       "      <td>...</td>\n",
       "      <td>...</td>\n",
       "      <td>...</td>\n",
       "      <td>...</td>\n",
       "      <td>...</td>\n",
       "      <td>...</td>\n",
       "      <td>...</td>\n",
       "      <td>...</td>\n",
       "      <td>...</td>\n",
       "      <td>...</td>\n",
       "      <td>...</td>\n",
       "      <td>...</td>\n",
       "      <td>...</td>\n",
       "    </tr>\n",
       "    <tr>\n",
       "      <th>39153</th>\n",
       "      <td>U001</td>\n",
       "      <td>0200762301</td>\n",
       "      <td>C&amp;S WH trust</td>\n",
       "      <td>2019-07-25</td>\n",
       "      <td>2019.0</td>\n",
       "      <td>1.929601e+09</td>\n",
       "      <td>2019-07-10</td>\n",
       "      <td>2019-07-25</td>\n",
       "      <td>2019-07-10</td>\n",
       "      <td>NAC6</td>\n",
       "      <td>84780.400</td>\n",
       "      <td>0 days</td>\n",
       "      <td>-1 days +14:45:00</td>\n",
       "    </tr>\n",
       "    <tr>\n",
       "      <th>39154</th>\n",
       "      <td>U001</td>\n",
       "      <td>0200769623</td>\n",
       "      <td>WAL-MAR co</td>\n",
       "      <td>2019-09-03</td>\n",
       "      <td>2019.0</td>\n",
       "      <td>1.929744e+09</td>\n",
       "      <td>2019-08-15</td>\n",
       "      <td>2019-08-30</td>\n",
       "      <td>2019-08-15</td>\n",
       "      <td>NAH4</td>\n",
       "      <td>6766.540</td>\n",
       "      <td>4 days</td>\n",
       "      <td>-3 days +12:40:08.540925267</td>\n",
       "    </tr>\n",
       "    <tr>\n",
       "      <th>39155</th>\n",
       "      <td>U001</td>\n",
       "      <td>0200772595</td>\n",
       "      <td>SAFEW associates</td>\n",
       "      <td>2020-03-05</td>\n",
       "      <td>2020.0</td>\n",
       "      <td>1.930537e+09</td>\n",
       "      <td>2020-02-19</td>\n",
       "      <td>2020-03-05</td>\n",
       "      <td>2020-02-19</td>\n",
       "      <td>NAA8</td>\n",
       "      <td>6120.860</td>\n",
       "      <td>0 days</td>\n",
       "      <td>1 days 01:08:34.285714285</td>\n",
       "    </tr>\n",
       "    <tr>\n",
       "      <th>39156</th>\n",
       "      <td>U001</td>\n",
       "      <td>0200726979</td>\n",
       "      <td>BJ'S  llc</td>\n",
       "      <td>2019-12-12</td>\n",
       "      <td>2019.0</td>\n",
       "      <td>1.930199e+09</td>\n",
       "      <td>2019-11-27</td>\n",
       "      <td>2019-12-12</td>\n",
       "      <td>2019-11-27</td>\n",
       "      <td>NAA8</td>\n",
       "      <td>63.480</td>\n",
       "      <td>0 days</td>\n",
       "      <td>1 days 13:36:42.985074626</td>\n",
       "    </tr>\n",
       "    <tr>\n",
       "      <th>39157</th>\n",
       "      <td>U001</td>\n",
       "      <td>0200020431</td>\n",
       "      <td>DEC corp</td>\n",
       "      <td>2019-01-15</td>\n",
       "      <td>2019.0</td>\n",
       "      <td>1.928576e+09</td>\n",
       "      <td>2019-01-05</td>\n",
       "      <td>2019-01-24</td>\n",
       "      <td>2019-01-01</td>\n",
       "      <td>NAM4</td>\n",
       "      <td>1790.300</td>\n",
       "      <td>-9 days</td>\n",
       "      <td>-4 days +02:20:52.173913044</td>\n",
       "    </tr>\n",
       "  </tbody>\n",
       "</table>\n",
       "<p>39158 rows × 13 columns</p>\n",
       "</div>"
      ],
      "text/plain": [
       "      business_code cust_number       name_customer clear_date  buisness_year  \\\n",
       "0              U001  0200769623        WAL-MAR corp 2020-02-11         2020.0   \n",
       "1              U001  0200980828              BEN E  2019-08-08         2019.0   \n",
       "2              U001  0200792734          MDV/ trust 2019-12-30         2019.0   \n",
       "3              U001  0200769623  WAL-MAR foundation 2019-11-25         2019.0   \n",
       "4              CA02  0140106181    THE  corporation 2019-12-04         2019.0   \n",
       "...             ...         ...                 ...        ...            ...   \n",
       "39153          U001  0200762301        C&S WH trust 2019-07-25         2019.0   \n",
       "39154          U001  0200769623          WAL-MAR co 2019-09-03         2019.0   \n",
       "39155          U001  0200772595    SAFEW associates 2020-03-05         2020.0   \n",
       "39156          U001  0200726979           BJ'S  llc 2019-12-12         2019.0   \n",
       "39157          U001  0200020431            DEC corp 2019-01-15         2019.0   \n",
       "\n",
       "             doc_id posting_date due_in_date baseline_create_date  \\\n",
       "0      1.930438e+09   2020-01-26  2020-02-10           2020-01-26   \n",
       "1      1.929646e+09   2019-07-22  2019-08-11           2019-07-22   \n",
       "2      1.929874e+09   2019-09-14  2019-09-29           2019-09-14   \n",
       "3      1.930148e+09   2019-11-13  2019-11-28           2019-11-13   \n",
       "4      2.960581e+09   2019-09-20  2019-10-04           2019-09-24   \n",
       "...             ...          ...         ...                  ...   \n",
       "39153  1.929601e+09   2019-07-10  2019-07-25           2019-07-10   \n",
       "39154  1.929744e+09   2019-08-15  2019-08-30           2019-08-15   \n",
       "39155  1.930537e+09   2020-02-19  2020-03-05           2020-02-19   \n",
       "39156  1.930199e+09   2019-11-27  2019-12-12           2019-11-27   \n",
       "39157  1.928576e+09   2019-01-05  2019-01-24           2019-01-01   \n",
       "\n",
       "      cust_payment_terms  converted_usd   Delay                   avg_delay  \n",
       "0                   NAH4      54273.280  1 days -3 days +07:08:49.779837776  \n",
       "1                   NAD1      79656.600 -3 days            19 days 00:00:00  \n",
       "2                   NAA8       2253.860 92 days   8 days 02:10:54.545454545  \n",
       "3                   NAH4      33133.290 -3 days -3 days +19:33:27.692307693  \n",
       "4                   CA10      15558.088 61 days            71 days 10:40:00  \n",
       "...                  ...            ...     ...                         ...  \n",
       "39153               NAC6      84780.400  0 days           -1 days +14:45:00  \n",
       "39154               NAH4       6766.540  4 days -3 days +12:40:08.540925267  \n",
       "39155               NAA8       6120.860  0 days   1 days 01:08:34.285714285  \n",
       "39156               NAA8         63.480  0 days   1 days 13:36:42.985074626  \n",
       "39157               NAM4       1790.300 -9 days -4 days +02:20:52.173913044  \n",
       "\n",
       "[39158 rows x 13 columns]"
      ]
     },
     "execution_count": 43,
     "metadata": {},
     "output_type": "execute_result"
    }
   ],
   "source": [
    "maindata['avg_delay'] = maindata['name_customer'].map(avg_del['avg_del'])\n",
    "maindata"
   ]
  },
  {
   "cell_type": "markdown",
   "id": "2fcbb370",
   "metadata": {
    "id": "1d332525",
    "papermill": {
     "duration": 0.064661,
     "end_time": "2023-02-20T19:19:23.860061",
     "exception": false,
     "start_time": "2023-02-20T19:19:23.795400",
     "status": "completed"
    },
    "tags": []
   },
   "source": [
    "### Observe that the \"avg_delay\" column is in days format. You need to change the format into seconds\n",
    "\n",
    "- Days_format :  17 days 00:00:00\n",
    "- Format in seconds : 1641600.0"
   ]
  },
  {
   "cell_type": "code",
   "execution_count": 44,
   "id": "94d23b45",
   "metadata": {
    "execution": {
     "iopub.execute_input": "2023-02-20T19:19:23.989647Z",
     "iopub.status.busy": "2023-02-20T19:19:23.989219Z",
     "iopub.status.idle": "2023-02-20T19:19:23.995843Z",
     "shell.execute_reply": "2023-02-20T19:19:23.994797Z"
    },
    "id": "d5f1041e",
    "papermill": {
     "duration": 0.073876,
     "end_time": "2023-02-20T19:19:23.998173",
     "exception": false,
     "start_time": "2023-02-20T19:19:23.924297",
     "status": "completed"
    },
    "tags": []
   },
   "outputs": [],
   "source": [
    "maindata['avg_delay'] = maindata['avg_delay'].dt.total_seconds()"
   ]
  },
  {
   "cell_type": "markdown",
   "id": "fe885264",
   "metadata": {
    "id": "OvgtHSsx_O-n",
    "papermill": {
     "duration": 0.063196,
     "end_time": "2023-02-20T19:19:24.126404",
     "exception": false,
     "start_time": "2023-02-20T19:19:24.063208",
     "status": "completed"
    },
    "tags": []
   },
   "source": [
    "### Display the maindata dataframe "
   ]
  },
  {
   "cell_type": "code",
   "execution_count": 45,
   "id": "c1c8a726",
   "metadata": {
    "execution": {
     "iopub.execute_input": "2023-02-20T19:19:24.256179Z",
     "iopub.status.busy": "2023-02-20T19:19:24.255779Z",
     "iopub.status.idle": "2023-02-20T19:19:24.277906Z",
     "shell.execute_reply": "2023-02-20T19:19:24.276513Z"
    },
    "id": "97ca9c45",
    "outputId": "f48044a1-8f47-42b7-8ec5-5c0ac148021c",
    "papermill": {
     "duration": 0.090234,
     "end_time": "2023-02-20T19:19:24.280407",
     "exception": false,
     "start_time": "2023-02-20T19:19:24.190173",
     "status": "completed"
    },
    "tags": []
   },
   "outputs": [
    {
     "data": {
      "text/html": [
       "<div>\n",
       "<style scoped>\n",
       "    .dataframe tbody tr th:only-of-type {\n",
       "        vertical-align: middle;\n",
       "    }\n",
       "\n",
       "    .dataframe tbody tr th {\n",
       "        vertical-align: top;\n",
       "    }\n",
       "\n",
       "    .dataframe thead th {\n",
       "        text-align: right;\n",
       "    }\n",
       "</style>\n",
       "<table border=\"1\" class=\"dataframe\">\n",
       "  <thead>\n",
       "    <tr style=\"text-align: right;\">\n",
       "      <th></th>\n",
       "      <th>business_code</th>\n",
       "      <th>cust_number</th>\n",
       "      <th>name_customer</th>\n",
       "      <th>clear_date</th>\n",
       "      <th>buisness_year</th>\n",
       "      <th>doc_id</th>\n",
       "      <th>posting_date</th>\n",
       "      <th>due_in_date</th>\n",
       "      <th>baseline_create_date</th>\n",
       "      <th>cust_payment_terms</th>\n",
       "      <th>converted_usd</th>\n",
       "      <th>Delay</th>\n",
       "      <th>avg_delay</th>\n",
       "    </tr>\n",
       "  </thead>\n",
       "  <tbody>\n",
       "    <tr>\n",
       "      <th>0</th>\n",
       "      <td>U001</td>\n",
       "      <td>0200769623</td>\n",
       "      <td>WAL-MAR corp</td>\n",
       "      <td>2020-02-11</td>\n",
       "      <td>2020.0</td>\n",
       "      <td>1.930438e+09</td>\n",
       "      <td>2020-01-26</td>\n",
       "      <td>2020-02-10</td>\n",
       "      <td>2020-01-26</td>\n",
       "      <td>NAH4</td>\n",
       "      <td>54273.280</td>\n",
       "      <td>1 days</td>\n",
       "      <td>-2.334702e+05</td>\n",
       "    </tr>\n",
       "    <tr>\n",
       "      <th>1</th>\n",
       "      <td>U001</td>\n",
       "      <td>0200980828</td>\n",
       "      <td>BEN E</td>\n",
       "      <td>2019-08-08</td>\n",
       "      <td>2019.0</td>\n",
       "      <td>1.929646e+09</td>\n",
       "      <td>2019-07-22</td>\n",
       "      <td>2019-08-11</td>\n",
       "      <td>2019-07-22</td>\n",
       "      <td>NAD1</td>\n",
       "      <td>79656.600</td>\n",
       "      <td>-3 days</td>\n",
       "      <td>1.641600e+06</td>\n",
       "    </tr>\n",
       "    <tr>\n",
       "      <th>2</th>\n",
       "      <td>U001</td>\n",
       "      <td>0200792734</td>\n",
       "      <td>MDV/ trust</td>\n",
       "      <td>2019-12-30</td>\n",
       "      <td>2019.0</td>\n",
       "      <td>1.929874e+09</td>\n",
       "      <td>2019-09-14</td>\n",
       "      <td>2019-09-29</td>\n",
       "      <td>2019-09-14</td>\n",
       "      <td>NAA8</td>\n",
       "      <td>2253.860</td>\n",
       "      <td>92 days</td>\n",
       "      <td>6.990545e+05</td>\n",
       "    </tr>\n",
       "    <tr>\n",
       "      <th>3</th>\n",
       "      <td>U001</td>\n",
       "      <td>0200769623</td>\n",
       "      <td>WAL-MAR foundation</td>\n",
       "      <td>2019-11-25</td>\n",
       "      <td>2019.0</td>\n",
       "      <td>1.930148e+09</td>\n",
       "      <td>2019-11-13</td>\n",
       "      <td>2019-11-28</td>\n",
       "      <td>2019-11-13</td>\n",
       "      <td>NAH4</td>\n",
       "      <td>33133.290</td>\n",
       "      <td>-3 days</td>\n",
       "      <td>-1.887923e+05</td>\n",
       "    </tr>\n",
       "    <tr>\n",
       "      <th>4</th>\n",
       "      <td>CA02</td>\n",
       "      <td>0140106181</td>\n",
       "      <td>THE  corporation</td>\n",
       "      <td>2019-12-04</td>\n",
       "      <td>2019.0</td>\n",
       "      <td>2.960581e+09</td>\n",
       "      <td>2019-09-20</td>\n",
       "      <td>2019-10-04</td>\n",
       "      <td>2019-09-24</td>\n",
       "      <td>CA10</td>\n",
       "      <td>15558.088</td>\n",
       "      <td>61 days</td>\n",
       "      <td>6.172800e+06</td>\n",
       "    </tr>\n",
       "  </tbody>\n",
       "</table>\n",
       "</div>"
      ],
      "text/plain": [
       "  business_code cust_number       name_customer clear_date  buisness_year  \\\n",
       "0          U001  0200769623        WAL-MAR corp 2020-02-11         2020.0   \n",
       "1          U001  0200980828              BEN E  2019-08-08         2019.0   \n",
       "2          U001  0200792734          MDV/ trust 2019-12-30         2019.0   \n",
       "3          U001  0200769623  WAL-MAR foundation 2019-11-25         2019.0   \n",
       "4          CA02  0140106181    THE  corporation 2019-12-04         2019.0   \n",
       "\n",
       "         doc_id posting_date due_in_date baseline_create_date  \\\n",
       "0  1.930438e+09   2020-01-26  2020-02-10           2020-01-26   \n",
       "1  1.929646e+09   2019-07-22  2019-08-11           2019-07-22   \n",
       "2  1.929874e+09   2019-09-14  2019-09-29           2019-09-14   \n",
       "3  1.930148e+09   2019-11-13  2019-11-28           2019-11-13   \n",
       "4  2.960581e+09   2019-09-20  2019-10-04           2019-09-24   \n",
       "\n",
       "  cust_payment_terms  converted_usd   Delay     avg_delay  \n",
       "0               NAH4      54273.280  1 days -2.334702e+05  \n",
       "1               NAD1      79656.600 -3 days  1.641600e+06  \n",
       "2               NAA8       2253.860 92 days  6.990545e+05  \n",
       "3               NAH4      33133.290 -3 days -1.887923e+05  \n",
       "4               CA10      15558.088 61 days  6.172800e+06  "
      ]
     },
     "execution_count": 45,
     "metadata": {},
     "output_type": "execute_result"
    }
   ],
   "source": [
    "maindata.head()"
   ]
  },
  {
   "cell_type": "markdown",
   "id": "b2bd70de",
   "metadata": {
    "id": "ae24c7bb",
    "papermill": {
     "duration": 0.066334,
     "end_time": "2023-02-20T19:19:24.413159",
     "exception": false,
     "start_time": "2023-02-20T19:19:24.346825",
     "status": "completed"
    },
    "tags": []
   },
   "source": [
    "### Since you have created the \"avg_delay\" column from \"Delay\" and \"clear_date\" column, there is no need of these two columns anymore \n",
    "\n",
    "- You are expected to drop \"Delay\" and \"clear_date\" columns from maindata dataframe "
   ]
  },
  {
   "cell_type": "code",
   "execution_count": 46,
   "id": "19deabe5",
   "metadata": {
    "execution": {
     "iopub.execute_input": "2023-02-20T19:19:24.543770Z",
     "iopub.status.busy": "2023-02-20T19:19:24.542717Z",
     "iopub.status.idle": "2023-02-20T19:19:24.567618Z",
     "shell.execute_reply": "2023-02-20T19:19:24.566369Z"
    },
    "id": "78a61ab9",
    "outputId": "72527672-81b9-4d3a-aaa6-46d33be8f28f",
    "papermill": {
     "duration": 0.09252,
     "end_time": "2023-02-20T19:19:24.570154",
     "exception": false,
     "start_time": "2023-02-20T19:19:24.477634",
     "status": "completed"
    },
    "tags": []
   },
   "outputs": [
    {
     "data": {
      "text/html": [
       "<div>\n",
       "<style scoped>\n",
       "    .dataframe tbody tr th:only-of-type {\n",
       "        vertical-align: middle;\n",
       "    }\n",
       "\n",
       "    .dataframe tbody tr th {\n",
       "        vertical-align: top;\n",
       "    }\n",
       "\n",
       "    .dataframe thead th {\n",
       "        text-align: right;\n",
       "    }\n",
       "</style>\n",
       "<table border=\"1\" class=\"dataframe\">\n",
       "  <thead>\n",
       "    <tr style=\"text-align: right;\">\n",
       "      <th></th>\n",
       "      <th>business_code</th>\n",
       "      <th>cust_number</th>\n",
       "      <th>name_customer</th>\n",
       "      <th>buisness_year</th>\n",
       "      <th>doc_id</th>\n",
       "      <th>posting_date</th>\n",
       "      <th>due_in_date</th>\n",
       "      <th>baseline_create_date</th>\n",
       "      <th>cust_payment_terms</th>\n",
       "      <th>converted_usd</th>\n",
       "      <th>avg_delay</th>\n",
       "    </tr>\n",
       "  </thead>\n",
       "  <tbody>\n",
       "    <tr>\n",
       "      <th>0</th>\n",
       "      <td>U001</td>\n",
       "      <td>0200769623</td>\n",
       "      <td>WAL-MAR corp</td>\n",
       "      <td>2020.0</td>\n",
       "      <td>1.930438e+09</td>\n",
       "      <td>2020-01-26</td>\n",
       "      <td>2020-02-10</td>\n",
       "      <td>2020-01-26</td>\n",
       "      <td>NAH4</td>\n",
       "      <td>54273.280</td>\n",
       "      <td>-2.334702e+05</td>\n",
       "    </tr>\n",
       "    <tr>\n",
       "      <th>1</th>\n",
       "      <td>U001</td>\n",
       "      <td>0200980828</td>\n",
       "      <td>BEN E</td>\n",
       "      <td>2019.0</td>\n",
       "      <td>1.929646e+09</td>\n",
       "      <td>2019-07-22</td>\n",
       "      <td>2019-08-11</td>\n",
       "      <td>2019-07-22</td>\n",
       "      <td>NAD1</td>\n",
       "      <td>79656.600</td>\n",
       "      <td>1.641600e+06</td>\n",
       "    </tr>\n",
       "    <tr>\n",
       "      <th>2</th>\n",
       "      <td>U001</td>\n",
       "      <td>0200792734</td>\n",
       "      <td>MDV/ trust</td>\n",
       "      <td>2019.0</td>\n",
       "      <td>1.929874e+09</td>\n",
       "      <td>2019-09-14</td>\n",
       "      <td>2019-09-29</td>\n",
       "      <td>2019-09-14</td>\n",
       "      <td>NAA8</td>\n",
       "      <td>2253.860</td>\n",
       "      <td>6.990545e+05</td>\n",
       "    </tr>\n",
       "    <tr>\n",
       "      <th>3</th>\n",
       "      <td>U001</td>\n",
       "      <td>0200769623</td>\n",
       "      <td>WAL-MAR foundation</td>\n",
       "      <td>2019.0</td>\n",
       "      <td>1.930148e+09</td>\n",
       "      <td>2019-11-13</td>\n",
       "      <td>2019-11-28</td>\n",
       "      <td>2019-11-13</td>\n",
       "      <td>NAH4</td>\n",
       "      <td>33133.290</td>\n",
       "      <td>-1.887923e+05</td>\n",
       "    </tr>\n",
       "    <tr>\n",
       "      <th>4</th>\n",
       "      <td>CA02</td>\n",
       "      <td>0140106181</td>\n",
       "      <td>THE  corporation</td>\n",
       "      <td>2019.0</td>\n",
       "      <td>2.960581e+09</td>\n",
       "      <td>2019-09-20</td>\n",
       "      <td>2019-10-04</td>\n",
       "      <td>2019-09-24</td>\n",
       "      <td>CA10</td>\n",
       "      <td>15558.088</td>\n",
       "      <td>6.172800e+06</td>\n",
       "    </tr>\n",
       "  </tbody>\n",
       "</table>\n",
       "</div>"
      ],
      "text/plain": [
       "  business_code cust_number       name_customer  buisness_year        doc_id  \\\n",
       "0          U001  0200769623        WAL-MAR corp         2020.0  1.930438e+09   \n",
       "1          U001  0200980828              BEN E          2019.0  1.929646e+09   \n",
       "2          U001  0200792734          MDV/ trust         2019.0  1.929874e+09   \n",
       "3          U001  0200769623  WAL-MAR foundation         2019.0  1.930148e+09   \n",
       "4          CA02  0140106181    THE  corporation         2019.0  2.960581e+09   \n",
       "\n",
       "  posting_date due_in_date baseline_create_date cust_payment_terms  \\\n",
       "0   2020-01-26  2020-02-10           2020-01-26               NAH4   \n",
       "1   2019-07-22  2019-08-11           2019-07-22               NAD1   \n",
       "2   2019-09-14  2019-09-29           2019-09-14               NAA8   \n",
       "3   2019-11-13  2019-11-28           2019-11-13               NAH4   \n",
       "4   2019-09-20  2019-10-04           2019-09-24               CA10   \n",
       "\n",
       "   converted_usd     avg_delay  \n",
       "0      54273.280 -2.334702e+05  \n",
       "1      79656.600  1.641600e+06  \n",
       "2       2253.860  6.990545e+05  \n",
       "3      33133.290 -1.887923e+05  \n",
       "4      15558.088  6.172800e+06  "
      ]
     },
     "execution_count": 46,
     "metadata": {},
     "output_type": "execute_result"
    }
   ],
   "source": [
    "drop = ['Delay','clear_date']\n",
    "maindata = maindata.drop(columns=drop)\n",
    "maindata.head()"
   ]
  },
  {
   "cell_type": "markdown",
   "id": "f8af384f",
   "metadata": {
    "id": "ae724bfc",
    "papermill": {
     "duration": 0.064346,
     "end_time": "2023-02-20T19:19:24.699357",
     "exception": false,
     "start_time": "2023-02-20T19:19:24.635011",
     "status": "completed"
    },
    "tags": []
   },
   "source": [
    "# Splitting of Train and the Test Data"
   ]
  },
  {
   "cell_type": "markdown",
   "id": "71547147",
   "metadata": {
    "id": "cb6f0264",
    "papermill": {
     "duration": 0.063246,
     "end_time": "2023-02-20T19:19:24.827770",
     "exception": false,
     "start_time": "2023-02-20T19:19:24.764524",
     "status": "completed"
    },
    "tags": []
   },
   "source": [
    "### You need to split the \"maindata\" columns into X and y dataframe\n",
    "\n",
    "- Note - y should have the target column i.e. \"avg_delay\" and the other column should be in X\n",
    "\n",
    "- X is going to hold the source fields and y will be going to hold the target fields"
   ]
  },
  {
   "cell_type": "code",
   "execution_count": 47,
   "id": "69ed72bb",
   "metadata": {
    "execution": {
     "iopub.execute_input": "2023-02-20T19:19:24.958755Z",
     "iopub.status.busy": "2023-02-20T19:19:24.958330Z",
     "iopub.status.idle": "2023-02-20T19:19:24.980647Z",
     "shell.execute_reply": "2023-02-20T19:19:24.979539Z"
    },
    "id": "75ab29ab",
    "outputId": "ced67ab4-d460-4548-a7cb-0e6797671a22",
    "papermill": {
     "duration": 0.09084,
     "end_time": "2023-02-20T19:19:24.983287",
     "exception": false,
     "start_time": "2023-02-20T19:19:24.892447",
     "status": "completed"
    },
    "tags": []
   },
   "outputs": [
    {
     "data": {
      "text/html": [
       "<div>\n",
       "<style scoped>\n",
       "    .dataframe tbody tr th:only-of-type {\n",
       "        vertical-align: middle;\n",
       "    }\n",
       "\n",
       "    .dataframe tbody tr th {\n",
       "        vertical-align: top;\n",
       "    }\n",
       "\n",
       "    .dataframe thead th {\n",
       "        text-align: right;\n",
       "    }\n",
       "</style>\n",
       "<table border=\"1\" class=\"dataframe\">\n",
       "  <thead>\n",
       "    <tr style=\"text-align: right;\">\n",
       "      <th></th>\n",
       "      <th>business_code</th>\n",
       "      <th>cust_number</th>\n",
       "      <th>name_customer</th>\n",
       "      <th>buisness_year</th>\n",
       "      <th>doc_id</th>\n",
       "      <th>posting_date</th>\n",
       "      <th>due_in_date</th>\n",
       "      <th>baseline_create_date</th>\n",
       "      <th>cust_payment_terms</th>\n",
       "      <th>converted_usd</th>\n",
       "    </tr>\n",
       "  </thead>\n",
       "  <tbody>\n",
       "    <tr>\n",
       "      <th>0</th>\n",
       "      <td>U001</td>\n",
       "      <td>0200769623</td>\n",
       "      <td>WAL-MAR corp</td>\n",
       "      <td>2020.0</td>\n",
       "      <td>1.930438e+09</td>\n",
       "      <td>2020-01-26</td>\n",
       "      <td>2020-02-10</td>\n",
       "      <td>2020-01-26</td>\n",
       "      <td>NAH4</td>\n",
       "      <td>54273.280</td>\n",
       "    </tr>\n",
       "    <tr>\n",
       "      <th>1</th>\n",
       "      <td>U001</td>\n",
       "      <td>0200980828</td>\n",
       "      <td>BEN E</td>\n",
       "      <td>2019.0</td>\n",
       "      <td>1.929646e+09</td>\n",
       "      <td>2019-07-22</td>\n",
       "      <td>2019-08-11</td>\n",
       "      <td>2019-07-22</td>\n",
       "      <td>NAD1</td>\n",
       "      <td>79656.600</td>\n",
       "    </tr>\n",
       "    <tr>\n",
       "      <th>2</th>\n",
       "      <td>U001</td>\n",
       "      <td>0200792734</td>\n",
       "      <td>MDV/ trust</td>\n",
       "      <td>2019.0</td>\n",
       "      <td>1.929874e+09</td>\n",
       "      <td>2019-09-14</td>\n",
       "      <td>2019-09-29</td>\n",
       "      <td>2019-09-14</td>\n",
       "      <td>NAA8</td>\n",
       "      <td>2253.860</td>\n",
       "    </tr>\n",
       "    <tr>\n",
       "      <th>3</th>\n",
       "      <td>U001</td>\n",
       "      <td>0200769623</td>\n",
       "      <td>WAL-MAR foundation</td>\n",
       "      <td>2019.0</td>\n",
       "      <td>1.930148e+09</td>\n",
       "      <td>2019-11-13</td>\n",
       "      <td>2019-11-28</td>\n",
       "      <td>2019-11-13</td>\n",
       "      <td>NAH4</td>\n",
       "      <td>33133.290</td>\n",
       "    </tr>\n",
       "    <tr>\n",
       "      <th>4</th>\n",
       "      <td>CA02</td>\n",
       "      <td>0140106181</td>\n",
       "      <td>THE  corporation</td>\n",
       "      <td>2019.0</td>\n",
       "      <td>2.960581e+09</td>\n",
       "      <td>2019-09-20</td>\n",
       "      <td>2019-10-04</td>\n",
       "      <td>2019-09-24</td>\n",
       "      <td>CA10</td>\n",
       "      <td>15558.088</td>\n",
       "    </tr>\n",
       "  </tbody>\n",
       "</table>\n",
       "</div>"
      ],
      "text/plain": [
       "  business_code cust_number       name_customer  buisness_year        doc_id  \\\n",
       "0          U001  0200769623        WAL-MAR corp         2020.0  1.930438e+09   \n",
       "1          U001  0200980828              BEN E          2019.0  1.929646e+09   \n",
       "2          U001  0200792734          MDV/ trust         2019.0  1.929874e+09   \n",
       "3          U001  0200769623  WAL-MAR foundation         2019.0  1.930148e+09   \n",
       "4          CA02  0140106181    THE  corporation         2019.0  2.960581e+09   \n",
       "\n",
       "  posting_date due_in_date baseline_create_date cust_payment_terms  \\\n",
       "0   2020-01-26  2020-02-10           2020-01-26               NAH4   \n",
       "1   2019-07-22  2019-08-11           2019-07-22               NAD1   \n",
       "2   2019-09-14  2019-09-29           2019-09-14               NAA8   \n",
       "3   2019-11-13  2019-11-28           2019-11-13               NAH4   \n",
       "4   2019-09-20  2019-10-04           2019-09-24               CA10   \n",
       "\n",
       "   converted_usd  \n",
       "0      54273.280  \n",
       "1      79656.600  \n",
       "2       2253.860  \n",
       "3      33133.290  \n",
       "4      15558.088  "
      ]
     },
     "execution_count": 47,
     "metadata": {},
     "output_type": "execute_result"
    }
   ],
   "source": [
    "X = maindata.iloc[:, 0:10]\n",
    "X.head()"
   ]
  },
  {
   "cell_type": "code",
   "execution_count": 48,
   "id": "cceb92f2",
   "metadata": {
    "execution": {
     "iopub.execute_input": "2023-02-20T19:19:25.115299Z",
     "iopub.status.busy": "2023-02-20T19:19:25.114916Z",
     "iopub.status.idle": "2023-02-20T19:19:25.125010Z",
     "shell.execute_reply": "2023-02-20T19:19:25.124207Z"
    },
    "id": "6412c62b",
    "outputId": "86aba38f-115d-4520-ae37-9a6fc162d51e",
    "papermill": {
     "duration": 0.078582,
     "end_time": "2023-02-20T19:19:25.127098",
     "exception": false,
     "start_time": "2023-02-20T19:19:25.048516",
     "status": "completed"
    },
    "tags": []
   },
   "outputs": [
    {
     "data": {
      "text/html": [
       "<div>\n",
       "<style scoped>\n",
       "    .dataframe tbody tr th:only-of-type {\n",
       "        vertical-align: middle;\n",
       "    }\n",
       "\n",
       "    .dataframe tbody tr th {\n",
       "        vertical-align: top;\n",
       "    }\n",
       "\n",
       "    .dataframe thead th {\n",
       "        text-align: right;\n",
       "    }\n",
       "</style>\n",
       "<table border=\"1\" class=\"dataframe\">\n",
       "  <thead>\n",
       "    <tr style=\"text-align: right;\">\n",
       "      <th></th>\n",
       "      <th>avg_delay</th>\n",
       "    </tr>\n",
       "  </thead>\n",
       "  <tbody>\n",
       "    <tr>\n",
       "      <th>0</th>\n",
       "      <td>-2.334702e+05</td>\n",
       "    </tr>\n",
       "    <tr>\n",
       "      <th>1</th>\n",
       "      <td>1.641600e+06</td>\n",
       "    </tr>\n",
       "    <tr>\n",
       "      <th>2</th>\n",
       "      <td>6.990545e+05</td>\n",
       "    </tr>\n",
       "    <tr>\n",
       "      <th>3</th>\n",
       "      <td>-1.887923e+05</td>\n",
       "    </tr>\n",
       "    <tr>\n",
       "      <th>4</th>\n",
       "      <td>6.172800e+06</td>\n",
       "    </tr>\n",
       "  </tbody>\n",
       "</table>\n",
       "</div>"
      ],
      "text/plain": [
       "      avg_delay\n",
       "0 -2.334702e+05\n",
       "1  1.641600e+06\n",
       "2  6.990545e+05\n",
       "3 -1.887923e+05\n",
       "4  6.172800e+06"
      ]
     },
     "execution_count": 48,
     "metadata": {},
     "output_type": "execute_result"
    }
   ],
   "source": [
    "Y = maindata.iloc[:,-1:]\n",
    "Y.head()"
   ]
  },
  {
   "cell_type": "markdown",
   "id": "8ee69560",
   "metadata": {
    "id": "1c2942bf",
    "papermill": {
     "duration": 0.064703,
     "end_time": "2023-02-20T19:19:25.256231",
     "exception": false,
     "start_time": "2023-02-20T19:19:25.191528",
     "status": "completed"
    },
    "tags": []
   },
   "source": [
    "#### You are expected to split both the dataframes into train and test format in 60:40 ratio \n",
    "\n",
    "- Note - The expected output should be in \"X_train\", \"X_loc_test\", \"y_train\", \"y_loc_test\" format "
   ]
  },
  {
   "cell_type": "code",
   "execution_count": 49,
   "id": "0262df46",
   "metadata": {
    "execution": {
     "iopub.execute_input": "2023-02-20T19:19:25.387937Z",
     "iopub.status.busy": "2023-02-20T19:19:25.387548Z",
     "iopub.status.idle": "2023-02-20T19:19:25.409343Z",
     "shell.execute_reply": "2023-02-20T19:19:25.408502Z"
    },
    "id": "d92160a5",
    "papermill": {
     "duration": 0.090556,
     "end_time": "2023-02-20T19:19:25.411997",
     "exception": false,
     "start_time": "2023-02-20T19:19:25.321441",
     "status": "completed"
    },
    "tags": []
   },
   "outputs": [],
   "source": [
    "X_train, X_loc_test, y_train, y_loc_test = train_test_split(X, Y, test_size=0.4)"
   ]
  },
  {
   "cell_type": "markdown",
   "id": "3e900d61",
   "metadata": {
    "id": "p4OME62pDufR",
    "papermill": {
     "duration": 0.065441,
     "end_time": "2023-02-20T19:19:25.542783",
     "exception": false,
     "start_time": "2023-02-20T19:19:25.477342",
     "status": "completed"
    },
    "tags": []
   },
   "source": [
    "### Please check for the number of rows and columns of all the new dataframes (all 4)"
   ]
  },
  {
   "cell_type": "code",
   "execution_count": 50,
   "id": "2ecabc7c",
   "metadata": {
    "execution": {
     "iopub.execute_input": "2023-02-20T19:19:25.673808Z",
     "iopub.status.busy": "2023-02-20T19:19:25.673358Z",
     "iopub.status.idle": "2023-02-20T19:19:25.680100Z",
     "shell.execute_reply": "2023-02-20T19:19:25.678426Z"
    },
    "id": "48328d0a",
    "outputId": "382b8669-0300-45e4-ac9d-c5ce732a28df",
    "papermill": {
     "duration": 0.076063,
     "end_time": "2023-02-20T19:19:25.683866",
     "exception": false,
     "start_time": "2023-02-20T19:19:25.607803",
     "status": "completed"
    },
    "tags": []
   },
   "outputs": [
    {
     "name": "stdout",
     "output_type": "stream",
     "text": [
      "(23494, 10)\n",
      "(15664, 10)\n",
      "(23494, 1)\n",
      "(15664, 1)\n"
     ]
    }
   ],
   "source": [
    "print(X_train.shape)\n",
    "print(X_loc_test.shape)\n",
    "print(y_train.shape)\n",
    "print(y_loc_test.shape)"
   ]
  },
  {
   "cell_type": "markdown",
   "id": "b5d8c232",
   "metadata": {
    "id": "4a68ed71",
    "papermill": {
     "duration": 0.06499,
     "end_time": "2023-02-20T19:19:25.813684",
     "exception": false,
     "start_time": "2023-02-20T19:19:25.748694",
     "status": "completed"
    },
    "tags": []
   },
   "source": [
    "### Now you are expected to split the \"X_loc_test\" and \"y_loc_test\" dataset into \"Test\" and \"Validation\" (as the names given below) dataframe with 50:50 format \n",
    "\n",
    "- Note - The expected output should be in \"X_val\", \"X_test\", \"y_val\", \"y_test\" format"
   ]
  },
  {
   "cell_type": "code",
   "execution_count": 51,
   "id": "dc895fca",
   "metadata": {
    "execution": {
     "iopub.execute_input": "2023-02-20T19:19:25.945626Z",
     "iopub.status.busy": "2023-02-20T19:19:25.945176Z",
     "iopub.status.idle": "2023-02-20T19:19:25.957694Z",
     "shell.execute_reply": "2023-02-20T19:19:25.956524Z"
    },
    "id": "b56c62f2",
    "papermill": {
     "duration": 0.081986,
     "end_time": "2023-02-20T19:19:25.960846",
     "exception": false,
     "start_time": "2023-02-20T19:19:25.878860",
     "status": "completed"
    },
    "tags": []
   },
   "outputs": [],
   "source": [
    "X_val,X_test,y_val,y_test = train_test_split(X_loc_test, y_loc_test, test_size=0.5)"
   ]
  },
  {
   "cell_type": "markdown",
   "id": "b2901b4c",
   "metadata": {
    "id": "bJTSAskvERH1",
    "papermill": {
     "duration": 0.064407,
     "end_time": "2023-02-20T19:19:26.090296",
     "exception": false,
     "start_time": "2023-02-20T19:19:26.025889",
     "status": "completed"
    },
    "tags": []
   },
   "source": [
    "### Please check for the number of rows and columns of all the 4 dataframes "
   ]
  },
  {
   "cell_type": "code",
   "execution_count": 52,
   "id": "2cb00e3b",
   "metadata": {
    "execution": {
     "iopub.execute_input": "2023-02-20T19:19:26.222245Z",
     "iopub.status.busy": "2023-02-20T19:19:26.221805Z",
     "iopub.status.idle": "2023-02-20T19:19:26.230155Z",
     "shell.execute_reply": "2023-02-20T19:19:26.228508Z"
    },
    "id": "845d7564",
    "outputId": "408055fc-f117-436e-8901-46bff90123eb",
    "papermill": {
     "duration": 0.078267,
     "end_time": "2023-02-20T19:19:26.233231",
     "exception": false,
     "start_time": "2023-02-20T19:19:26.154964",
     "status": "completed"
    },
    "tags": []
   },
   "outputs": [
    {
     "name": "stdout",
     "output_type": "stream",
     "text": [
      "(7832, 10)\n",
      "(7832, 10)\n",
      "(7832, 1)\n",
      "(7832, 1)\n"
     ]
    }
   ],
   "source": [
    "print(X_val.shape)\n",
    "print(X_test.shape)\n",
    "print(y_val.shape)\n",
    "print(y_test.shape)"
   ]
  },
  {
   "cell_type": "markdown",
   "id": "165a986c",
   "metadata": {
    "id": "110fa872",
    "papermill": {
     "duration": 0.064312,
     "end_time": "2023-02-20T19:19:26.362636",
     "exception": false,
     "start_time": "2023-02-20T19:19:26.298324",
     "status": "completed"
    },
    "tags": []
   },
   "source": [
    "# Exploratory Data Analysis (EDA) "
   ]
  },
  {
   "cell_type": "markdown",
   "id": "c2a5cbfa",
   "metadata": {
    "id": "ffc8fe0f",
    "papermill": {
     "duration": 0.064396,
     "end_time": "2023-02-20T19:19:26.491500",
     "exception": false,
     "start_time": "2023-02-20T19:19:26.427104",
     "status": "completed"
    },
    "tags": []
   },
   "source": [
    "### Distribution Plot of the target variable (use the dataframe which contains the target field)\n",
    "\n",
    "- Note - You are expected to make a distribution plot for the target variable "
   ]
  },
  {
   "cell_type": "code",
   "execution_count": 53,
   "id": "cc6e68e9",
   "metadata": {
    "execution": {
     "iopub.execute_input": "2023-02-20T19:19:26.622597Z",
     "iopub.status.busy": "2023-02-20T19:19:26.622138Z",
     "iopub.status.idle": "2023-02-20T19:19:27.323930Z",
     "shell.execute_reply": "2023-02-20T19:19:27.322759Z"
    },
    "papermill": {
     "duration": 0.770331,
     "end_time": "2023-02-20T19:19:27.326387",
     "exception": false,
     "start_time": "2023-02-20T19:19:26.556056",
     "status": "completed"
    },
    "scrolled": true,
    "tags": []
   },
   "outputs": [
    {
     "data": {
      "text/plain": [
       "<seaborn.axisgrid.FacetGrid at 0x7f21f06e8210>"
      ]
     },
     "execution_count": 53,
     "metadata": {},
     "output_type": "execute_result"
    },
    {
     "data": {
      "image/png": "[encoded data removed]",
      "text/plain": [
       "<Figure size 500x500 with 1 Axes>"
      ]
     },
     "metadata": {},
     "output_type": "display_data"
    }
   ],
   "source": [
    "sns.set_style(\"whitegrid\")\n",
    "sns.displot(data=y_train,kind=\"kde\",color ='#F08080',x='avg_delay')"
   ]
  },
  {
   "cell_type": "markdown",
   "id": "903f5086",
   "metadata": {
    "id": "d0e323a3",
    "papermill": {
     "duration": 0.064529,
     "end_time": "2023-02-20T19:19:27.456823",
     "exception": false,
     "start_time": "2023-02-20T19:19:27.392294",
     "status": "completed"
    },
    "tags": []
   },
   "source": [
    "### You are expected to group the X_train dataset on 'name_customer' column with 'doc_id' in the x_train set\n",
    "\n",
    "### Need to store the outcome into a new dataframe \n",
    "\n",
    "- Note code given for groupby statement- X_train.groupby(by=['name_customer'], as_index=False)['doc_id'].count()"
   ]
  },
  {
   "cell_type": "code",
   "execution_count": 54,
   "id": "ca1b5f48",
   "metadata": {
    "execution": {
     "iopub.execute_input": "2023-02-20T19:19:27.589246Z",
     "iopub.status.busy": "2023-02-20T19:19:27.588516Z",
     "iopub.status.idle": "2023-02-20T19:19:27.610883Z",
     "shell.execute_reply": "2023-02-20T19:19:27.609670Z"
    },
    "id": "f7acf0ee",
    "papermill": {
     "duration": 0.091288,
     "end_time": "2023-02-20T19:19:27.613446",
     "exception": false,
     "start_time": "2023-02-20T19:19:27.522158",
     "status": "completed"
    },
    "tags": []
   },
   "outputs": [
    {
     "data": {
      "text/html": [
       "<div>\n",
       "<style scoped>\n",
       "    .dataframe tbody tr th:only-of-type {\n",
       "        vertical-align: middle;\n",
       "    }\n",
       "\n",
       "    .dataframe tbody tr th {\n",
       "        vertical-align: top;\n",
       "    }\n",
       "\n",
       "    .dataframe thead th {\n",
       "        text-align: right;\n",
       "    }\n",
       "</style>\n",
       "<table border=\"1\" class=\"dataframe\">\n",
       "  <thead>\n",
       "    <tr style=\"text-align: right;\">\n",
       "      <th></th>\n",
       "      <th>name_customer</th>\n",
       "      <th>doc_id</th>\n",
       "    </tr>\n",
       "  </thead>\n",
       "  <tbody>\n",
       "    <tr>\n",
       "      <th>0</th>\n",
       "      <td>11078 us</td>\n",
       "      <td>1</td>\n",
       "    </tr>\n",
       "    <tr>\n",
       "      <th>1</th>\n",
       "      <td>17135 associates</td>\n",
       "      <td>1</td>\n",
       "    </tr>\n",
       "    <tr>\n",
       "      <th>2</th>\n",
       "      <td>17135 llc</td>\n",
       "      <td>1</td>\n",
       "    </tr>\n",
       "    <tr>\n",
       "      <th>3</th>\n",
       "      <td>236008 associates</td>\n",
       "      <td>1</td>\n",
       "    </tr>\n",
       "    <tr>\n",
       "      <th>4</th>\n",
       "      <td>99 CE</td>\n",
       "      <td>1</td>\n",
       "    </tr>\n",
       "    <tr>\n",
       "      <th>...</th>\n",
       "      <td>...</td>\n",
       "      <td>...</td>\n",
       "    </tr>\n",
       "    <tr>\n",
       "      <th>3059</th>\n",
       "      <td>YAEGER in</td>\n",
       "      <td>1</td>\n",
       "    </tr>\n",
       "    <tr>\n",
       "      <th>3060</th>\n",
       "      <td>YEN BROS</td>\n",
       "      <td>1</td>\n",
       "    </tr>\n",
       "    <tr>\n",
       "      <th>3061</th>\n",
       "      <td>YEN BROS co</td>\n",
       "      <td>1</td>\n",
       "    </tr>\n",
       "    <tr>\n",
       "      <th>3062</th>\n",
       "      <td>YEN BROS corporation</td>\n",
       "      <td>2</td>\n",
       "    </tr>\n",
       "    <tr>\n",
       "      <th>3063</th>\n",
       "      <td>ZARCO co</td>\n",
       "      <td>1</td>\n",
       "    </tr>\n",
       "  </tbody>\n",
       "</table>\n",
       "<p>3064 rows × 2 columns</p>\n",
       "</div>"
      ],
      "text/plain": [
       "             name_customer  doc_id\n",
       "0                 11078 us       1\n",
       "1         17135 associates       1\n",
       "2                17135 llc       1\n",
       "3        236008 associates       1\n",
       "4                   99 CE        1\n",
       "...                    ...     ...\n",
       "3059             YAEGER in       1\n",
       "3060             YEN BROS        1\n",
       "3061           YEN BROS co       1\n",
       "3062  YEN BROS corporation       2\n",
       "3063              ZARCO co       1\n",
       "\n",
       "[3064 rows x 2 columns]"
      ]
     },
     "execution_count": 54,
     "metadata": {},
     "output_type": "execute_result"
    }
   ],
   "source": [
    "x_train = pd.DataFrame((X_train.groupby(by=['name_customer'], as_index=False)['doc_id'].count()))\n",
    "x_train"
   ]
  },
  {
   "cell_type": "markdown",
   "id": "402e553d",
   "metadata": {
    "id": "cA43bFffFt6i",
    "papermill": {
     "duration": 0.06721,
     "end_time": "2023-02-20T19:19:27.746103",
     "exception": false,
     "start_time": "2023-02-20T19:19:27.678893",
     "status": "completed"
    },
    "tags": []
   },
   "source": [
    "### You can make another distribution plot of the \"doc_id\" column from x_train"
   ]
  },
  {
   "cell_type": "code",
   "execution_count": 55,
   "id": "5df7ddea",
   "metadata": {
    "execution": {
     "iopub.execute_input": "2023-02-20T19:19:27.881339Z",
     "iopub.status.busy": "2023-02-20T19:19:27.880945Z",
     "iopub.status.idle": "2023-02-20T19:19:28.259825Z",
     "shell.execute_reply": "2023-02-20T19:19:28.258888Z"
    },
    "id": "9576bf33",
    "papermill": {
     "duration": 0.44914,
     "end_time": "2023-02-20T19:19:28.262382",
     "exception": false,
     "start_time": "2023-02-20T19:19:27.813242",
     "status": "completed"
    },
    "tags": []
   },
   "outputs": [
    {
     "name": "stderr",
     "output_type": "stream",
     "text": [
      "/opt/conda/lib/python3.7/site-packages/ipykernel_launcher.py:1: UserWarning: \n",
      "\n",
      "`distplot` is a deprecated function and will be removed in seaborn v0.14.0.\n",
      "\n",
      "Please adapt your code to use either `displot` (a figure-level function with\n",
      "similar flexibility) or `histplot` (an axes-level function for histograms).\n",
      "\n",
      "For a guide to updating your code to use the new functions, please see\n",
      "https://gist.github.com/mwaskom/de44147ed2974457ad6372750bbe5751\n",
      "\n",
      "  \"\"\"Entry point for launching an IPython kernel.\n"
     ]
    },
    {
     "data": {
      "image/png": "[encoded data removed]",
      "text/plain": [
       "<Figure size 640x480 with 1 Axes>"
      ]
     },
     "metadata": {},
     "output_type": "display_data"
    }
   ],
   "source": [
    "sns.distplot(x_train['doc_id'],color='blue')\n",
    "plt.show()"
   ]
  },
  {
   "cell_type": "markdown",
   "id": "a005126a",
   "metadata": {
    "id": "fba2c44f",
    "papermill": {
     "duration": 0.065478,
     "end_time": "2023-02-20T19:19:28.394129",
     "exception": false,
     "start_time": "2023-02-20T19:19:28.328651",
     "status": "completed"
    },
    "tags": []
   },
   "source": [
    "#### Create a Distribution plot only for business_year and a seperate distribution plot of \"business_year\" column along with the doc_id\" column\n"
   ]
  },
  {
   "cell_type": "code",
   "execution_count": 56,
   "id": "2e7fad4b",
   "metadata": {
    "execution": {
     "iopub.execute_input": "2023-02-20T19:19:28.528642Z",
     "iopub.status.busy": "2023-02-20T19:19:28.528103Z",
     "iopub.status.idle": "2023-02-20T19:19:29.071485Z",
     "shell.execute_reply": "2023-02-20T19:19:29.070249Z"
    },
    "papermill": {
     "duration": 0.613467,
     "end_time": "2023-02-20T19:19:29.074119",
     "exception": false,
     "start_time": "2023-02-20T19:19:28.460652",
     "status": "completed"
    },
    "scrolled": true,
    "tags": []
   },
   "outputs": [
    {
     "name": "stderr",
     "output_type": "stream",
     "text": [
      "/opt/conda/lib/python3.7/site-packages/ipykernel_launcher.py:1: UserWarning: \n",
      "\n",
      "`distplot` is a deprecated function and will be removed in seaborn v0.14.0.\n",
      "\n",
      "Please adapt your code to use either `displot` (a figure-level function with\n",
      "similar flexibility) or `histplot` (an axes-level function for histograms).\n",
      "\n",
      "For a guide to updating your code to use the new functions, please see\n",
      "https://gist.github.com/mwaskom/de44147ed2974457ad6372750bbe5751\n",
      "\n",
      "  \"\"\"Entry point for launching an IPython kernel.\n"
     ]
    },
    {
     "data": {
      "text/plain": [
       "<AxesSubplot:xlabel='buisness_year', ylabel='Density'>"
      ]
     },
     "execution_count": 56,
     "metadata": {},
     "output_type": "execute_result"
    },
    {
     "data": {
      "image/png": "[encoded data removed]",
      "text/plain": [
       "<Figure size 640x480 with 1 Axes>"
      ]
     },
     "metadata": {},
     "output_type": "display_data"
    }
   ],
   "source": [
    "sns.distplot(X_train['buisness_year'])"
   ]
  },
  {
   "cell_type": "code",
   "execution_count": 57,
   "id": "2952f952",
   "metadata": {
    "execution": {
     "iopub.execute_input": "2023-02-20T19:19:29.208911Z",
     "iopub.status.busy": "2023-02-20T19:19:29.208510Z",
     "iopub.status.idle": "2023-02-20T19:19:29.766226Z",
     "shell.execute_reply": "2023-02-20T19:19:29.765022Z"
    },
    "id": "qr1jGhfOKjnw",
    "papermill": {
     "duration": 0.628295,
     "end_time": "2023-02-20T19:19:29.769006",
     "exception": false,
     "start_time": "2023-02-20T19:19:29.140711",
     "status": "completed"
    },
    "tags": []
   },
   "outputs": [
    {
     "name": "stderr",
     "output_type": "stream",
     "text": [
      "/opt/conda/lib/python3.7/site-packages/ipykernel_launcher.py:1: UserWarning: \n",
      "\n",
      "`distplot` is a deprecated function and will be removed in seaborn v0.14.0.\n",
      "\n",
      "Please adapt your code to use either `displot` (a figure-level function with\n",
      "similar flexibility) or `histplot` (an axes-level function for histograms).\n",
      "\n",
      "For a guide to updating your code to use the new functions, please see\n",
      "https://gist.github.com/mwaskom/de44147ed2974457ad6372750bbe5751\n",
      "\n",
      "  \"\"\"Entry point for launching an IPython kernel.\n"
     ]
    },
    {
     "data": {
      "text/plain": [
       "<AxesSubplot:ylabel='Density'>"
      ]
     },
     "execution_count": 57,
     "metadata": {},
     "output_type": "execute_result"
    },
    {
     "data": {
      "image/png": "[encoded data removed]",
      "text/plain": [
       "<Figure size 640x480 with 1 Axes>"
      ]
     },
     "metadata": {},
     "output_type": "display_data"
    }
   ],
   "source": [
    "sns.distplot(X_train[['buisness_year','doc_id']],color='#D1A8BA', bins =10)"
   ]
  },
  {
   "cell_type": "markdown",
   "id": "f376a631",
   "metadata": {
    "id": "968fbcc9",
    "papermill": {
     "duration": 0.06727,
     "end_time": "2023-02-20T19:19:29.906193",
     "exception": false,
     "start_time": "2023-02-20T19:19:29.838923",
     "status": "completed"
    },
    "tags": []
   },
   "source": [
    "# Feature Engineering "
   ]
  },
  {
   "cell_type": "markdown",
   "id": "fc34459e",
   "metadata": {
    "id": "jbh6CyGqH3XE",
    "papermill": {
     "duration": 0.068596,
     "end_time": "2023-02-20T19:19:30.043071",
     "exception": false,
     "start_time": "2023-02-20T19:19:29.974475",
     "status": "completed"
    },
    "tags": []
   },
   "source": [
    "### Display and describe the X_train dataframe "
   ]
  },
  {
   "cell_type": "code",
   "execution_count": 58,
   "id": "718dd823",
   "metadata": {
    "execution": {
     "iopub.execute_input": "2023-02-20T19:19:30.180144Z",
     "iopub.status.busy": "2023-02-20T19:19:30.179502Z",
     "iopub.status.idle": "2023-02-20T19:19:30.204543Z",
     "shell.execute_reply": "2023-02-20T19:19:30.203208Z"
    },
    "id": "e6bcf307",
    "papermill": {
     "duration": 0.096269,
     "end_time": "2023-02-20T19:19:30.207122",
     "exception": false,
     "start_time": "2023-02-20T19:19:30.110853",
     "status": "completed"
    },
    "tags": []
   },
   "outputs": [
    {
     "data": {
      "text/html": [
       "<div>\n",
       "<style scoped>\n",
       "    .dataframe tbody tr th:only-of-type {\n",
       "        vertical-align: middle;\n",
       "    }\n",
       "\n",
       "    .dataframe tbody tr th {\n",
       "        vertical-align: top;\n",
       "    }\n",
       "\n",
       "    .dataframe thead th {\n",
       "        text-align: right;\n",
       "    }\n",
       "</style>\n",
       "<table border=\"1\" class=\"dataframe\">\n",
       "  <thead>\n",
       "    <tr style=\"text-align: right;\">\n",
       "      <th></th>\n",
       "      <th>business_code</th>\n",
       "      <th>cust_number</th>\n",
       "      <th>name_customer</th>\n",
       "      <th>buisness_year</th>\n",
       "      <th>doc_id</th>\n",
       "      <th>posting_date</th>\n",
       "      <th>due_in_date</th>\n",
       "      <th>baseline_create_date</th>\n",
       "      <th>cust_payment_terms</th>\n",
       "      <th>converted_usd</th>\n",
       "    </tr>\n",
       "  </thead>\n",
       "  <tbody>\n",
       "    <tr>\n",
       "      <th>8510</th>\n",
       "      <td>U001</td>\n",
       "      <td>0200560331</td>\n",
       "      <td>KERR co</td>\n",
       "      <td>2019.0</td>\n",
       "      <td>1.929482e+09</td>\n",
       "      <td>2019-06-14</td>\n",
       "      <td>2019-09-12</td>\n",
       "      <td>2019-06-14</td>\n",
       "      <td>NAVM</td>\n",
       "      <td>62309.25</td>\n",
       "    </tr>\n",
       "    <tr>\n",
       "      <th>35188</th>\n",
       "      <td>U001</td>\n",
       "      <td>0200029010</td>\n",
       "      <td>KROG corporation</td>\n",
       "      <td>2019.0</td>\n",
       "      <td>1.929426e+09</td>\n",
       "      <td>2019-06-04</td>\n",
       "      <td>2019-06-19</td>\n",
       "      <td>2019-06-04</td>\n",
       "      <td>NAA8</td>\n",
       "      <td>73689.09</td>\n",
       "    </tr>\n",
       "    <tr>\n",
       "      <th>26671</th>\n",
       "      <td>U001</td>\n",
       "      <td>0200592182</td>\n",
       "      <td>DECA corp</td>\n",
       "      <td>2019.0</td>\n",
       "      <td>1.928791e+09</td>\n",
       "      <td>2019-02-13</td>\n",
       "      <td>2019-02-24</td>\n",
       "      <td>2019-02-01</td>\n",
       "      <td>NAM4</td>\n",
       "      <td>7672.48</td>\n",
       "    </tr>\n",
       "    <tr>\n",
       "      <th>18214</th>\n",
       "      <td>U001</td>\n",
       "      <td>CCU002</td>\n",
       "      <td>KRFT FDS</td>\n",
       "      <td>2019.0</td>\n",
       "      <td>1.930097e+09</td>\n",
       "      <td>2019-11-08</td>\n",
       "      <td>2019-12-13</td>\n",
       "      <td>2019-11-08</td>\n",
       "      <td>NAG2</td>\n",
       "      <td>63185.27</td>\n",
       "    </tr>\n",
       "    <tr>\n",
       "      <th>17404</th>\n",
       "      <td>U001</td>\n",
       "      <td>0200769623</td>\n",
       "      <td>WAL-MAR corp</td>\n",
       "      <td>2019.0</td>\n",
       "      <td>1.928813e+09</td>\n",
       "      <td>2019-02-18</td>\n",
       "      <td>2019-03-05</td>\n",
       "      <td>2019-02-18</td>\n",
       "      <td>NAH4</td>\n",
       "      <td>8121.28</td>\n",
       "    </tr>\n",
       "    <tr>\n",
       "      <th>...</th>\n",
       "      <td>...</td>\n",
       "      <td>...</td>\n",
       "      <td>...</td>\n",
       "      <td>...</td>\n",
       "      <td>...</td>\n",
       "      <td>...</td>\n",
       "      <td>...</td>\n",
       "      <td>...</td>\n",
       "      <td>...</td>\n",
       "      <td>...</td>\n",
       "    </tr>\n",
       "    <tr>\n",
       "      <th>18838</th>\n",
       "      <td>U001</td>\n",
       "      <td>0200865666</td>\n",
       "      <td>RESTAU foundation</td>\n",
       "      <td>2019.0</td>\n",
       "      <td>1.929563e+09</td>\n",
       "      <td>2019-07-01</td>\n",
       "      <td>2019-07-16</td>\n",
       "      <td>2019-07-01</td>\n",
       "      <td>NAA8</td>\n",
       "      <td>5331.98</td>\n",
       "    </tr>\n",
       "    <tr>\n",
       "      <th>15942</th>\n",
       "      <td>U001</td>\n",
       "      <td>0200772670</td>\n",
       "      <td>ASSOCIAT corp</td>\n",
       "      <td>2019.0</td>\n",
       "      <td>1.929797e+09</td>\n",
       "      <td>2019-08-26</td>\n",
       "      <td>2019-09-10</td>\n",
       "      <td>2019-08-26</td>\n",
       "      <td>NAU5</td>\n",
       "      <td>1749.94</td>\n",
       "    </tr>\n",
       "    <tr>\n",
       "      <th>15034</th>\n",
       "      <td>U001</td>\n",
       "      <td>0200705372</td>\n",
       "      <td>FR in</td>\n",
       "      <td>2019.0</td>\n",
       "      <td>1.929670e+09</td>\n",
       "      <td>2019-07-29</td>\n",
       "      <td>2019-08-13</td>\n",
       "      <td>2019-07-29</td>\n",
       "      <td>NAA8</td>\n",
       "      <td>45345.65</td>\n",
       "    </tr>\n",
       "    <tr>\n",
       "      <th>13525</th>\n",
       "      <td>U001</td>\n",
       "      <td>0200769623</td>\n",
       "      <td>WAL-MAR corp</td>\n",
       "      <td>2019.0</td>\n",
       "      <td>1.930059e+09</td>\n",
       "      <td>2019-10-28</td>\n",
       "      <td>2019-11-12</td>\n",
       "      <td>2019-10-28</td>\n",
       "      <td>NAH4</td>\n",
       "      <td>54609.17</td>\n",
       "    </tr>\n",
       "    <tr>\n",
       "      <th>24437</th>\n",
       "      <td>U001</td>\n",
       "      <td>0200230690</td>\n",
       "      <td>DECA systems</td>\n",
       "      <td>2019.0</td>\n",
       "      <td>1.929515e+09</td>\n",
       "      <td>2019-06-19</td>\n",
       "      <td>2019-07-09</td>\n",
       "      <td>2019-06-16</td>\n",
       "      <td>NAM4</td>\n",
       "      <td>5303.88</td>\n",
       "    </tr>\n",
       "  </tbody>\n",
       "</table>\n",
       "<p>23494 rows × 10 columns</p>\n",
       "</div>"
      ],
      "text/plain": [
       "      business_code cust_number      name_customer  buisness_year  \\\n",
       "8510           U001  0200560331            KERR co         2019.0   \n",
       "35188          U001  0200029010   KROG corporation         2019.0   \n",
       "26671          U001  0200592182          DECA corp         2019.0   \n",
       "18214          U001      CCU002          KRFT FDS          2019.0   \n",
       "17404          U001  0200769623       WAL-MAR corp         2019.0   \n",
       "...             ...         ...                ...            ...   \n",
       "18838          U001  0200865666  RESTAU foundation         2019.0   \n",
       "15942          U001  0200772670      ASSOCIAT corp         2019.0   \n",
       "15034          U001  0200705372              FR in         2019.0   \n",
       "13525          U001  0200769623       WAL-MAR corp         2019.0   \n",
       "24437          U001  0200230690       DECA systems         2019.0   \n",
       "\n",
       "             doc_id posting_date due_in_date baseline_create_date  \\\n",
       "8510   1.929482e+09   2019-06-14  2019-09-12           2019-06-14   \n",
       "35188  1.929426e+09   2019-06-04  2019-06-19           2019-06-04   \n",
       "26671  1.928791e+09   2019-02-13  2019-02-24           2019-02-01   \n",
       "18214  1.930097e+09   2019-11-08  2019-12-13           2019-11-08   \n",
       "17404  1.928813e+09   2019-02-18  2019-03-05           2019-02-18   \n",
       "...             ...          ...         ...                  ...   \n",
       "18838  1.929563e+09   2019-07-01  2019-07-16           2019-07-01   \n",
       "15942  1.929797e+09   2019-08-26  2019-09-10           2019-08-26   \n",
       "15034  1.929670e+09   2019-07-29  2019-08-13           2019-07-29   \n",
       "13525  1.930059e+09   2019-10-28  2019-11-12           2019-10-28   \n",
       "24437  1.929515e+09   2019-06-19  2019-07-09           2019-06-16   \n",
       "\n",
       "      cust_payment_terms  converted_usd  \n",
       "8510                NAVM       62309.25  \n",
       "35188               NAA8       73689.09  \n",
       "26671               NAM4        7672.48  \n",
       "18214               NAG2       63185.27  \n",
       "17404               NAH4        8121.28  \n",
       "...                  ...            ...  \n",
       "18838               NAA8        5331.98  \n",
       "15942               NAU5        1749.94  \n",
       "15034               NAA8       45345.65  \n",
       "13525               NAH4       54609.17  \n",
       "24437               NAM4        5303.88  \n",
       "\n",
       "[23494 rows x 10 columns]"
      ]
     },
     "execution_count": 58,
     "metadata": {},
     "output_type": "execute_result"
    }
   ],
   "source": [
    "X_train"
   ]
  },
  {
   "cell_type": "code",
   "execution_count": 59,
   "id": "45110dbf",
   "metadata": {
    "execution": {
     "iopub.execute_input": "2023-02-20T19:19:30.348580Z",
     "iopub.status.busy": "2023-02-20T19:19:30.348147Z",
     "iopub.status.idle": "2023-02-20T19:19:30.374140Z",
     "shell.execute_reply": "2023-02-20T19:19:30.372844Z"
    },
    "id": "08ccc819",
    "papermill": {
     "duration": 0.104885,
     "end_time": "2023-02-20T19:19:30.380414",
     "exception": false,
     "start_time": "2023-02-20T19:19:30.275529",
     "status": "completed"
    },
    "tags": []
   },
   "outputs": [
    {
     "data": {
      "text/html": [
       "<div>\n",
       "<style scoped>\n",
       "    .dataframe tbody tr th:only-of-type {\n",
       "        vertical-align: middle;\n",
       "    }\n",
       "\n",
       "    .dataframe tbody tr th {\n",
       "        vertical-align: top;\n",
       "    }\n",
       "\n",
       "    .dataframe thead th {\n",
       "        text-align: right;\n",
       "    }\n",
       "</style>\n",
       "<table border=\"1\" class=\"dataframe\">\n",
       "  <thead>\n",
       "    <tr style=\"text-align: right;\">\n",
       "      <th></th>\n",
       "      <th>buisness_year</th>\n",
       "      <th>doc_id</th>\n",
       "      <th>converted_usd</th>\n",
       "    </tr>\n",
       "  </thead>\n",
       "  <tbody>\n",
       "    <tr>\n",
       "      <th>count</th>\n",
       "      <td>23494.000000</td>\n",
       "      <td>2.349400e+04</td>\n",
       "      <td>23494.000000</td>\n",
       "    </tr>\n",
       "    <tr>\n",
       "      <th>mean</th>\n",
       "      <td>2019.133183</td>\n",
       "      <td>2.014688e+09</td>\n",
       "      <td>30626.669669</td>\n",
       "    </tr>\n",
       "    <tr>\n",
       "      <th>std</th>\n",
       "      <td>0.339780</td>\n",
       "      <td>2.966395e+08</td>\n",
       "      <td>36433.137994</td>\n",
       "    </tr>\n",
       "    <tr>\n",
       "      <th>min</th>\n",
       "      <td>2019.000000</td>\n",
       "      <td>1.928502e+09</td>\n",
       "      <td>0.790000</td>\n",
       "    </tr>\n",
       "    <tr>\n",
       "      <th>25%</th>\n",
       "      <td>2019.000000</td>\n",
       "      <td>1.929183e+09</td>\n",
       "      <td>4439.820000</td>\n",
       "    </tr>\n",
       "    <tr>\n",
       "      <th>50%</th>\n",
       "      <td>2019.000000</td>\n",
       "      <td>1.929738e+09</td>\n",
       "      <td>16891.642000</td>\n",
       "    </tr>\n",
       "    <tr>\n",
       "      <th>75%</th>\n",
       "      <td>2019.000000</td>\n",
       "      <td>1.930211e+09</td>\n",
       "      <td>45160.365000</td>\n",
       "    </tr>\n",
       "    <tr>\n",
       "      <th>max</th>\n",
       "      <td>2020.000000</td>\n",
       "      <td>9.500000e+09</td>\n",
       "      <td>632134.240000</td>\n",
       "    </tr>\n",
       "  </tbody>\n",
       "</table>\n",
       "</div>"
      ],
      "text/plain": [
       "       buisness_year        doc_id  converted_usd\n",
       "count   23494.000000  2.349400e+04   23494.000000\n",
       "mean     2019.133183  2.014688e+09   30626.669669\n",
       "std         0.339780  2.966395e+08   36433.137994\n",
       "min      2019.000000  1.928502e+09       0.790000\n",
       "25%      2019.000000  1.929183e+09    4439.820000\n",
       "50%      2019.000000  1.929738e+09   16891.642000\n",
       "75%      2019.000000  1.930211e+09   45160.365000\n",
       "max      2020.000000  9.500000e+09  632134.240000"
      ]
     },
     "execution_count": 59,
     "metadata": {},
     "output_type": "execute_result"
    }
   ],
   "source": [
    "X_train.describe()"
   ]
  },
  {
   "cell_type": "markdown",
   "id": "6adec782",
   "metadata": {
    "id": "abd7ac8b",
    "papermill": {
     "duration": 0.07012,
     "end_time": "2023-02-20T19:19:30.532474",
     "exception": false,
     "start_time": "2023-02-20T19:19:30.462354",
     "status": "completed"
    },
    "tags": []
   },
   "source": [
    "#### The \"business_code\" column inside X_train, is a categorical column, so you need to perform Labelencoder on that particular column\n",
    "\n",
    "- Note - call the Label Encoder from sklearn library and use the fit() function on \"business_code\" column\n",
    "- Note - Please fill in the blanks (two) to complete this code"
   ]
  },
  {
   "cell_type": "code",
   "execution_count": 60,
   "id": "48c00493",
   "metadata": {
    "execution": {
     "iopub.execute_input": "2023-02-20T19:19:30.674097Z",
     "iopub.status.busy": "2023-02-20T19:19:30.673690Z",
     "iopub.status.idle": "2023-02-20T19:19:30.683645Z",
     "shell.execute_reply": "2023-02-20T19:19:30.682841Z"
    },
    "id": "7c223545",
    "papermill": {
     "duration": 0.082511,
     "end_time": "2023-02-20T19:19:30.685743",
     "exception": false,
     "start_time": "2023-02-20T19:19:30.603232",
     "status": "completed"
    },
    "tags": []
   },
   "outputs": [
    {
     "data": {
      "text/plain": [
       "LabelEncoder()"
      ]
     },
     "execution_count": 60,
     "metadata": {},
     "output_type": "execute_result"
    }
   ],
   "source": [
    "from sklearn.preprocessing import LabelEncoder\n",
    "business_coder = LabelEncoder()\n",
    "business_coder.fit(X_train['business_code'])"
   ]
  },
  {
   "cell_type": "markdown",
   "id": "14e8a3dc",
   "metadata": {
    "id": "f86f7d9c",
    "papermill": {
     "duration": 0.069029,
     "end_time": "2023-02-20T19:19:30.822756",
     "exception": false,
     "start_time": "2023-02-20T19:19:30.753727",
     "status": "completed"
    },
    "tags": []
   },
   "source": [
    "#### You are expected to store the value into a new column i.e. \"business_code_enc\"\n",
    "\n",
    "- Note - For Training set you are expected to use fit_trainsform()\n",
    "- Note - For Test set you are expected to use the trainsform()\n",
    "- Note - For Validation set you are expected to use the trainsform()\n",
    "\n",
    "\n",
    "- Partial code is provided, please fill in the blanks "
   ]
  },
  {
   "cell_type": "code",
   "execution_count": 61,
   "id": "af6cc1a2",
   "metadata": {
    "execution": {
     "iopub.execute_input": "2023-02-20T19:19:30.963090Z",
     "iopub.status.busy": "2023-02-20T19:19:30.962132Z",
     "iopub.status.idle": "2023-02-20T19:19:30.974958Z",
     "shell.execute_reply": "2023-02-20T19:19:30.973691Z"
    },
    "id": "4269c307",
    "papermill": {
     "duration": 0.084952,
     "end_time": "2023-02-20T19:19:30.977159",
     "exception": false,
     "start_time": "2023-02-20T19:19:30.892207",
     "status": "completed"
    },
    "tags": []
   },
   "outputs": [],
   "source": [
    "X_train['business_code_enc'] = business_coder.fit_transform(X_train['business_code'])"
   ]
  },
  {
   "cell_type": "code",
   "execution_count": 62,
   "id": "27d65c6d",
   "metadata": {
    "execution": {
     "iopub.execute_input": "2023-02-20T19:19:31.116629Z",
     "iopub.status.busy": "2023-02-20T19:19:31.115611Z",
     "iopub.status.idle": "2023-02-20T19:19:31.125753Z",
     "shell.execute_reply": "2023-02-20T19:19:31.124908Z"
    },
    "id": "70a53712",
    "papermill": {
     "duration": 0.081337,
     "end_time": "2023-02-20T19:19:31.128204",
     "exception": false,
     "start_time": "2023-02-20T19:19:31.046867",
     "status": "completed"
    },
    "tags": []
   },
   "outputs": [],
   "source": [
    "X_val['business_code_enc'] = business_coder.transform(X_val['business_code'])\n",
    "X_test['business_code_enc'] = business_coder.transform(X_test['business_code'])"
   ]
  },
  {
   "cell_type": "markdown",
   "id": "916f4e3d",
   "metadata": {
    "id": "gdNYxTkqNfmz",
    "papermill": {
     "duration": 0.067782,
     "end_time": "2023-02-20T19:19:31.264567",
     "exception": false,
     "start_time": "2023-02-20T19:19:31.196785",
     "status": "completed"
    },
    "tags": []
   },
   "source": [
    "### Display \"business_code\" and \"business_code_enc\" together from X_train dataframe "
   ]
  },
  {
   "cell_type": "code",
   "execution_count": 63,
   "id": "c685cac8",
   "metadata": {
    "execution": {
     "iopub.execute_input": "2023-02-20T19:19:31.403296Z",
     "iopub.status.busy": "2023-02-20T19:19:31.402538Z",
     "iopub.status.idle": "2023-02-20T19:19:31.416154Z",
     "shell.execute_reply": "2023-02-20T19:19:31.415029Z"
    },
    "id": "1196a002",
    "papermill": {
     "duration": 0.086604,
     "end_time": "2023-02-20T19:19:31.418536",
     "exception": false,
     "start_time": "2023-02-20T19:19:31.331932",
     "status": "completed"
    },
    "tags": []
   },
   "outputs": [
    {
     "data": {
      "text/html": [
       "<div>\n",
       "<style scoped>\n",
       "    .dataframe tbody tr th:only-of-type {\n",
       "        vertical-align: middle;\n",
       "    }\n",
       "\n",
       "    .dataframe tbody tr th {\n",
       "        vertical-align: top;\n",
       "    }\n",
       "\n",
       "    .dataframe thead th {\n",
       "        text-align: right;\n",
       "    }\n",
       "</style>\n",
       "<table border=\"1\" class=\"dataframe\">\n",
       "  <thead>\n",
       "    <tr style=\"text-align: right;\">\n",
       "      <th></th>\n",
       "      <th>business_code</th>\n",
       "      <th>business_code_enc</th>\n",
       "    </tr>\n",
       "  </thead>\n",
       "  <tbody>\n",
       "    <tr>\n",
       "      <th>8510</th>\n",
       "      <td>U001</td>\n",
       "      <td>1</td>\n",
       "    </tr>\n",
       "    <tr>\n",
       "      <th>35188</th>\n",
       "      <td>U001</td>\n",
       "      <td>1</td>\n",
       "    </tr>\n",
       "    <tr>\n",
       "      <th>26671</th>\n",
       "      <td>U001</td>\n",
       "      <td>1</td>\n",
       "    </tr>\n",
       "    <tr>\n",
       "      <th>18214</th>\n",
       "      <td>U001</td>\n",
       "      <td>1</td>\n",
       "    </tr>\n",
       "    <tr>\n",
       "      <th>17404</th>\n",
       "      <td>U001</td>\n",
       "      <td>1</td>\n",
       "    </tr>\n",
       "    <tr>\n",
       "      <th>...</th>\n",
       "      <td>...</td>\n",
       "      <td>...</td>\n",
       "    </tr>\n",
       "    <tr>\n",
       "      <th>18838</th>\n",
       "      <td>U001</td>\n",
       "      <td>1</td>\n",
       "    </tr>\n",
       "    <tr>\n",
       "      <th>15942</th>\n",
       "      <td>U001</td>\n",
       "      <td>1</td>\n",
       "    </tr>\n",
       "    <tr>\n",
       "      <th>15034</th>\n",
       "      <td>U001</td>\n",
       "      <td>1</td>\n",
       "    </tr>\n",
       "    <tr>\n",
       "      <th>13525</th>\n",
       "      <td>U001</td>\n",
       "      <td>1</td>\n",
       "    </tr>\n",
       "    <tr>\n",
       "      <th>24437</th>\n",
       "      <td>U001</td>\n",
       "      <td>1</td>\n",
       "    </tr>\n",
       "  </tbody>\n",
       "</table>\n",
       "<p>23494 rows × 2 columns</p>\n",
       "</div>"
      ],
      "text/plain": [
       "      business_code  business_code_enc\n",
       "8510           U001                  1\n",
       "35188          U001                  1\n",
       "26671          U001                  1\n",
       "18214          U001                  1\n",
       "17404          U001                  1\n",
       "...             ...                ...\n",
       "18838          U001                  1\n",
       "15942          U001                  1\n",
       "15034          U001                  1\n",
       "13525          U001                  1\n",
       "24437          U001                  1\n",
       "\n",
       "[23494 rows x 2 columns]"
      ]
     },
     "execution_count": 63,
     "metadata": {},
     "output_type": "execute_result"
    }
   ],
   "source": [
    "pd.DataFrame(X_train[['business_code','business_code_enc']])"
   ]
  },
  {
   "cell_type": "markdown",
   "id": "aedc65ba",
   "metadata": {
    "id": "11477224",
    "papermill": {
     "duration": 0.068296,
     "end_time": "2023-02-20T19:19:31.555609",
     "exception": false,
     "start_time": "2023-02-20T19:19:31.487313",
     "status": "completed"
    },
    "tags": []
   },
   "source": [
    "#### Create a function called \"custom\" for dropping the columns 'business_code' from train, test and validation dataframe\n",
    "\n",
    "- Note - Fill in the blank to complete the code"
   ]
  },
  {
   "cell_type": "code",
   "execution_count": 64,
   "id": "1a89e0fa",
   "metadata": {
    "execution": {
     "iopub.execute_input": "2023-02-20T19:19:31.694272Z",
     "iopub.status.busy": "2023-02-20T19:19:31.693532Z",
     "iopub.status.idle": "2023-02-20T19:19:31.700109Z",
     "shell.execute_reply": "2023-02-20T19:19:31.698912Z"
    },
    "id": "1052868a",
    "papermill": {
     "duration": 0.078925,
     "end_time": "2023-02-20T19:19:31.702788",
     "exception": false,
     "start_time": "2023-02-20T19:19:31.623863",
     "status": "completed"
    },
    "tags": []
   },
   "outputs": [],
   "source": [
    "def custom(col ,traindf = X_train,valdf = X_val,testdf = X_test):\n",
    "    traindf.drop(col, axis =1,inplace=True)\n",
    "    valdf.drop(col,axis=1 , inplace=True)\n",
    "    testdf.drop(col,axis=1 , inplace=True)\n",
    "\n",
    "    return traindf,valdf ,testdf"
   ]
  },
  {
   "cell_type": "markdown",
   "id": "0a78fa0a",
   "metadata": {
    "id": "rI--ZuMbNLne",
    "papermill": {
     "duration": 0.068889,
     "end_time": "2023-02-20T19:19:31.839737",
     "exception": false,
     "start_time": "2023-02-20T19:19:31.770848",
     "status": "completed"
    },
    "tags": []
   },
   "source": [
    "### Call the function by passing the column name which needed to be dropped from train, test and validation dataframes. Return updated dataframes to be stored in X_train ,X_val, X_test  \n",
    "\n",
    "- Note = Fill in the blank to complete the code "
   ]
  },
  {
   "cell_type": "code",
   "execution_count": 65,
   "id": "e5d9b2ea",
   "metadata": {
    "execution": {
     "iopub.execute_input": "2023-02-20T19:19:31.982029Z",
     "iopub.status.busy": "2023-02-20T19:19:31.981295Z",
     "iopub.status.idle": "2023-02-20T19:19:31.991575Z",
     "shell.execute_reply": "2023-02-20T19:19:31.990702Z"
    },
    "id": "1a0f955c",
    "papermill": {
     "duration": 0.085913,
     "end_time": "2023-02-20T19:19:31.994178",
     "exception": false,
     "start_time": "2023-02-20T19:19:31.908265",
     "status": "completed"
    },
    "tags": []
   },
   "outputs": [],
   "source": [
    "X_train , X_val , X_test = custom(['business_code'])"
   ]
  },
  {
   "cell_type": "markdown",
   "id": "3c85a6b5",
   "metadata": {
    "id": "28b5b27e",
    "papermill": {
     "duration": 0.067997,
     "end_time": "2023-02-20T19:19:32.131328",
     "exception": false,
     "start_time": "2023-02-20T19:19:32.063331",
     "status": "completed"
    },
    "tags": []
   },
   "source": [
    "### Manually replacing str values with numbers, Here we are trying manually replace the customer numbers with some specific values like, 'CCCA' as 1, 'CCU' as 2 and so on. Also we are converting the datatype \"cust_number\" field to int type.\n",
    "\n",
    "- We are doing it for all the three dataframes as shown below. This is fully completed code. No need to modify anything here \n",
    "\n"
   ]
  },
  {
   "cell_type": "code",
   "execution_count": 66,
   "id": "6f3712d7",
   "metadata": {
    "execution": {
     "iopub.execute_input": "2023-02-20T19:19:32.270350Z",
     "iopub.status.busy": "2023-02-20T19:19:32.269175Z",
     "iopub.status.idle": "2023-02-20T19:19:32.362403Z",
     "shell.execute_reply": "2023-02-20T19:19:32.360922Z"
    },
    "id": "85dd129e",
    "papermill": {
     "duration": 0.165948,
     "end_time": "2023-02-20T19:19:32.365632",
     "exception": false,
     "start_time": "2023-02-20T19:19:32.199684",
     "status": "completed"
    },
    "tags": []
   },
   "outputs": [],
   "source": [
    "X_train['cust_number'] = X_train['cust_number'].str.replace('CCCA',\"1\").str.replace('CCU',\"2\").str.replace('CC',\"3\").astype(np.int64)\n",
    "X_test['cust_number'] = X_test['cust_number'].str.replace('CCCA',\"1\").str.replace('CCU',\"2\").str.replace('CC',\"3\").astype(np.int64)\n",
    "X_val['cust_number'] = X_val['cust_number'].str.replace('CCCA',\"1\").str.replace('CCU',\"2\").str.replace('CC',\"3\").astype(np.int64)\n"
   ]
  },
  {
   "cell_type": "markdown",
   "id": "a37f2334",
   "metadata": {
    "id": "U8vA-zmdPnJ8",
    "papermill": {
     "duration": 0.06838,
     "end_time": "2023-02-20T19:19:32.503765",
     "exception": false,
     "start_time": "2023-02-20T19:19:32.435385",
     "status": "completed"
    },
    "tags": []
   },
   "source": [
    "#### It differs from LabelEncoder by handling new classes and providing a value for it [Unknown]. Unknown will be added in fit and transform will take care of new item. It gives unknown class id.\n",
    "\n",
    "#### This will fit the encoder for all the unique values and introduce unknown value\n",
    "\n",
    "- Note - Keep this code as it is, we will be using this later on.  "
   ]
  },
  {
   "cell_type": "code",
   "execution_count": 67,
   "id": "45e51191",
   "metadata": {
    "execution": {
     "iopub.execute_input": "2023-02-20T19:19:32.643170Z",
     "iopub.status.busy": "2023-02-20T19:19:32.642736Z",
     "iopub.status.idle": "2023-02-20T19:19:32.650391Z",
     "shell.execute_reply": "2023-02-20T19:19:32.649512Z"
    },
    "id": "151f48ba",
    "papermill": {
     "duration": 0.080066,
     "end_time": "2023-02-20T19:19:32.652503",
     "exception": false,
     "start_time": "2023-02-20T19:19:32.572437",
     "status": "completed"
    },
    "tags": []
   },
   "outputs": [],
   "source": [
    "#For encoding unseen labels\n",
    "class EncoderExt(object):\n",
    "    def __init__(self):\n",
    "        self.label_encoder = LabelEncoder()\n",
    "    def fit(self, data_list):\n",
    "        self.label_encoder = self.label_encoder.fit(list(data_list) + ['Unknown'])\n",
    "        self.classes_ = self.label_encoder.classes_\n",
    "        return self\n",
    "    def transform(self, data_list):\n",
    "        new_data_list = list(data_list)\n",
    "        for unique_item in np.unique(data_list):\n",
    "            if unique_item not in self.label_encoder.classes_:\n",
    "                new_data_list = ['Unknown' if x==unique_item else x for x in new_data_list]\n",
    "        return self.label_encoder.transform(new_data_list)"
   ]
  },
  {
   "cell_type": "markdown",
   "id": "68a8e7d6",
   "metadata": {
    "id": "254c64e6",
    "papermill": {
     "duration": 0.067652,
     "end_time": "2023-02-20T19:19:32.789032",
     "exception": false,
     "start_time": "2023-02-20T19:19:32.721380",
     "status": "completed"
    },
    "tags": []
   },
   "source": [
    "### Use the user define Label Encoder function called \"EncoderExt\" for the \"name_customer\" column\n",
    "\n",
    "- Note - Keep the code as it is, no need to change"
   ]
  },
  {
   "cell_type": "code",
   "execution_count": 68,
   "id": "c6d2baeb",
   "metadata": {
    "execution": {
     "iopub.execute_input": "2023-02-20T19:19:32.935388Z",
     "iopub.status.busy": "2023-02-20T19:19:32.934659Z",
     "iopub.status.idle": "2023-02-20T19:19:33.781982Z",
     "shell.execute_reply": "2023-02-20T19:19:33.780839Z"
    },
    "id": "62b17eff",
    "papermill": {
     "duration": 0.922291,
     "end_time": "2023-02-20T19:19:33.784700",
     "exception": false,
     "start_time": "2023-02-20T19:19:32.862409",
     "status": "completed"
    },
    "tags": []
   },
   "outputs": [],
   "source": [
    "label_encoder = EncoderExt()\n",
    "label_encoder.fit(X_train['name_customer'])\n",
    "X_train['name_customer_enc']=label_encoder.transform(X_train['name_customer'])\n",
    "X_val['name_customer_enc']=label_encoder.transform(X_val['name_customer'])\n",
    "X_test['name_customer_enc']=label_encoder.transform(X_test['name_customer'])"
   ]
  },
  {
   "cell_type": "markdown",
   "id": "2d0aa788",
   "metadata": {
    "id": "mK7LMoy2QZhy",
    "papermill": {
     "duration": 0.069731,
     "end_time": "2023-02-20T19:19:33.924708",
     "exception": false,
     "start_time": "2023-02-20T19:19:33.854977",
     "status": "completed"
    },
    "tags": []
   },
   "source": [
    "### As we have created the a new column \"name_customer_enc\", so now drop \"name_customer\" column from all three dataframes\n",
    "\n",
    "- Note - Keep the code as it is, no need to change"
   ]
  },
  {
   "cell_type": "code",
   "execution_count": 69,
   "id": "fa17be7b",
   "metadata": {
    "execution": {
     "iopub.execute_input": "2023-02-20T19:19:34.065337Z",
     "iopub.status.busy": "2023-02-20T19:19:34.064626Z",
     "iopub.status.idle": "2023-02-20T19:19:34.075123Z",
     "shell.execute_reply": "2023-02-20T19:19:34.073962Z"
    },
    "id": "ef85f1c0",
    "papermill": {
     "duration": 0.084218,
     "end_time": "2023-02-20T19:19:34.077693",
     "exception": false,
     "start_time": "2023-02-20T19:19:33.993475",
     "status": "completed"
    },
    "tags": []
   },
   "outputs": [],
   "source": [
    "X_train ,X_val, X_test = custom(['name_customer'])"
   ]
  },
  {
   "cell_type": "markdown",
   "id": "ce0d761d",
   "metadata": {
    "id": "3aa09d22",
    "papermill": {
     "duration": 0.06727,
     "end_time": "2023-02-20T19:19:34.212586",
     "exception": false,
     "start_time": "2023-02-20T19:19:34.145316",
     "status": "completed"
    },
    "tags": []
   },
   "source": [
    "### Using Label Encoder for the \"cust_payment_terms\" column\n",
    "\n",
    "- Note - Keep the code as it is, no need to change"
   ]
  },
  {
   "cell_type": "code",
   "execution_count": 70,
   "id": "0c35a9f8",
   "metadata": {
    "execution": {
     "iopub.execute_input": "2023-02-20T19:19:34.350061Z",
     "iopub.status.busy": "2023-02-20T19:19:34.349632Z",
     "iopub.status.idle": "2023-02-20T19:19:34.454283Z",
     "shell.execute_reply": "2023-02-20T19:19:34.453109Z"
    },
    "id": "6f9ab642",
    "papermill": {
     "duration": 0.176451,
     "end_time": "2023-02-20T19:19:34.457039",
     "exception": false,
     "start_time": "2023-02-20T19:19:34.280588",
     "status": "completed"
    },
    "tags": []
   },
   "outputs": [],
   "source": [
    "label_encoder1 = EncoderExt()\n",
    "label_encoder1.fit(X_train['cust_payment_terms'])\n",
    "X_train['cust_payment_terms_enc']=label_encoder1.transform(X_train['cust_payment_terms'])\n",
    "X_val['cust_payment_terms_enc']=label_encoder1.transform(X_val['cust_payment_terms'])\n",
    "X_test['cust_payment_terms_enc']=label_encoder1.transform(X_test['cust_payment_terms'])"
   ]
  },
  {
   "cell_type": "code",
   "execution_count": 71,
   "id": "28c8ca0e",
   "metadata": {
    "execution": {
     "iopub.execute_input": "2023-02-20T19:19:34.595614Z",
     "iopub.status.busy": "2023-02-20T19:19:34.595175Z",
     "iopub.status.idle": "2023-02-20T19:19:34.605902Z",
     "shell.execute_reply": "2023-02-20T19:19:34.604716Z"
    },
    "id": "55f9a7c2",
    "papermill": {
     "duration": 0.082777,
     "end_time": "2023-02-20T19:19:34.608529",
     "exception": false,
     "start_time": "2023-02-20T19:19:34.525752",
     "status": "completed"
    },
    "tags": []
   },
   "outputs": [],
   "source": [
    "X_train ,X_val, X_test = custom(['cust_payment_terms'])"
   ]
  },
  {
   "cell_type": "markdown",
   "id": "fba7f6b1",
   "metadata": {
    "id": "0788f42b",
    "papermill": {
     "duration": 0.06748,
     "end_time": "2023-02-20T19:19:34.743658",
     "exception": false,
     "start_time": "2023-02-20T19:19:34.676178",
     "status": "completed"
    },
    "tags": []
   },
   "source": [
    "## Check the datatype of all the columns of Train, Test and Validation dataframes realted to X\n",
    "\n",
    "- Note - You are expected yo use dtype"
   ]
  },
  {
   "cell_type": "code",
   "execution_count": 72,
   "id": "167cfa66",
   "metadata": {
    "execution": {
     "iopub.execute_input": "2023-02-20T19:19:34.885142Z",
     "iopub.status.busy": "2023-02-20T19:19:34.884631Z",
     "iopub.status.idle": "2023-02-20T19:19:34.892685Z",
     "shell.execute_reply": "2023-02-20T19:19:34.891528Z"
    },
    "id": "bc79a316",
    "papermill": {
     "duration": 0.081625,
     "end_time": "2023-02-20T19:19:34.895027",
     "exception": false,
     "start_time": "2023-02-20T19:19:34.813402",
     "status": "completed"
    },
    "tags": []
   },
   "outputs": [
    {
     "data": {
      "text/plain": [
       "cust_number                        int64\n",
       "buisness_year                    float64\n",
       "doc_id                           float64\n",
       "posting_date              datetime64[ns]\n",
       "due_in_date               datetime64[ns]\n",
       "baseline_create_date      datetime64[ns]\n",
       "converted_usd                    float64\n",
       "business_code_enc                  int64\n",
       "name_customer_enc                  int64\n",
       "cust_payment_terms_enc             int64\n",
       "dtype: object"
      ]
     },
     "execution_count": 72,
     "metadata": {},
     "output_type": "execute_result"
    }
   ],
   "source": [
    "X_train.dtypes"
   ]
  },
  {
   "cell_type": "code",
   "execution_count": 73,
   "id": "d0456041",
   "metadata": {
    "execution": {
     "iopub.execute_input": "2023-02-20T19:19:35.036355Z",
     "iopub.status.busy": "2023-02-20T19:19:35.035924Z",
     "iopub.status.idle": "2023-02-20T19:19:35.045013Z",
     "shell.execute_reply": "2023-02-20T19:19:35.043791Z"
    },
    "id": "b33242d8",
    "papermill": {
     "duration": 0.082076,
     "end_time": "2023-02-20T19:19:35.047344",
     "exception": false,
     "start_time": "2023-02-20T19:19:34.965268",
     "status": "completed"
    },
    "tags": []
   },
   "outputs": [
    {
     "data": {
      "text/plain": [
       "cust_number                        int64\n",
       "buisness_year                    float64\n",
       "doc_id                           float64\n",
       "posting_date              datetime64[ns]\n",
       "due_in_date               datetime64[ns]\n",
       "baseline_create_date      datetime64[ns]\n",
       "converted_usd                    float64\n",
       "business_code_enc                  int64\n",
       "name_customer_enc                  int64\n",
       "cust_payment_terms_enc             int64\n",
       "dtype: object"
      ]
     },
     "execution_count": 73,
     "metadata": {},
     "output_type": "execute_result"
    }
   ],
   "source": [
    "X_val.dtypes"
   ]
  },
  {
   "cell_type": "code",
   "execution_count": 74,
   "id": "92b7e358",
   "metadata": {
    "execution": {
     "iopub.execute_input": "2023-02-20T19:19:35.185173Z",
     "iopub.status.busy": "2023-02-20T19:19:35.184736Z",
     "iopub.status.idle": "2023-02-20T19:19:35.193180Z",
     "shell.execute_reply": "2023-02-20T19:19:35.192369Z"
    },
    "id": "6bd4da71",
    "papermill": {
     "duration": 0.079612,
     "end_time": "2023-02-20T19:19:35.195281",
     "exception": false,
     "start_time": "2023-02-20T19:19:35.115669",
     "status": "completed"
    },
    "tags": []
   },
   "outputs": [
    {
     "data": {
      "text/plain": [
       "cust_number                        int64\n",
       "buisness_year                    float64\n",
       "doc_id                           float64\n",
       "posting_date              datetime64[ns]\n",
       "due_in_date               datetime64[ns]\n",
       "baseline_create_date      datetime64[ns]\n",
       "converted_usd                    float64\n",
       "business_code_enc                  int64\n",
       "name_customer_enc                  int64\n",
       "cust_payment_terms_enc             int64\n",
       "dtype: object"
      ]
     },
     "execution_count": 74,
     "metadata": {},
     "output_type": "execute_result"
    }
   ],
   "source": [
    "X_test.dtypes"
   ]
  },
  {
   "cell_type": "markdown",
   "id": "9cf364d2",
   "metadata": {
    "id": "LVfvuPiWPeMB",
    "papermill": {
     "duration": 0.068437,
     "end_time": "2023-02-20T19:19:35.331715",
     "exception": false,
     "start_time": "2023-02-20T19:19:35.263278",
     "status": "completed"
    },
    "tags": []
   },
   "source": [
    "### From the above output you can notice their are multiple date columns with datetime format\n",
    "\n",
    "### In order to pass it into our model, we need to convert it into float format"
   ]
  },
  {
   "cell_type": "markdown",
   "id": "490b017b",
   "metadata": {
    "id": "9d344db9",
    "papermill": {
     "duration": 0.069323,
     "end_time": "2023-02-20T19:19:35.469851",
     "exception": false,
     "start_time": "2023-02-20T19:19:35.400528",
     "status": "completed"
    },
    "tags": []
   },
   "source": [
    "### You need to extract day, month and year from the \"posting_date\" column \n",
    "\n",
    "1.   Extract days from \"posting_date\" column and store it into a new column \"day_of_postingdate\" for train, test and validation dataset \n",
    "2.   Extract months from \"posting_date\" column and store it into a new column \"month_of_postingdate\" for train, test and validation dataset\n",
    "3.   Extract year from \"posting_date\" column and store it into a new column \"year_of_postingdate\" for train, test and validation dataset \n",
    "\n",
    "\n",
    "\n",
    "- Note - You are supposed yo use \n",
    "\n",
    "*   dt.day\n",
    "*   dt.month\n",
    "*   dt.year\n",
    "\n",
    "\n",
    "\n",
    "\n"
   ]
  },
  {
   "cell_type": "code",
   "execution_count": 75,
   "id": "315be480",
   "metadata": {
    "execution": {
     "iopub.execute_input": "2023-02-20T19:19:35.608859Z",
     "iopub.status.busy": "2023-02-20T19:19:35.608167Z",
     "iopub.status.idle": "2023-02-20T19:19:35.635723Z",
     "shell.execute_reply": "2023-02-20T19:19:35.634536Z"
    },
    "id": "6e3cdfd6",
    "papermill": {
     "duration": 0.100096,
     "end_time": "2023-02-20T19:19:35.638541",
     "exception": false,
     "start_time": "2023-02-20T19:19:35.538445",
     "status": "completed"
    },
    "tags": []
   },
   "outputs": [],
   "source": [
    "X_train['day_of_postingdate'] = X_train['posting_date'].dt.day\n",
    "X_train['month_of_postingdate'] = X_train['posting_date'].dt.month\n",
    "X_train['year_of_postingdate'] = X_train['posting_date'].dt.year\n",
    "\n",
    "X_val['day_of_postingdate'] = X_val['posting_date'].dt.day\n",
    "X_val['month_of_postingdate'] = X_val['posting_date'].dt.month\n",
    "X_val['year_of_postingdate'] = X_val['posting_date'].dt.year\n",
    "\n",
    "\n",
    "X_test['day_of_postingdate'] = X_test['posting_date'].dt.day\n",
    "X_test['month_of_postingdate'] = X_test['posting_date'].dt.month\n",
    "X_test['year_of_postingdate'] = X_test['posting_date'].dt.year\n",
    "\n"
   ]
  },
  {
   "cell_type": "markdown",
   "id": "86c392b7",
   "metadata": {
    "id": "GyI-F853Rxa7",
    "papermill": {
     "duration": 0.068058,
     "end_time": "2023-02-20T19:19:35.775006",
     "exception": false,
     "start_time": "2023-02-20T19:19:35.706948",
     "status": "completed"
    },
    "tags": []
   },
   "source": [
    "### pass the \"posting_date\" column into the Custom function for train, test and validation dataset"
   ]
  },
  {
   "cell_type": "code",
   "execution_count": 76,
   "id": "19b689a1",
   "metadata": {
    "execution": {
     "iopub.execute_input": "2023-02-20T19:19:35.915326Z",
     "iopub.status.busy": "2023-02-20T19:19:35.914928Z",
     "iopub.status.idle": "2023-02-20T19:19:35.924746Z",
     "shell.execute_reply": "2023-02-20T19:19:35.923613Z"
    },
    "id": "FQHtQkrnRx_V",
    "papermill": {
     "duration": 0.083845,
     "end_time": "2023-02-20T19:19:35.927412",
     "exception": false,
     "start_time": "2023-02-20T19:19:35.843567",
     "status": "completed"
    },
    "tags": []
   },
   "outputs": [],
   "source": [
    "X_train ,X_val, X_test = custom(['posting_date'])"
   ]
  },
  {
   "cell_type": "markdown",
   "id": "3f5874fe",
   "metadata": {
    "id": "GMnCaEcKReSw",
    "papermill": {
     "duration": 0.068438,
     "end_time": "2023-02-20T19:19:36.067408",
     "exception": false,
     "start_time": "2023-02-20T19:19:35.998970",
     "status": "completed"
    },
    "tags": []
   },
   "source": [
    "### You need to extract day, month and year from the \"baseline_create_date\" column \n",
    "\n",
    "1.   Extract days from \"baseline_create_date\" column and store it into a new column \"day_of_createdate\" for train, test and validation dataset \n",
    "2.   Extract months from \"baseline_create_date\" column and store it into a new column \"month_of_createdate\" for train, test and validation dataset\n",
    "3.   Extract year from \"baseline_create_date\" column and store it into a new column \"year_of_createdate\" for train, test and validation dataset \n",
    "\n",
    "\n",
    "\n",
    "- Note - You are supposed yo use \n",
    "\n",
    "*   dt.day\n",
    "*   dt.month\n",
    "*   dt.year\n",
    "\n",
    "\n",
    "- Note - Do as it is been shown in the previous two code boxes"
   ]
  },
  {
   "cell_type": "markdown",
   "id": "e4b18d38",
   "metadata": {
    "id": "ee4d83d0",
    "papermill": {
     "duration": 0.068012,
     "end_time": "2023-02-20T19:19:36.204446",
     "exception": false,
     "start_time": "2023-02-20T19:19:36.136434",
     "status": "completed"
    },
    "tags": []
   },
   "source": [
    "### Extracting Day, Month, Year for 'baseline_create_date' column"
   ]
  },
  {
   "cell_type": "code",
   "execution_count": 77,
   "id": "81d9c445",
   "metadata": {
    "execution": {
     "iopub.execute_input": "2023-02-20T19:19:36.342893Z",
     "iopub.status.busy": "2023-02-20T19:19:36.342482Z",
     "iopub.status.idle": "2023-02-20T19:19:36.371622Z",
     "shell.execute_reply": "2023-02-20T19:19:36.370517Z"
    },
    "id": "32b240e1",
    "papermill": {
     "duration": 0.101371,
     "end_time": "2023-02-20T19:19:36.374333",
     "exception": false,
     "start_time": "2023-02-20T19:19:36.272962",
     "status": "completed"
    },
    "tags": []
   },
   "outputs": [],
   "source": [
    "X_train['day_of_createdate'] = X_train['baseline_create_date'].dt.day\n",
    "X_train['month_of_createdate'] = X_train['baseline_create_date'].dt.month\n",
    "X_train['year_of_createdate'] = X_train['baseline_create_date'].dt.year\n",
    "\n",
    "X_val['day_of_createdate'] = X_val['baseline_create_date'].dt.day\n",
    "X_val['month_of_createdate'] = X_val['baseline_create_date'].dt.month\n",
    "X_val['year_of_createdate'] = X_val['baseline_create_date'].dt.year\n",
    "\n",
    "\n",
    "X_test['day_of_createdate'] = X_test['baseline_create_date'].dt.day\n",
    "X_test['month_of_createdate'] = X_test['baseline_create_date'].dt.month\n",
    "X_test['year_of_createdate'] = X_test['baseline_create_date'].dt.year"
   ]
  },
  {
   "cell_type": "markdown",
   "id": "cae57367",
   "metadata": {
    "id": "cFgwkS5rSDDs",
    "papermill": {
     "duration": 0.068309,
     "end_time": "2023-02-20T19:19:36.511435",
     "exception": false,
     "start_time": "2023-02-20T19:19:36.443126",
     "status": "completed"
    },
    "tags": []
   },
   "source": [
    "### pass the \"baseline_create_date\" column into the Custom function for train, test and validation dataset"
   ]
  },
  {
   "cell_type": "code",
   "execution_count": 78,
   "id": "b2992895",
   "metadata": {
    "execution": {
     "iopub.execute_input": "2023-02-20T19:19:36.650135Z",
     "iopub.status.busy": "2023-02-20T19:19:36.649709Z",
     "iopub.status.idle": "2023-02-20T19:19:36.661266Z",
     "shell.execute_reply": "2023-02-20T19:19:36.660096Z"
    },
    "id": "RGYa2BEQSDg3",
    "papermill": {
     "duration": 0.084117,
     "end_time": "2023-02-20T19:19:36.664009",
     "exception": false,
     "start_time": "2023-02-20T19:19:36.579892",
     "status": "completed"
    },
    "tags": []
   },
   "outputs": [],
   "source": [
    "X_train ,X_val, X_test = custom(['baseline_create_date'])"
   ]
  },
  {
   "cell_type": "markdown",
   "id": "904b998c",
   "metadata": {
    "id": "77c7a0df",
    "papermill": {
     "duration": 0.0678,
     "end_time": "2023-02-20T19:19:36.800856",
     "exception": false,
     "start_time": "2023-02-20T19:19:36.733056",
     "status": "completed"
    },
    "tags": []
   },
   "source": [
    "### You need to extract day, month and year from the \"due_in_date\" column \n",
    "\n",
    "1.   Extract days from \"due_in_date\" column and store it into a new column \"day_of_due\" for train, test and validation dataset \n",
    "2.   Extract months from \"due_in_date\" column and store it into a new column \"month_of_due\" for train, test and validation dataset\n",
    "3.   Extract year from \"due_in_date\" column and store it into a new column \"year_of_due\" for train, test and validation dataset \n",
    "\n",
    "\n",
    "\n",
    "- Note - You are supposed yo use \n",
    "\n",
    "*   dt.day\n",
    "*   dt.month\n",
    "*   dt.year\n",
    "\n",
    "- Note - Do as it is been shown in the previous code"
   ]
  },
  {
   "cell_type": "code",
   "execution_count": 79,
   "id": "0ca960c8",
   "metadata": {
    "execution": {
     "iopub.execute_input": "2023-02-20T19:19:36.943263Z",
     "iopub.status.busy": "2023-02-20T19:19:36.942822Z",
     "iopub.status.idle": "2023-02-20T19:19:36.970528Z",
     "shell.execute_reply": "2023-02-20T19:19:36.969356Z"
    },
    "id": "5c745547",
    "papermill": {
     "duration": 0.102294,
     "end_time": "2023-02-20T19:19:36.973311",
     "exception": false,
     "start_time": "2023-02-20T19:19:36.871017",
     "status": "completed"
    },
    "tags": []
   },
   "outputs": [],
   "source": [
    "X_train['day_of_due'] = X_train['due_in_date'].dt.day\n",
    "X_train['month_of_due'] = X_train['due_in_date'].dt.month\n",
    "X_train['year_of_due'] = X_train['due_in_date'].dt.year\n",
    "\n",
    "X_val['day_of_due'] = X_val['due_in_date'].dt.day\n",
    "X_val['month_of_due'] = X_val['due_in_date'].dt.month\n",
    "X_val['year_of_due'] = X_val['due_in_date'].dt.year\n",
    "\n",
    "\n",
    "X_test['day_of_due'] = X_test['due_in_date'].dt.day\n",
    "X_test['month_of_due'] = X_test['due_in_date'].dt.month\n",
    "X_test['year_of_due'] = X_test['due_in_date'].dt.year"
   ]
  },
  {
   "cell_type": "markdown",
   "id": "ee73a631",
   "metadata": {
    "id": "FYLLzulGSvRd",
    "papermill": {
     "duration": 0.068461,
     "end_time": "2023-02-20T19:19:37.110056",
     "exception": false,
     "start_time": "2023-02-20T19:19:37.041595",
     "status": "completed"
    },
    "tags": []
   },
   "source": [
    "pass the \"due_in_date\" column into the Custom function for train, test and validation dataset"
   ]
  },
  {
   "cell_type": "code",
   "execution_count": 80,
   "id": "b956aa4b",
   "metadata": {
    "execution": {
     "iopub.execute_input": "2023-02-20T19:19:37.248470Z",
     "iopub.status.busy": "2023-02-20T19:19:37.248047Z",
     "iopub.status.idle": "2023-02-20T19:19:37.260590Z",
     "shell.execute_reply": "2023-02-20T19:19:37.259439Z"
    },
    "id": "1-s6QuY9Svrh",
    "papermill": {
     "duration": 0.084818,
     "end_time": "2023-02-20T19:19:37.263154",
     "exception": false,
     "start_time": "2023-02-20T19:19:37.178336",
     "status": "completed"
    },
    "tags": []
   },
   "outputs": [],
   "source": [
    "X_train ,X_val, X_test = custom(['due_in_date'])"
   ]
  },
  {
   "cell_type": "markdown",
   "id": "5dac3527",
   "metadata": {
    "id": "1ae5d052",
    "papermill": {
     "duration": 0.06785,
     "end_time": "2023-02-20T19:19:37.400089",
     "exception": false,
     "start_time": "2023-02-20T19:19:37.332239",
     "status": "completed"
    },
    "tags": []
   },
   "source": [
    "### Check for the datatypes for train, test and validation set again\n",
    "\n",
    "- Note - all the data type should be in either int64 or float64 format \n"
   ]
  },
  {
   "cell_type": "code",
   "execution_count": 81,
   "id": "a33bb980",
   "metadata": {
    "execution": {
     "iopub.execute_input": "2023-02-20T19:19:37.539385Z",
     "iopub.status.busy": "2023-02-20T19:19:37.538975Z",
     "iopub.status.idle": "2023-02-20T19:19:37.546292Z",
     "shell.execute_reply": "2023-02-20T19:19:37.545506Z"
    },
    "id": "aee9d828",
    "papermill": {
     "duration": 0.079706,
     "end_time": "2023-02-20T19:19:37.548594",
     "exception": false,
     "start_time": "2023-02-20T19:19:37.468888",
     "status": "completed"
    },
    "tags": []
   },
   "outputs": [
    {
     "data": {
      "text/plain": [
       "cust_number                 int64\n",
       "buisness_year             float64\n",
       "doc_id                    float64\n",
       "converted_usd             float64\n",
       "business_code_enc           int64\n",
       "name_customer_enc           int64\n",
       "cust_payment_terms_enc      int64\n",
       "day_of_postingdate          int64\n",
       "month_of_postingdate        int64\n",
       "year_of_postingdate         int64\n",
       "day_of_createdate           int64\n",
       "month_of_createdate         int64\n",
       "year_of_createdate          int64\n",
       "day_of_due                  int64\n",
       "month_of_due                int64\n",
       "year_of_due                 int64\n",
       "dtype: object"
      ]
     },
     "execution_count": 81,
     "metadata": {},
     "output_type": "execute_result"
    }
   ],
   "source": [
    "X_train.dtypes"
   ]
  },
  {
   "cell_type": "code",
   "execution_count": 82,
   "id": "8713d764",
   "metadata": {
    "execution": {
     "iopub.execute_input": "2023-02-20T19:19:37.688390Z",
     "iopub.status.busy": "2023-02-20T19:19:37.687923Z",
     "iopub.status.idle": "2023-02-20T19:19:37.696673Z",
     "shell.execute_reply": "2023-02-20T19:19:37.695588Z"
    },
    "papermill": {
     "duration": 0.081719,
     "end_time": "2023-02-20T19:19:37.699150",
     "exception": false,
     "start_time": "2023-02-20T19:19:37.617431",
     "status": "completed"
    },
    "tags": []
   },
   "outputs": [
    {
     "data": {
      "text/plain": [
       "cust_number                 int64\n",
       "buisness_year             float64\n",
       "doc_id                    float64\n",
       "converted_usd             float64\n",
       "business_code_enc           int64\n",
       "name_customer_enc           int64\n",
       "cust_payment_terms_enc      int64\n",
       "day_of_postingdate          int64\n",
       "month_of_postingdate        int64\n",
       "year_of_postingdate         int64\n",
       "day_of_createdate           int64\n",
       "month_of_createdate         int64\n",
       "year_of_createdate          int64\n",
       "day_of_due                  int64\n",
       "month_of_due                int64\n",
       "year_of_due                 int64\n",
       "dtype: object"
      ]
     },
     "execution_count": 82,
     "metadata": {},
     "output_type": "execute_result"
    }
   ],
   "source": [
    "X_val.dtypes"
   ]
  },
  {
   "cell_type": "code",
   "execution_count": 83,
   "id": "06934dce",
   "metadata": {
    "execution": {
     "iopub.execute_input": "2023-02-20T19:19:37.840111Z",
     "iopub.status.busy": "2023-02-20T19:19:37.839703Z",
     "iopub.status.idle": "2023-02-20T19:19:37.847943Z",
     "shell.execute_reply": "2023-02-20T19:19:37.846854Z"
    },
    "papermill": {
     "duration": 0.081563,
     "end_time": "2023-02-20T19:19:37.850218",
     "exception": false,
     "start_time": "2023-02-20T19:19:37.768655",
     "status": "completed"
    },
    "tags": []
   },
   "outputs": [
    {
     "data": {
      "text/plain": [
       "cust_number                 int64\n",
       "buisness_year             float64\n",
       "doc_id                    float64\n",
       "converted_usd             float64\n",
       "business_code_enc           int64\n",
       "name_customer_enc           int64\n",
       "cust_payment_terms_enc      int64\n",
       "day_of_postingdate          int64\n",
       "month_of_postingdate        int64\n",
       "year_of_postingdate         int64\n",
       "day_of_createdate           int64\n",
       "month_of_createdate         int64\n",
       "year_of_createdate          int64\n",
       "day_of_due                  int64\n",
       "month_of_due                int64\n",
       "year_of_due                 int64\n",
       "dtype: object"
      ]
     },
     "execution_count": 83,
     "metadata": {},
     "output_type": "execute_result"
    }
   ],
   "source": [
    "X_test.dtypes"
   ]
  },
  {
   "cell_type": "markdown",
   "id": "2c381f7a",
   "metadata": {
    "id": "65810f55",
    "papermill": {
     "duration": 0.069385,
     "end_time": "2023-02-20T19:19:37.990229",
     "exception": false,
     "start_time": "2023-02-20T19:19:37.920844",
     "status": "completed"
    },
    "tags": []
   },
   "source": [
    "# Feature Selection"
   ]
  },
  {
   "cell_type": "markdown",
   "id": "2bd272bb",
   "metadata": {
    "id": "4bb1ad9f",
    "papermill": {
     "duration": 0.068949,
     "end_time": "2023-02-20T19:19:38.129352",
     "exception": false,
     "start_time": "2023-02-20T19:19:38.060403",
     "status": "completed"
    },
    "tags": []
   },
   "source": [
    "### Filter Method\n",
    "\n",
    "- Calling the VarianceThreshold Function \n",
    "- Note - Keep the code as it is, no need to change "
   ]
  },
  {
   "cell_type": "code",
   "execution_count": 84,
   "id": "7b27be43",
   "metadata": {
    "execution": {
     "iopub.execute_input": "2023-02-20T19:19:38.269643Z",
     "iopub.status.busy": "2023-02-20T19:19:38.269194Z",
     "iopub.status.idle": "2023-02-20T19:19:38.286389Z",
     "shell.execute_reply": "2023-02-20T19:19:38.285215Z"
    },
    "id": "e882509f",
    "papermill": {
     "duration": 0.090424,
     "end_time": "2023-02-20T19:19:38.288713",
     "exception": false,
     "start_time": "2023-02-20T19:19:38.198289",
     "status": "completed"
    },
    "tags": []
   },
   "outputs": [
    {
     "data": {
      "text/plain": [
       "16"
      ]
     },
     "execution_count": 84,
     "metadata": {},
     "output_type": "execute_result"
    }
   ],
   "source": [
    "from sklearn.feature_selection import VarianceThreshold\n",
    "constant_filter = VarianceThreshold(threshold=0)\n",
    "constant_filter.fit(X_train)\n",
    "len(X_train.columns[constant_filter.get_support()])"
   ]
  },
  {
   "cell_type": "markdown",
   "id": "40b1621b",
   "metadata": {
    "id": "V9531H3jR-W2",
    "papermill": {
     "duration": 0.068927,
     "end_time": "2023-02-20T19:19:38.426477",
     "exception": false,
     "start_time": "2023-02-20T19:19:38.357550",
     "status": "completed"
    },
    "tags": []
   },
   "source": [
    "- Note - Keep the code as it is, no need to change \n"
   ]
  },
  {
   "cell_type": "code",
   "execution_count": 85,
   "id": "ede62aa7",
   "metadata": {
    "execution": {
     "iopub.execute_input": "2023-02-20T19:19:38.566852Z",
     "iopub.status.busy": "2023-02-20T19:19:38.566443Z",
     "iopub.status.idle": "2023-02-20T19:19:38.572766Z",
     "shell.execute_reply": "2023-02-20T19:19:38.571647Z"
    },
    "id": "c77c12e1",
    "papermill": {
     "duration": 0.079651,
     "end_time": "2023-02-20T19:19:38.575605",
     "exception": false,
     "start_time": "2023-02-20T19:19:38.495954",
     "status": "completed"
    },
    "tags": []
   },
   "outputs": [
    {
     "name": "stdout",
     "output_type": "stream",
     "text": [
      "0\n"
     ]
    }
   ],
   "source": [
    "constant_columns = [column for column in X_train.columns\n",
    "                    if column not in X_train.columns[constant_filter.get_support()]]\n",
    "print(len(constant_columns))"
   ]
  },
  {
   "cell_type": "markdown",
   "id": "3864c1e9",
   "metadata": {
    "id": "6d9b8610",
    "papermill": {
     "duration": 0.068488,
     "end_time": "2023-02-20T19:19:38.713191",
     "exception": false,
     "start_time": "2023-02-20T19:19:38.644703",
     "status": "completed"
    },
    "tags": []
   },
   "source": [
    "- transpose the feature matrice\n",
    "- print the number of duplicated features\n",
    "- select the duplicated features columns names\n",
    "\n",
    "- Note - Keep the code as it is, no need to change \n"
   ]
  },
  {
   "cell_type": "code",
   "execution_count": 86,
   "id": "af9e2502",
   "metadata": {
    "execution": {
     "iopub.execute_input": "2023-02-20T19:19:38.855088Z",
     "iopub.status.busy": "2023-02-20T19:19:38.854659Z",
     "iopub.status.idle": "2023-02-20T19:19:45.041680Z",
     "shell.execute_reply": "2023-02-20T19:19:45.040383Z"
    },
    "id": "0fb7db95",
    "papermill": {
     "duration": 6.263382,
     "end_time": "2023-02-20T19:19:45.045743",
     "exception": false,
     "start_time": "2023-02-20T19:19:38.782361",
     "status": "completed"
    },
    "tags": []
   },
   "outputs": [
    {
     "name": "stdout",
     "output_type": "stream",
     "text": [
      "0\n"
     ]
    }
   ],
   "source": [
    "x_train_T = X_train.T\n",
    "print(x_train_T.duplicated().sum())\n",
    "duplicated_columns = x_train_T[x_train_T.duplicated()].index.values"
   ]
  },
  {
   "cell_type": "markdown",
   "id": "2a4ae2f1",
   "metadata": {
    "id": "510fa831",
    "papermill": {
     "duration": 0.068337,
     "end_time": "2023-02-20T19:19:45.183907",
     "exception": false,
     "start_time": "2023-02-20T19:19:45.115570",
     "status": "completed"
    },
    "tags": []
   },
   "source": [
    "### Filtering depending upon correlation matrix value\n",
    "- We have created a function called handling correlation which is going to return fields based on the correlation matrix value with a threshold of 0.8\n",
    "\n",
    "- Note - Keep the code as it is, no need to change "
   ]
  },
  {
   "cell_type": "code",
   "execution_count": 87,
   "id": "96d6d080",
   "metadata": {
    "execution": {
     "iopub.execute_input": "2023-02-20T19:19:45.324729Z",
     "iopub.status.busy": "2023-02-20T19:19:45.324262Z",
     "iopub.status.idle": "2023-02-20T19:19:45.330552Z",
     "shell.execute_reply": "2023-02-20T19:19:45.329429Z"
    },
    "id": "67731abc",
    "papermill": {
     "duration": 0.079673,
     "end_time": "2023-02-20T19:19:45.333044",
     "exception": false,
     "start_time": "2023-02-20T19:19:45.253371",
     "status": "completed"
    },
    "tags": []
   },
   "outputs": [],
   "source": [
    "def handling_correlation(X_train,threshold=0.8):\n",
    "    corr_features = set()\n",
    "    corr_matrix = X_train.corr()\n",
    "    for i in range(len(corr_matrix .columns)):\n",
    "        for j in range(i):\n",
    "            if abs(corr_matrix.iloc[i, j]) >threshold:\n",
    "                colname = corr_matrix.columns[i]\n",
    "                corr_features.add(colname)\n",
    "    return list(corr_features)"
   ]
  },
  {
   "cell_type": "markdown",
   "id": "b3136dd7",
   "metadata": {
    "id": "JaE_6qVgSXl3",
    "papermill": {
     "duration": 0.080722,
     "end_time": "2023-02-20T19:19:45.500436",
     "exception": false,
     "start_time": "2023-02-20T19:19:45.419714",
     "status": "completed"
    },
    "tags": []
   },
   "source": [
    "- Note : Here we are trying to find out the relevant fields, from X_train\n",
    "- Please fill in the blanks to call handling_correlation() function with a threshold value of 0.85"
   ]
  },
  {
   "cell_type": "code",
   "execution_count": 88,
   "id": "e3aaa48a",
   "metadata": {
    "execution": {
     "iopub.execute_input": "2023-02-20T19:19:45.641415Z",
     "iopub.status.busy": "2023-02-20T19:19:45.641019Z",
     "iopub.status.idle": "2023-02-20T19:19:45.674676Z",
     "shell.execute_reply": "2023-02-20T19:19:45.673537Z"
    },
    "id": "dd91d1a2",
    "papermill": {
     "duration": 0.107525,
     "end_time": "2023-02-20T19:19:45.677327",
     "exception": false,
     "start_time": "2023-02-20T19:19:45.569802",
     "status": "completed"
    },
    "tags": []
   },
   "outputs": [
    {
     "data": {
      "text/plain": [
       "['year_of_due',\n",
       " 'month_of_createdate',\n",
       " 'year_of_postingdate',\n",
       " 'month_of_due',\n",
       " 'day_of_createdate',\n",
       " 'year_of_createdate']"
      ]
     },
     "execution_count": 88,
     "metadata": {},
     "output_type": "execute_result"
    }
   ],
   "source": [
    "train=X_train.copy()\n",
    "handling_correlation(train,threshold=0.85)"
   ]
  },
  {
   "cell_type": "markdown",
   "id": "59ef6b37",
   "metadata": {
    "id": "154da511",
    "papermill": {
     "duration": 0.068701,
     "end_time": "2023-02-20T19:19:45.815318",
     "exception": false,
     "start_time": "2023-02-20T19:19:45.746617",
     "status": "completed"
    },
    "tags": []
   },
   "source": [
    "### Heatmap for X_train\n",
    "\n",
    "- Note - Keep the code as it is, no need to change"
   ]
  },
  {
   "cell_type": "code",
   "execution_count": 89,
   "id": "64c38177",
   "metadata": {
    "execution": {
     "iopub.execute_input": "2023-02-20T19:19:45.958149Z",
     "iopub.status.busy": "2023-02-20T19:19:45.957404Z",
     "iopub.status.idle": "2023-02-20T19:19:48.146650Z",
     "shell.execute_reply": "2023-02-20T19:19:48.145369Z"
    },
    "id": "2e8f2fe4",
    "papermill": {
     "duration": 2.267898,
     "end_time": "2023-02-20T19:19:48.152770",
     "exception": false,
     "start_time": "2023-02-20T19:19:45.884872",
     "status": "completed"
    },
    "tags": []
   },
   "outputs": [
    {
     "data": {
      "text/plain": [
       "<AxesSubplot:title={'center':'Pearson Correlation of Features'}>"
      ]
     },
     "execution_count": 89,
     "metadata": {},
     "output_type": "execute_result"
    },
    {
     "data": {
      "image/png": "[encoded data removed]",
      "text/plain": [
       "<Figure size 1400x1200 with 2 Axes>"
      ]
     },
     "metadata": {},
     "output_type": "display_data"
    }
   ],
   "source": [
    "colormap = plt.cm.RdBu\n",
    "plt.figure(figsize=(14,12))\n",
    "plt.title('Pearson Correlation of Features', y=1.05, size=20)\n",
    "sns.heatmap(X_train.merge(y_train , on = X_train.index ).corr(),linewidths=0.1,vmax=1.0, \n",
    "            square=True, cmap='gist_rainbow_r', linecolor='white', annot=True)"
   ]
  },
  {
   "cell_type": "markdown",
   "id": "3122b562",
   "metadata": {
    "id": "e3b0d745",
    "papermill": {
     "duration": 0.073921,
     "end_time": "2023-02-20T19:19:48.301961",
     "exception": false,
     "start_time": "2023-02-20T19:19:48.228040",
     "status": "completed"
    },
    "tags": []
   },
   "source": [
    "#### Calling variance threshold for threshold value = 0.8\n",
    "\n",
    "- Note -  Fill in the blanks to call the appropriate method"
   ]
  },
  {
   "cell_type": "code",
   "execution_count": 90,
   "id": "5a2b689e",
   "metadata": {
    "execution": {
     "iopub.execute_input": "2023-02-20T19:19:48.452413Z",
     "iopub.status.busy": "2023-02-20T19:19:48.452014Z",
     "iopub.status.idle": "2023-02-20T19:19:48.467869Z",
     "shell.execute_reply": "2023-02-20T19:19:48.466947Z"
    },
    "id": "a9b2080f",
    "papermill": {
     "duration": 0.093537,
     "end_time": "2023-02-20T19:19:48.470040",
     "exception": false,
     "start_time": "2023-02-20T19:19:48.376503",
     "status": "completed"
    },
    "tags": []
   },
   "outputs": [
    {
     "data": {
      "text/plain": [
       "VarianceThreshold(threshold=0.8)"
      ]
     },
     "execution_count": 90,
     "metadata": {},
     "output_type": "execute_result"
    }
   ],
   "source": [
    "from sklearn.feature_selection import VarianceThreshold\n",
    "sel = VarianceThreshold(threshold=0.8)\n",
    "sel.fit(X_train)"
   ]
  },
  {
   "cell_type": "code",
   "execution_count": 91,
   "id": "f2af86ec",
   "metadata": {
    "execution": {
     "iopub.execute_input": "2023-02-20T19:19:48.620533Z",
     "iopub.status.busy": "2023-02-20T19:19:48.619756Z",
     "iopub.status.idle": "2023-02-20T19:19:48.626605Z",
     "shell.execute_reply": "2023-02-20T19:19:48.625539Z"
    },
    "id": "6cb8c3dc",
    "papermill": {
     "duration": 0.084632,
     "end_time": "2023-02-20T19:19:48.628969",
     "exception": false,
     "start_time": "2023-02-20T19:19:48.544337",
     "status": "completed"
    },
    "tags": []
   },
   "outputs": [
    {
     "data": {
      "text/plain": [
       "array([1.79441749e+15, 1.15445245e-01, 8.79912350e+16, 1.32731705e+09,\n",
       "       2.81779483e-01, 1.05726914e+06, 1.38312036e+02, 7.61798213e+01,\n",
       "       1.23575918e+01, 1.16267667e-01, 7.76263125e+01, 1.23642554e+01,\n",
       "       1.16395254e-01, 7.61069630e+01, 1.21813350e+01, 1.18589019e-01])"
      ]
     },
     "execution_count": 91,
     "metadata": {},
     "output_type": "execute_result"
    }
   ],
   "source": [
    "sel.variances_"
   ]
  },
  {
   "cell_type": "markdown",
   "id": "7021e41c",
   "metadata": {
    "id": "62633a84",
    "papermill": {
     "duration": 0.07404,
     "end_time": "2023-02-20T19:19:48.777889",
     "exception": false,
     "start_time": "2023-02-20T19:19:48.703849",
     "status": "completed"
    },
    "tags": []
   },
   "source": [
    "### Important features columns are \n",
    "- 'year_of_createdate' \n",
    "- 'year_of_due'\n",
    "- 'day_of_createdate'\n",
    "- 'year_of_postingdate'\n",
    "- 'month_of_due'\n",
    "- 'month_of_createdate'"
   ]
  },
  {
   "cell_type": "markdown",
   "id": "5af3b0a5",
   "metadata": {
    "id": "651f1ad0",
    "papermill": {
     "duration": 0.074801,
     "end_time": "2023-02-20T19:19:48.926739",
     "exception": false,
     "start_time": "2023-02-20T19:19:48.851938",
     "status": "completed"
    },
    "tags": []
   },
   "source": [
    "# Modelling \n",
    "\n",
    "#### Now you need to compare with different machine learning models, and needs to find out the best predicted model\n",
    "\n",
    "- Linear Regression\n",
    "- Decision Tree Regression\n",
    "- Random Forest Regression\n",
    "- Support Vector Regression\n",
    "- Extreme Gradient Boost Regression "
   ]
  },
  {
   "cell_type": "markdown",
   "id": "7834d103",
   "metadata": {
    "id": "PicEhSuUUOkt",
    "papermill": {
     "duration": 0.073579,
     "end_time": "2023-02-20T19:19:49.075311",
     "exception": false,
     "start_time": "2023-02-20T19:19:49.001732",
     "status": "completed"
    },
    "tags": []
   },
   "source": [
    "### You need to make different blank list for different evaluation matrix \n",
    "\n",
    "- MSE\n",
    "- R2\n",
    "- Algorithm"
   ]
  },
  {
   "cell_type": "code",
   "execution_count": 92,
   "id": "93b04533",
   "metadata": {
    "execution": {
     "iopub.execute_input": "2023-02-20T19:19:49.225015Z",
     "iopub.status.busy": "2023-02-20T19:19:49.224602Z",
     "iopub.status.idle": "2023-02-20T19:19:49.229850Z",
     "shell.execute_reply": "2023-02-20T19:19:49.228641Z"
    },
    "id": "701e12b0",
    "papermill": {
     "duration": 0.083236,
     "end_time": "2023-02-20T19:19:49.232142",
     "exception": false,
     "start_time": "2023-02-20T19:19:49.148906",
     "status": "completed"
    },
    "tags": []
   },
   "outputs": [],
   "source": [
    "MSE_Score = []\n",
    "R2_Score = []\n",
    "Algorithm = []\n",
    "from sklearn.metrics import mean_squared_error\n",
    "from sklearn.metrics import r2_score"
   ]
  },
  {
   "cell_type": "markdown",
   "id": "a55d564e",
   "metadata": {
    "id": "29310119",
    "papermill": {
     "duration": 0.07396,
     "end_time": "2023-02-20T19:19:49.380345",
     "exception": false,
     "start_time": "2023-02-20T19:19:49.306385",
     "status": "completed"
    },
    "tags": []
   },
   "source": [
    "### You need to start with the baseline model Linear Regression\n",
    "\n",
    "- Step 1 : Call the Linear Regression from sklearn library\n",
    "- Step 2 : make an object of Linear Regression \n",
    "- Step 3 : fit the X_train and y_train dataframe into the object \n",
    "- Step 4 : Predict the output by passing the X_test Dataset into predict function\n",
    "\n",
    "\n",
    "\n",
    "\n",
    "- Note - Append the Algorithm name into the algorithm list for tracking purpose"
   ]
  },
  {
   "cell_type": "code",
   "execution_count": 93,
   "id": "9d08d0da",
   "metadata": {
    "execution": {
     "iopub.execute_input": "2023-02-20T19:19:49.530722Z",
     "iopub.status.busy": "2023-02-20T19:19:49.530291Z",
     "iopub.status.idle": "2023-02-20T19:19:49.559667Z",
     "shell.execute_reply": "2023-02-20T19:19:49.558221Z"
    },
    "id": "6bdea395",
    "papermill": {
     "duration": 0.109045,
     "end_time": "2023-02-20T19:19:49.563851",
     "exception": false,
     "start_time": "2023-02-20T19:19:49.454806",
     "status": "completed"
    },
    "tags": []
   },
   "outputs": [],
   "source": [
    "from sklearn.linear_model import LinearRegression\n",
    "Algorithm.append('LinearRegression')\n",
    "regressor = LinearRegression()\n",
    "regressor.fit(X_train, y_train)\n",
    "predicted= regressor.predict(X_test)"
   ]
  },
  {
   "cell_type": "markdown",
   "id": "14fa62cb",
   "metadata": {
    "id": "G02cpnBhXJ14",
    "papermill": {
     "duration": 0.075877,
     "end_time": "2023-02-20T19:19:49.786089",
     "exception": false,
     "start_time": "2023-02-20T19:19:49.710212",
     "status": "completed"
    },
    "tags": []
   },
   "source": [
    "### Check for the \n",
    "\n",
    "- Mean Square Error\n",
    "- R Square Error \n",
    "\n",
    "for y_test and predicted dataset and store those data inside respective list for comparison "
   ]
  },
  {
   "cell_type": "code",
   "execution_count": 94,
   "id": "fe7930de",
   "metadata": {
    "execution": {
     "iopub.execute_input": "2023-02-20T19:19:49.937939Z",
     "iopub.status.busy": "2023-02-20T19:19:49.937516Z",
     "iopub.status.idle": "2023-02-20T19:19:49.947612Z",
     "shell.execute_reply": "2023-02-20T19:19:49.946777Z"
    },
    "id": "0f69ca19",
    "papermill": {
     "duration": 0.089344,
     "end_time": "2023-02-20T19:19:49.949778",
     "exception": false,
     "start_time": "2023-02-20T19:19:49.860434",
     "status": "completed"
    },
    "tags": []
   },
   "outputs": [],
   "source": [
    "MSE_Score.append(mean_squared_error(y_test, predicted))\n",
    "R2_Score.append(r2_score(y_test, predicted))"
   ]
  },
  {
   "cell_type": "code",
   "execution_count": 95,
   "id": "0b7d0201",
   "metadata": {
    "execution": {
     "iopub.execute_input": "2023-02-20T19:19:50.101589Z",
     "iopub.status.busy": "2023-02-20T19:19:50.100403Z",
     "iopub.status.idle": "2023-02-20T19:19:50.112328Z",
     "shell.execute_reply": "2023-02-20T19:19:50.110601Z"
    },
    "papermill": {
     "duration": 0.090135,
     "end_time": "2023-02-20T19:19:50.114775",
     "exception": false,
     "start_time": "2023-02-20T19:19:50.024640",
     "status": "completed"
    },
    "tags": []
   },
   "outputs": [
    {
     "name": "stdout",
     "output_type": "stream",
     "text": [
      "MSE Score on Train Data:  258724822828.1174\n",
      "R2 Score on Train Data:  0.3694737116189174\n"
     ]
    }
   ],
   "source": [
    "print(\"MSE Score on Train Data: \",mean_squared_error(y_test, predicted))\n",
    "print(\"R2 Score on Train Data: \",r2_score(y_test, predicted))"
   ]
  },
  {
   "cell_type": "markdown",
   "id": "5f6e8ae0",
   "metadata": {
    "id": "CsmScbHjYMv1",
    "papermill": {
     "duration": 0.08117,
     "end_time": "2023-02-20T19:19:50.270192",
     "exception": false,
     "start_time": "2023-02-20T19:19:50.189022",
     "status": "completed"
    },
    "tags": []
   },
   "source": [
    "### Check the same for the Validation set also "
   ]
  },
  {
   "cell_type": "code",
   "execution_count": 96,
   "id": "df917e65",
   "metadata": {
    "execution": {
     "iopub.execute_input": "2023-02-20T19:19:50.480317Z",
     "iopub.status.busy": "2023-02-20T19:19:50.479128Z",
     "iopub.status.idle": "2023-02-20T19:19:50.499930Z",
     "shell.execute_reply": "2023-02-20T19:19:50.498846Z"
    },
    "id": "fe653295",
    "outputId": "0c7429ca-50d0-42a2-96a1-effaa92f549e",
    "papermill": {
     "duration": 0.160203,
     "end_time": "2023-02-20T19:19:50.504993",
     "exception": false,
     "start_time": "2023-02-20T19:19:50.344790",
     "status": "completed"
    },
    "tags": []
   },
   "outputs": [
    {
     "name": "stdout",
     "output_type": "stream",
     "text": [
      "MSE Score on Validation Data:  560065.8455535615\n",
      "R2 Score on Validation:  0.29719036941812493\n"
     ]
    }
   ],
   "source": [
    "predict_test= regressor.predict(X_val)\n",
    "print(\"MSE Score on Validation Data: \",mean_squared_error(y_val, predict_test, squared=False))\n",
    "print(\"R2 Score on Validation: \",r2_score(y_val, predict_test))"
   ]
  },
  {
   "cell_type": "markdown",
   "id": "cc1692d1",
   "metadata": {
    "id": "LokxV2LGYUVh",
    "papermill": {
     "duration": 0.075111,
     "end_time": "2023-02-20T19:19:50.721028",
     "exception": false,
     "start_time": "2023-02-20T19:19:50.645917",
     "status": "completed"
    },
    "tags": []
   },
   "source": [
    "### Display The Comparison Lists"
   ]
  },
  {
   "cell_type": "code",
   "execution_count": 97,
   "id": "7f1ad0fe",
   "metadata": {
    "execution": {
     "iopub.execute_input": "2023-02-20T19:19:50.874836Z",
     "iopub.status.busy": "2023-02-20T19:19:50.874366Z",
     "iopub.status.idle": "2023-02-20T19:19:50.880105Z",
     "shell.execute_reply": "2023-02-20T19:19:50.878904Z"
    },
    "id": "9c405bd3",
    "outputId": "9d78f4a9-33fc-48d1-edc8-c997eca38de0",
    "papermill": {
     "duration": 0.087409,
     "end_time": "2023-02-20T19:19:50.883601",
     "exception": false,
     "start_time": "2023-02-20T19:19:50.796192",
     "status": "completed"
    },
    "tags": []
   },
   "outputs": [
    {
     "name": "stdout",
     "output_type": "stream",
     "text": [
      "['LinearRegression'],[258724822828.1174],[0.3694737116189174],"
     ]
    }
   ],
   "source": [
    "for i in Algorithm, MSE_Score, R2_Score:\n",
    "    print(i,end=',')"
   ]
  },
  {
   "cell_type": "markdown",
   "id": "9dbe04fc",
   "metadata": {
    "id": "b0e65c86",
    "papermill": {
     "duration": 0.074953,
     "end_time": "2023-02-20T19:19:51.035889",
     "exception": false,
     "start_time": "2023-02-20T19:19:50.960936",
     "status": "completed"
    },
    "tags": []
   },
   "source": [
    "### You need to start with the baseline model Support Vector Regression\n",
    "\n",
    "- Step 1 : Call the Support Vector Regressor from sklearn library\n",
    "- Step 2 : make an object of SVR\n",
    "- Step 3 : fit the X_train and y_train dataframe into the object \n",
    "- Step 4 : Predict the output by passing the X_test Dataset into predict function\n",
    "\n",
    "\n",
    "\n",
    "\n",
    "- Note - Append the Algorithm name into the algorithm list for tracking purpose"
   ]
  },
  {
   "cell_type": "code",
   "execution_count": 98,
   "id": "c207afea",
   "metadata": {
    "execution": {
     "iopub.execute_input": "2023-02-20T19:19:51.190810Z",
     "iopub.status.busy": "2023-02-20T19:19:51.189985Z",
     "iopub.status.idle": "2023-02-20T19:20:32.883223Z",
     "shell.execute_reply": "2023-02-20T19:20:32.882189Z"
    },
    "id": "ccb5de08",
    "papermill": {
     "duration": 41.774101,
     "end_time": "2023-02-20T19:20:32.886039",
     "exception": false,
     "start_time": "2023-02-20T19:19:51.111938",
     "status": "completed"
    },
    "tags": []
   },
   "outputs": [],
   "source": [
    "from sklearn.svm import SVR\n",
    "Algorithm.append('Support Vector Regression')\n",
    "svmregressor = SVR()\n",
    "svmregressor.fit(X_train, y_train.values.ravel())\n",
    "svmpredicted= svmregressor.predict(X_test)"
   ]
  },
  {
   "cell_type": "markdown",
   "id": "ee4763a8",
   "metadata": {
    "id": "zz9kcrViYt7e",
    "papermill": {
     "duration": 0.075563,
     "end_time": "2023-02-20T19:20:33.040093",
     "exception": false,
     "start_time": "2023-02-20T19:20:32.964530",
     "status": "completed"
    },
    "tags": []
   },
   "source": [
    "### Check for the \n",
    "\n",
    "- Mean Square Error\n",
    "- R Square Error \n",
    "\n",
    "for \"y_test\" and \"predicted\" dataset and store those data inside respective list for comparison "
   ]
  },
  {
   "cell_type": "code",
   "execution_count": 99,
   "id": "b5a11c21",
   "metadata": {
    "execution": {
     "iopub.execute_input": "2023-02-20T19:20:33.192483Z",
     "iopub.status.busy": "2023-02-20T19:20:33.191652Z",
     "iopub.status.idle": "2023-02-20T19:20:33.200528Z",
     "shell.execute_reply": "2023-02-20T19:20:33.199680Z"
    },
    "id": "5bb9db76",
    "papermill": {
     "duration": 0.087778,
     "end_time": "2023-02-20T19:20:33.203031",
     "exception": false,
     "start_time": "2023-02-20T19:20:33.115253",
     "status": "completed"
    },
    "tags": []
   },
   "outputs": [],
   "source": [
    "MSE_Score.append(mean_squared_error(y_test, svmpredicted))\n",
    "R2_Score.append(r2_score(y_test, svmpredicted))"
   ]
  },
  {
   "cell_type": "code",
   "execution_count": 100,
   "id": "25742bae",
   "metadata": {
    "execution": {
     "iopub.execute_input": "2023-02-20T19:20:33.354323Z",
     "iopub.status.busy": "2023-02-20T19:20:33.353489Z",
     "iopub.status.idle": "2023-02-20T19:20:33.364250Z",
     "shell.execute_reply": "2023-02-20T19:20:33.362808Z"
    },
    "papermill": {
     "duration": 0.089636,
     "end_time": "2023-02-20T19:20:33.367107",
     "exception": false,
     "start_time": "2023-02-20T19:20:33.277471",
     "status": "completed"
    },
    "tags": []
   },
   "outputs": [
    {
     "name": "stdout",
     "output_type": "stream",
     "text": [
      "MSE Score on Train Data:  412570516068.3581\n",
      "R2 Score on Train Data:  -0.005456505288130353\n"
     ]
    }
   ],
   "source": [
    "print(\"MSE Score on Train Data: \",mean_squared_error(y_test, svmpredicted))\n",
    "print(\"R2 Score on Train Data: \",r2_score(y_test, svmpredicted))"
   ]
  },
  {
   "cell_type": "markdown",
   "id": "4a0cc692",
   "metadata": {
    "id": "0YAxd8N9Y0hJ",
    "papermill": {
     "duration": 0.075101,
     "end_time": "2023-02-20T19:20:33.518156",
     "exception": false,
     "start_time": "2023-02-20T19:20:33.443055",
     "status": "completed"
    },
    "tags": []
   },
   "source": [
    "### Check the same for the Validation set also "
   ]
  },
  {
   "cell_type": "code",
   "execution_count": 101,
   "id": "8be6040e",
   "metadata": {
    "execution": {
     "iopub.execute_input": "2023-02-20T19:20:33.670724Z",
     "iopub.status.busy": "2023-02-20T19:20:33.670286Z",
     "iopub.status.idle": "2023-02-20T19:20:44.455719Z",
     "shell.execute_reply": "2023-02-20T19:20:44.454241Z"
    },
    "id": "d6ee71b1",
    "papermill": {
     "duration": 10.865542,
     "end_time": "2023-02-20T19:20:44.458731",
     "exception": false,
     "start_time": "2023-02-20T19:20:33.593189",
     "status": "completed"
    },
    "tags": []
   },
   "outputs": [
    {
     "name": "stdout",
     "output_type": "stream",
     "text": [
      "MSE Score on Validation Data:  669720.9190803162\n",
      "R2 Score on Validation:  -0.004956480831419086\n"
     ]
    }
   ],
   "source": [
    "svmpredict_test= svmregressor.predict(X_val)\n",
    "print(\"MSE Score on Validation Data: \",mean_squared_error(y_val, svmpredict_test, squared=False))\n",
    "print(\"R2 Score on Validation: \",r2_score(y_val, svmpredict_test))"
   ]
  },
  {
   "cell_type": "markdown",
   "id": "65660504",
   "metadata": {
    "id": "eGcqS5EcY4BI",
    "papermill": {
     "duration": 0.075238,
     "end_time": "2023-02-20T19:20:44.610251",
     "exception": false,
     "start_time": "2023-02-20T19:20:44.535013",
     "status": "completed"
    },
    "tags": []
   },
   "source": [
    "### Display The Comparison Lists"
   ]
  },
  {
   "cell_type": "code",
   "execution_count": 102,
   "id": "ea40e4bf",
   "metadata": {
    "execution": {
     "iopub.execute_input": "2023-02-20T19:20:44.764051Z",
     "iopub.status.busy": "2023-02-20T19:20:44.763063Z",
     "iopub.status.idle": "2023-02-20T19:20:44.768818Z",
     "shell.execute_reply": "2023-02-20T19:20:44.767613Z"
    },
    "id": "aa72c1ec",
    "papermill": {
     "duration": 0.08471,
     "end_time": "2023-02-20T19:20:44.771144",
     "exception": false,
     "start_time": "2023-02-20T19:20:44.686434",
     "status": "completed"
    },
    "tags": []
   },
   "outputs": [
    {
     "name": "stdout",
     "output_type": "stream",
     "text": [
      "['LinearRegression', 'Support Vector Regression'],[258724822828.1174, 412570516068.3581],[0.3694737116189174, -0.005456505288130353],"
     ]
    }
   ],
   "source": [
    "for i in Algorithm, MSE_Score, R2_Score:\n",
    "    print(i,end=',')"
   ]
  },
  {
   "cell_type": "markdown",
   "id": "4ac60d4c",
   "metadata": {
    "id": "dad18bb3",
    "papermill": {
     "duration": 0.076464,
     "end_time": "2023-02-20T19:20:44.922928",
     "exception": false,
     "start_time": "2023-02-20T19:20:44.846464",
     "status": "completed"
    },
    "tags": []
   },
   "source": [
    "### Your next model would be Decision Tree Regression\n",
    "\n",
    "- Step 1 : Call the Decision Tree Regressor from sklearn library\n",
    "- Step 2 : make an object of Decision Tree\n",
    "- Step 3 : fit the X_train and y_train dataframe into the object \n",
    "- Step 4 : Predict the output by passing the X_test Dataset into predict function\n",
    "\n",
    "\n",
    "\n",
    "\n",
    "- Note - Append the Algorithm name into the algorithm list for tracking purpose"
   ]
  },
  {
   "cell_type": "code",
   "execution_count": 103,
   "id": "60c2274d",
   "metadata": {
    "execution": {
     "iopub.execute_input": "2023-02-20T19:20:45.077471Z",
     "iopub.status.busy": "2023-02-20T19:20:45.077001Z",
     "iopub.status.idle": "2023-02-20T19:20:45.338521Z",
     "shell.execute_reply": "2023-02-20T19:20:45.337522Z"
    },
    "id": "1b6a51eb",
    "papermill": {
     "duration": 0.340457,
     "end_time": "2023-02-20T19:20:45.341202",
     "exception": false,
     "start_time": "2023-02-20T19:20:45.000745",
     "status": "completed"
    },
    "tags": []
   },
   "outputs": [],
   "source": [
    "from sklearn.tree import DecisionTreeRegressor\n",
    "Algorithm.append('Decision Tree Regression')\n",
    "dsregressor = DecisionTreeRegressor()\n",
    "dsregressor.fit(X_train, y_train.values.ravel())\n",
    "dspredicted= dsregressor.predict(X_test)"
   ]
  },
  {
   "cell_type": "markdown",
   "id": "cc36ead6",
   "metadata": {
    "id": "AOzfgfeOZo3F",
    "papermill": {
     "duration": 0.074763,
     "end_time": "2023-02-20T19:20:45.490697",
     "exception": false,
     "start_time": "2023-02-20T19:20:45.415934",
     "status": "completed"
    },
    "tags": []
   },
   "source": [
    "### Check for the \n",
    "\n",
    "- Mean Square Error\n",
    "- R Square Error \n",
    "\n",
    "for y_test and predicted dataset and store those data inside respective list for comparison "
   ]
  },
  {
   "cell_type": "code",
   "execution_count": 104,
   "id": "191b152c",
   "metadata": {
    "execution": {
     "iopub.execute_input": "2023-02-20T19:20:45.643763Z",
     "iopub.status.busy": "2023-02-20T19:20:45.643058Z",
     "iopub.status.idle": "2023-02-20T19:20:45.652814Z",
     "shell.execute_reply": "2023-02-20T19:20:45.651777Z"
    },
    "id": "776e6983",
    "papermill": {
     "duration": 0.089255,
     "end_time": "2023-02-20T19:20:45.655081",
     "exception": false,
     "start_time": "2023-02-20T19:20:45.565826",
     "status": "completed"
    },
    "tags": []
   },
   "outputs": [],
   "source": [
    "MSE_Score.append(mean_squared_error(y_test, dspredicted))\n",
    "R2_Score.append(r2_score(y_test, dspredicted))"
   ]
  },
  {
   "cell_type": "code",
   "execution_count": 105,
   "id": "65427a03",
   "metadata": {
    "execution": {
     "iopub.execute_input": "2023-02-20T19:20:45.807993Z",
     "iopub.status.busy": "2023-02-20T19:20:45.807212Z",
     "iopub.status.idle": "2023-02-20T19:20:45.816573Z",
     "shell.execute_reply": "2023-02-20T19:20:45.815498Z"
    },
    "papermill": {
     "duration": 0.08953,
     "end_time": "2023-02-20T19:20:45.820104",
     "exception": false,
     "start_time": "2023-02-20T19:20:45.730574",
     "status": "completed"
    },
    "tags": []
   },
   "outputs": [
    {
     "name": "stdout",
     "output_type": "stream",
     "text": [
      "MSE Score on Train Data:  235105491779.6388\n",
      "R2 Score on Train Data:  0.4270352898905745\n"
     ]
    }
   ],
   "source": [
    "print(\"MSE Score on Train Data: \",mean_squared_error(y_test, dspredicted))\n",
    "print(\"R2 Score on Train Data: \",r2_score(y_test, dspredicted))"
   ]
  },
  {
   "cell_type": "markdown",
   "id": "366c7cd2",
   "metadata": {
    "id": "eI6d49DQZrhW",
    "papermill": {
     "duration": 0.075641,
     "end_time": "2023-02-20T19:20:45.973445",
     "exception": false,
     "start_time": "2023-02-20T19:20:45.897804",
     "status": "completed"
    },
    "tags": []
   },
   "source": [
    "### Check the same for the Validation set also "
   ]
  },
  {
   "cell_type": "code",
   "execution_count": 106,
   "id": "4e28fe9e",
   "metadata": {
    "execution": {
     "iopub.execute_input": "2023-02-20T19:20:46.127495Z",
     "iopub.status.busy": "2023-02-20T19:20:46.126995Z",
     "iopub.status.idle": "2023-02-20T19:20:46.141432Z",
     "shell.execute_reply": "2023-02-20T19:20:46.140185Z"
    },
    "id": "155fb55c",
    "papermill": {
     "duration": 0.094586,
     "end_time": "2023-02-20T19:20:46.144587",
     "exception": false,
     "start_time": "2023-02-20T19:20:46.050001",
     "status": "completed"
    },
    "tags": []
   },
   "outputs": [
    {
     "name": "stdout",
     "output_type": "stream",
     "text": [
      "MSE Score on Validation Data:  457526.76859977434\n",
      "R2 Score on Validation:  0.5309787248248965\n"
     ]
    }
   ],
   "source": [
    "dspredict_test= dsregressor.predict(X_val)\n",
    "print(\"MSE Score on Validation Data: \",mean_squared_error(y_val, dspredict_test, squared=False))\n",
    "print(\"R2 Score on Validation: \",r2_score(y_val, dspredict_test))"
   ]
  },
  {
   "cell_type": "markdown",
   "id": "b7a831d5",
   "metadata": {
    "id": "sbGXvBLQZw5E",
    "papermill": {
     "duration": 0.074933,
     "end_time": "2023-02-20T19:20:46.297500",
     "exception": false,
     "start_time": "2023-02-20T19:20:46.222567",
     "status": "completed"
    },
    "tags": []
   },
   "source": [
    "### Display The Comparison Lists"
   ]
  },
  {
   "cell_type": "code",
   "execution_count": 107,
   "id": "80317909",
   "metadata": {
    "execution": {
     "iopub.execute_input": "2023-02-20T19:20:46.450582Z",
     "iopub.status.busy": "2023-02-20T19:20:46.450116Z",
     "iopub.status.idle": "2023-02-20T19:20:46.455859Z",
     "shell.execute_reply": "2023-02-20T19:20:46.454611Z"
    },
    "id": "1d74d515",
    "papermill": {
     "duration": 0.084931,
     "end_time": "2023-02-20T19:20:46.458211",
     "exception": false,
     "start_time": "2023-02-20T19:20:46.373280",
     "status": "completed"
    },
    "tags": []
   },
   "outputs": [
    {
     "name": "stdout",
     "output_type": "stream",
     "text": [
      "['LinearRegression', 'Support Vector Regression', 'Decision Tree Regression'],[258724822828.1174, 412570516068.3581, 235105491779.6388],[0.3694737116189174, -0.005456505288130353, 0.4270352898905745],"
     ]
    }
   ],
   "source": [
    "for i in Algorithm, MSE_Score, R2_Score:\n",
    "    print(i,end=',')"
   ]
  },
  {
   "cell_type": "markdown",
   "id": "98cfce4d",
   "metadata": {
    "id": "4ae9979b",
    "papermill": {
     "duration": 0.075218,
     "end_time": "2023-02-20T19:20:46.608475",
     "exception": false,
     "start_time": "2023-02-20T19:20:46.533257",
     "status": "completed"
    },
    "tags": []
   },
   "source": [
    "### Your next model would be Random Forest Regression\n",
    "\n",
    "- Step 1 : Call the Random Forest Regressor from sklearn library\n",
    "- Step 2 : make an object of Random Forest\n",
    "- Step 3 : fit the X_train and y_train dataframe into the object \n",
    "- Step 4 : Predict the output by passing the X_test Dataset into predict function\n",
    "\n",
    "\n",
    "\n",
    "\n",
    "- Note - Append the Algorithm name into the algorithm list for tracking purpose"
   ]
  },
  {
   "cell_type": "code",
   "execution_count": 108,
   "id": "ea0447b1",
   "metadata": {
    "execution": {
     "iopub.execute_input": "2023-02-20T19:20:46.761446Z",
     "iopub.status.busy": "2023-02-20T19:20:46.760993Z",
     "iopub.status.idle": "2023-02-20T19:21:01.417861Z",
     "shell.execute_reply": "2023-02-20T19:21:01.416613Z"
    },
    "id": "a69e476a",
    "papermill": {
     "duration": 14.736902,
     "end_time": "2023-02-20T19:21:01.420774",
     "exception": false,
     "start_time": "2023-02-20T19:20:46.683872",
     "status": "completed"
    },
    "tags": []
   },
   "outputs": [],
   "source": [
    "from sklearn.ensemble import RandomForestRegressor\n",
    "Algorithm.append('Random Forest Regression')\n",
    "rfregressor = RandomForestRegressor()\n",
    "rfregressor.fit(X_train, y_train.values.ravel())\n",
    "rfpredicted= rfregressor.predict(X_test)"
   ]
  },
  {
   "cell_type": "markdown",
   "id": "60967be0",
   "metadata": {
    "id": "XNcEJF-6anof",
    "papermill": {
     "duration": 0.074823,
     "end_time": "2023-02-20T19:21:01.571789",
     "exception": false,
     "start_time": "2023-02-20T19:21:01.496966",
     "status": "completed"
    },
    "tags": []
   },
   "source": [
    "### Check for the \n",
    "\n",
    "- Mean Square Error\n",
    "- R Square Error \n",
    "\n",
    "for y_test and predicted dataset and store those data inside respective list for comparison "
   ]
  },
  {
   "cell_type": "code",
   "execution_count": 109,
   "id": "beafe7be",
   "metadata": {
    "execution": {
     "iopub.execute_input": "2023-02-20T19:21:01.724774Z",
     "iopub.status.busy": "2023-02-20T19:21:01.723973Z",
     "iopub.status.idle": "2023-02-20T19:21:01.732373Z",
     "shell.execute_reply": "2023-02-20T19:21:01.731427Z"
    },
    "id": "826f63f4",
    "papermill": {
     "duration": 0.087677,
     "end_time": "2023-02-20T19:21:01.734834",
     "exception": false,
     "start_time": "2023-02-20T19:21:01.647157",
     "status": "completed"
    },
    "tags": []
   },
   "outputs": [],
   "source": [
    "MSE_Score.append(mean_squared_error(y_test, rfpredicted))\n",
    "R2_Score.append(r2_score(y_test, rfpredicted))"
   ]
  },
  {
   "cell_type": "code",
   "execution_count": 110,
   "id": "35b57aff",
   "metadata": {
    "execution": {
     "iopub.execute_input": "2023-02-20T19:21:01.888940Z",
     "iopub.status.busy": "2023-02-20T19:21:01.888258Z",
     "iopub.status.idle": "2023-02-20T19:21:01.900271Z",
     "shell.execute_reply": "2023-02-20T19:21:01.898447Z"
    },
    "papermill": {
     "duration": 0.091663,
     "end_time": "2023-02-20T19:21:01.902702",
     "exception": false,
     "start_time": "2023-02-20T19:21:01.811039",
     "status": "completed"
    },
    "tags": []
   },
   "outputs": [
    {
     "name": "stdout",
     "output_type": "stream",
     "text": [
      "MSE Score on Train Data:  105675942384.12938\n",
      "R2 Score on Train Data:  0.7424620529476427\n"
     ]
    }
   ],
   "source": [
    "print(\"MSE Score on Train Data: \",mean_squared_error(y_test, rfpredicted))\n",
    "print(\"R2 Score on Train Data: \",r2_score(y_test, rfpredicted))"
   ]
  },
  {
   "cell_type": "markdown",
   "id": "2d61f20b",
   "metadata": {
    "id": "yMbyr9V4ati1",
    "papermill": {
     "duration": 0.076836,
     "end_time": "2023-02-20T19:21:02.055244",
     "exception": false,
     "start_time": "2023-02-20T19:21:01.978408",
     "status": "completed"
    },
    "tags": []
   },
   "source": [
    "### Check the same for the Validation set also "
   ]
  },
  {
   "cell_type": "code",
   "execution_count": 111,
   "id": "7b8e9567",
   "metadata": {
    "execution": {
     "iopub.execute_input": "2023-02-20T19:21:02.271162Z",
     "iopub.status.busy": "2023-02-20T19:21:02.270397Z",
     "iopub.status.idle": "2023-02-20T19:21:02.466754Z",
     "shell.execute_reply": "2023-02-20T19:21:02.465233Z"
    },
    "id": "55b9fb54",
    "papermill": {
     "duration": 0.337896,
     "end_time": "2023-02-20T19:21:02.469407",
     "exception": false,
     "start_time": "2023-02-20T19:21:02.131511",
     "status": "completed"
    },
    "tags": []
   },
   "outputs": [
    {
     "name": "stdout",
     "output_type": "stream",
     "text": [
      "MSE Score on Validation Data:  372114.81383703597\n",
      "R2 Score on Validation:  0.6897488176437485\n"
     ]
    }
   ],
   "source": [
    "rfpredict_test= rfregressor.predict(X_val)\n",
    "print(\"MSE Score on Validation Data: \",mean_squared_error(y_val, rfpredict_test, squared=False))\n",
    "print(\"R2 Score on Validation: \",r2_score(y_val, rfpredict_test))"
   ]
  },
  {
   "cell_type": "markdown",
   "id": "c6a1cbe3",
   "metadata": {
    "id": "tiBawcCsaw_Z",
    "papermill": {
     "duration": 0.074976,
     "end_time": "2023-02-20T19:21:02.620277",
     "exception": false,
     "start_time": "2023-02-20T19:21:02.545301",
     "status": "completed"
    },
    "tags": []
   },
   "source": [
    "### Display The Comparison Lists\n"
   ]
  },
  {
   "cell_type": "code",
   "execution_count": 112,
   "id": "1583f98b",
   "metadata": {
    "execution": {
     "iopub.execute_input": "2023-02-20T19:21:02.773065Z",
     "iopub.status.busy": "2023-02-20T19:21:02.772626Z",
     "iopub.status.idle": "2023-02-20T19:21:02.778513Z",
     "shell.execute_reply": "2023-02-20T19:21:02.777241Z"
    },
    "id": "8277c13e",
    "papermill": {
     "duration": 0.085411,
     "end_time": "2023-02-20T19:21:02.781263",
     "exception": false,
     "start_time": "2023-02-20T19:21:02.695852",
     "status": "completed"
    },
    "tags": []
   },
   "outputs": [
    {
     "name": "stdout",
     "output_type": "stream",
     "text": [
      "['LinearRegression', 'Support Vector Regression', 'Decision Tree Regression', 'Random Forest Regression'],[258724822828.1174, 412570516068.3581, 235105491779.6388, 105675942384.12938],[0.3694737116189174, -0.005456505288130353, 0.4270352898905745, 0.7424620529476427],"
     ]
    }
   ],
   "source": [
    "for i in Algorithm, MSE_Score, R2_Score:\n",
    "    print(i,end=',')"
   ]
  },
  {
   "cell_type": "markdown",
   "id": "08427cb6",
   "metadata": {
    "id": "e6b21881",
    "papermill": {
     "duration": 0.076063,
     "end_time": "2023-02-20T19:21:02.934624",
     "exception": false,
     "start_time": "2023-02-20T19:21:02.858561",
     "status": "completed"
    },
    "tags": []
   },
   "source": [
    "### The last but not the least model would be XGBoost or Extreme Gradient Boost Regression\n",
    "\n",
    "- Step 1 : Call the XGBoost Regressor from xgb library\n",
    "- Step 2 : make an object of Xgboost\n",
    "- Step 3 : fit the X_train and y_train dataframe into the object \n",
    "- Step 4 : Predict the output by passing the X_test Dataset into predict function\n",
    "\n",
    "\n",
    "\n",
    "\n",
    "- Note - Append the Algorithm name into the algorithm list for tracking purpose### Extreme Gradient Boost Regression\n",
    "- Note -  No need to change the code "
   ]
  },
  {
   "cell_type": "code",
   "execution_count": 113,
   "id": "da10a16d",
   "metadata": {
    "execution": {
     "iopub.execute_input": "2023-02-20T19:21:03.089890Z",
     "iopub.status.busy": "2023-02-20T19:21:03.089152Z",
     "iopub.status.idle": "2023-02-20T19:21:04.902293Z",
     "shell.execute_reply": "2023-02-20T19:21:04.901166Z"
    },
    "id": "705a38ec",
    "papermill": {
     "duration": 1.894209,
     "end_time": "2023-02-20T19:21:04.905405",
     "exception": false,
     "start_time": "2023-02-20T19:21:03.011196",
     "status": "completed"
    },
    "tags": []
   },
   "outputs": [],
   "source": [
    "import xgboost as xgb\n",
    "Algorithm.append('XGB Regressor')\n",
    "xgbregressor = xgb.XGBRegressor()\n",
    "xgbregressor.fit(X_train, y_train)\n",
    "xgbpredicted = xgbregressor.predict(X_test)"
   ]
  },
  {
   "cell_type": "markdown",
   "id": "6ae49966",
   "metadata": {
    "id": "ierNZkb9bQDD",
    "papermill": {
     "duration": 0.076321,
     "end_time": "2023-02-20T19:21:05.059602",
     "exception": false,
     "start_time": "2023-02-20T19:21:04.983281",
     "status": "completed"
    },
    "tags": []
   },
   "source": [
    "### Check for the \n",
    "\n",
    "- Mean Square Error\n",
    "- R Square Error \n",
    "\n",
    "for y_test and predicted dataset and store those data inside respective list for comparison "
   ]
  },
  {
   "cell_type": "code",
   "execution_count": 114,
   "id": "9f094964",
   "metadata": {
    "execution": {
     "iopub.execute_input": "2023-02-20T19:21:05.219903Z",
     "iopub.status.busy": "2023-02-20T19:21:05.219487Z",
     "iopub.status.idle": "2023-02-20T19:21:05.228688Z",
     "shell.execute_reply": "2023-02-20T19:21:05.227862Z"
    },
    "id": "507a9d2f",
    "papermill": {
     "duration": 0.096036,
     "end_time": "2023-02-20T19:21:05.230950",
     "exception": false,
     "start_time": "2023-02-20T19:21:05.134914",
     "status": "completed"
    },
    "tags": []
   },
   "outputs": [],
   "source": [
    "MSE_Score.append(mean_squared_error(y_test, xgbpredicted))\n",
    "R2_Score.append(r2_score(y_test, xgbpredicted))"
   ]
  },
  {
   "cell_type": "code",
   "execution_count": 115,
   "id": "f1d844b8",
   "metadata": {
    "execution": {
     "iopub.execute_input": "2023-02-20T19:21:05.383543Z",
     "iopub.status.busy": "2023-02-20T19:21:05.383111Z",
     "iopub.status.idle": "2023-02-20T19:21:05.394763Z",
     "shell.execute_reply": "2023-02-20T19:21:05.392838Z"
    },
    "papermill": {
     "duration": 0.092657,
     "end_time": "2023-02-20T19:21:05.398521",
     "exception": false,
     "start_time": "2023-02-20T19:21:05.305864",
     "status": "completed"
    },
    "tags": []
   },
   "outputs": [
    {
     "name": "stdout",
     "output_type": "stream",
     "text": [
      "MSE Score on Train Data:  95470545600.08627\n",
      "R2 Score on Train Data:  0.7673331530042995\n"
     ]
    }
   ],
   "source": [
    "print(\"MSE Score on Train Data: \",mean_squared_error(y_test, xgbpredicted))\n",
    "print(\"R2 Score on Train Data: \",r2_score(y_test, xgbpredicted))"
   ]
  },
  {
   "cell_type": "markdown",
   "id": "dad1b87b",
   "metadata": {
    "id": "84UZ2ojsbWaH",
    "papermill": {
     "duration": 0.074595,
     "end_time": "2023-02-20T19:21:05.549672",
     "exception": false,
     "start_time": "2023-02-20T19:21:05.475077",
     "status": "completed"
    },
    "tags": []
   },
   "source": [
    "### Check the same for the Validation set also "
   ]
  },
  {
   "cell_type": "code",
   "execution_count": 116,
   "id": "d7a394b6",
   "metadata": {
    "execution": {
     "iopub.execute_input": "2023-02-20T19:21:05.706637Z",
     "iopub.status.busy": "2023-02-20T19:21:05.705879Z",
     "iopub.status.idle": "2023-02-20T19:21:05.740423Z",
     "shell.execute_reply": "2023-02-20T19:21:05.739437Z"
    },
    "id": "e78ac250",
    "papermill": {
     "duration": 0.11476,
     "end_time": "2023-02-20T19:21:05.744006",
     "exception": false,
     "start_time": "2023-02-20T19:21:05.629246",
     "status": "completed"
    },
    "tags": []
   },
   "outputs": [
    {
     "name": "stdout",
     "output_type": "stream",
     "text": [
      "MSE Score on Validation Data:  366268.06254811655\n",
      "R2 Score on Validation:  0.6994216968130059\n"
     ]
    }
   ],
   "source": [
    "xgbpredict_test= xgbregressor.predict(X_val)\n",
    "print(\"MSE Score on Validation Data: \",mean_squared_error(y_val, xgbpredict_test, squared=False))\n",
    "print(\"R2 Score on Validation: \",r2_score(y_val, xgbpredict_test))"
   ]
  },
  {
   "cell_type": "markdown",
   "id": "a2712705",
   "metadata": {
    "id": "9FJFyaVbbbAH",
    "papermill": {
     "duration": 0.074931,
     "end_time": "2023-02-20T19:21:05.895620",
     "exception": false,
     "start_time": "2023-02-20T19:21:05.820689",
     "status": "completed"
    },
    "tags": []
   },
   "source": [
    "### Display The Comparison Lists\n"
   ]
  },
  {
   "cell_type": "code",
   "execution_count": 117,
   "id": "e4ceee5b",
   "metadata": {
    "execution": {
     "iopub.execute_input": "2023-02-20T19:21:06.051090Z",
     "iopub.status.busy": "2023-02-20T19:21:06.050673Z",
     "iopub.status.idle": "2023-02-20T19:21:06.056941Z",
     "shell.execute_reply": "2023-02-20T19:21:06.055784Z"
    },
    "id": "f765ba35",
    "papermill": {
     "duration": 0.087325,
     "end_time": "2023-02-20T19:21:06.059331",
     "exception": false,
     "start_time": "2023-02-20T19:21:05.972006",
     "status": "completed"
    },
    "tags": []
   },
   "outputs": [
    {
     "name": "stdout",
     "output_type": "stream",
     "text": [
      "['LinearRegression', 'Support Vector Regression', 'Decision Tree Regression', 'Random Forest Regression', 'XGB Regressor'],[258724822828.1174, 412570516068.3581, 235105491779.6388, 105675942384.12938, 95470545600.08627],[0.3694737116189174, -0.005456505288130353, 0.4270352898905745, 0.7424620529476427, 0.7673331530042995],"
     ]
    }
   ],
   "source": [
    "for i in Algorithm, MSE_Score, R2_Score:\n",
    "    print(i,end=',')"
   ]
  },
  {
   "cell_type": "markdown",
   "id": "fd42701e",
   "metadata": {
    "id": "a71bc90f",
    "papermill": {
     "duration": 0.075333,
     "end_time": "2023-02-20T19:21:06.210061",
     "exception": false,
     "start_time": "2023-02-20T19:21:06.134728",
     "status": "completed"
    },
    "tags": []
   },
   "source": [
    "## You need to make the comparison list into a comparison dataframe "
   ]
  },
  {
   "cell_type": "code",
   "execution_count": 118,
   "id": "b8794e43",
   "metadata": {
    "execution": {
     "iopub.execute_input": "2023-02-20T19:21:06.366027Z",
     "iopub.status.busy": "2023-02-20T19:21:06.365626Z",
     "iopub.status.idle": "2023-02-20T19:21:06.378594Z",
     "shell.execute_reply": "2023-02-20T19:21:06.377507Z"
    },
    "id": "ff5159a7",
    "papermill": {
     "duration": 0.095072,
     "end_time": "2023-02-20T19:21:06.381035",
     "exception": false,
     "start_time": "2023-02-20T19:21:06.285963",
     "status": "completed"
    },
    "tags": []
   },
   "outputs": [
    {
     "data": {
      "text/html": [
       "<div>\n",
       "<style scoped>\n",
       "    .dataframe tbody tr th:only-of-type {\n",
       "        vertical-align: middle;\n",
       "    }\n",
       "\n",
       "    .dataframe tbody tr th {\n",
       "        vertical-align: top;\n",
       "    }\n",
       "\n",
       "    .dataframe thead th {\n",
       "        text-align: right;\n",
       "    }\n",
       "</style>\n",
       "<table border=\"1\" class=\"dataframe\">\n",
       "  <thead>\n",
       "    <tr style=\"text-align: right;\">\n",
       "      <th></th>\n",
       "      <th>Algorithms</th>\n",
       "      <th>MSE Scores</th>\n",
       "      <th>R2 Score</th>\n",
       "    </tr>\n",
       "  </thead>\n",
       "  <tbody>\n",
       "    <tr>\n",
       "      <th>0</th>\n",
       "      <td>LinearRegression</td>\n",
       "      <td>2.587248e+11</td>\n",
       "      <td>0.369474</td>\n",
       "    </tr>\n",
       "    <tr>\n",
       "      <th>1</th>\n",
       "      <td>Support Vector Regression</td>\n",
       "      <td>4.125705e+11</td>\n",
       "      <td>-0.005457</td>\n",
       "    </tr>\n",
       "    <tr>\n",
       "      <th>2</th>\n",
       "      <td>Decision Tree Regression</td>\n",
       "      <td>2.351055e+11</td>\n",
       "      <td>0.427035</td>\n",
       "    </tr>\n",
       "    <tr>\n",
       "      <th>3</th>\n",
       "      <td>Random Forest Regression</td>\n",
       "      <td>1.056759e+11</td>\n",
       "      <td>0.742462</td>\n",
       "    </tr>\n",
       "    <tr>\n",
       "      <th>4</th>\n",
       "      <td>XGB Regressor</td>\n",
       "      <td>9.547055e+10</td>\n",
       "      <td>0.767333</td>\n",
       "    </tr>\n",
       "  </tbody>\n",
       "</table>\n",
       "</div>"
      ],
      "text/plain": [
       "                  Algorithms    MSE Scores  R2 Score\n",
       "0           LinearRegression  2.587248e+11  0.369474\n",
       "1  Support Vector Regression  4.125705e+11 -0.005457\n",
       "2   Decision Tree Regression  2.351055e+11  0.427035\n",
       "3   Random Forest Regression  1.056759e+11  0.742462\n",
       "4              XGB Regressor  9.547055e+10  0.767333"
      ]
     },
     "execution_count": 118,
     "metadata": {},
     "output_type": "execute_result"
    }
   ],
   "source": [
    "pd.DataFrame({'Algorithms':Algorithm,'MSE Scores':MSE_Score,'R2 Score':R2_Score})"
   ]
  },
  {
   "cell_type": "markdown",
   "id": "2a2b7ef5",
   "metadata": {
    "id": "62e61c60",
    "papermill": {
     "duration": 0.076024,
     "end_time": "2023-02-20T19:21:06.533293",
     "exception": false,
     "start_time": "2023-02-20T19:21:06.457269",
     "status": "completed"
    },
    "tags": []
   },
   "source": [
    "## Now from the Comparison table, you need to choose the best fit model\n",
    "\n",
    "- Step 1 - Fit X_train and y_train inside the model \n",
    "- Step 2 - Predict the X_test dataset\n",
    "- Step 3 - Predict the X_val dataset\n",
    "\n",
    "\n",
    "- Note - No need to change the code"
   ]
  },
  {
   "cell_type": "code",
   "execution_count": 119,
   "id": "5c91a1fb",
   "metadata": {
    "execution": {
     "iopub.execute_input": "2023-02-20T19:21:06.687555Z",
     "iopub.status.busy": "2023-02-20T19:21:06.687112Z",
     "iopub.status.idle": "2023-02-20T19:21:08.454931Z",
     "shell.execute_reply": "2023-02-20T19:21:08.453940Z"
    },
    "id": "3e07c258",
    "papermill": {
     "duration": 1.848047,
     "end_time": "2023-02-20T19:21:08.457660",
     "exception": false,
     "start_time": "2023-02-20T19:21:06.609613",
     "status": "completed"
    },
    "tags": []
   },
   "outputs": [],
   "source": [
    "regressorfinal = xgb.XGBRegressor()\n",
    "regressorfinal.fit(X_train, y_train)\n",
    "predictedfinal = regressorfinal.predict(X_test)\n",
    "predict_testfinal = regressorfinal.predict(X_val)"
   ]
  },
  {
   "cell_type": "markdown",
   "id": "066eadd3",
   "metadata": {
    "id": "8e4df6c4",
    "papermill": {
     "duration": 0.07501,
     "end_time": "2023-02-20T19:21:08.610962",
     "exception": false,
     "start_time": "2023-02-20T19:21:08.535952",
     "status": "completed"
    },
    "tags": []
   },
   "source": [
    "### Calculate the Mean Square Error for test dataset\n",
    "\n",
    "- Note - No need to change the code"
   ]
  },
  {
   "cell_type": "code",
   "execution_count": 120,
   "id": "652f0269",
   "metadata": {
    "execution": {
     "iopub.execute_input": "2023-02-20T19:21:08.764217Z",
     "iopub.status.busy": "2023-02-20T19:21:08.763815Z",
     "iopub.status.idle": "2023-02-20T19:21:08.774824Z",
     "shell.execute_reply": "2023-02-20T19:21:08.773698Z"
    },
    "id": "5fb466d0",
    "papermill": {
     "duration": 0.090895,
     "end_time": "2023-02-20T19:21:08.777694",
     "exception": false,
     "start_time": "2023-02-20T19:21:08.686799",
     "status": "completed"
    },
    "tags": []
   },
   "outputs": [
    {
     "data": {
      "text/plain": [
       "308983.08303220465"
      ]
     },
     "execution_count": 120,
     "metadata": {},
     "output_type": "execute_result"
    }
   ],
   "source": [
    "mean_squared_error(y_test,predictedfinal,squared=False)"
   ]
  },
  {
   "cell_type": "markdown",
   "id": "0b5266b5",
   "metadata": {
    "id": "ce27f87f",
    "papermill": {
     "duration": 0.083251,
     "end_time": "2023-02-20T19:21:08.944666",
     "exception": false,
     "start_time": "2023-02-20T19:21:08.861415",
     "status": "completed"
    },
    "tags": []
   },
   "source": [
    "### Calculate the mean Square Error for validation dataset"
   ]
  },
  {
   "cell_type": "code",
   "execution_count": 121,
   "id": "9f249c49",
   "metadata": {
    "execution": {
     "iopub.execute_input": "2023-02-20T19:21:09.112506Z",
     "iopub.status.busy": "2023-02-20T19:21:09.112015Z",
     "iopub.status.idle": "2023-02-20T19:21:09.123528Z",
     "shell.execute_reply": "2023-02-20T19:21:09.122357Z"
    },
    "id": "b47978ea",
    "papermill": {
     "duration": 0.099988,
     "end_time": "2023-02-20T19:21:09.125946",
     "exception": false,
     "start_time": "2023-02-20T19:21:09.025958",
     "status": "completed"
    },
    "tags": []
   },
   "outputs": [
    {
     "data": {
      "text/plain": [
       "366268.06254811655"
      ]
     },
     "execution_count": 121,
     "metadata": {},
     "output_type": "execute_result"
    }
   ],
   "source": [
    "mean_squared_error(y_val,predict_testfinal,squared=False)"
   ]
  },
  {
   "cell_type": "markdown",
   "id": "f0dc2e54",
   "metadata": {
    "id": "30014dbd",
    "papermill": {
     "duration": 0.08052,
     "end_time": "2023-02-20T19:21:09.289042",
     "exception": false,
     "start_time": "2023-02-20T19:21:09.208522",
     "status": "completed"
    },
    "tags": []
   },
   "source": [
    "### Calculate the R2 score for test"
   ]
  },
  {
   "cell_type": "code",
   "execution_count": 122,
   "id": "2f787319",
   "metadata": {
    "execution": {
     "iopub.execute_input": "2023-02-20T19:21:09.455057Z",
     "iopub.status.busy": "2023-02-20T19:21:09.454269Z",
     "iopub.status.idle": "2023-02-20T19:21:09.463223Z",
     "shell.execute_reply": "2023-02-20T19:21:09.462037Z"
    },
    "id": "8a162737",
    "papermill": {
     "duration": 0.094813,
     "end_time": "2023-02-20T19:21:09.466059",
     "exception": false,
     "start_time": "2023-02-20T19:21:09.371246",
     "status": "completed"
    },
    "tags": []
   },
   "outputs": [
    {
     "data": {
      "text/plain": [
       "0.7673331530042995"
      ]
     },
     "execution_count": 122,
     "metadata": {},
     "output_type": "execute_result"
    }
   ],
   "source": [
    "r2_score(y_test, predictedfinal)"
   ]
  },
  {
   "cell_type": "markdown",
   "id": "1bd4edda",
   "metadata": {
    "id": "1c9853b0",
    "papermill": {
     "duration": 0.078782,
     "end_time": "2023-02-20T19:21:09.624424",
     "exception": false,
     "start_time": "2023-02-20T19:21:09.545642",
     "status": "completed"
    },
    "tags": []
   },
   "source": [
    "### Calculate the R2 score for Validation"
   ]
  },
  {
   "cell_type": "code",
   "execution_count": 123,
   "id": "1f9b7d7c",
   "metadata": {
    "execution": {
     "iopub.execute_input": "2023-02-20T19:21:09.783602Z",
     "iopub.status.busy": "2023-02-20T19:21:09.783146Z",
     "iopub.status.idle": "2023-02-20T19:21:09.791435Z",
     "shell.execute_reply": "2023-02-20T19:21:09.790650Z"
    },
    "id": "1a6dc77c",
    "papermill": {
     "duration": 0.089315,
     "end_time": "2023-02-20T19:21:09.793573",
     "exception": false,
     "start_time": "2023-02-20T19:21:09.704258",
     "status": "completed"
    },
    "tags": []
   },
   "outputs": [
    {
     "data": {
      "text/plain": [
       "0.6994216968130059"
      ]
     },
     "execution_count": 123,
     "metadata": {},
     "output_type": "execute_result"
    }
   ],
   "source": [
    "r2_score(y_val, predict_testfinal)"
   ]
  },
  {
   "cell_type": "markdown",
   "id": "d781f129",
   "metadata": {
    "id": "499522d9",
    "papermill": {
     "duration": 0.076466,
     "end_time": "2023-02-20T19:21:09.946154",
     "exception": false,
     "start_time": "2023-02-20T19:21:09.869688",
     "status": "completed"
    },
    "tags": []
   },
   "source": [
    "### Calculate the Accuracy for train Dataset "
   ]
  },
  {
   "cell_type": "code",
   "execution_count": 124,
   "id": "63d86c79",
   "metadata": {
    "execution": {
     "iopub.execute_input": "2023-02-20T19:21:10.101273Z",
     "iopub.status.busy": "2023-02-20T19:21:10.100533Z",
     "iopub.status.idle": "2023-02-20T19:21:10.141143Z",
     "shell.execute_reply": "2023-02-20T19:21:10.140008Z"
    },
    "id": "7a4f1ce8",
    "papermill": {
     "duration": 0.121499,
     "end_time": "2023-02-20T19:21:10.143799",
     "exception": false,
     "start_time": "2023-02-20T19:21:10.022300",
     "status": "completed"
    },
    "tags": []
   },
   "outputs": [
    {
     "data": {
      "text/plain": [
       "0.9583087573320571"
      ]
     },
     "execution_count": 124,
     "metadata": {},
     "output_type": "execute_result"
    }
   ],
   "source": [
    "regressorfinal.score(X_train, y_train)"
   ]
  },
  {
   "cell_type": "markdown",
   "id": "332fc9cb",
   "metadata": {
    "id": "12a1c921",
    "papermill": {
     "duration": 0.075727,
     "end_time": "2023-02-20T19:21:10.297403",
     "exception": false,
     "start_time": "2023-02-20T19:21:10.221676",
     "status": "completed"
    },
    "tags": []
   },
   "source": [
    "### Calculate the accuracy for validation"
   ]
  },
  {
   "cell_type": "code",
   "execution_count": 125,
   "id": "0ee5ac11",
   "metadata": {
    "execution": {
     "iopub.execute_input": "2023-02-20T19:21:10.457174Z",
     "iopub.status.busy": "2023-02-20T19:21:10.456475Z",
     "iopub.status.idle": "2023-02-20T19:21:10.483578Z",
     "shell.execute_reply": "2023-02-20T19:21:10.478398Z"
    },
    "id": "d2579b4f",
    "papermill": {
     "duration": 0.107834,
     "end_time": "2023-02-20T19:21:10.486427",
     "exception": false,
     "start_time": "2023-02-20T19:21:10.378593",
     "status": "completed"
    },
    "tags": []
   },
   "outputs": [
    {
     "data": {
      "text/plain": [
       "0.6994216968130059"
      ]
     },
     "execution_count": 125,
     "metadata": {},
     "output_type": "execute_result"
    }
   ],
   "source": [
    "regressorfinal.score(X_val, y_val)"
   ]
  },
  {
   "cell_type": "markdown",
   "id": "7e465980",
   "metadata": {
    "id": "79b82e84",
    "papermill": {
     "duration": 0.076161,
     "end_time": "2023-02-20T19:21:10.640196",
     "exception": false,
     "start_time": "2023-02-20T19:21:10.564035",
     "status": "completed"
    },
    "tags": []
   },
   "source": [
    "### Calculate the accuracy for test"
   ]
  },
  {
   "cell_type": "code",
   "execution_count": 126,
   "id": "dff7d258",
   "metadata": {
    "execution": {
     "iopub.execute_input": "2023-02-20T19:21:10.857730Z",
     "iopub.status.busy": "2023-02-20T19:21:10.856975Z",
     "iopub.status.idle": "2023-02-20T19:21:10.884583Z",
     "shell.execute_reply": "2023-02-20T19:21:10.879290Z"
    },
    "id": "f09e6431",
    "papermill": {
     "duration": 0.1699,
     "end_time": "2023-02-20T19:21:10.887732",
     "exception": false,
     "start_time": "2023-02-20T19:21:10.717832",
     "status": "completed"
    },
    "tags": []
   },
   "outputs": [
    {
     "data": {
      "text/plain": [
       "0.7673331530042995"
      ]
     },
     "execution_count": 126,
     "metadata": {},
     "output_type": "execute_result"
    }
   ],
   "source": [
    "regressorfinal.score(X_test, y_test)"
   ]
  },
  {
   "cell_type": "markdown",
   "id": "f22a7236",
   "metadata": {
    "id": "387a6519",
    "papermill": {
     "duration": 0.076494,
     "end_time": "2023-02-20T19:21:11.042053",
     "exception": false,
     "start_time": "2023-02-20T19:21:10.965559",
     "status": "completed"
    },
    "tags": []
   },
   "source": [
    "## Now you need to pass the Nulldata dataframe into this machine learning model\n",
    "\n",
    "#### In order to pass this Nulldata dataframe into the ML model, we need to perform the following\n",
    "\n",
    "- Step 1 : Label Encoding \n",
    "- Step 2 : Day, Month and Year extraction \n",
    "- Step 3 : Change all the column data type into int64 or float64\n",
    "- Step 4 : Need to drop the useless columns "
   ]
  },
  {
   "cell_type": "markdown",
   "id": "7c60e7ae",
   "metadata": {
    "id": "I7JuxAkdiAdI",
    "papermill": {
     "duration": 0.07599,
     "end_time": "2023-02-20T19:21:11.195438",
     "exception": false,
     "start_time": "2023-02-20T19:21:11.119448",
     "status": "completed"
    },
    "tags": []
   },
   "source": [
    "### Display the Nulldata "
   ]
  },
  {
   "cell_type": "code",
   "execution_count": 127,
   "id": "faa9ebe7",
   "metadata": {
    "execution": {
     "iopub.execute_input": "2023-02-20T19:21:11.350189Z",
     "iopub.status.busy": "2023-02-20T19:21:11.349756Z",
     "iopub.status.idle": "2023-02-20T19:21:11.379160Z",
     "shell.execute_reply": "2023-02-20T19:21:11.377969Z"
    },
    "id": "6d6a51d2",
    "papermill": {
     "duration": 0.109636,
     "end_time": "2023-02-20T19:21:11.381677",
     "exception": false,
     "start_time": "2023-02-20T19:21:11.272041",
     "status": "completed"
    },
    "tags": []
   },
   "outputs": [
    {
     "data": {
      "text/html": [
       "<div>\n",
       "<style scoped>\n",
       "    .dataframe tbody tr th:only-of-type {\n",
       "        vertical-align: middle;\n",
       "    }\n",
       "\n",
       "    .dataframe tbody tr th {\n",
       "        vertical-align: top;\n",
       "    }\n",
       "\n",
       "    .dataframe thead th {\n",
       "        text-align: right;\n",
       "    }\n",
       "</style>\n",
       "<table border=\"1\" class=\"dataframe\">\n",
       "  <thead>\n",
       "    <tr style=\"text-align: right;\">\n",
       "      <th></th>\n",
       "      <th>business_code</th>\n",
       "      <th>cust_number</th>\n",
       "      <th>name_customer</th>\n",
       "      <th>clear_date</th>\n",
       "      <th>buisness_year</th>\n",
       "      <th>doc_id</th>\n",
       "      <th>posting_date</th>\n",
       "      <th>due_in_date</th>\n",
       "      <th>baseline_create_date</th>\n",
       "      <th>cust_payment_terms</th>\n",
       "      <th>converted_usd</th>\n",
       "    </tr>\n",
       "  </thead>\n",
       "  <tbody>\n",
       "    <tr>\n",
       "      <th>3</th>\n",
       "      <td>CA02</td>\n",
       "      <td>0140105686</td>\n",
       "      <td>SYSC llc</td>\n",
       "      <td>NaT</td>\n",
       "      <td>2020.0</td>\n",
       "      <td>2.960623e+09</td>\n",
       "      <td>2020-03-30</td>\n",
       "      <td>2020-04-10</td>\n",
       "      <td>2020-03-31</td>\n",
       "      <td>CA10</td>\n",
       "      <td>2309.79</td>\n",
       "    </tr>\n",
       "    <tr>\n",
       "      <th>7</th>\n",
       "      <td>U001</td>\n",
       "      <td>0200744019</td>\n",
       "      <td>TARG us</td>\n",
       "      <td>NaT</td>\n",
       "      <td>2020.0</td>\n",
       "      <td>1.930659e+09</td>\n",
       "      <td>2020-03-19</td>\n",
       "      <td>2020-04-03</td>\n",
       "      <td>2020-03-19</td>\n",
       "      <td>NAA8</td>\n",
       "      <td>11173.02</td>\n",
       "    </tr>\n",
       "    <tr>\n",
       "      <th>10</th>\n",
       "      <td>U001</td>\n",
       "      <td>0200418007</td>\n",
       "      <td>AM</td>\n",
       "      <td>NaT</td>\n",
       "      <td>2020.0</td>\n",
       "      <td>1.930611e+09</td>\n",
       "      <td>2020-03-11</td>\n",
       "      <td>2020-03-26</td>\n",
       "      <td>2020-03-11</td>\n",
       "      <td>NAA8</td>\n",
       "      <td>3525.59</td>\n",
       "    </tr>\n",
       "    <tr>\n",
       "      <th>14</th>\n",
       "      <td>U001</td>\n",
       "      <td>0200739534</td>\n",
       "      <td>OK systems</td>\n",
       "      <td>NaT</td>\n",
       "      <td>2020.0</td>\n",
       "      <td>1.930788e+09</td>\n",
       "      <td>2020-04-15</td>\n",
       "      <td>2020-04-30</td>\n",
       "      <td>2020-04-15</td>\n",
       "      <td>NAA8</td>\n",
       "      <td>121105.65</td>\n",
       "    </tr>\n",
       "    <tr>\n",
       "      <th>15</th>\n",
       "      <td>U001</td>\n",
       "      <td>0200353024</td>\n",
       "      <td>DECA corporation</td>\n",
       "      <td>NaT</td>\n",
       "      <td>2020.0</td>\n",
       "      <td>1.930817e+09</td>\n",
       "      <td>2020-04-23</td>\n",
       "      <td>2020-04-26</td>\n",
       "      <td>2020-04-16</td>\n",
       "      <td>NAM2</td>\n",
       "      <td>3726.06</td>\n",
       "    </tr>\n",
       "    <tr>\n",
       "      <th>...</th>\n",
       "      <td>...</td>\n",
       "      <td>...</td>\n",
       "      <td>...</td>\n",
       "      <td>...</td>\n",
       "      <td>...</td>\n",
       "      <td>...</td>\n",
       "      <td>...</td>\n",
       "      <td>...</td>\n",
       "      <td>...</td>\n",
       "      <td>...</td>\n",
       "      <td>...</td>\n",
       "    </tr>\n",
       "    <tr>\n",
       "      <th>49975</th>\n",
       "      <td>U001</td>\n",
       "      <td>0200769623</td>\n",
       "      <td>WAL-MAR in</td>\n",
       "      <td>NaT</td>\n",
       "      <td>2020.0</td>\n",
       "      <td>1.930625e+09</td>\n",
       "      <td>2020-03-10</td>\n",
       "      <td>2020-03-25</td>\n",
       "      <td>2020-03-10</td>\n",
       "      <td>NAH4</td>\n",
       "      <td>13114.99</td>\n",
       "    </tr>\n",
       "    <tr>\n",
       "      <th>49980</th>\n",
       "      <td>U001</td>\n",
       "      <td>0200769623</td>\n",
       "      <td>WAL-MAR corporation</td>\n",
       "      <td>NaT</td>\n",
       "      <td>2020.0</td>\n",
       "      <td>1.930851e+09</td>\n",
       "      <td>2020-05-03</td>\n",
       "      <td>2020-05-18</td>\n",
       "      <td>2020-05-03</td>\n",
       "      <td>NAH4</td>\n",
       "      <td>8899.71</td>\n",
       "    </tr>\n",
       "    <tr>\n",
       "      <th>49982</th>\n",
       "      <td>U001</td>\n",
       "      <td>0200148860</td>\n",
       "      <td>DOLLA co</td>\n",
       "      <td>NaT</td>\n",
       "      <td>2020.0</td>\n",
       "      <td>1.930638e+09</td>\n",
       "      <td>2020-03-11</td>\n",
       "      <td>2020-03-26</td>\n",
       "      <td>2020-03-11</td>\n",
       "      <td>NAA8</td>\n",
       "      <td>4967.06</td>\n",
       "    </tr>\n",
       "    <tr>\n",
       "      <th>49992</th>\n",
       "      <td>U001</td>\n",
       "      <td>0200900909</td>\n",
       "      <td>SYSCO co</td>\n",
       "      <td>NaT</td>\n",
       "      <td>2020.0</td>\n",
       "      <td>1.930702e+09</td>\n",
       "      <td>2020-03-25</td>\n",
       "      <td>2020-04-09</td>\n",
       "      <td>2020-03-25</td>\n",
       "      <td>NAA8</td>\n",
       "      <td>1998.64</td>\n",
       "    </tr>\n",
       "    <tr>\n",
       "      <th>49995</th>\n",
       "      <td>U001</td>\n",
       "      <td>0200561861</td>\n",
       "      <td>CO corporation</td>\n",
       "      <td>NaT</td>\n",
       "      <td>2020.0</td>\n",
       "      <td>1.930797e+09</td>\n",
       "      <td>2020-04-21</td>\n",
       "      <td>2020-05-06</td>\n",
       "      <td>2020-04-21</td>\n",
       "      <td>NAA8</td>\n",
       "      <td>3187.86</td>\n",
       "    </tr>\n",
       "  </tbody>\n",
       "</table>\n",
       "<p>9681 rows × 11 columns</p>\n",
       "</div>"
      ],
      "text/plain": [
       "      business_code cust_number        name_customer clear_date  \\\n",
       "3              CA02  0140105686             SYSC llc        NaT   \n",
       "7              U001  0200744019              TARG us        NaT   \n",
       "10             U001  0200418007                  AM         NaT   \n",
       "14             U001  0200739534           OK systems        NaT   \n",
       "15             U001  0200353024     DECA corporation        NaT   \n",
       "...             ...         ...                  ...        ...   \n",
       "49975          U001  0200769623           WAL-MAR in        NaT   \n",
       "49980          U001  0200769623  WAL-MAR corporation        NaT   \n",
       "49982          U001  0200148860             DOLLA co        NaT   \n",
       "49992          U001  0200900909             SYSCO co        NaT   \n",
       "49995          U001  0200561861       CO corporation        NaT   \n",
       "\n",
       "       buisness_year        doc_id posting_date due_in_date  \\\n",
       "3             2020.0  2.960623e+09   2020-03-30  2020-04-10   \n",
       "7             2020.0  1.930659e+09   2020-03-19  2020-04-03   \n",
       "10            2020.0  1.930611e+09   2020-03-11  2020-03-26   \n",
       "14            2020.0  1.930788e+09   2020-04-15  2020-04-30   \n",
       "15            2020.0  1.930817e+09   2020-04-23  2020-04-26   \n",
       "...              ...           ...          ...         ...   \n",
       "49975         2020.0  1.930625e+09   2020-03-10  2020-03-25   \n",
       "49980         2020.0  1.930851e+09   2020-05-03  2020-05-18   \n",
       "49982         2020.0  1.930638e+09   2020-03-11  2020-03-26   \n",
       "49992         2020.0  1.930702e+09   2020-03-25  2020-04-09   \n",
       "49995         2020.0  1.930797e+09   2020-04-21  2020-05-06   \n",
       "\n",
       "      baseline_create_date cust_payment_terms  converted_usd  \n",
       "3               2020-03-31               CA10        2309.79  \n",
       "7               2020-03-19               NAA8       11173.02  \n",
       "10              2020-03-11               NAA8        3525.59  \n",
       "14              2020-04-15               NAA8      121105.65  \n",
       "15              2020-04-16               NAM2        3726.06  \n",
       "...                    ...                ...            ...  \n",
       "49975           2020-03-10               NAH4       13114.99  \n",
       "49980           2020-05-03               NAH4        8899.71  \n",
       "49982           2020-03-11               NAA8        4967.06  \n",
       "49992           2020-03-25               NAA8        1998.64  \n",
       "49995           2020-04-21               NAA8        3187.86  \n",
       "\n",
       "[9681 rows x 11 columns]"
      ]
     },
     "execution_count": 127,
     "metadata": {},
     "output_type": "execute_result"
    }
   ],
   "source": [
    "nulldata"
   ]
  },
  {
   "cell_type": "code",
   "execution_count": 128,
   "id": "8c801e6a",
   "metadata": {
    "execution": {
     "iopub.execute_input": "2023-02-20T19:21:11.538597Z",
     "iopub.status.busy": "2023-02-20T19:21:11.537511Z",
     "iopub.status.idle": "2023-02-20T19:21:11.746471Z",
     "shell.execute_reply": "2023-02-20T19:21:11.745327Z"
    },
    "papermill": {
     "duration": 0.291285,
     "end_time": "2023-02-20T19:21:11.749663",
     "exception": false,
     "start_time": "2023-02-20T19:21:11.458378",
     "status": "completed"
    },
    "tags": []
   },
   "outputs": [],
   "source": [
    "nulldata.to_csv(\"/kaggle/working/nulldata.csv\")"
   ]
  },
  {
   "cell_type": "markdown",
   "id": "2fe44234",
   "metadata": {
    "id": "Vamx5xqtiHCH",
    "papermill": {
     "duration": 0.077576,
     "end_time": "2023-02-20T19:21:11.906640",
     "exception": false,
     "start_time": "2023-02-20T19:21:11.829064",
     "status": "completed"
    },
    "tags": []
   },
   "source": [
    "### Check for the number of rows and columns in the nulldata"
   ]
  },
  {
   "cell_type": "code",
   "execution_count": 129,
   "id": "439fbba8",
   "metadata": {
    "execution": {
     "iopub.execute_input": "2023-02-20T19:21:12.064960Z",
     "iopub.status.busy": "2023-02-20T19:21:12.064026Z",
     "iopub.status.idle": "2023-02-20T19:21:12.070422Z",
     "shell.execute_reply": "2023-02-20T19:21:12.069274Z"
    },
    "id": "59de1092",
    "papermill": {
     "duration": 0.087779,
     "end_time": "2023-02-20T19:21:12.072881",
     "exception": false,
     "start_time": "2023-02-20T19:21:11.985102",
     "status": "completed"
    },
    "tags": []
   },
   "outputs": [
    {
     "data": {
      "text/plain": [
       "(9681, 11)"
      ]
     },
     "execution_count": 129,
     "metadata": {},
     "output_type": "execute_result"
    }
   ],
   "source": [
    "nulldata.shape"
   ]
  },
  {
   "cell_type": "markdown",
   "id": "e05f799a",
   "metadata": {
    "id": "BxzHNbBjpqXL",
    "papermill": {
     "duration": 0.076378,
     "end_time": "2023-02-20T19:21:12.226286",
     "exception": false,
     "start_time": "2023-02-20T19:21:12.149908",
     "status": "completed"
    },
    "tags": []
   },
   "source": [
    "### Check the Description and Information of the nulldata "
   ]
  },
  {
   "cell_type": "code",
   "execution_count": 130,
   "id": "8655ac89",
   "metadata": {
    "execution": {
     "iopub.execute_input": "2023-02-20T19:21:12.381743Z",
     "iopub.status.busy": "2023-02-20T19:21:12.381279Z",
     "iopub.status.idle": "2023-02-20T19:21:12.403986Z",
     "shell.execute_reply": "2023-02-20T19:21:12.403125Z"
    },
    "id": "a6294d29",
    "papermill": {
     "duration": 0.102777,
     "end_time": "2023-02-20T19:21:12.406182",
     "exception": false,
     "start_time": "2023-02-20T19:21:12.303405",
     "status": "completed"
    },
    "tags": []
   },
   "outputs": [
    {
     "data": {
      "text/html": [
       "<div>\n",
       "<style scoped>\n",
       "    .dataframe tbody tr th:only-of-type {\n",
       "        vertical-align: middle;\n",
       "    }\n",
       "\n",
       "    .dataframe tbody tr th {\n",
       "        vertical-align: top;\n",
       "    }\n",
       "\n",
       "    .dataframe thead th {\n",
       "        text-align: right;\n",
       "    }\n",
       "</style>\n",
       "<table border=\"1\" class=\"dataframe\">\n",
       "  <thead>\n",
       "    <tr style=\"text-align: right;\">\n",
       "      <th></th>\n",
       "      <th>buisness_year</th>\n",
       "      <th>doc_id</th>\n",
       "      <th>converted_usd</th>\n",
       "    </tr>\n",
       "  </thead>\n",
       "  <tbody>\n",
       "    <tr>\n",
       "      <th>count</th>\n",
       "      <td>9681.0</td>\n",
       "      <td>9.681000e+03</td>\n",
       "      <td>9681.000000</td>\n",
       "    </tr>\n",
       "    <tr>\n",
       "      <th>mean</th>\n",
       "      <td>2020.0</td>\n",
       "      <td>2.006165e+09</td>\n",
       "      <td>32065.681125</td>\n",
       "    </tr>\n",
       "    <tr>\n",
       "      <th>std</th>\n",
       "      <td>0.0</td>\n",
       "      <td>2.673629e+08</td>\n",
       "      <td>35419.613688</td>\n",
       "    </tr>\n",
       "    <tr>\n",
       "      <th>min</th>\n",
       "      <td>2020.0</td>\n",
       "      <td>1.930535e+09</td>\n",
       "      <td>0.720000</td>\n",
       "    </tr>\n",
       "    <tr>\n",
       "      <th>25%</th>\n",
       "      <td>2020.0</td>\n",
       "      <td>1.930658e+09</td>\n",
       "      <td>5607.190000</td>\n",
       "    </tr>\n",
       "    <tr>\n",
       "      <th>50%</th>\n",
       "      <td>2020.0</td>\n",
       "      <td>1.930731e+09</td>\n",
       "      <td>19024.190000</td>\n",
       "    </tr>\n",
       "    <tr>\n",
       "      <th>75%</th>\n",
       "      <td>2020.0</td>\n",
       "      <td>1.930818e+09</td>\n",
       "      <td>47752.640000</td>\n",
       "    </tr>\n",
       "    <tr>\n",
       "      <th>max</th>\n",
       "      <td>2020.0</td>\n",
       "      <td>2.960636e+09</td>\n",
       "      <td>653644.800000</td>\n",
       "    </tr>\n",
       "  </tbody>\n",
       "</table>\n",
       "</div>"
      ],
      "text/plain": [
       "       buisness_year        doc_id  converted_usd\n",
       "count         9681.0  9.681000e+03    9681.000000\n",
       "mean          2020.0  2.006165e+09   32065.681125\n",
       "std              0.0  2.673629e+08   35419.613688\n",
       "min           2020.0  1.930535e+09       0.720000\n",
       "25%           2020.0  1.930658e+09    5607.190000\n",
       "50%           2020.0  1.930731e+09   19024.190000\n",
       "75%           2020.0  1.930818e+09   47752.640000\n",
       "max           2020.0  2.960636e+09  653644.800000"
      ]
     },
     "execution_count": 130,
     "metadata": {},
     "output_type": "execute_result"
    }
   ],
   "source": [
    "nulldata.describe()"
   ]
  },
  {
   "cell_type": "code",
   "execution_count": 131,
   "id": "ac13f355",
   "metadata": {
    "execution": {
     "iopub.execute_input": "2023-02-20T19:21:12.562556Z",
     "iopub.status.busy": "2023-02-20T19:21:12.561765Z",
     "iopub.status.idle": "2023-02-20T19:21:12.577926Z",
     "shell.execute_reply": "2023-02-20T19:21:12.576472Z"
    },
    "papermill": {
     "duration": 0.096982,
     "end_time": "2023-02-20T19:21:12.580616",
     "exception": false,
     "start_time": "2023-02-20T19:21:12.483634",
     "status": "completed"
    },
    "tags": []
   },
   "outputs": [
    {
     "name": "stdout",
     "output_type": "stream",
     "text": [
      "<class 'pandas.core.frame.DataFrame'>\n",
      "Int64Index: 9681 entries, 3 to 49995\n",
      "Data columns (total 11 columns):\n",
      " #   Column                Non-Null Count  Dtype         \n",
      "---  ------                --------------  -----         \n",
      " 0   business_code         9681 non-null   object        \n",
      " 1   cust_number           9681 non-null   object        \n",
      " 2   name_customer         9681 non-null   object        \n",
      " 3   clear_date            0 non-null      datetime64[ns]\n",
      " 4   buisness_year         9681 non-null   float64       \n",
      " 5   doc_id                9681 non-null   float64       \n",
      " 6   posting_date          9681 non-null   datetime64[ns]\n",
      " 7   due_in_date           9681 non-null   datetime64[ns]\n",
      " 8   baseline_create_date  9681 non-null   datetime64[ns]\n",
      " 9   cust_payment_terms    9681 non-null   object        \n",
      " 10  converted_usd         9681 non-null   float64       \n",
      "dtypes: datetime64[ns](4), float64(3), object(4)\n",
      "memory usage: 907.6+ KB\n"
     ]
    }
   ],
   "source": [
    "nulldata.info()"
   ]
  },
  {
   "cell_type": "markdown",
   "id": "8ba1fae7",
   "metadata": {
    "id": "fe860d94",
    "papermill": {
     "duration": 0.078216,
     "end_time": "2023-02-20T19:21:12.739042",
     "exception": false,
     "start_time": "2023-02-20T19:21:12.660826",
     "status": "completed"
    },
    "tags": []
   },
   "source": [
    "### Storing the Nulldata into a different dataset \n",
    "# for BACKUP"
   ]
  },
  {
   "cell_type": "code",
   "execution_count": 132,
   "id": "91956e6a",
   "metadata": {
    "execution": {
     "iopub.execute_input": "2023-02-20T19:21:12.900589Z",
     "iopub.status.busy": "2023-02-20T19:21:12.899327Z",
     "iopub.status.idle": "2023-02-20T19:21:12.926608Z",
     "shell.execute_reply": "2023-02-20T19:21:12.925379Z"
    },
    "id": "16352034",
    "papermill": {
     "duration": 0.111617,
     "end_time": "2023-02-20T19:21:12.929040",
     "exception": false,
     "start_time": "2023-02-20T19:21:12.817423",
     "status": "completed"
    },
    "tags": []
   },
   "outputs": [
    {
     "data": {
      "text/html": [
       "<div>\n",
       "<style scoped>\n",
       "    .dataframe tbody tr th:only-of-type {\n",
       "        vertical-align: middle;\n",
       "    }\n",
       "\n",
       "    .dataframe tbody tr th {\n",
       "        vertical-align: top;\n",
       "    }\n",
       "\n",
       "    .dataframe thead th {\n",
       "        text-align: right;\n",
       "    }\n",
       "</style>\n",
       "<table border=\"1\" class=\"dataframe\">\n",
       "  <thead>\n",
       "    <tr style=\"text-align: right;\">\n",
       "      <th></th>\n",
       "      <th>business_code</th>\n",
       "      <th>cust_number</th>\n",
       "      <th>name_customer</th>\n",
       "      <th>clear_date</th>\n",
       "      <th>buisness_year</th>\n",
       "      <th>doc_id</th>\n",
       "      <th>posting_date</th>\n",
       "      <th>due_in_date</th>\n",
       "      <th>baseline_create_date</th>\n",
       "      <th>cust_payment_terms</th>\n",
       "      <th>converted_usd</th>\n",
       "    </tr>\n",
       "  </thead>\n",
       "  <tbody>\n",
       "    <tr>\n",
       "      <th>3</th>\n",
       "      <td>CA02</td>\n",
       "      <td>0140105686</td>\n",
       "      <td>SYSC llc</td>\n",
       "      <td>NaT</td>\n",
       "      <td>2020.0</td>\n",
       "      <td>2.960623e+09</td>\n",
       "      <td>2020-03-30</td>\n",
       "      <td>2020-04-10</td>\n",
       "      <td>2020-03-31</td>\n",
       "      <td>CA10</td>\n",
       "      <td>2309.79</td>\n",
       "    </tr>\n",
       "    <tr>\n",
       "      <th>7</th>\n",
       "      <td>U001</td>\n",
       "      <td>0200744019</td>\n",
       "      <td>TARG us</td>\n",
       "      <td>NaT</td>\n",
       "      <td>2020.0</td>\n",
       "      <td>1.930659e+09</td>\n",
       "      <td>2020-03-19</td>\n",
       "      <td>2020-04-03</td>\n",
       "      <td>2020-03-19</td>\n",
       "      <td>NAA8</td>\n",
       "      <td>11173.02</td>\n",
       "    </tr>\n",
       "    <tr>\n",
       "      <th>10</th>\n",
       "      <td>U001</td>\n",
       "      <td>0200418007</td>\n",
       "      <td>AM</td>\n",
       "      <td>NaT</td>\n",
       "      <td>2020.0</td>\n",
       "      <td>1.930611e+09</td>\n",
       "      <td>2020-03-11</td>\n",
       "      <td>2020-03-26</td>\n",
       "      <td>2020-03-11</td>\n",
       "      <td>NAA8</td>\n",
       "      <td>3525.59</td>\n",
       "    </tr>\n",
       "    <tr>\n",
       "      <th>14</th>\n",
       "      <td>U001</td>\n",
       "      <td>0200739534</td>\n",
       "      <td>OK systems</td>\n",
       "      <td>NaT</td>\n",
       "      <td>2020.0</td>\n",
       "      <td>1.930788e+09</td>\n",
       "      <td>2020-04-15</td>\n",
       "      <td>2020-04-30</td>\n",
       "      <td>2020-04-15</td>\n",
       "      <td>NAA8</td>\n",
       "      <td>121105.65</td>\n",
       "    </tr>\n",
       "    <tr>\n",
       "      <th>15</th>\n",
       "      <td>U001</td>\n",
       "      <td>0200353024</td>\n",
       "      <td>DECA corporation</td>\n",
       "      <td>NaT</td>\n",
       "      <td>2020.0</td>\n",
       "      <td>1.930817e+09</td>\n",
       "      <td>2020-04-23</td>\n",
       "      <td>2020-04-26</td>\n",
       "      <td>2020-04-16</td>\n",
       "      <td>NAM2</td>\n",
       "      <td>3726.06</td>\n",
       "    </tr>\n",
       "    <tr>\n",
       "      <th>...</th>\n",
       "      <td>...</td>\n",
       "      <td>...</td>\n",
       "      <td>...</td>\n",
       "      <td>...</td>\n",
       "      <td>...</td>\n",
       "      <td>...</td>\n",
       "      <td>...</td>\n",
       "      <td>...</td>\n",
       "      <td>...</td>\n",
       "      <td>...</td>\n",
       "      <td>...</td>\n",
       "    </tr>\n",
       "    <tr>\n",
       "      <th>49975</th>\n",
       "      <td>U001</td>\n",
       "      <td>0200769623</td>\n",
       "      <td>WAL-MAR in</td>\n",
       "      <td>NaT</td>\n",
       "      <td>2020.0</td>\n",
       "      <td>1.930625e+09</td>\n",
       "      <td>2020-03-10</td>\n",
       "      <td>2020-03-25</td>\n",
       "      <td>2020-03-10</td>\n",
       "      <td>NAH4</td>\n",
       "      <td>13114.99</td>\n",
       "    </tr>\n",
       "    <tr>\n",
       "      <th>49980</th>\n",
       "      <td>U001</td>\n",
       "      <td>0200769623</td>\n",
       "      <td>WAL-MAR corporation</td>\n",
       "      <td>NaT</td>\n",
       "      <td>2020.0</td>\n",
       "      <td>1.930851e+09</td>\n",
       "      <td>2020-05-03</td>\n",
       "      <td>2020-05-18</td>\n",
       "      <td>2020-05-03</td>\n",
       "      <td>NAH4</td>\n",
       "      <td>8899.71</td>\n",
       "    </tr>\n",
       "    <tr>\n",
       "      <th>49982</th>\n",
       "      <td>U001</td>\n",
       "      <td>0200148860</td>\n",
       "      <td>DOLLA co</td>\n",
       "      <td>NaT</td>\n",
       "      <td>2020.0</td>\n",
       "      <td>1.930638e+09</td>\n",
       "      <td>2020-03-11</td>\n",
       "      <td>2020-03-26</td>\n",
       "      <td>2020-03-11</td>\n",
       "      <td>NAA8</td>\n",
       "      <td>4967.06</td>\n",
       "    </tr>\n",
       "    <tr>\n",
       "      <th>49992</th>\n",
       "      <td>U001</td>\n",
       "      <td>0200900909</td>\n",
       "      <td>SYSCO co</td>\n",
       "      <td>NaT</td>\n",
       "      <td>2020.0</td>\n",
       "      <td>1.930702e+09</td>\n",
       "      <td>2020-03-25</td>\n",
       "      <td>2020-04-09</td>\n",
       "      <td>2020-03-25</td>\n",
       "      <td>NAA8</td>\n",
       "      <td>1998.64</td>\n",
       "    </tr>\n",
       "    <tr>\n",
       "      <th>49995</th>\n",
       "      <td>U001</td>\n",
       "      <td>0200561861</td>\n",
       "      <td>CO corporation</td>\n",
       "      <td>NaT</td>\n",
       "      <td>2020.0</td>\n",
       "      <td>1.930797e+09</td>\n",
       "      <td>2020-04-21</td>\n",
       "      <td>2020-05-06</td>\n",
       "      <td>2020-04-21</td>\n",
       "      <td>NAA8</td>\n",
       "      <td>3187.86</td>\n",
       "    </tr>\n",
       "  </tbody>\n",
       "</table>\n",
       "<p>9681 rows × 11 columns</p>\n",
       "</div>"
      ],
      "text/plain": [
       "      business_code cust_number        name_customer clear_date  \\\n",
       "3              CA02  0140105686             SYSC llc        NaT   \n",
       "7              U001  0200744019              TARG us        NaT   \n",
       "10             U001  0200418007                  AM         NaT   \n",
       "14             U001  0200739534           OK systems        NaT   \n",
       "15             U001  0200353024     DECA corporation        NaT   \n",
       "...             ...         ...                  ...        ...   \n",
       "49975          U001  0200769623           WAL-MAR in        NaT   \n",
       "49980          U001  0200769623  WAL-MAR corporation        NaT   \n",
       "49982          U001  0200148860             DOLLA co        NaT   \n",
       "49992          U001  0200900909             SYSCO co        NaT   \n",
       "49995          U001  0200561861       CO corporation        NaT   \n",
       "\n",
       "       buisness_year        doc_id posting_date due_in_date  \\\n",
       "3             2020.0  2.960623e+09   2020-03-30  2020-04-10   \n",
       "7             2020.0  1.930659e+09   2020-03-19  2020-04-03   \n",
       "10            2020.0  1.930611e+09   2020-03-11  2020-03-26   \n",
       "14            2020.0  1.930788e+09   2020-04-15  2020-04-30   \n",
       "15            2020.0  1.930817e+09   2020-04-23  2020-04-26   \n",
       "...              ...           ...          ...         ...   \n",
       "49975         2020.0  1.930625e+09   2020-03-10  2020-03-25   \n",
       "49980         2020.0  1.930851e+09   2020-05-03  2020-05-18   \n",
       "49982         2020.0  1.930638e+09   2020-03-11  2020-03-26   \n",
       "49992         2020.0  1.930702e+09   2020-03-25  2020-04-09   \n",
       "49995         2020.0  1.930797e+09   2020-04-21  2020-05-06   \n",
       "\n",
       "      baseline_create_date cust_payment_terms  converted_usd  \n",
       "3               2020-03-31               CA10        2309.79  \n",
       "7               2020-03-19               NAA8       11173.02  \n",
       "10              2020-03-11               NAA8        3525.59  \n",
       "14              2020-04-15               NAA8      121105.65  \n",
       "15              2020-04-16               NAM2        3726.06  \n",
       "...                    ...                ...            ...  \n",
       "49975           2020-03-10               NAH4       13114.99  \n",
       "49980           2020-05-03               NAH4        8899.71  \n",
       "49982           2020-03-11               NAA8        4967.06  \n",
       "49992           2020-03-25               NAA8        1998.64  \n",
       "49995           2020-04-21               NAA8        3187.86  \n",
       "\n",
       "[9681 rows x 11 columns]"
      ]
     },
     "execution_count": 132,
     "metadata": {},
     "output_type": "execute_result"
    }
   ],
   "source": [
    "nulldata1=nulldata.copy()\n",
    "nulldata1"
   ]
  },
  {
   "cell_type": "markdown",
   "id": "b03fc7aa",
   "metadata": {
    "id": "00f35b8c",
    "papermill": {
     "duration": 0.077867,
     "end_time": "2023-02-20T19:21:13.085901",
     "exception": false,
     "start_time": "2023-02-20T19:21:13.008034",
     "status": "completed"
    },
    "tags": []
   },
   "source": [
    "### Call the Label Encoder for Nulldata\n",
    "\n",
    "- Note - you are expected to fit \"business_code\" as it is a categorical variable\n",
    "- Note - No need to change the code"
   ]
  },
  {
   "cell_type": "code",
   "execution_count": 133,
   "id": "c985809c",
   "metadata": {
    "execution": {
     "iopub.execute_input": "2023-02-20T19:21:13.248081Z",
     "iopub.status.busy": "2023-02-20T19:21:13.247633Z",
     "iopub.status.idle": "2023-02-20T19:21:13.257500Z",
     "shell.execute_reply": "2023-02-20T19:21:13.256146Z"
    },
    "id": "baf04b17",
    "papermill": {
     "duration": 0.092288,
     "end_time": "2023-02-20T19:21:13.260014",
     "exception": false,
     "start_time": "2023-02-20T19:21:13.167726",
     "status": "completed"
    },
    "tags": []
   },
   "outputs": [
    {
     "name": "stderr",
     "output_type": "stream",
     "text": [
      "/opt/conda/lib/python3.7/site-packages/ipykernel_launcher.py:4: SettingWithCopyWarning: \n",
      "A value is trying to be set on a copy of a slice from a DataFrame.\n",
      "Try using .loc[row_indexer,col_indexer] = value instead\n",
      "\n",
      "See the caveats in the documentation: https://pandas.pydata.org/pandas-docs/stable/user_guide/indexing.html#returning-a-view-versus-a-copy\n",
      "  after removing the cwd from sys.path.\n"
     ]
    }
   ],
   "source": [
    "from sklearn.preprocessing import LabelEncoder\n",
    "business_codern = LabelEncoder()\n",
    "business_codern.fit(nulldata['business_code'])\n",
    "nulldata['business_code_enc'] = business_codern.transform(nulldata['business_code'])"
   ]
  },
  {
   "cell_type": "markdown",
   "id": "b9b746a6",
   "metadata": {
    "id": "ZCPBK9karIR-",
    "papermill": {
     "duration": 0.100889,
     "end_time": "2023-02-20T19:21:13.439608",
     "exception": false,
     "start_time": "2023-02-20T19:21:13.338719",
     "status": "completed"
    },
    "tags": []
   },
   "source": [
    "### Now you need to manually replacing str values with numbers\n",
    "- Note - No need to change the code"
   ]
  },
  {
   "cell_type": "code",
   "execution_count": 134,
   "id": "b881e7f6",
   "metadata": {
    "execution": {
     "iopub.execute_input": "2023-02-20T19:21:13.607290Z",
     "iopub.status.busy": "2023-02-20T19:21:13.606839Z",
     "iopub.status.idle": "2023-02-20T19:21:13.636792Z",
     "shell.execute_reply": "2023-02-20T19:21:13.635215Z"
    },
    "id": "c64924be",
    "papermill": {
     "duration": 0.113317,
     "end_time": "2023-02-20T19:21:13.640210",
     "exception": false,
     "start_time": "2023-02-20T19:21:13.526893",
     "status": "completed"
    },
    "tags": []
   },
   "outputs": [
    {
     "name": "stderr",
     "output_type": "stream",
     "text": [
      "/opt/conda/lib/python3.7/site-packages/ipykernel_launcher.py:1: SettingWithCopyWarning: \n",
      "A value is trying to be set on a copy of a slice from a DataFrame.\n",
      "Try using .loc[row_indexer,col_indexer] = value instead\n",
      "\n",
      "See the caveats in the documentation: https://pandas.pydata.org/pandas-docs/stable/user_guide/indexing.html#returning-a-view-versus-a-copy\n",
      "  \"\"\"Entry point for launching an IPython kernel.\n"
     ]
    }
   ],
   "source": [
    "nulldata['cust_number'] = nulldata['cust_number'].str.replace('CCCA',\"1\").str.replace('CCU',\"2\").str.replace('CC',\"3\").astype(np.int64)"
   ]
  },
  {
   "cell_type": "markdown",
   "id": "cd416628",
   "metadata": {
    "id": "9a55f5f6",
    "papermill": {
     "duration": 0.077497,
     "end_time": "2023-02-20T19:21:13.795754",
     "exception": false,
     "start_time": "2023-02-20T19:21:13.718257",
     "status": "completed"
    },
    "tags": []
   },
   "source": [
    "## You need to extract day, month and year from the \"clear_date\", \"posting_date\", \"due_in_date\", \"baseline_create_date\" columns\n",
    "\n",
    "\n",
    "##### 1.   Extract day from \"clear_date\" column and store it into 'day_of_cleardate'\n",
    "##### 2.   Extract month from \"clear_date\" column and store it into 'month_of_cleardate'\n",
    "##### 3.   Extract year from \"clear_date\" column and store it into 'year_of_cleardate'\n",
    "\n",
    "\n",
    "\n",
    "##### 4.   Extract day from \"posting_date\" column and store it into 'day_of_postingdate'\n",
    "##### 5.   Extract month from \"posting_date\" column and store it into 'month_of_postingdate'\n",
    "##### 6.   Extract year from \"posting_date\" column and store it into 'year_of_postingdate'\n",
    "\n",
    "\n",
    "\n",
    "\n",
    "##### 7.   Extract day from \"due_in_date\" column and store it into 'day_of_due'\n",
    "##### 8.   Extract month from \"due_in_date\" column and store it into 'month_of_due'\n",
    "##### 9.   Extract year from \"due_in_date\" column and store it into 'year_of_due'\n",
    "\n",
    "\n",
    "\n",
    "\n",
    "##### 10.   Extract day from \"baseline_create_date\" column and store it into 'day_of_createdate'\n",
    "##### 11.   Extract month from \"baseline_create_date\" column and store it into 'month_of_createdate'\n",
    "##### 12.   Extract year from \"baseline_create_date\" column and store it into 'year_of_createdate'\n",
    "\n",
    "\n",
    "\n",
    "\n",
    "- Note - You are supposed To use - \n",
    "\n",
    "*   dt.day\n",
    "*   dt.month\n",
    "*   dt.year"
   ]
  },
  {
   "cell_type": "code",
   "execution_count": 135,
   "id": "5025bfa4",
   "metadata": {
    "execution": {
     "iopub.execute_input": "2023-02-20T19:21:13.955615Z",
     "iopub.status.busy": "2023-02-20T19:21:13.954490Z",
     "iopub.status.idle": "2023-02-20T19:21:13.984961Z",
     "shell.execute_reply": "2023-02-20T19:21:13.983636Z"
    },
    "id": "4166fbe4",
    "papermill": {
     "duration": 0.114424,
     "end_time": "2023-02-20T19:21:13.988410",
     "exception": false,
     "start_time": "2023-02-20T19:21:13.873986",
     "status": "completed"
    },
    "tags": []
   },
   "outputs": [
    {
     "name": "stderr",
     "output_type": "stream",
     "text": [
      "/opt/conda/lib/python3.7/site-packages/ipykernel_launcher.py:1: SettingWithCopyWarning: \n",
      "A value is trying to be set on a copy of a slice from a DataFrame.\n",
      "Try using .loc[row_indexer,col_indexer] = value instead\n",
      "\n",
      "See the caveats in the documentation: https://pandas.pydata.org/pandas-docs/stable/user_guide/indexing.html#returning-a-view-versus-a-copy\n",
      "  \"\"\"Entry point for launching an IPython kernel.\n",
      "/opt/conda/lib/python3.7/site-packages/ipykernel_launcher.py:2: SettingWithCopyWarning: \n",
      "A value is trying to be set on a copy of a slice from a DataFrame.\n",
      "Try using .loc[row_indexer,col_indexer] = value instead\n",
      "\n",
      "See the caveats in the documentation: https://pandas.pydata.org/pandas-docs/stable/user_guide/indexing.html#returning-a-view-versus-a-copy\n",
      "  \n",
      "/opt/conda/lib/python3.7/site-packages/ipykernel_launcher.py:3: SettingWithCopyWarning: \n",
      "A value is trying to be set on a copy of a slice from a DataFrame.\n",
      "Try using .loc[row_indexer,col_indexer] = value instead\n",
      "\n",
      "See the caveats in the documentation: https://pandas.pydata.org/pandas-docs/stable/user_guide/indexing.html#returning-a-view-versus-a-copy\n",
      "  This is separate from the ipykernel package so we can avoid doing imports until\n",
      "/opt/conda/lib/python3.7/site-packages/ipykernel_launcher.py:5: SettingWithCopyWarning: \n",
      "A value is trying to be set on a copy of a slice from a DataFrame.\n",
      "Try using .loc[row_indexer,col_indexer] = value instead\n",
      "\n",
      "See the caveats in the documentation: https://pandas.pydata.org/pandas-docs/stable/user_guide/indexing.html#returning-a-view-versus-a-copy\n",
      "  \"\"\"\n",
      "/opt/conda/lib/python3.7/site-packages/ipykernel_launcher.py:6: SettingWithCopyWarning: \n",
      "A value is trying to be set on a copy of a slice from a DataFrame.\n",
      "Try using .loc[row_indexer,col_indexer] = value instead\n",
      "\n",
      "See the caveats in the documentation: https://pandas.pydata.org/pandas-docs/stable/user_guide/indexing.html#returning-a-view-versus-a-copy\n",
      "  \n",
      "/opt/conda/lib/python3.7/site-packages/ipykernel_launcher.py:7: SettingWithCopyWarning: \n",
      "A value is trying to be set on a copy of a slice from a DataFrame.\n",
      "Try using .loc[row_indexer,col_indexer] = value instead\n",
      "\n",
      "See the caveats in the documentation: https://pandas.pydata.org/pandas-docs/stable/user_guide/indexing.html#returning-a-view-versus-a-copy\n",
      "  import sys\n",
      "/opt/conda/lib/python3.7/site-packages/ipykernel_launcher.py:9: SettingWithCopyWarning: \n",
      "A value is trying to be set on a copy of a slice from a DataFrame.\n",
      "Try using .loc[row_indexer,col_indexer] = value instead\n",
      "\n",
      "See the caveats in the documentation: https://pandas.pydata.org/pandas-docs/stable/user_guide/indexing.html#returning-a-view-versus-a-copy\n",
      "  if __name__ == \"__main__\":\n",
      "/opt/conda/lib/python3.7/site-packages/ipykernel_launcher.py:10: SettingWithCopyWarning: \n",
      "A value is trying to be set on a copy of a slice from a DataFrame.\n",
      "Try using .loc[row_indexer,col_indexer] = value instead\n",
      "\n",
      "See the caveats in the documentation: https://pandas.pydata.org/pandas-docs/stable/user_guide/indexing.html#returning-a-view-versus-a-copy\n",
      "  # Remove the CWD from sys.path while we load stuff.\n",
      "/opt/conda/lib/python3.7/site-packages/ipykernel_launcher.py:11: SettingWithCopyWarning: \n",
      "A value is trying to be set on a copy of a slice from a DataFrame.\n",
      "Try using .loc[row_indexer,col_indexer] = value instead\n",
      "\n",
      "See the caveats in the documentation: https://pandas.pydata.org/pandas-docs/stable/user_guide/indexing.html#returning-a-view-versus-a-copy\n",
      "  # This is added back by InteractiveShellApp.init_path()\n",
      "/opt/conda/lib/python3.7/site-packages/ipykernel_launcher.py:13: SettingWithCopyWarning: \n",
      "A value is trying to be set on a copy of a slice from a DataFrame.\n",
      "Try using .loc[row_indexer,col_indexer] = value instead\n",
      "\n",
      "See the caveats in the documentation: https://pandas.pydata.org/pandas-docs/stable/user_guide/indexing.html#returning-a-view-versus-a-copy\n",
      "  del sys.path[0]\n",
      "/opt/conda/lib/python3.7/site-packages/ipykernel_launcher.py:14: SettingWithCopyWarning: \n",
      "A value is trying to be set on a copy of a slice from a DataFrame.\n",
      "Try using .loc[row_indexer,col_indexer] = value instead\n",
      "\n",
      "See the caveats in the documentation: https://pandas.pydata.org/pandas-docs/stable/user_guide/indexing.html#returning-a-view-versus-a-copy\n",
      "  \n",
      "/opt/conda/lib/python3.7/site-packages/ipykernel_launcher.py:15: SettingWithCopyWarning: \n",
      "A value is trying to be set on a copy of a slice from a DataFrame.\n",
      "Try using .loc[row_indexer,col_indexer] = value instead\n",
      "\n",
      "See the caveats in the documentation: https://pandas.pydata.org/pandas-docs/stable/user_guide/indexing.html#returning-a-view-versus-a-copy\n",
      "  from ipykernel import kernelapp as app\n"
     ]
    }
   ],
   "source": [
    "nulldata['day_of_cleardate'] = nulldata['clear_date'].dt.day\n",
    "nulldata['month_of_cleardate'] = nulldata['clear_date'].dt.month\n",
    "nulldata['year_of_cleardate'] = nulldata['clear_date'].dt.year\n",
    "\n",
    "nulldata['day_of_postingdate'] = nulldata['posting_date'].dt.day\n",
    "nulldata['month_of_postingdate'] = nulldata['posting_date'].dt.month\n",
    "nulldata['year_of_postingdate'] = nulldata['posting_date'].dt.year\n",
    "\n",
    "nulldata['day_of_due'] = nulldata['due_in_date'].dt.day\n",
    "nulldata['month_of_due'] = nulldata['due_in_date'].dt.month\n",
    "nulldata['year_of_due'] = nulldata['due_in_date'].dt.year\n",
    "\n",
    "nulldata['day_of_createdate'] = nulldata['baseline_create_date'].dt.day\n",
    "nulldata['month_of_createdate'] = nulldata['baseline_create_date'].dt.month\n",
    "nulldata['year_of_createdate'] = nulldata['baseline_create_date'].dt.year"
   ]
  },
  {
   "cell_type": "markdown",
   "id": "70c19834",
   "metadata": {
    "id": "QeHWJYrAvOC6",
    "papermill": {
     "duration": 0.079468,
     "end_time": "2023-02-20T19:21:14.146843",
     "exception": false,
     "start_time": "2023-02-20T19:21:14.067375",
     "status": "completed"
    },
    "tags": []
   },
   "source": [
    "### Use Label Encoder1 of all the following columns - \n",
    "- 'cust_payment_terms' and store into 'cust_payment_terms_enc'\n",
    "- 'business_code' and store into 'business_code_enc'\n",
    "- 'name_customer' and store into 'name_customer_enc'\n",
    "\n",
    "Note - No need to change the code"
   ]
  },
  {
   "cell_type": "code",
   "execution_count": 136,
   "id": "631cd2f7",
   "metadata": {
    "execution": {
     "iopub.execute_input": "2023-02-20T19:21:14.304409Z",
     "iopub.status.busy": "2023-02-20T19:21:14.304017Z",
     "iopub.status.idle": "2023-02-20T19:21:14.757823Z",
     "shell.execute_reply": "2023-02-20T19:21:14.756551Z"
    },
    "id": "bac330e2",
    "papermill": {
     "duration": 0.535539,
     "end_time": "2023-02-20T19:21:14.760374",
     "exception": false,
     "start_time": "2023-02-20T19:21:14.224835",
     "status": "completed"
    },
    "tags": []
   },
   "outputs": [
    {
     "name": "stderr",
     "output_type": "stream",
     "text": [
      "/opt/conda/lib/python3.7/site-packages/ipykernel_launcher.py:1: SettingWithCopyWarning: \n",
      "A value is trying to be set on a copy of a slice from a DataFrame.\n",
      "Try using .loc[row_indexer,col_indexer] = value instead\n",
      "\n",
      "See the caveats in the documentation: https://pandas.pydata.org/pandas-docs/stable/user_guide/indexing.html#returning-a-view-versus-a-copy\n",
      "  \"\"\"Entry point for launching an IPython kernel.\n",
      "/opt/conda/lib/python3.7/site-packages/ipykernel_launcher.py:2: SettingWithCopyWarning: \n",
      "A value is trying to be set on a copy of a slice from a DataFrame.\n",
      "Try using .loc[row_indexer,col_indexer] = value instead\n",
      "\n",
      "See the caveats in the documentation: https://pandas.pydata.org/pandas-docs/stable/user_guide/indexing.html#returning-a-view-versus-a-copy\n",
      "  \n",
      "/opt/conda/lib/python3.7/site-packages/ipykernel_launcher.py:3: SettingWithCopyWarning: \n",
      "A value is trying to be set on a copy of a slice from a DataFrame.\n",
      "Try using .loc[row_indexer,col_indexer] = value instead\n",
      "\n",
      "See the caveats in the documentation: https://pandas.pydata.org/pandas-docs/stable/user_guide/indexing.html#returning-a-view-versus-a-copy\n",
      "  This is separate from the ipykernel package so we can avoid doing imports until\n"
     ]
    }
   ],
   "source": [
    "nulldata['cust_payment_terms_enc']=label_encoder1.transform(nulldata['cust_payment_terms'])\n",
    "nulldata['business_code_enc']=label_encoder1.transform(nulldata['business_code'])\n",
    "nulldata['name_customer_enc']=label_encoder.transform(nulldata['name_customer'])\n"
   ]
  },
  {
   "cell_type": "markdown",
   "id": "f86002d2",
   "metadata": {
    "id": "zD9I-XqQwC28",
    "papermill": {
     "duration": 0.078931,
     "end_time": "2023-02-20T19:21:14.918090",
     "exception": false,
     "start_time": "2023-02-20T19:21:14.839159",
     "status": "completed"
    },
    "tags": []
   },
   "source": [
    "### Check for the datatypes of all the columns of Nulldata"
   ]
  },
  {
   "cell_type": "code",
   "execution_count": 137,
   "id": "878ce497",
   "metadata": {
    "execution": {
     "iopub.execute_input": "2023-02-20T19:21:15.076877Z",
     "iopub.status.busy": "2023-02-20T19:21:15.076442Z",
     "iopub.status.idle": "2023-02-20T19:21:15.084336Z",
     "shell.execute_reply": "2023-02-20T19:21:15.083532Z"
    },
    "id": "d4f72517",
    "papermill": {
     "duration": 0.089986,
     "end_time": "2023-02-20T19:21:15.086530",
     "exception": false,
     "start_time": "2023-02-20T19:21:14.996544",
     "status": "completed"
    },
    "tags": []
   },
   "outputs": [
    {
     "data": {
      "text/plain": [
       "business_code                     object\n",
       "cust_number                        int64\n",
       "name_customer                     object\n",
       "clear_date                datetime64[ns]\n",
       "buisness_year                    float64\n",
       "doc_id                           float64\n",
       "posting_date              datetime64[ns]\n",
       "due_in_date               datetime64[ns]\n",
       "baseline_create_date      datetime64[ns]\n",
       "cust_payment_terms                object\n",
       "converted_usd                    float64\n",
       "business_code_enc                  int64\n",
       "day_of_cleardate                 float64\n",
       "month_of_cleardate               float64\n",
       "year_of_cleardate                float64\n",
       "day_of_postingdate                 int64\n",
       "month_of_postingdate               int64\n",
       "year_of_postingdate                int64\n",
       "day_of_due                         int64\n",
       "month_of_due                       int64\n",
       "year_of_due                        int64\n",
       "day_of_createdate                  int64\n",
       "month_of_createdate                int64\n",
       "year_of_createdate                 int64\n",
       "cust_payment_terms_enc             int64\n",
       "name_customer_enc                  int64\n",
       "dtype: object"
      ]
     },
     "execution_count": 137,
     "metadata": {},
     "output_type": "execute_result"
    }
   ],
   "source": [
    "nulldata.dtypes"
   ]
  },
  {
   "cell_type": "markdown",
   "id": "baea11ab",
   "metadata": {
    "id": "17cd5452",
    "papermill": {
     "duration": 0.077954,
     "end_time": "2023-02-20T19:21:15.246164",
     "exception": false,
     "start_time": "2023-02-20T19:21:15.168210",
     "status": "completed"
    },
    "tags": []
   },
   "source": [
    "### Now you need to drop all the unnecessary columns - \n",
    "\n",
    "- 'business_code'\n",
    "- \"baseline_create_date\"\n",
    "- \"due_in_date\"\n",
    "- \"posting_date\"\n",
    "- \"name_customer\"\n",
    "- \"clear_date\"\n",
    "- \"cust_payment_terms\"\n",
    "- 'day_of_cleardate'\n",
    "- \"month_of_cleardate\"\n",
    "- \"year_of_cleardate\""
   ]
  },
  {
   "cell_type": "code",
   "execution_count": 138,
   "id": "b49fa56c",
   "metadata": {
    "execution": {
     "iopub.execute_input": "2023-02-20T19:21:15.405380Z",
     "iopub.status.busy": "2023-02-20T19:21:15.404940Z",
     "iopub.status.idle": "2023-02-20T19:21:15.426727Z",
     "shell.execute_reply": "2023-02-20T19:21:15.425541Z"
    },
    "id": "d7c82076",
    "papermill": {
     "duration": 0.104632,
     "end_time": "2023-02-20T19:21:15.429333",
     "exception": false,
     "start_time": "2023-02-20T19:21:15.324701",
     "status": "completed"
    },
    "tags": []
   },
   "outputs": [
    {
     "data": {
      "text/html": [
       "<div>\n",
       "<style scoped>\n",
       "    .dataframe tbody tr th:only-of-type {\n",
       "        vertical-align: middle;\n",
       "    }\n",
       "\n",
       "    .dataframe tbody tr th {\n",
       "        vertical-align: top;\n",
       "    }\n",
       "\n",
       "    .dataframe thead th {\n",
       "        text-align: right;\n",
       "    }\n",
       "</style>\n",
       "<table border=\"1\" class=\"dataframe\">\n",
       "  <thead>\n",
       "    <tr style=\"text-align: right;\">\n",
       "      <th></th>\n",
       "      <th>cust_number</th>\n",
       "      <th>buisness_year</th>\n",
       "      <th>doc_id</th>\n",
       "      <th>converted_usd</th>\n",
       "      <th>business_code_enc</th>\n",
       "      <th>day_of_postingdate</th>\n",
       "      <th>month_of_postingdate</th>\n",
       "      <th>year_of_postingdate</th>\n",
       "      <th>day_of_due</th>\n",
       "      <th>month_of_due</th>\n",
       "      <th>year_of_due</th>\n",
       "      <th>day_of_createdate</th>\n",
       "      <th>month_of_createdate</th>\n",
       "      <th>year_of_createdate</th>\n",
       "      <th>cust_payment_terms_enc</th>\n",
       "      <th>name_customer_enc</th>\n",
       "    </tr>\n",
       "  </thead>\n",
       "  <tbody>\n",
       "    <tr>\n",
       "      <th>3</th>\n",
       "      <td>140105686</td>\n",
       "      <td>2020.0</td>\n",
       "      <td>2.960623e+09</td>\n",
       "      <td>2309.79</td>\n",
       "      <td>66</td>\n",
       "      <td>30</td>\n",
       "      <td>3</td>\n",
       "      <td>2020</td>\n",
       "      <td>10</td>\n",
       "      <td>4</td>\n",
       "      <td>2020</td>\n",
       "      <td>31</td>\n",
       "      <td>3</td>\n",
       "      <td>2020</td>\n",
       "      <td>4</td>\n",
       "      <td>2701</td>\n",
       "    </tr>\n",
       "    <tr>\n",
       "      <th>7</th>\n",
       "      <td>200744019</td>\n",
       "      <td>2020.0</td>\n",
       "      <td>1.930659e+09</td>\n",
       "      <td>11173.02</td>\n",
       "      <td>66</td>\n",
       "      <td>19</td>\n",
       "      <td>3</td>\n",
       "      <td>2020</td>\n",
       "      <td>3</td>\n",
       "      <td>4</td>\n",
       "      <td>2020</td>\n",
       "      <td>19</td>\n",
       "      <td>3</td>\n",
       "      <td>2020</td>\n",
       "      <td>19</td>\n",
       "      <td>2785</td>\n",
       "    </tr>\n",
       "    <tr>\n",
       "      <th>10</th>\n",
       "      <td>200418007</td>\n",
       "      <td>2020.0</td>\n",
       "      <td>1.930611e+09</td>\n",
       "      <td>3525.59</td>\n",
       "      <td>66</td>\n",
       "      <td>11</td>\n",
       "      <td>3</td>\n",
       "      <td>2020</td>\n",
       "      <td>26</td>\n",
       "      <td>3</td>\n",
       "      <td>2020</td>\n",
       "      <td>11</td>\n",
       "      <td>3</td>\n",
       "      <td>2020</td>\n",
       "      <td>19</td>\n",
       "      <td>96</td>\n",
       "    </tr>\n",
       "    <tr>\n",
       "      <th>14</th>\n",
       "      <td>200739534</td>\n",
       "      <td>2020.0</td>\n",
       "      <td>1.930788e+09</td>\n",
       "      <td>121105.65</td>\n",
       "      <td>66</td>\n",
       "      <td>15</td>\n",
       "      <td>4</td>\n",
       "      <td>2020</td>\n",
       "      <td>30</td>\n",
       "      <td>4</td>\n",
       "      <td>2020</td>\n",
       "      <td>15</td>\n",
       "      <td>4</td>\n",
       "      <td>2020</td>\n",
       "      <td>19</td>\n",
       "      <td>2016</td>\n",
       "    </tr>\n",
       "    <tr>\n",
       "      <th>15</th>\n",
       "      <td>200353024</td>\n",
       "      <td>2020.0</td>\n",
       "      <td>1.930817e+09</td>\n",
       "      <td>3726.06</td>\n",
       "      <td>66</td>\n",
       "      <td>23</td>\n",
       "      <td>4</td>\n",
       "      <td>2020</td>\n",
       "      <td>26</td>\n",
       "      <td>4</td>\n",
       "      <td>2020</td>\n",
       "      <td>16</td>\n",
       "      <td>4</td>\n",
       "      <td>2020</td>\n",
       "      <td>35</td>\n",
       "      <td>727</td>\n",
       "    </tr>\n",
       "  </tbody>\n",
       "</table>\n",
       "</div>"
      ],
      "text/plain": [
       "    cust_number  buisness_year        doc_id  converted_usd  \\\n",
       "3     140105686         2020.0  2.960623e+09        2309.79   \n",
       "7     200744019         2020.0  1.930659e+09       11173.02   \n",
       "10    200418007         2020.0  1.930611e+09        3525.59   \n",
       "14    200739534         2020.0  1.930788e+09      121105.65   \n",
       "15    200353024         2020.0  1.930817e+09        3726.06   \n",
       "\n",
       "    business_code_enc  day_of_postingdate  month_of_postingdate  \\\n",
       "3                  66                  30                     3   \n",
       "7                  66                  19                     3   \n",
       "10                 66                  11                     3   \n",
       "14                 66                  15                     4   \n",
       "15                 66                  23                     4   \n",
       "\n",
       "    year_of_postingdate  day_of_due  month_of_due  year_of_due  \\\n",
       "3                  2020          10             4         2020   \n",
       "7                  2020           3             4         2020   \n",
       "10                 2020          26             3         2020   \n",
       "14                 2020          30             4         2020   \n",
       "15                 2020          26             4         2020   \n",
       "\n",
       "    day_of_createdate  month_of_createdate  year_of_createdate  \\\n",
       "3                  31                    3                2020   \n",
       "7                  19                    3                2020   \n",
       "10                 11                    3                2020   \n",
       "14                 15                    4                2020   \n",
       "15                 16                    4                2020   \n",
       "\n",
       "    cust_payment_terms_enc  name_customer_enc  \n",
       "3                        4               2701  \n",
       "7                       19               2785  \n",
       "10                      19                 96  \n",
       "14                      19               2016  \n",
       "15                      35                727  "
      ]
     },
     "execution_count": 138,
     "metadata": {},
     "output_type": "execute_result"
    }
   ],
   "source": [
    "drop_c=['business_code',\"baseline_create_date\",\"due_in_date\",\"posting_date\",\"name_customer\",\"clear_date\",\"cust_payment_terms\",'day_of_cleardate',\"month_of_cleardate\",\"year_of_cleardate\"]\n",
    "nulldata=nulldata.drop(columns=drop_c)\n",
    "nulldata.head()"
   ]
  },
  {
   "cell_type": "markdown",
   "id": "3c950b23",
   "metadata": {
    "id": "Q_NCr9IPweVq",
    "papermill": {
     "duration": 0.079944,
     "end_time": "2023-02-20T19:21:15.588771",
     "exception": false,
     "start_time": "2023-02-20T19:21:15.508827",
     "status": "completed"
    },
    "tags": []
   },
   "source": [
    "### Check the information of the \"nulldata\" dataframe"
   ]
  },
  {
   "cell_type": "code",
   "execution_count": 139,
   "id": "b32962ea",
   "metadata": {
    "execution": {
     "iopub.execute_input": "2023-02-20T19:21:15.749481Z",
     "iopub.status.busy": "2023-02-20T19:21:15.749077Z",
     "iopub.status.idle": "2023-02-20T19:21:15.763178Z",
     "shell.execute_reply": "2023-02-20T19:21:15.762027Z"
    },
    "id": "4e7ffee0",
    "papermill": {
     "duration": 0.097255,
     "end_time": "2023-02-20T19:21:15.765670",
     "exception": false,
     "start_time": "2023-02-20T19:21:15.668415",
     "status": "completed"
    },
    "tags": []
   },
   "outputs": [
    {
     "name": "stdout",
     "output_type": "stream",
     "text": [
      "<class 'pandas.core.frame.DataFrame'>\n",
      "Int64Index: 9681 entries, 3 to 49995\n",
      "Data columns (total 16 columns):\n",
      " #   Column                  Non-Null Count  Dtype  \n",
      "---  ------                  --------------  -----  \n",
      " 0   cust_number             9681 non-null   int64  \n",
      " 1   buisness_year           9681 non-null   float64\n",
      " 2   doc_id                  9681 non-null   float64\n",
      " 3   converted_usd           9681 non-null   float64\n",
      " 4   business_code_enc       9681 non-null   int64  \n",
      " 5   day_of_postingdate      9681 non-null   int64  \n",
      " 6   month_of_postingdate    9681 non-null   int64  \n",
      " 7   year_of_postingdate     9681 non-null   int64  \n",
      " 8   day_of_due              9681 non-null   int64  \n",
      " 9   month_of_due            9681 non-null   int64  \n",
      " 10  year_of_due             9681 non-null   int64  \n",
      " 11  day_of_createdate       9681 non-null   int64  \n",
      " 12  month_of_createdate     9681 non-null   int64  \n",
      " 13  year_of_createdate      9681 non-null   int64  \n",
      " 14  cust_payment_terms_enc  9681 non-null   int64  \n",
      " 15  name_customer_enc       9681 non-null   int64  \n",
      "dtypes: float64(3), int64(13)\n",
      "memory usage: 1.3 MB\n"
     ]
    }
   ],
   "source": [
    "nulldata.info()"
   ]
  },
  {
   "cell_type": "markdown",
   "id": "9fe0a51a",
   "metadata": {
    "id": "-XvjhWqmwi-C",
    "papermill": {
     "duration": 0.079515,
     "end_time": "2023-02-20T19:21:15.924700",
     "exception": false,
     "start_time": "2023-02-20T19:21:15.845185",
     "status": "completed"
    },
    "tags": []
   },
   "source": [
    "### Compare \"nulldata\" with the \"X_test\" dataframe \n",
    "\n",
    "- use info() method"
   ]
  },
  {
   "cell_type": "code",
   "execution_count": 140,
   "id": "eef4cbe3",
   "metadata": {
    "execution": {
     "iopub.execute_input": "2023-02-20T19:21:16.086017Z",
     "iopub.status.busy": "2023-02-20T19:21:16.085620Z",
     "iopub.status.idle": "2023-02-20T19:21:16.099683Z",
     "shell.execute_reply": "2023-02-20T19:21:16.098235Z"
    },
    "id": "02f4b62d",
    "papermill": {
     "duration": 0.098148,
     "end_time": "2023-02-20T19:21:16.102561",
     "exception": false,
     "start_time": "2023-02-20T19:21:16.004413",
     "status": "completed"
    },
    "tags": []
   },
   "outputs": [
    {
     "name": "stdout",
     "output_type": "stream",
     "text": [
      "<class 'pandas.core.frame.DataFrame'>\n",
      "Int64Index: 7832 entries, 37385 to 32752\n",
      "Data columns (total 16 columns):\n",
      " #   Column                  Non-Null Count  Dtype  \n",
      "---  ------                  --------------  -----  \n",
      " 0   cust_number             7832 non-null   int64  \n",
      " 1   buisness_year           7832 non-null   float64\n",
      " 2   doc_id                  7832 non-null   float64\n",
      " 3   converted_usd           7832 non-null   float64\n",
      " 4   business_code_enc       7832 non-null   int64  \n",
      " 5   name_customer_enc       7832 non-null   int64  \n",
      " 6   cust_payment_terms_enc  7832 non-null   int64  \n",
      " 7   day_of_postingdate      7832 non-null   int64  \n",
      " 8   month_of_postingdate    7832 non-null   int64  \n",
      " 9   year_of_postingdate     7832 non-null   int64  \n",
      " 10  day_of_createdate       7832 non-null   int64  \n",
      " 11  month_of_createdate     7832 non-null   int64  \n",
      " 12  year_of_createdate      7832 non-null   int64  \n",
      " 13  day_of_due              7832 non-null   int64  \n",
      " 14  month_of_due            7832 non-null   int64  \n",
      " 15  year_of_due             7832 non-null   int64  \n",
      "dtypes: float64(3), int64(13)\n",
      "memory usage: 1.0 MB\n"
     ]
    }
   ],
   "source": [
    "X_test.info()"
   ]
  },
  {
   "cell_type": "markdown",
   "id": "14cb4242",
   "metadata": {
    "id": "Us3ey-9zwqjq",
    "papermill": {
     "duration": 0.079024,
     "end_time": "2023-02-20T19:21:16.262190",
     "exception": false,
     "start_time": "2023-02-20T19:21:16.183166",
     "status": "completed"
    },
    "tags": []
   },
   "source": [
    "### You must have noticed that there is a mismatch in the column sequence while compairing the dataframes\n",
    "\n",
    "- Note - In order to fed into the machine learning model, you need to edit the sequence of \"nulldata\", similar to the \"X_test\" dataframe"
   ]
  },
  {
   "cell_type": "markdown",
   "id": "71b71950",
   "metadata": {
    "id": "vduVNt1kxPW-",
    "papermill": {
     "duration": 0.078874,
     "end_time": "2023-02-20T19:21:16.420588",
     "exception": false,
     "start_time": "2023-02-20T19:21:16.341714",
     "status": "completed"
    },
    "tags": []
   },
   "source": [
    "- Display all the columns of the X_test dataframe \n",
    "- Display all the columns of the Nulldata dataframe \n",
    "- Store the Nulldata with new sequence into a new dataframe \n",
    "\n",
    "\n",
    "- Note - The code is given below, no need to change "
   ]
  },
  {
   "cell_type": "code",
   "execution_count": 141,
   "id": "ac29505f",
   "metadata": {
    "execution": {
     "iopub.execute_input": "2023-02-20T19:21:16.643308Z",
     "iopub.status.busy": "2023-02-20T19:21:16.642224Z",
     "iopub.status.idle": "2023-02-20T19:21:16.650628Z",
     "shell.execute_reply": "2023-02-20T19:21:16.649397Z"
    },
    "id": "6729353e",
    "papermill": {
     "duration": 0.095898,
     "end_time": "2023-02-20T19:21:16.653205",
     "exception": false,
     "start_time": "2023-02-20T19:21:16.557307",
     "status": "completed"
    },
    "tags": []
   },
   "outputs": [
    {
     "data": {
      "text/plain": [
       "Index(['cust_number', 'buisness_year', 'doc_id', 'converted_usd',\n",
       "       'business_code_enc', 'name_customer_enc', 'cust_payment_terms_enc',\n",
       "       'day_of_postingdate', 'month_of_postingdate', 'year_of_postingdate',\n",
       "       'day_of_createdate', 'month_of_createdate', 'year_of_createdate',\n",
       "       'day_of_due', 'month_of_due', 'year_of_due'],\n",
       "      dtype='object')"
      ]
     },
     "execution_count": 141,
     "metadata": {},
     "output_type": "execute_result"
    }
   ],
   "source": [
    "X_test.columns"
   ]
  },
  {
   "cell_type": "code",
   "execution_count": 142,
   "id": "6f296e3e",
   "metadata": {
    "execution": {
     "iopub.execute_input": "2023-02-20T19:21:16.816523Z",
     "iopub.status.busy": "2023-02-20T19:21:16.816092Z",
     "iopub.status.idle": "2023-02-20T19:21:16.822662Z",
     "shell.execute_reply": "2023-02-20T19:21:16.821788Z"
    },
    "id": "47bd9c5e",
    "papermill": {
     "duration": 0.09133,
     "end_time": "2023-02-20T19:21:16.824969",
     "exception": false,
     "start_time": "2023-02-20T19:21:16.733639",
     "status": "completed"
    },
    "tags": []
   },
   "outputs": [
    {
     "data": {
      "text/plain": [
       "Index(['cust_number', 'buisness_year', 'doc_id', 'converted_usd',\n",
       "       'business_code_enc', 'day_of_postingdate', 'month_of_postingdate',\n",
       "       'year_of_postingdate', 'day_of_due', 'month_of_due', 'year_of_due',\n",
       "       'day_of_createdate', 'month_of_createdate', 'year_of_createdate',\n",
       "       'cust_payment_terms_enc', 'name_customer_enc'],\n",
       "      dtype='object')"
      ]
     },
     "execution_count": 142,
     "metadata": {},
     "output_type": "execute_result"
    }
   ],
   "source": [
    "nulldata.columns"
   ]
  },
  {
   "cell_type": "code",
   "execution_count": 143,
   "id": "b3e19296",
   "metadata": {
    "execution": {
     "iopub.execute_input": "2023-02-20T19:21:16.988885Z",
     "iopub.status.busy": "2023-02-20T19:21:16.988043Z",
     "iopub.status.idle": "2023-02-20T19:21:16.995072Z",
     "shell.execute_reply": "2023-02-20T19:21:16.994284Z"
    },
    "id": "aa5a2103",
    "papermill": {
     "duration": 0.091994,
     "end_time": "2023-02-20T19:21:16.997519",
     "exception": false,
     "start_time": "2023-02-20T19:21:16.905525",
     "status": "completed"
    },
    "tags": []
   },
   "outputs": [],
   "source": [
    "nulldata2=nulldata[['cust_number', 'buisness_year', 'doc_id', 'converted_usd',\n",
    "       'business_code_enc', 'name_customer_enc', 'cust_payment_terms_enc',\n",
    "       'day_of_postingdate', 'month_of_postingdate', 'year_of_postingdate',\n",
    "       'day_of_createdate', 'month_of_createdate', 'year_of_createdate',\n",
    "       'day_of_due', 'month_of_due', 'year_of_due']]"
   ]
  },
  {
   "cell_type": "markdown",
   "id": "c7bf68c5",
   "metadata": {
    "id": "1dc8b021",
    "papermill": {
     "duration": 0.07877,
     "end_time": "2023-02-20T19:21:17.156280",
     "exception": false,
     "start_time": "2023-02-20T19:21:17.077510",
     "status": "completed"
    },
    "tags": []
   },
   "source": [
    "### Display the Final Dataset"
   ]
  },
  {
   "cell_type": "code",
   "execution_count": 144,
   "id": "f5c53870",
   "metadata": {
    "execution": {
     "iopub.execute_input": "2023-02-20T19:21:17.317638Z",
     "iopub.status.busy": "2023-02-20T19:21:17.316886Z",
     "iopub.status.idle": "2023-02-20T19:21:17.339514Z",
     "shell.execute_reply": "2023-02-20T19:21:17.338310Z"
    },
    "id": "2f39785a",
    "papermill": {
     "duration": 0.106462,
     "end_time": "2023-02-20T19:21:17.341997",
     "exception": false,
     "start_time": "2023-02-20T19:21:17.235535",
     "status": "completed"
    },
    "tags": []
   },
   "outputs": [
    {
     "data": {
      "text/html": [
       "<div>\n",
       "<style scoped>\n",
       "    .dataframe tbody tr th:only-of-type {\n",
       "        vertical-align: middle;\n",
       "    }\n",
       "\n",
       "    .dataframe tbody tr th {\n",
       "        vertical-align: top;\n",
       "    }\n",
       "\n",
       "    .dataframe thead th {\n",
       "        text-align: right;\n",
       "    }\n",
       "</style>\n",
       "<table border=\"1\" class=\"dataframe\">\n",
       "  <thead>\n",
       "    <tr style=\"text-align: right;\">\n",
       "      <th></th>\n",
       "      <th>cust_number</th>\n",
       "      <th>buisness_year</th>\n",
       "      <th>doc_id</th>\n",
       "      <th>converted_usd</th>\n",
       "      <th>business_code_enc</th>\n",
       "      <th>name_customer_enc</th>\n",
       "      <th>cust_payment_terms_enc</th>\n",
       "      <th>day_of_postingdate</th>\n",
       "      <th>month_of_postingdate</th>\n",
       "      <th>year_of_postingdate</th>\n",
       "      <th>day_of_createdate</th>\n",
       "      <th>month_of_createdate</th>\n",
       "      <th>year_of_createdate</th>\n",
       "      <th>day_of_due</th>\n",
       "      <th>month_of_due</th>\n",
       "      <th>year_of_due</th>\n",
       "    </tr>\n",
       "  </thead>\n",
       "  <tbody>\n",
       "    <tr>\n",
       "      <th>3</th>\n",
       "      <td>140105686</td>\n",
       "      <td>2020.0</td>\n",
       "      <td>2.960623e+09</td>\n",
       "      <td>2309.79</td>\n",
       "      <td>66</td>\n",
       "      <td>2701</td>\n",
       "      <td>4</td>\n",
       "      <td>30</td>\n",
       "      <td>3</td>\n",
       "      <td>2020</td>\n",
       "      <td>31</td>\n",
       "      <td>3</td>\n",
       "      <td>2020</td>\n",
       "      <td>10</td>\n",
       "      <td>4</td>\n",
       "      <td>2020</td>\n",
       "    </tr>\n",
       "    <tr>\n",
       "      <th>7</th>\n",
       "      <td>200744019</td>\n",
       "      <td>2020.0</td>\n",
       "      <td>1.930659e+09</td>\n",
       "      <td>11173.02</td>\n",
       "      <td>66</td>\n",
       "      <td>2785</td>\n",
       "      <td>19</td>\n",
       "      <td>19</td>\n",
       "      <td>3</td>\n",
       "      <td>2020</td>\n",
       "      <td>19</td>\n",
       "      <td>3</td>\n",
       "      <td>2020</td>\n",
       "      <td>3</td>\n",
       "      <td>4</td>\n",
       "      <td>2020</td>\n",
       "    </tr>\n",
       "    <tr>\n",
       "      <th>10</th>\n",
       "      <td>200418007</td>\n",
       "      <td>2020.0</td>\n",
       "      <td>1.930611e+09</td>\n",
       "      <td>3525.59</td>\n",
       "      <td>66</td>\n",
       "      <td>96</td>\n",
       "      <td>19</td>\n",
       "      <td>11</td>\n",
       "      <td>3</td>\n",
       "      <td>2020</td>\n",
       "      <td>11</td>\n",
       "      <td>3</td>\n",
       "      <td>2020</td>\n",
       "      <td>26</td>\n",
       "      <td>3</td>\n",
       "      <td>2020</td>\n",
       "    </tr>\n",
       "    <tr>\n",
       "      <th>14</th>\n",
       "      <td>200739534</td>\n",
       "      <td>2020.0</td>\n",
       "      <td>1.930788e+09</td>\n",
       "      <td>121105.65</td>\n",
       "      <td>66</td>\n",
       "      <td>2016</td>\n",
       "      <td>19</td>\n",
       "      <td>15</td>\n",
       "      <td>4</td>\n",
       "      <td>2020</td>\n",
       "      <td>15</td>\n",
       "      <td>4</td>\n",
       "      <td>2020</td>\n",
       "      <td>30</td>\n",
       "      <td>4</td>\n",
       "      <td>2020</td>\n",
       "    </tr>\n",
       "    <tr>\n",
       "      <th>15</th>\n",
       "      <td>200353024</td>\n",
       "      <td>2020.0</td>\n",
       "      <td>1.930817e+09</td>\n",
       "      <td>3726.06</td>\n",
       "      <td>66</td>\n",
       "      <td>727</td>\n",
       "      <td>35</td>\n",
       "      <td>23</td>\n",
       "      <td>4</td>\n",
       "      <td>2020</td>\n",
       "      <td>16</td>\n",
       "      <td>4</td>\n",
       "      <td>2020</td>\n",
       "      <td>26</td>\n",
       "      <td>4</td>\n",
       "      <td>2020</td>\n",
       "    </tr>\n",
       "    <tr>\n",
       "      <th>...</th>\n",
       "      <td>...</td>\n",
       "      <td>...</td>\n",
       "      <td>...</td>\n",
       "      <td>...</td>\n",
       "      <td>...</td>\n",
       "      <td>...</td>\n",
       "      <td>...</td>\n",
       "      <td>...</td>\n",
       "      <td>...</td>\n",
       "      <td>...</td>\n",
       "      <td>...</td>\n",
       "      <td>...</td>\n",
       "      <td>...</td>\n",
       "      <td>...</td>\n",
       "      <td>...</td>\n",
       "      <td>...</td>\n",
       "    </tr>\n",
       "    <tr>\n",
       "      <th>49975</th>\n",
       "      <td>200769623</td>\n",
       "      <td>2020.0</td>\n",
       "      <td>1.930625e+09</td>\n",
       "      <td>13114.99</td>\n",
       "      <td>66</td>\n",
       "      <td>2968</td>\n",
       "      <td>33</td>\n",
       "      <td>10</td>\n",
       "      <td>3</td>\n",
       "      <td>2020</td>\n",
       "      <td>10</td>\n",
       "      <td>3</td>\n",
       "      <td>2020</td>\n",
       "      <td>25</td>\n",
       "      <td>3</td>\n",
       "      <td>2020</td>\n",
       "    </tr>\n",
       "    <tr>\n",
       "      <th>49980</th>\n",
       "      <td>200769623</td>\n",
       "      <td>2020.0</td>\n",
       "      <td>1.930851e+09</td>\n",
       "      <td>8899.71</td>\n",
       "      <td>66</td>\n",
       "      <td>2966</td>\n",
       "      <td>33</td>\n",
       "      <td>3</td>\n",
       "      <td>5</td>\n",
       "      <td>2020</td>\n",
       "      <td>3</td>\n",
       "      <td>5</td>\n",
       "      <td>2020</td>\n",
       "      <td>18</td>\n",
       "      <td>5</td>\n",
       "      <td>2020</td>\n",
       "    </tr>\n",
       "    <tr>\n",
       "      <th>49982</th>\n",
       "      <td>200148860</td>\n",
       "      <td>2020.0</td>\n",
       "      <td>1.930638e+09</td>\n",
       "      <td>4967.06</td>\n",
       "      <td>66</td>\n",
       "      <td>798</td>\n",
       "      <td>19</td>\n",
       "      <td>11</td>\n",
       "      <td>3</td>\n",
       "      <td>2020</td>\n",
       "      <td>11</td>\n",
       "      <td>3</td>\n",
       "      <td>2020</td>\n",
       "      <td>26</td>\n",
       "      <td>3</td>\n",
       "      <td>2020</td>\n",
       "    </tr>\n",
       "    <tr>\n",
       "      <th>49992</th>\n",
       "      <td>200900909</td>\n",
       "      <td>2020.0</td>\n",
       "      <td>1.930702e+09</td>\n",
       "      <td>1998.64</td>\n",
       "      <td>66</td>\n",
       "      <td>2750</td>\n",
       "      <td>19</td>\n",
       "      <td>25</td>\n",
       "      <td>3</td>\n",
       "      <td>2020</td>\n",
       "      <td>25</td>\n",
       "      <td>3</td>\n",
       "      <td>2020</td>\n",
       "      <td>9</td>\n",
       "      <td>4</td>\n",
       "      <td>2020</td>\n",
       "    </tr>\n",
       "    <tr>\n",
       "      <th>49995</th>\n",
       "      <td>200561861</td>\n",
       "      <td>2020.0</td>\n",
       "      <td>1.930797e+09</td>\n",
       "      <td>3187.86</td>\n",
       "      <td>66</td>\n",
       "      <td>533</td>\n",
       "      <td>19</td>\n",
       "      <td>21</td>\n",
       "      <td>4</td>\n",
       "      <td>2020</td>\n",
       "      <td>21</td>\n",
       "      <td>4</td>\n",
       "      <td>2020</td>\n",
       "      <td>6</td>\n",
       "      <td>5</td>\n",
       "      <td>2020</td>\n",
       "    </tr>\n",
       "  </tbody>\n",
       "</table>\n",
       "<p>9681 rows × 16 columns</p>\n",
       "</div>"
      ],
      "text/plain": [
       "       cust_number  buisness_year        doc_id  converted_usd  \\\n",
       "3        140105686         2020.0  2.960623e+09        2309.79   \n",
       "7        200744019         2020.0  1.930659e+09       11173.02   \n",
       "10       200418007         2020.0  1.930611e+09        3525.59   \n",
       "14       200739534         2020.0  1.930788e+09      121105.65   \n",
       "15       200353024         2020.0  1.930817e+09        3726.06   \n",
       "...            ...            ...           ...            ...   \n",
       "49975    200769623         2020.0  1.930625e+09       13114.99   \n",
       "49980    200769623         2020.0  1.930851e+09        8899.71   \n",
       "49982    200148860         2020.0  1.930638e+09        4967.06   \n",
       "49992    200900909         2020.0  1.930702e+09        1998.64   \n",
       "49995    200561861         2020.0  1.930797e+09        3187.86   \n",
       "\n",
       "       business_code_enc  name_customer_enc  cust_payment_terms_enc  \\\n",
       "3                     66               2701                       4   \n",
       "7                     66               2785                      19   \n",
       "10                    66                 96                      19   \n",
       "14                    66               2016                      19   \n",
       "15                    66                727                      35   \n",
       "...                  ...                ...                     ...   \n",
       "49975                 66               2968                      33   \n",
       "49980                 66               2966                      33   \n",
       "49982                 66                798                      19   \n",
       "49992                 66               2750                      19   \n",
       "49995                 66                533                      19   \n",
       "\n",
       "       day_of_postingdate  month_of_postingdate  year_of_postingdate  \\\n",
       "3                      30                     3                 2020   \n",
       "7                      19                     3                 2020   \n",
       "10                     11                     3                 2020   \n",
       "14                     15                     4                 2020   \n",
       "15                     23                     4                 2020   \n",
       "...                   ...                   ...                  ...   \n",
       "49975                  10                     3                 2020   \n",
       "49980                   3                     5                 2020   \n",
       "49982                  11                     3                 2020   \n",
       "49992                  25                     3                 2020   \n",
       "49995                  21                     4                 2020   \n",
       "\n",
       "       day_of_createdate  month_of_createdate  year_of_createdate  day_of_due  \\\n",
       "3                     31                    3                2020          10   \n",
       "7                     19                    3                2020           3   \n",
       "10                    11                    3                2020          26   \n",
       "14                    15                    4                2020          30   \n",
       "15                    16                    4                2020          26   \n",
       "...                  ...                  ...                 ...         ...   \n",
       "49975                 10                    3                2020          25   \n",
       "49980                  3                    5                2020          18   \n",
       "49982                 11                    3                2020          26   \n",
       "49992                 25                    3                2020           9   \n",
       "49995                 21                    4                2020           6   \n",
       "\n",
       "       month_of_due  year_of_due  \n",
       "3                 4         2020  \n",
       "7                 4         2020  \n",
       "10                3         2020  \n",
       "14                4         2020  \n",
       "15                4         2020  \n",
       "...             ...          ...  \n",
       "49975             3         2020  \n",
       "49980             5         2020  \n",
       "49982             3         2020  \n",
       "49992             4         2020  \n",
       "49995             5         2020  \n",
       "\n",
       "[9681 rows x 16 columns]"
      ]
     },
     "execution_count": 144,
     "metadata": {},
     "output_type": "execute_result"
    }
   ],
   "source": [
    "nulldata2"
   ]
  },
  {
   "cell_type": "markdown",
   "id": "f24a467f",
   "metadata": {
    "id": "27b88c5a",
    "papermill": {
     "duration": 0.079686,
     "end_time": "2023-02-20T19:21:17.501322",
     "exception": false,
     "start_time": "2023-02-20T19:21:17.421636",
     "status": "completed"
    },
    "tags": []
   },
   "source": [
    "### Now you can pass this dataset into you final model and store it into \"final_result\""
   ]
  },
  {
   "cell_type": "code",
   "execution_count": 145,
   "id": "5961477f",
   "metadata": {
    "execution": {
     "iopub.execute_input": "2023-02-20T19:21:17.664255Z",
     "iopub.status.busy": "2023-02-20T19:21:17.663260Z",
     "iopub.status.idle": "2023-02-20T19:21:17.693808Z",
     "shell.execute_reply": "2023-02-20T19:21:17.692736Z"
    },
    "id": "9e0b6388",
    "papermill": {
     "duration": 0.115398,
     "end_time": "2023-02-20T19:21:17.696828",
     "exception": false,
     "start_time": "2023-02-20T19:21:17.581430",
     "status": "completed"
    },
    "tags": []
   },
   "outputs": [
    {
     "data": {
      "text/plain": [
       "array([ 900533.9  ,  267938.34 , -276329.88 , ..., -360007.97 ,\n",
       "        304352.88 ,   55623.203], dtype=float32)"
      ]
     },
     "execution_count": 145,
     "metadata": {},
     "output_type": "execute_result"
    }
   ],
   "source": [
    "final_result = regressorfinal.predict(nulldata2)\n",
    "final_result"
   ]
  },
  {
   "cell_type": "markdown",
   "id": "e1bd1ddd",
   "metadata": {
    "id": "9653d3c6",
    "papermill": {
     "duration": 0.080671,
     "end_time": "2023-02-20T19:21:17.859047",
     "exception": false,
     "start_time": "2023-02-20T19:21:17.778376",
     "status": "completed"
    },
    "tags": []
   },
   "source": [
    "### you need to make the final_result as dataframe, with a column name \"avg_delay\"\n",
    "\n",
    "- Note - No need to change the code"
   ]
  },
  {
   "cell_type": "code",
   "execution_count": 146,
   "id": "0929c45f",
   "metadata": {
    "execution": {
     "iopub.execute_input": "2023-02-20T19:21:18.023631Z",
     "iopub.status.busy": "2023-02-20T19:21:18.022694Z",
     "iopub.status.idle": "2023-02-20T19:21:18.028903Z",
     "shell.execute_reply": "2023-02-20T19:21:18.028021Z"
    },
    "id": "25ef814d",
    "papermill": {
     "duration": 0.091464,
     "end_time": "2023-02-20T19:21:18.031188",
     "exception": false,
     "start_time": "2023-02-20T19:21:17.939724",
     "status": "completed"
    },
    "tags": []
   },
   "outputs": [],
   "source": [
    "final_result = pd.Series(final_result,name='avg_delay')"
   ]
  },
  {
   "cell_type": "markdown",
   "id": "699ce8d5",
   "metadata": {
    "id": "C86staIhyf2C",
    "papermill": {
     "duration": 0.080473,
     "end_time": "2023-02-20T19:21:18.192015",
     "exception": false,
     "start_time": "2023-02-20T19:21:18.111542",
     "status": "completed"
    },
    "tags": []
   },
   "source": [
    "### Display the \"avg_delay\" column"
   ]
  },
  {
   "cell_type": "code",
   "execution_count": 147,
   "id": "e8b7cde7",
   "metadata": {
    "execution": {
     "iopub.execute_input": "2023-02-20T19:21:18.356921Z",
     "iopub.status.busy": "2023-02-20T19:21:18.356166Z",
     "iopub.status.idle": "2023-02-20T19:21:18.363639Z",
     "shell.execute_reply": "2023-02-20T19:21:18.362827Z"
    },
    "id": "4fd46406",
    "papermill": {
     "duration": 0.091906,
     "end_time": "2023-02-20T19:21:18.365769",
     "exception": false,
     "start_time": "2023-02-20T19:21:18.273863",
     "status": "completed"
    },
    "tags": []
   },
   "outputs": [
    {
     "data": {
      "text/plain": [
       "0       900533.875000\n",
       "1       267938.343750\n",
       "2      -276329.875000\n",
       "3        35052.015625\n",
       "4      -371961.500000\n",
       "            ...      \n",
       "9676    377793.468750\n",
       "9677    491223.156250\n",
       "9678   -360007.968750\n",
       "9679    304352.875000\n",
       "9680     55623.203125\n",
       "Name: avg_delay, Length: 9681, dtype: float32"
      ]
     },
     "execution_count": 147,
     "metadata": {},
     "output_type": "execute_result"
    }
   ],
   "source": [
    "final_result"
   ]
  },
  {
   "cell_type": "markdown",
   "id": "8592481a",
   "metadata": {
    "id": "44f71a7e",
    "papermill": {
     "duration": 0.080214,
     "end_time": "2023-02-20T19:21:18.525608",
     "exception": false,
     "start_time": "2023-02-20T19:21:18.445394",
     "status": "completed"
    },
    "tags": []
   },
   "source": [
    "### Now you need to merge this final_result dataframe with the BACKUP of \"nulldata\" Dataframe which we have created in earlier steps"
   ]
  },
  {
   "cell_type": "code",
   "execution_count": 148,
   "id": "f2a89e42",
   "metadata": {
    "execution": {
     "iopub.execute_input": "2023-02-20T19:21:18.688444Z",
     "iopub.status.busy": "2023-02-20T19:21:18.687411Z",
     "iopub.status.idle": "2023-02-20T19:21:18.702355Z",
     "shell.execute_reply": "2023-02-20T19:21:18.701524Z"
    },
    "papermill": {
     "duration": 0.099506,
     "end_time": "2023-02-20T19:21:18.704998",
     "exception": false,
     "start_time": "2023-02-20T19:21:18.605492",
     "status": "completed"
    },
    "tags": []
   },
   "outputs": [],
   "source": [
    "nulldata1.reset_index(drop=True,inplace=True)\n",
    "Final = nulldata1.merge(final_result , on = nulldata.index )"
   ]
  },
  {
   "cell_type": "markdown",
   "id": "34778978",
   "metadata": {
    "id": "G-hLtxXgy4GZ",
    "papermill": {
     "duration": 0.082006,
     "end_time": "2023-02-20T19:21:18.866421",
     "exception": false,
     "start_time": "2023-02-20T19:21:18.784415",
     "status": "completed"
    },
    "tags": []
   },
   "source": [
    "### Display the \"Final\" dataframe "
   ]
  },
  {
   "cell_type": "code",
   "execution_count": 149,
   "id": "1612d601",
   "metadata": {
    "execution": {
     "iopub.execute_input": "2023-02-20T19:21:19.031476Z",
     "iopub.status.busy": "2023-02-20T19:21:19.030740Z",
     "iopub.status.idle": "2023-02-20T19:21:19.057636Z",
     "shell.execute_reply": "2023-02-20T19:21:19.056489Z"
    },
    "id": "71fb4dc0",
    "papermill": {
     "duration": 0.110716,
     "end_time": "2023-02-20T19:21:19.060125",
     "exception": false,
     "start_time": "2023-02-20T19:21:18.949409",
     "status": "completed"
    },
    "tags": []
   },
   "outputs": [
    {
     "data": {
      "text/html": [
       "<div>\n",
       "<style scoped>\n",
       "    .dataframe tbody tr th:only-of-type {\n",
       "        vertical-align: middle;\n",
       "    }\n",
       "\n",
       "    .dataframe tbody tr th {\n",
       "        vertical-align: top;\n",
       "    }\n",
       "\n",
       "    .dataframe thead th {\n",
       "        text-align: right;\n",
       "    }\n",
       "</style>\n",
       "<table border=\"1\" class=\"dataframe\">\n",
       "  <thead>\n",
       "    <tr style=\"text-align: right;\">\n",
       "      <th></th>\n",
       "      <th>key_0</th>\n",
       "      <th>business_code</th>\n",
       "      <th>cust_number</th>\n",
       "      <th>name_customer</th>\n",
       "      <th>clear_date</th>\n",
       "      <th>buisness_year</th>\n",
       "      <th>doc_id</th>\n",
       "      <th>posting_date</th>\n",
       "      <th>due_in_date</th>\n",
       "      <th>baseline_create_date</th>\n",
       "      <th>cust_payment_terms</th>\n",
       "      <th>converted_usd</th>\n",
       "      <th>avg_delay</th>\n",
       "    </tr>\n",
       "  </thead>\n",
       "  <tbody>\n",
       "    <tr>\n",
       "      <th>0</th>\n",
       "      <td>3</td>\n",
       "      <td>CA02</td>\n",
       "      <td>0140105686</td>\n",
       "      <td>SYSC llc</td>\n",
       "      <td>NaT</td>\n",
       "      <td>2020.0</td>\n",
       "      <td>2.960623e+09</td>\n",
       "      <td>2020-03-30</td>\n",
       "      <td>2020-04-10</td>\n",
       "      <td>2020-03-31</td>\n",
       "      <td>CA10</td>\n",
       "      <td>2309.79</td>\n",
       "      <td>900533.875000</td>\n",
       "    </tr>\n",
       "    <tr>\n",
       "      <th>1</th>\n",
       "      <td>7</td>\n",
       "      <td>U001</td>\n",
       "      <td>0200744019</td>\n",
       "      <td>TARG us</td>\n",
       "      <td>NaT</td>\n",
       "      <td>2020.0</td>\n",
       "      <td>1.930659e+09</td>\n",
       "      <td>2020-03-19</td>\n",
       "      <td>2020-04-03</td>\n",
       "      <td>2020-03-19</td>\n",
       "      <td>NAA8</td>\n",
       "      <td>11173.02</td>\n",
       "      <td>267938.343750</td>\n",
       "    </tr>\n",
       "    <tr>\n",
       "      <th>2</th>\n",
       "      <td>10</td>\n",
       "      <td>U001</td>\n",
       "      <td>0200418007</td>\n",
       "      <td>AM</td>\n",
       "      <td>NaT</td>\n",
       "      <td>2020.0</td>\n",
       "      <td>1.930611e+09</td>\n",
       "      <td>2020-03-11</td>\n",
       "      <td>2020-03-26</td>\n",
       "      <td>2020-03-11</td>\n",
       "      <td>NAA8</td>\n",
       "      <td>3525.59</td>\n",
       "      <td>-276329.875000</td>\n",
       "    </tr>\n",
       "    <tr>\n",
       "      <th>3</th>\n",
       "      <td>14</td>\n",
       "      <td>U001</td>\n",
       "      <td>0200739534</td>\n",
       "      <td>OK systems</td>\n",
       "      <td>NaT</td>\n",
       "      <td>2020.0</td>\n",
       "      <td>1.930788e+09</td>\n",
       "      <td>2020-04-15</td>\n",
       "      <td>2020-04-30</td>\n",
       "      <td>2020-04-15</td>\n",
       "      <td>NAA8</td>\n",
       "      <td>121105.65</td>\n",
       "      <td>35052.015625</td>\n",
       "    </tr>\n",
       "    <tr>\n",
       "      <th>4</th>\n",
       "      <td>15</td>\n",
       "      <td>U001</td>\n",
       "      <td>0200353024</td>\n",
       "      <td>DECA corporation</td>\n",
       "      <td>NaT</td>\n",
       "      <td>2020.0</td>\n",
       "      <td>1.930817e+09</td>\n",
       "      <td>2020-04-23</td>\n",
       "      <td>2020-04-26</td>\n",
       "      <td>2020-04-16</td>\n",
       "      <td>NAM2</td>\n",
       "      <td>3726.06</td>\n",
       "      <td>-371961.500000</td>\n",
       "    </tr>\n",
       "    <tr>\n",
       "      <th>...</th>\n",
       "      <td>...</td>\n",
       "      <td>...</td>\n",
       "      <td>...</td>\n",
       "      <td>...</td>\n",
       "      <td>...</td>\n",
       "      <td>...</td>\n",
       "      <td>...</td>\n",
       "      <td>...</td>\n",
       "      <td>...</td>\n",
       "      <td>...</td>\n",
       "      <td>...</td>\n",
       "      <td>...</td>\n",
       "      <td>...</td>\n",
       "    </tr>\n",
       "    <tr>\n",
       "      <th>9676</th>\n",
       "      <td>49975</td>\n",
       "      <td>U001</td>\n",
       "      <td>0200769623</td>\n",
       "      <td>WAL-MAR in</td>\n",
       "      <td>NaT</td>\n",
       "      <td>2020.0</td>\n",
       "      <td>1.930625e+09</td>\n",
       "      <td>2020-03-10</td>\n",
       "      <td>2020-03-25</td>\n",
       "      <td>2020-03-10</td>\n",
       "      <td>NAH4</td>\n",
       "      <td>13114.99</td>\n",
       "      <td>377793.468750</td>\n",
       "    </tr>\n",
       "    <tr>\n",
       "      <th>9677</th>\n",
       "      <td>49980</td>\n",
       "      <td>U001</td>\n",
       "      <td>0200769623</td>\n",
       "      <td>WAL-MAR corporation</td>\n",
       "      <td>NaT</td>\n",
       "      <td>2020.0</td>\n",
       "      <td>1.930851e+09</td>\n",
       "      <td>2020-05-03</td>\n",
       "      <td>2020-05-18</td>\n",
       "      <td>2020-05-03</td>\n",
       "      <td>NAH4</td>\n",
       "      <td>8899.71</td>\n",
       "      <td>491223.156250</td>\n",
       "    </tr>\n",
       "    <tr>\n",
       "      <th>9678</th>\n",
       "      <td>49982</td>\n",
       "      <td>U001</td>\n",
       "      <td>0200148860</td>\n",
       "      <td>DOLLA co</td>\n",
       "      <td>NaT</td>\n",
       "      <td>2020.0</td>\n",
       "      <td>1.930638e+09</td>\n",
       "      <td>2020-03-11</td>\n",
       "      <td>2020-03-26</td>\n",
       "      <td>2020-03-11</td>\n",
       "      <td>NAA8</td>\n",
       "      <td>4967.06</td>\n",
       "      <td>-360007.968750</td>\n",
       "    </tr>\n",
       "    <tr>\n",
       "      <th>9679</th>\n",
       "      <td>49992</td>\n",
       "      <td>U001</td>\n",
       "      <td>0200900909</td>\n",
       "      <td>SYSCO co</td>\n",
       "      <td>NaT</td>\n",
       "      <td>2020.0</td>\n",
       "      <td>1.930702e+09</td>\n",
       "      <td>2020-03-25</td>\n",
       "      <td>2020-04-09</td>\n",
       "      <td>2020-03-25</td>\n",
       "      <td>NAA8</td>\n",
       "      <td>1998.64</td>\n",
       "      <td>304352.875000</td>\n",
       "    </tr>\n",
       "    <tr>\n",
       "      <th>9680</th>\n",
       "      <td>49995</td>\n",
       "      <td>U001</td>\n",
       "      <td>0200561861</td>\n",
       "      <td>CO corporation</td>\n",
       "      <td>NaT</td>\n",
       "      <td>2020.0</td>\n",
       "      <td>1.930797e+09</td>\n",
       "      <td>2020-04-21</td>\n",
       "      <td>2020-05-06</td>\n",
       "      <td>2020-04-21</td>\n",
       "      <td>NAA8</td>\n",
       "      <td>3187.86</td>\n",
       "      <td>55623.203125</td>\n",
       "    </tr>\n",
       "  </tbody>\n",
       "</table>\n",
       "<p>9681 rows × 13 columns</p>\n",
       "</div>"
      ],
      "text/plain": [
       "      key_0 business_code cust_number        name_customer clear_date  \\\n",
       "0         3          CA02  0140105686             SYSC llc        NaT   \n",
       "1         7          U001  0200744019              TARG us        NaT   \n",
       "2        10          U001  0200418007                  AM         NaT   \n",
       "3        14          U001  0200739534           OK systems        NaT   \n",
       "4        15          U001  0200353024     DECA corporation        NaT   \n",
       "...     ...           ...         ...                  ...        ...   \n",
       "9676  49975          U001  0200769623           WAL-MAR in        NaT   \n",
       "9677  49980          U001  0200769623  WAL-MAR corporation        NaT   \n",
       "9678  49982          U001  0200148860             DOLLA co        NaT   \n",
       "9679  49992          U001  0200900909             SYSCO co        NaT   \n",
       "9680  49995          U001  0200561861       CO corporation        NaT   \n",
       "\n",
       "      buisness_year        doc_id posting_date due_in_date  \\\n",
       "0            2020.0  2.960623e+09   2020-03-30  2020-04-10   \n",
       "1            2020.0  1.930659e+09   2020-03-19  2020-04-03   \n",
       "2            2020.0  1.930611e+09   2020-03-11  2020-03-26   \n",
       "3            2020.0  1.930788e+09   2020-04-15  2020-04-30   \n",
       "4            2020.0  1.930817e+09   2020-04-23  2020-04-26   \n",
       "...             ...           ...          ...         ...   \n",
       "9676         2020.0  1.930625e+09   2020-03-10  2020-03-25   \n",
       "9677         2020.0  1.930851e+09   2020-05-03  2020-05-18   \n",
       "9678         2020.0  1.930638e+09   2020-03-11  2020-03-26   \n",
       "9679         2020.0  1.930702e+09   2020-03-25  2020-04-09   \n",
       "9680         2020.0  1.930797e+09   2020-04-21  2020-05-06   \n",
       "\n",
       "     baseline_create_date cust_payment_terms  converted_usd      avg_delay  \n",
       "0              2020-03-31               CA10        2309.79  900533.875000  \n",
       "1              2020-03-19               NAA8       11173.02  267938.343750  \n",
       "2              2020-03-11               NAA8        3525.59 -276329.875000  \n",
       "3              2020-04-15               NAA8      121105.65   35052.015625  \n",
       "4              2020-04-16               NAM2        3726.06 -371961.500000  \n",
       "...                   ...                ...            ...            ...  \n",
       "9676           2020-03-10               NAH4       13114.99  377793.468750  \n",
       "9677           2020-05-03               NAH4        8899.71  491223.156250  \n",
       "9678           2020-03-11               NAA8        4967.06 -360007.968750  \n",
       "9679           2020-03-25               NAA8        1998.64  304352.875000  \n",
       "9680           2020-04-21               NAA8        3187.86   55623.203125  \n",
       "\n",
       "[9681 rows x 13 columns]"
      ]
     },
     "execution_count": 149,
     "metadata": {},
     "output_type": "execute_result"
    }
   ],
   "source": [
    "Final"
   ]
  },
  {
   "cell_type": "markdown",
   "id": "0f8c917d",
   "metadata": {
    "id": "4sc27Uz-y-0O",
    "papermill": {
     "duration": 0.08108,
     "end_time": "2023-02-20T19:21:19.222029",
     "exception": false,
     "start_time": "2023-02-20T19:21:19.140949",
     "status": "completed"
    },
    "tags": []
   },
   "source": [
    "### Check for the Number of Rows and Columns in your \"Final\" dataframe "
   ]
  },
  {
   "cell_type": "code",
   "execution_count": 150,
   "id": "83acf8e9",
   "metadata": {
    "execution": {
     "iopub.execute_input": "2023-02-20T19:21:19.386487Z",
     "iopub.status.busy": "2023-02-20T19:21:19.385717Z",
     "iopub.status.idle": "2023-02-20T19:21:19.391534Z",
     "shell.execute_reply": "2023-02-20T19:21:19.390743Z"
    },
    "id": "5iUXOIhzy_HR",
    "papermill": {
     "duration": 0.091224,
     "end_time": "2023-02-20T19:21:19.393572",
     "exception": false,
     "start_time": "2023-02-20T19:21:19.302348",
     "status": "completed"
    },
    "tags": []
   },
   "outputs": [
    {
     "data": {
      "text/plain": [
       "(9681, 13)"
      ]
     },
     "execution_count": 150,
     "metadata": {},
     "output_type": "execute_result"
    }
   ],
   "source": [
    "Final.shape"
   ]
  },
  {
   "cell_type": "markdown",
   "id": "63ca43e1",
   "metadata": {
    "id": "48886d2c",
    "papermill": {
     "duration": 0.080556,
     "end_time": "2023-02-20T19:21:19.554617",
     "exception": false,
     "start_time": "2023-02-20T19:21:19.474061",
     "status": "completed"
    },
    "tags": []
   },
   "source": [
    "### Now, you need to do convert the below fields back into date and time format \n",
    "\n",
    "- Convert \"due_in_date\" into datetime format\n",
    "- Convert \"avg_delay\" into datetime format\n",
    "- Create a new column \"clear_date\" and store the sum of \"due_in_date\" and \"avg_delay\"\n",
    "- display the new \"clear_date\" column\n",
    "- Note - Code is given below, no need to change "
   ]
  },
  {
   "cell_type": "code",
   "execution_count": 151,
   "id": "7245c79c",
   "metadata": {
    "execution": {
     "iopub.execute_input": "2023-02-20T19:21:19.720370Z",
     "iopub.status.busy": "2023-02-20T19:21:19.719507Z",
     "iopub.status.idle": "2023-02-20T19:21:19.740245Z",
     "shell.execute_reply": "2023-02-20T19:21:19.738939Z"
    },
    "id": "243abc2d",
    "papermill": {
     "duration": 0.10682,
     "end_time": "2023-02-20T19:21:19.743215",
     "exception": false,
     "start_time": "2023-02-20T19:21:19.636395",
     "status": "completed"
    },
    "tags": []
   },
   "outputs": [],
   "source": [
    "Final['clear_date'] = pd.to_datetime(Final['due_in_date']) + pd.to_timedelta(Final['avg_delay'], unit='s')"
   ]
  },
  {
   "cell_type": "markdown",
   "id": "a0247195",
   "metadata": {
    "id": "9QcX_fAjIkYR",
    "papermill": {
     "duration": 0.080824,
     "end_time": "2023-02-20T19:21:19.904400",
     "exception": false,
     "start_time": "2023-02-20T19:21:19.823576",
     "status": "completed"
    },
    "tags": []
   },
   "source": [
    "### Display the \"clear_date\" column"
   ]
  },
  {
   "cell_type": "code",
   "execution_count": 152,
   "id": "cbf106bf",
   "metadata": {
    "execution": {
     "iopub.execute_input": "2023-02-20T19:21:20.067661Z",
     "iopub.status.busy": "2023-02-20T19:21:20.067033Z",
     "iopub.status.idle": "2023-02-20T19:21:20.074485Z",
     "shell.execute_reply": "2023-02-20T19:21:20.073704Z"
    },
    "id": "740e1486",
    "papermill": {
     "duration": 0.091152,
     "end_time": "2023-02-20T19:21:20.076516",
     "exception": false,
     "start_time": "2023-02-20T19:21:19.985364",
     "status": "completed"
    },
    "tags": []
   },
   "outputs": [
    {
     "data": {
      "text/plain": [
       "0      2020-04-20 10:08:53.875000\n",
       "1      2020-04-06 02:25:38.343750\n",
       "2      2020-03-22 19:14:30.125000\n",
       "3      2020-04-30 09:44:12.015625\n",
       "4      2020-04-21 16:40:38.500000\n",
       "                  ...            \n",
       "9676   2020-03-29 08:56:33.468750\n",
       "9677   2020-05-23 16:27:03.156250\n",
       "9678   2020-03-21 19:59:52.031250\n",
       "9679   2020-04-12 12:32:32.875000\n",
       "9680   2020-05-06 15:27:03.203125\n",
       "Name: clear_date, Length: 9681, dtype: datetime64[ns]"
      ]
     },
     "execution_count": 152,
     "metadata": {},
     "output_type": "execute_result"
    }
   ],
   "source": [
    "Final['clear_date']"
   ]
  },
  {
   "cell_type": "code",
   "execution_count": 153,
   "id": "bb0cd34b",
   "metadata": {
    "execution": {
     "iopub.execute_input": "2023-02-20T19:21:20.240974Z",
     "iopub.status.busy": "2023-02-20T19:21:20.239912Z",
     "iopub.status.idle": "2023-02-20T19:21:21.204506Z",
     "shell.execute_reply": "2023-02-20T19:21:21.203277Z"
    },
    "papermill": {
     "duration": 1.050886,
     "end_time": "2023-02-20T19:21:21.207934",
     "exception": false,
     "start_time": "2023-02-20T19:21:20.157048",
     "status": "completed"
    },
    "tags": []
   },
   "outputs": [],
   "source": [
    "Final['clear_date']=(Final['clear_date'].apply(lambda x : pd.to_datetime(str(x)))).dt.date"
   ]
  },
  {
   "cell_type": "markdown",
   "id": "22dd2920",
   "metadata": {
    "id": "MSkNLq6-z7rZ",
    "papermill": {
     "duration": 0.086377,
     "end_time": "2023-02-20T19:21:21.379711",
     "exception": false,
     "start_time": "2023-02-20T19:21:21.293334",
     "status": "completed"
    },
    "tags": []
   },
   "source": [
    "### Convert the average delay into number of days format \n",
    "\n",
    "- Note - Formula = avg_delay//(24 * 3600)\n",
    "- Note - full code is given for this, no need to change "
   ]
  },
  {
   "cell_type": "code",
   "execution_count": 154,
   "id": "409a5a3a",
   "metadata": {
    "execution": {
     "iopub.execute_input": "2023-02-20T19:21:21.558258Z",
     "iopub.status.busy": "2023-02-20T19:21:21.557440Z",
     "iopub.status.idle": "2023-02-20T19:21:21.818995Z",
     "shell.execute_reply": "2023-02-20T19:21:21.817641Z"
    },
    "id": "ce6b618a",
    "papermill": {
     "duration": 0.354896,
     "end_time": "2023-02-20T19:21:21.822865",
     "exception": false,
     "start_time": "2023-02-20T19:21:21.467969",
     "status": "completed"
    },
    "tags": []
   },
   "outputs": [],
   "source": [
    "Final['avg_delay'] = Final.apply(lambda row: row.avg_delay//(24 * 3600), axis = 1)"
   ]
  },
  {
   "cell_type": "markdown",
   "id": "9ac67706",
   "metadata": {
    "id": "wbBBZPjP0W7o",
    "papermill": {
     "duration": 0.083663,
     "end_time": "2023-02-20T19:21:21.993710",
     "exception": false,
     "start_time": "2023-02-20T19:21:21.910047",
     "status": "completed"
    },
    "tags": []
   },
   "source": [
    "### Display the \"avg_delay\" column "
   ]
  },
  {
   "cell_type": "code",
   "execution_count": 155,
   "id": "7dc79cf4",
   "metadata": {
    "execution": {
     "iopub.execute_input": "2023-02-20T19:21:22.158625Z",
     "iopub.status.busy": "2023-02-20T19:21:22.158153Z",
     "iopub.status.idle": "2023-02-20T19:21:22.167975Z",
     "shell.execute_reply": "2023-02-20T19:21:22.166856Z"
    },
    "id": "a494982f",
    "papermill": {
     "duration": 0.09523,
     "end_time": "2023-02-20T19:21:22.170331",
     "exception": false,
     "start_time": "2023-02-20T19:21:22.075101",
     "status": "completed"
    },
    "scrolled": true,
    "tags": []
   },
   "outputs": [
    {
     "data": {
      "text/plain": [
       "0       10.0\n",
       "1        3.0\n",
       "2       -4.0\n",
       "3        0.0\n",
       "4       -5.0\n",
       "        ... \n",
       "9676     4.0\n",
       "9677     5.0\n",
       "9678    -5.0\n",
       "9679     3.0\n",
       "9680     0.0\n",
       "Name: avg_delay, Length: 9681, dtype: float64"
      ]
     },
     "execution_count": 155,
     "metadata": {},
     "output_type": "execute_result"
    }
   ],
   "source": [
    "Final['avg_delay']"
   ]
  },
  {
   "cell_type": "markdown",
   "id": "0c729322",
   "metadata": {
    "id": "815d8811",
    "papermill": {
     "duration": 0.080039,
     "end_time": "2023-02-20T19:21:22.332022",
     "exception": false,
     "start_time": "2023-02-20T19:21:22.251983",
     "status": "completed"
    },
    "tags": []
   },
   "source": [
    "### Now you need to convert average delay column into bucket\n",
    "\n",
    "- Need to perform binning \n",
    "- create a list of bins i.e. bins= [0,15,30,45,60,100]\n",
    "- create a list of labels i.e. labels = ['0-15','16-30','31-45','46-60','Greatar than 60']\n",
    "- perform binning by using cut() function from \"Final\" dataframe\n",
    "\n",
    "\n",
    "- Please fill up the first two rows of the code"
   ]
  },
  {
   "cell_type": "code",
   "execution_count": 156,
   "id": "513c20d7",
   "metadata": {
    "execution": {
     "iopub.execute_input": "2023-02-20T19:21:22.496494Z",
     "iopub.status.busy": "2023-02-20T19:21:22.495256Z",
     "iopub.status.idle": "2023-02-20T19:21:22.504688Z",
     "shell.execute_reply": "2023-02-20T19:21:22.503741Z"
    },
    "id": "c797e4b5",
    "papermill": {
     "duration": 0.094241,
     "end_time": "2023-02-20T19:21:22.507481",
     "exception": false,
     "start_time": "2023-02-20T19:21:22.413240",
     "status": "completed"
    },
    "tags": []
   },
   "outputs": [],
   "source": [
    "bins= [0,15,30,45,60,100]\n",
    "labels =['0-15','16-30','31-45','46-60','Greatar than 60']\n",
    "Final['Aging Bucket'] = pd.cut(Final['avg_delay'], bins=bins, labels=labels, right=False)"
   ]
  },
  {
   "cell_type": "markdown",
   "id": "22800838",
   "metadata": {
    "id": "1c35725f",
    "papermill": {
     "duration": 0.081847,
     "end_time": "2023-02-20T19:21:22.670134",
     "exception": false,
     "start_time": "2023-02-20T19:21:22.588287",
     "status": "completed"
    },
    "tags": []
   },
   "source": [
    "### Now you need to drop \"key_0\" and \"avg_delay\" columns from the \"Final\" Dataframe"
   ]
  },
  {
   "cell_type": "code",
   "execution_count": 157,
   "id": "06ecd5c9",
   "metadata": {
    "execution": {
     "iopub.execute_input": "2023-02-20T19:21:22.892840Z",
     "iopub.status.busy": "2023-02-20T19:21:22.892395Z",
     "iopub.status.idle": "2023-02-20T19:21:22.900208Z",
     "shell.execute_reply": "2023-02-20T19:21:22.899348Z"
    },
    "id": "b31bc6a3",
    "papermill": {
     "duration": 0.092927,
     "end_time": "2023-02-20T19:21:22.902584",
     "exception": false,
     "start_time": "2023-02-20T19:21:22.809657",
     "status": "completed"
    },
    "tags": []
   },
   "outputs": [],
   "source": [
    "Final=Final.drop(columns=['key_0','avg_delay'])"
   ]
  },
  {
   "cell_type": "markdown",
   "id": "87fe5d57",
   "metadata": {
    "id": "Ui-tyIvU0-5u",
    "papermill": {
     "duration": 0.082378,
     "end_time": "2023-02-20T19:21:23.066243",
     "exception": false,
     "start_time": "2023-02-20T19:21:22.983865",
     "status": "completed"
    },
    "tags": []
   },
   "source": [
    "### Display the count of each categoty of new \"Aging Bucket\" column "
   ]
  },
  {
   "cell_type": "code",
   "execution_count": 158,
   "id": "cf68d93d",
   "metadata": {
    "execution": {
     "iopub.execute_input": "2023-02-20T19:21:23.232130Z",
     "iopub.status.busy": "2023-02-20T19:21:23.231724Z",
     "iopub.status.idle": "2023-02-20T19:21:23.241354Z",
     "shell.execute_reply": "2023-02-20T19:21:23.240530Z"
    },
    "id": "a6e16218",
    "papermill": {
     "duration": 0.096058,
     "end_time": "2023-02-20T19:21:23.243740",
     "exception": false,
     "start_time": "2023-02-20T19:21:23.147682",
     "status": "completed"
    },
    "tags": []
   },
   "outputs": [
    {
     "data": {
      "text/plain": [
       "0-15               7027\n",
       "16-30               180\n",
       "31-45                64\n",
       "46-60                 8\n",
       "Greatar than 60       7\n",
       "Name: Aging Bucket, dtype: int64"
      ]
     },
     "execution_count": 158,
     "metadata": {},
     "output_type": "execute_result"
    }
   ],
   "source": [
    "Final['Aging Bucket'].value_counts()"
   ]
  },
  {
   "cell_type": "markdown",
   "id": "9b0798ae",
   "metadata": {
    "id": "kgYegy551GKJ",
    "papermill": {
     "duration": 0.081904,
     "end_time": "2023-02-20T19:21:23.408074",
     "exception": false,
     "start_time": "2023-02-20T19:21:23.326170",
     "status": "completed"
    },
    "tags": []
   },
   "source": [
    "### Display your final dataset with aging buckets "
   ]
  },
  {
   "cell_type": "code",
   "execution_count": 159,
   "id": "fe7a93c6",
   "metadata": {
    "execution": {
     "iopub.execute_input": "2023-02-20T19:21:23.574488Z",
     "iopub.status.busy": "2023-02-20T19:21:23.573714Z",
     "iopub.status.idle": "2023-02-20T19:21:23.600103Z",
     "shell.execute_reply": "2023-02-20T19:21:23.599316Z"
    },
    "id": "c4bc87ec",
    "papermill": {
     "duration": 0.112721,
     "end_time": "2023-02-20T19:21:23.602288",
     "exception": false,
     "start_time": "2023-02-20T19:21:23.489567",
     "status": "completed"
    },
    "tags": []
   },
   "outputs": [
    {
     "data": {
      "text/html": [
       "<div>\n",
       "<style scoped>\n",
       "    .dataframe tbody tr th:only-of-type {\n",
       "        vertical-align: middle;\n",
       "    }\n",
       "\n",
       "    .dataframe tbody tr th {\n",
       "        vertical-align: top;\n",
       "    }\n",
       "\n",
       "    .dataframe thead th {\n",
       "        text-align: right;\n",
       "    }\n",
       "</style>\n",
       "<table border=\"1\" class=\"dataframe\">\n",
       "  <thead>\n",
       "    <tr style=\"text-align: right;\">\n",
       "      <th></th>\n",
       "      <th>business_code</th>\n",
       "      <th>cust_number</th>\n",
       "      <th>name_customer</th>\n",
       "      <th>clear_date</th>\n",
       "      <th>buisness_year</th>\n",
       "      <th>doc_id</th>\n",
       "      <th>posting_date</th>\n",
       "      <th>due_in_date</th>\n",
       "      <th>baseline_create_date</th>\n",
       "      <th>cust_payment_terms</th>\n",
       "      <th>converted_usd</th>\n",
       "      <th>Aging Bucket</th>\n",
       "    </tr>\n",
       "  </thead>\n",
       "  <tbody>\n",
       "    <tr>\n",
       "      <th>0</th>\n",
       "      <td>CA02</td>\n",
       "      <td>0140105686</td>\n",
       "      <td>SYSC llc</td>\n",
       "      <td>2020-04-20</td>\n",
       "      <td>2020.0</td>\n",
       "      <td>2.960623e+09</td>\n",
       "      <td>2020-03-30</td>\n",
       "      <td>2020-04-10</td>\n",
       "      <td>2020-03-31</td>\n",
       "      <td>CA10</td>\n",
       "      <td>2309.79</td>\n",
       "      <td>0-15</td>\n",
       "    </tr>\n",
       "    <tr>\n",
       "      <th>1</th>\n",
       "      <td>U001</td>\n",
       "      <td>0200744019</td>\n",
       "      <td>TARG us</td>\n",
       "      <td>2020-04-06</td>\n",
       "      <td>2020.0</td>\n",
       "      <td>1.930659e+09</td>\n",
       "      <td>2020-03-19</td>\n",
       "      <td>2020-04-03</td>\n",
       "      <td>2020-03-19</td>\n",
       "      <td>NAA8</td>\n",
       "      <td>11173.02</td>\n",
       "      <td>0-15</td>\n",
       "    </tr>\n",
       "    <tr>\n",
       "      <th>2</th>\n",
       "      <td>U001</td>\n",
       "      <td>0200418007</td>\n",
       "      <td>AM</td>\n",
       "      <td>2020-03-22</td>\n",
       "      <td>2020.0</td>\n",
       "      <td>1.930611e+09</td>\n",
       "      <td>2020-03-11</td>\n",
       "      <td>2020-03-26</td>\n",
       "      <td>2020-03-11</td>\n",
       "      <td>NAA8</td>\n",
       "      <td>3525.59</td>\n",
       "      <td>NaN</td>\n",
       "    </tr>\n",
       "    <tr>\n",
       "      <th>3</th>\n",
       "      <td>U001</td>\n",
       "      <td>0200739534</td>\n",
       "      <td>OK systems</td>\n",
       "      <td>2020-04-30</td>\n",
       "      <td>2020.0</td>\n",
       "      <td>1.930788e+09</td>\n",
       "      <td>2020-04-15</td>\n",
       "      <td>2020-04-30</td>\n",
       "      <td>2020-04-15</td>\n",
       "      <td>NAA8</td>\n",
       "      <td>121105.65</td>\n",
       "      <td>0-15</td>\n",
       "    </tr>\n",
       "    <tr>\n",
       "      <th>4</th>\n",
       "      <td>U001</td>\n",
       "      <td>0200353024</td>\n",
       "      <td>DECA corporation</td>\n",
       "      <td>2020-04-21</td>\n",
       "      <td>2020.0</td>\n",
       "      <td>1.930817e+09</td>\n",
       "      <td>2020-04-23</td>\n",
       "      <td>2020-04-26</td>\n",
       "      <td>2020-04-16</td>\n",
       "      <td>NAM2</td>\n",
       "      <td>3726.06</td>\n",
       "      <td>NaN</td>\n",
       "    </tr>\n",
       "    <tr>\n",
       "      <th>...</th>\n",
       "      <td>...</td>\n",
       "      <td>...</td>\n",
       "      <td>...</td>\n",
       "      <td>...</td>\n",
       "      <td>...</td>\n",
       "      <td>...</td>\n",
       "      <td>...</td>\n",
       "      <td>...</td>\n",
       "      <td>...</td>\n",
       "      <td>...</td>\n",
       "      <td>...</td>\n",
       "      <td>...</td>\n",
       "    </tr>\n",
       "    <tr>\n",
       "      <th>9676</th>\n",
       "      <td>U001</td>\n",
       "      <td>0200769623</td>\n",
       "      <td>WAL-MAR in</td>\n",
       "      <td>2020-03-29</td>\n",
       "      <td>2020.0</td>\n",
       "      <td>1.930625e+09</td>\n",
       "      <td>2020-03-10</td>\n",
       "      <td>2020-03-25</td>\n",
       "      <td>2020-03-10</td>\n",
       "      <td>NAH4</td>\n",
       "      <td>13114.99</td>\n",
       "      <td>0-15</td>\n",
       "    </tr>\n",
       "    <tr>\n",
       "      <th>9677</th>\n",
       "      <td>U001</td>\n",
       "      <td>0200769623</td>\n",
       "      <td>WAL-MAR corporation</td>\n",
       "      <td>2020-05-23</td>\n",
       "      <td>2020.0</td>\n",
       "      <td>1.930851e+09</td>\n",
       "      <td>2020-05-03</td>\n",
       "      <td>2020-05-18</td>\n",
       "      <td>2020-05-03</td>\n",
       "      <td>NAH4</td>\n",
       "      <td>8899.71</td>\n",
       "      <td>0-15</td>\n",
       "    </tr>\n",
       "    <tr>\n",
       "      <th>9678</th>\n",
       "      <td>U001</td>\n",
       "      <td>0200148860</td>\n",
       "      <td>DOLLA co</td>\n",
       "      <td>2020-03-21</td>\n",
       "      <td>2020.0</td>\n",
       "      <td>1.930638e+09</td>\n",
       "      <td>2020-03-11</td>\n",
       "      <td>2020-03-26</td>\n",
       "      <td>2020-03-11</td>\n",
       "      <td>NAA8</td>\n",
       "      <td>4967.06</td>\n",
       "      <td>NaN</td>\n",
       "    </tr>\n",
       "    <tr>\n",
       "      <th>9679</th>\n",
       "      <td>U001</td>\n",
       "      <td>0200900909</td>\n",
       "      <td>SYSCO co</td>\n",
       "      <td>2020-04-12</td>\n",
       "      <td>2020.0</td>\n",
       "      <td>1.930702e+09</td>\n",
       "      <td>2020-03-25</td>\n",
       "      <td>2020-04-09</td>\n",
       "      <td>2020-03-25</td>\n",
       "      <td>NAA8</td>\n",
       "      <td>1998.64</td>\n",
       "      <td>0-15</td>\n",
       "    </tr>\n",
       "    <tr>\n",
       "      <th>9680</th>\n",
       "      <td>U001</td>\n",
       "      <td>0200561861</td>\n",
       "      <td>CO corporation</td>\n",
       "      <td>2020-05-06</td>\n",
       "      <td>2020.0</td>\n",
       "      <td>1.930797e+09</td>\n",
       "      <td>2020-04-21</td>\n",
       "      <td>2020-05-06</td>\n",
       "      <td>2020-04-21</td>\n",
       "      <td>NAA8</td>\n",
       "      <td>3187.86</td>\n",
       "      <td>0-15</td>\n",
       "    </tr>\n",
       "  </tbody>\n",
       "</table>\n",
       "<p>9681 rows × 12 columns</p>\n",
       "</div>"
      ],
      "text/plain": [
       "     business_code cust_number        name_customer  clear_date  \\\n",
       "0             CA02  0140105686             SYSC llc  2020-04-20   \n",
       "1             U001  0200744019              TARG us  2020-04-06   \n",
       "2             U001  0200418007                  AM   2020-03-22   \n",
       "3             U001  0200739534           OK systems  2020-04-30   \n",
       "4             U001  0200353024     DECA corporation  2020-04-21   \n",
       "...            ...         ...                  ...         ...   \n",
       "9676          U001  0200769623           WAL-MAR in  2020-03-29   \n",
       "9677          U001  0200769623  WAL-MAR corporation  2020-05-23   \n",
       "9678          U001  0200148860             DOLLA co  2020-03-21   \n",
       "9679          U001  0200900909             SYSCO co  2020-04-12   \n",
       "9680          U001  0200561861       CO corporation  2020-05-06   \n",
       "\n",
       "      buisness_year        doc_id posting_date due_in_date  \\\n",
       "0            2020.0  2.960623e+09   2020-03-30  2020-04-10   \n",
       "1            2020.0  1.930659e+09   2020-03-19  2020-04-03   \n",
       "2            2020.0  1.930611e+09   2020-03-11  2020-03-26   \n",
       "3            2020.0  1.930788e+09   2020-04-15  2020-04-30   \n",
       "4            2020.0  1.930817e+09   2020-04-23  2020-04-26   \n",
       "...             ...           ...          ...         ...   \n",
       "9676         2020.0  1.930625e+09   2020-03-10  2020-03-25   \n",
       "9677         2020.0  1.930851e+09   2020-05-03  2020-05-18   \n",
       "9678         2020.0  1.930638e+09   2020-03-11  2020-03-26   \n",
       "9679         2020.0  1.930702e+09   2020-03-25  2020-04-09   \n",
       "9680         2020.0  1.930797e+09   2020-04-21  2020-05-06   \n",
       "\n",
       "     baseline_create_date cust_payment_terms  converted_usd Aging Bucket  \n",
       "0              2020-03-31               CA10        2309.79         0-15  \n",
       "1              2020-03-19               NAA8       11173.02         0-15  \n",
       "2              2020-03-11               NAA8        3525.59          NaN  \n",
       "3              2020-04-15               NAA8      121105.65         0-15  \n",
       "4              2020-04-16               NAM2        3726.06          NaN  \n",
       "...                   ...                ...            ...          ...  \n",
       "9676           2020-03-10               NAH4       13114.99         0-15  \n",
       "9677           2020-05-03               NAH4        8899.71         0-15  \n",
       "9678           2020-03-11               NAA8        4967.06          NaN  \n",
       "9679           2020-03-25               NAA8        1998.64         0-15  \n",
       "9680           2020-04-21               NAA8        3187.86         0-15  \n",
       "\n",
       "[9681 rows x 12 columns]"
      ]
     },
     "execution_count": 159,
     "metadata": {},
     "output_type": "execute_result"
    }
   ],
   "source": [
    "Final"
   ]
  },
  {
   "cell_type": "markdown",
   "id": "6b90a914",
   "metadata": {
    "id": "Ji7AoDCB1L_x",
    "papermill": {
     "duration": 0.081176,
     "end_time": "2023-02-20T19:21:23.764785",
     "exception": false,
     "start_time": "2023-02-20T19:21:23.683609",
     "status": "completed"
    },
    "tags": []
   },
   "source": [
    "### Store this dataframe into the .csv format"
   ]
  },
  {
   "cell_type": "code",
   "execution_count": 160,
   "id": "6c5e63b3",
   "metadata": {
    "execution": {
     "iopub.execute_input": "2023-02-20T19:21:23.933825Z",
     "iopub.status.busy": "2023-02-20T19:21:23.933106Z",
     "iopub.status.idle": "2023-02-20T19:21:24.152352Z",
     "shell.execute_reply": "2023-02-20T19:21:24.151424Z"
    },
    "id": "727d0b8d",
    "papermill": {
     "duration": 0.30741,
     "end_time": "2023-02-20T19:21:24.155173",
     "exception": false,
     "start_time": "2023-02-20T19:21:23.847763",
     "status": "completed"
    },
    "tags": []
   },
   "outputs": [],
   "source": [
    "Final.to_csv('/kaggle/working/predicted.csv')"
   ]
  },
  {
   "cell_type": "markdown",
   "id": "2d86a3c1",
   "metadata": {
    "id": "FK0fabl61SkC",
    "papermill": {
     "duration": 0.082201,
     "end_time": "2023-02-20T19:21:24.321217",
     "exception": false,
     "start_time": "2023-02-20T19:21:24.239016",
     "status": "completed"
    },
    "tags": []
   },
   "source": [
    "# END OF THE PROJECT"
   ]
  }
 ],
 "metadata": {
  "kernelspec": {
   "display_name": "Python 3",
   "language": "python",
   "name": "python3"
  },
  "language_info": {
   "codemirror_mode": {
    "name": "ipython",
    "version": 3
   },
   "file_extension": ".py",
   "mimetype": "text/x-python",
   "name": "python",
   "nbconvert_exporter": "python",
   "pygments_lexer": "ipython3",
   "version": "3.7.12"
  },
  "papermill": {
   "default_parameters": {},
   "duration": 144.0784,
   "end_time": "2023-02-20T19:21:25.447098",
   "environment_variables": {},
   "exception": null,
   "input_path": "__notebook__.ipynb",
   "output_path": "__notebook__.ipynb",
   "parameters": {},
   "start_time": "2023-02-20T19:19:01.368698",
   "version": "2.3.4"
  }
 },
 "nbformat": 4,
 "nbformat_minor": 5
}
